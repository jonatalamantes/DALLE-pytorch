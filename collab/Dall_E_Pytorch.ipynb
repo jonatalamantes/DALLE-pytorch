{
  "nbformat": 4,
  "nbformat_minor": 0,
  "metadata": {
    "colab": {
      "name": "Dall-E Pytorch",
      "provenance": [],
      "collapsed_sections": [],
      "toc_visible": true
    },
    "kernelspec": {
      "name": "python3",
      "display_name": "Python 3"
    },
    "accelerator": "GPU"
  },
  "cells": [
    {
      "cell_type": "markdown",
      "metadata": {
        "id": "KISg1SPjN8sO"
      },
      "source": [
        "# Libraries"
      ]
    },
    {
      "cell_type": "code",
      "metadata": {
        "colab": {
          "base_uri": "https://localhost:8080/"
        },
        "id": "_Rmg0xqc9d-m",
        "outputId": "ef8efc25-0ed7-46e9-b7c3-2bfee097bce2"
      },
      "source": [
        "!pip install dalle-pytorch --upgrade"
      ],
      "execution_count": null,
      "outputs": [
        {
          "output_type": "stream",
          "text": [
            "Defaulting to user installation because normal site-packages is not writeable\n",
            "Requirement already satisfied: dalle-pytorch in /workspace/home/jesandov/.local/lib/python3.6/site-packages (0.3.5)\n",
            "Collecting dalle-pytorch\n",
            "  Using cached dalle_pytorch-1.0.6-py3-none-any.whl (1.4 MB)\n",
            "Collecting g-mlp-pytorch\n",
            "  Using cached g_mlp_pytorch-0.1.5-py3-none-any.whl (5.9 kB)\n",
            "Requirement already satisfied: tqdm in /usr/local/lib/python3.6/dist-packages (from dalle-pytorch) (4.48.2)\n",
            "Requirement already satisfied: DALL-E in /workspace/home/jesandov/.local/lib/python3.6/site-packages (from dalle-pytorch) (0.1)\n",
            "Requirement already satisfied: torchvision in /workspace/home/jesandov/.local/lib/python3.6/site-packages (from dalle-pytorch) (0.10.0)\n",
            "Requirement already satisfied: taming-transformers-rom1504 in /workspace/home/jesandov/.local/lib/python3.6/site-packages (from dalle-pytorch) (0.0.6)\n",
            "Requirement already satisfied: WebDataset in /workspace/home/jesandov/.local/lib/python3.6/site-packages (from dalle-pytorch) (0.1.73)\n",
            "Requirement already satisfied: regex in /workspace/home/jesandov/.local/lib/python3.6/site-packages (from dalle-pytorch) (2021.4.4)\n",
            "Requirement already satisfied: pillow in /workspace/home/jesandov/.local/lib/python3.6/site-packages (from dalle-pytorch) (8.1.0)\n",
            "Requirement already satisfied: youtokentome in /workspace/home/jesandov/.local/lib/python3.6/site-packages (from dalle-pytorch) (1.0.6)\n",
            "Requirement already satisfied: rotary-embedding-torch in /workspace/home/jesandov/.local/lib/python3.6/site-packages (from dalle-pytorch) (0.1.0)\n",
            "Requirement already satisfied: transformers in /workspace/home/jesandov/.local/lib/python3.6/site-packages (from dalle-pytorch) (4.6.1)\n",
            "Requirement already satisfied: axial-positional-embedding in /workspace/home/jesandov/.local/lib/python3.6/site-packages (from dalle-pytorch) (0.2.1)\n",
            "Requirement already satisfied: einops>=0.3 in /workspace/home/jesandov/.local/lib/python3.6/site-packages (from dalle-pytorch) (0.3.0)\n",
            "Requirement already satisfied: ftfy in /workspace/home/jesandov/.local/lib/python3.6/site-packages (from dalle-pytorch) (6.0.3)\n",
            "Requirement already satisfied: torch>=1.6 in /workspace/home/jesandov/.local/lib/python3.6/site-packages (from dalle-pytorch) (1.9.0)\n",
            "Requirement already satisfied: tokenizers in /workspace/home/jesandov/.local/lib/python3.6/site-packages (from dalle-pytorch) (0.10.3)\n",
            "Requirement already satisfied: typing-extensions in /workspace/home/jesandov/.local/lib/python3.6/site-packages (from torch>=1.6->dalle-pytorch) (3.7.4.3)\n",
            "Requirement already satisfied: dataclasses in /workspace/home/jesandov/.local/lib/python3.6/site-packages (from torch>=1.6->dalle-pytorch) (0.8)\n",
            "Requirement already satisfied: pytest in /workspace/home/jesandov/.local/lib/python3.6/site-packages (from DALL-E->dalle-pytorch) (6.2.4)\n",
            "Requirement already satisfied: blobfile in /workspace/home/jesandov/.local/lib/python3.6/site-packages (from DALL-E->dalle-pytorch) (0.11.0)\n",
            "Requirement already satisfied: numpy in /workspace/home/jesandov/.local/lib/python3.6/site-packages (from DALL-E->dalle-pytorch) (1.19.5)\n",
            "Requirement already satisfied: requests in /usr/local/lib/python3.6/dist-packages (from DALL-E->dalle-pytorch) (2.24.0)\n",
            "Requirement already satisfied: mypy in /workspace/home/jesandov/.local/lib/python3.6/site-packages (from DALL-E->dalle-pytorch) (0.812)\n",
            "Requirement already satisfied: urllib3~=1.25 in /usr/local/lib/python3.6/dist-packages (from blobfile->DALL-E->dalle-pytorch) (1.25.10)\n",
            "Requirement already satisfied: xmltodict~=0.12.0 in /workspace/home/jesandov/.local/lib/python3.6/site-packages (from blobfile->DALL-E->dalle-pytorch) (0.12.0)\n",
            "Requirement already satisfied: filelock~=3.0 in /workspace/home/jesandov/.local/lib/python3.6/site-packages (from blobfile->DALL-E->dalle-pytorch) (3.0.12)\n",
            "Requirement already satisfied: pycryptodomex~=3.8 in /workspace/home/jesandov/.local/lib/python3.6/site-packages (from blobfile->DALL-E->dalle-pytorch) (3.10.1)\n",
            "Requirement already satisfied: wcwidth in /workspace/home/jesandov/.local/lib/python3.6/site-packages (from ftfy->dalle-pytorch) (0.2.5)\n",
            "Requirement already satisfied: typed-ast<1.5.0,>=1.4.0 in /workspace/home/jesandov/.local/lib/python3.6/site-packages (from mypy->DALL-E->dalle-pytorch) (1.4.3)\n",
            "Requirement already satisfied: mypy-extensions<0.5.0,>=0.4.3 in /workspace/home/jesandov/.local/lib/python3.6/site-packages (from mypy->DALL-E->dalle-pytorch) (0.4.3)\n",
            "Requirement already satisfied: attrs>=19.2.0 in /workspace/home/jesandov/.local/lib/python3.6/site-packages (from pytest->DALL-E->dalle-pytorch) (21.2.0)\n",
            "Requirement already satisfied: py>=1.8.2 in /workspace/home/jesandov/.local/lib/python3.6/site-packages (from pytest->DALL-E->dalle-pytorch) (1.10.0)\n",
            "Requirement already satisfied: toml in /usr/local/lib/python3.6/dist-packages (from pytest->DALL-E->dalle-pytorch) (0.10.1)\n",
            "Requirement already satisfied: importlib-metadata>=0.12 in /workspace/home/jesandov/.local/lib/python3.6/site-packages (from pytest->DALL-E->dalle-pytorch) (4.0.1)\n",
            "Requirement already satisfied: packaging in /workspace/home/jesandov/.local/lib/python3.6/site-packages (from pytest->DALL-E->dalle-pytorch) (20.9)\n",
            "Requirement already satisfied: iniconfig in /workspace/home/jesandov/.local/lib/python3.6/site-packages (from pytest->DALL-E->dalle-pytorch) (1.1.1)\n",
            "Requirement already satisfied: pluggy<1.0.0a1,>=0.12 in /workspace/home/jesandov/.local/lib/python3.6/site-packages (from pytest->DALL-E->dalle-pytorch) (0.13.1)\n",
            "Requirement already satisfied: zipp>=0.5 in /workspace/home/jesandov/.local/lib/python3.6/site-packages (from importlib-metadata>=0.12->pytest->DALL-E->dalle-pytorch) (3.4.1)\n",
            "Requirement already satisfied: pyparsing>=2.0.2 in /workspace/home/jesandov/.local/lib/python3.6/site-packages (from packaging->pytest->DALL-E->dalle-pytorch) (2.4.7)\n",
            "Requirement already satisfied: certifi>=2017.4.17 in /usr/local/lib/python3.6/dist-packages (from requests->DALL-E->dalle-pytorch) (2020.6.20)\n",
            "Requirement already satisfied: idna<3,>=2.5 in /workspace/home/jesandov/.local/lib/python3.6/site-packages (from requests->DALL-E->dalle-pytorch) (2.10)\n",
            "Requirement already satisfied: chardet<4,>=3.0.2 in /usr/local/lib/python3.6/dist-packages (from requests->DALL-E->dalle-pytorch) (3.0.4)\n",
            "Requirement already satisfied: omegaconf>=2.0.0 in /workspace/home/jesandov/.local/lib/python3.6/site-packages (from taming-transformers-rom1504->dalle-pytorch) (2.1.0)\n",
            "Requirement already satisfied: pytorch-lightning>=1.0.8 in /workspace/home/jesandov/.local/lib/python3.6/site-packages (from taming-transformers-rom1504->dalle-pytorch) (1.2.4)\n",
            "Requirement already satisfied: PyYAML>=5.1.* in /workspace/home/jesandov/.local/lib/python3.6/site-packages (from omegaconf>=2.0.0->taming-transformers-rom1504->dalle-pytorch) (5.3.1)\n",
            "Requirement already satisfied: antlr4-python3-runtime==4.8 in /workspace/home/jesandov/.local/lib/python3.6/site-packages (from omegaconf>=2.0.0->taming-transformers-rom1504->dalle-pytorch) (4.8)\n",
            "Requirement already satisfied: future>=0.17.1 in /usr/local/lib/python3.6/dist-packages (from pytorch-lightning>=1.0.8->taming-transformers-rom1504->dalle-pytorch) (0.18.2)\n",
            "Requirement already satisfied: tensorboard>=2.2.0 in /workspace/home/jesandov/.local/lib/python3.6/site-packages (from pytorch-lightning>=1.0.8->taming-transformers-rom1504->dalle-pytorch) (2.2.2)\n",
            "Requirement already satisfied: fsspec[http]>=0.8.1 in /workspace/home/jesandov/.local/lib/python3.6/site-packages (from pytorch-lightning>=1.0.8->taming-transformers-rom1504->dalle-pytorch) (2021.5.0)\n",
            "Requirement already satisfied: aiohttp in /workspace/home/jesandov/.local/lib/python3.6/site-packages (from fsspec[http]>=0.8.1->pytorch-lightning>=1.0.8->taming-transformers-rom1504->dalle-pytorch) (3.7.4.post0)\n",
            "Requirement already satisfied: protobuf>=3.6.0 in /workspace/home/jesandov/.local/lib/python3.6/site-packages (from tensorboard>=2.2.0->pytorch-lightning>=1.0.8->taming-transformers-rom1504->dalle-pytorch) (3.14.0)\n",
            "Requirement already satisfied: google-auth<2,>=1.6.3 in /usr/local/lib/python3.6/dist-packages (from tensorboard>=2.2.0->pytorch-lightning>=1.0.8->taming-transformers-rom1504->dalle-pytorch) (1.21.1)\n",
            "Requirement already satisfied: werkzeug>=0.11.15 in /usr/local/lib/python3.6/dist-packages (from tensorboard>=2.2.0->pytorch-lightning>=1.0.8->taming-transformers-rom1504->dalle-pytorch) (1.0.1)\n",
            "Requirement already satisfied: absl-py>=0.4 in /usr/local/lib/python3.6/dist-packages (from tensorboard>=2.2.0->pytorch-lightning>=1.0.8->taming-transformers-rom1504->dalle-pytorch) (0.10.0)\n",
            "Requirement already satisfied: setuptools>=41.0.0 in /usr/local/lib/python3.6/dist-packages (from tensorboard>=2.2.0->pytorch-lightning>=1.0.8->taming-transformers-rom1504->dalle-pytorch) (49.6.0)\n",
            "Requirement already satisfied: google-auth-oauthlib<0.5,>=0.4.1 in /usr/local/lib/python3.6/dist-packages (from tensorboard>=2.2.0->pytorch-lightning>=1.0.8->taming-transformers-rom1504->dalle-pytorch) (0.4.1)\n",
            "Requirement already satisfied: tensorboard-plugin-wit>=1.6.0 in /usr/local/lib/python3.6/dist-packages (from tensorboard>=2.2.0->pytorch-lightning>=1.0.8->taming-transformers-rom1504->dalle-pytorch) (1.7.0)\n",
            "Requirement already satisfied: wheel>=0.26 in /usr/local/lib/python3.6/dist-packages (from tensorboard>=2.2.0->pytorch-lightning>=1.0.8->taming-transformers-rom1504->dalle-pytorch) (0.35.1)\n",
            "Requirement already satisfied: six>=1.10.0 in /usr/local/lib/python3.6/dist-packages (from tensorboard>=2.2.0->pytorch-lightning>=1.0.8->taming-transformers-rom1504->dalle-pytorch) (1.15.0)\n",
            "Requirement already satisfied: markdown>=2.6.8 in /usr/local/lib/python3.6/dist-packages (from tensorboard>=2.2.0->pytorch-lightning>=1.0.8->taming-transformers-rom1504->dalle-pytorch) (3.2.2)\n",
            "Requirement already satisfied: grpcio>=1.24.3 in /workspace/home/jesandov/.local/lib/python3.6/site-packages (from tensorboard>=2.2.0->pytorch-lightning>=1.0.8->taming-transformers-rom1504->dalle-pytorch) (1.39.0)\n",
            "Requirement already satisfied: rsa<5,>=3.1.4 in /usr/local/lib/python3.6/dist-packages (from google-auth<2,>=1.6.3->tensorboard>=2.2.0->pytorch-lightning>=1.0.8->taming-transformers-rom1504->dalle-pytorch) (4.6)\n",
            "Requirement already satisfied: cachetools<5.0,>=2.0.0 in /usr/local/lib/python3.6/dist-packages (from google-auth<2,>=1.6.3->tensorboard>=2.2.0->pytorch-lightning>=1.0.8->taming-transformers-rom1504->dalle-pytorch) (4.1.1)\n",
            "Requirement already satisfied: pyasn1-modules>=0.2.1 in /usr/local/lib/python3.6/dist-packages (from google-auth<2,>=1.6.3->tensorboard>=2.2.0->pytorch-lightning>=1.0.8->taming-transformers-rom1504->dalle-pytorch) (0.2.8)\n",
            "Requirement already satisfied: requests-oauthlib>=0.7.0 in /usr/local/lib/python3.6/dist-packages (from google-auth-oauthlib<0.5,>=0.4.1->tensorboard>=2.2.0->pytorch-lightning>=1.0.8->taming-transformers-rom1504->dalle-pytorch) (1.3.0)\n",
            "Requirement already satisfied: pyasn1<0.5.0,>=0.4.6 in /usr/local/lib/python3.6/dist-packages (from pyasn1-modules>=0.2.1->google-auth<2,>=1.6.3->tensorboard>=2.2.0->pytorch-lightning>=1.0.8->taming-transformers-rom1504->dalle-pytorch) (0.4.8)\n",
            "Requirement already satisfied: oauthlib>=3.0.0 in /usr/local/lib/python3.6/dist-packages (from requests-oauthlib>=0.7.0->google-auth-oauthlib<0.5,>=0.4.1->tensorboard>=2.2.0->pytorch-lightning>=1.0.8->taming-transformers-rom1504->dalle-pytorch) (3.1.0)\n",
            "Requirement already satisfied: yarl<2.0,>=1.0 in /workspace/home/jesandov/.local/lib/python3.6/site-packages (from aiohttp->fsspec[http]>=0.8.1->pytorch-lightning>=1.0.8->taming-transformers-rom1504->dalle-pytorch) (1.6.3)\n",
            "Requirement already satisfied: idna-ssl>=1.0 in /workspace/home/jesandov/.local/lib/python3.6/site-packages (from aiohttp->fsspec[http]>=0.8.1->pytorch-lightning>=1.0.8->taming-transformers-rom1504->dalle-pytorch) (1.1.0)\n",
            "Requirement already satisfied: async-timeout<4.0,>=3.0 in /workspace/home/jesandov/.local/lib/python3.6/site-packages (from aiohttp->fsspec[http]>=0.8.1->pytorch-lightning>=1.0.8->taming-transformers-rom1504->dalle-pytorch) (3.0.1)\n",
            "Requirement already satisfied: multidict<7.0,>=4.5 in /workspace/home/jesandov/.local/lib/python3.6/site-packages (from aiohttp->fsspec[http]>=0.8.1->pytorch-lightning>=1.0.8->taming-transformers-rom1504->dalle-pytorch) (5.1.0)\n",
            "Requirement already satisfied: sacremoses in /workspace/home/jesandov/.local/lib/python3.6/site-packages (from transformers->dalle-pytorch) (0.0.45)\n",
            "Requirement already satisfied: huggingface-hub==0.0.8 in /workspace/home/jesandov/.local/lib/python3.6/site-packages (from transformers->dalle-pytorch) (0.0.8)\n",
            "Requirement already satisfied: joblib in /workspace/home/jesandov/.local/lib/python3.6/site-packages (from sacremoses->transformers->dalle-pytorch) (1.0.0)\n",
            "Requirement already satisfied: click in /workspace/home/jesandov/.local/lib/python3.6/site-packages (from sacremoses->transformers->dalle-pytorch) (7.1.2)\n",
            "Requirement already satisfied: braceexpand in /workspace/home/jesandov/.local/lib/python3.6/site-packages (from WebDataset->dalle-pytorch) (0.1.7)\n",
            "Installing collected packages: g-mlp-pytorch, dalle-pytorch\n",
            "  Attempting uninstall: dalle-pytorch\n",
            "    Found existing installation: dalle-pytorch 0.3.5\n",
            "    Uninstalling dalle-pytorch-0.3.5:\n",
            "      Successfully uninstalled dalle-pytorch-0.3.5\n",
            "Successfully installed dalle-pytorch-1.0.6 g-mlp-pytorch-0.1.5\n",
            "\u001b[33mWARNING: You are using pip version 21.1.1; however, version 21.2.4 is available.\n",
            "You should consider upgrading via the '/usr/bin/python -m pip install --upgrade pip' command.\u001b[0m\n"
          ],
          "name": "stdout"
        }
      ]
    },
    {
      "cell_type": "code",
      "metadata": {
        "colab": {
          "base_uri": "https://localhost:8080/"
        },
        "id": "6W7HG-Lx9Jjb",
        "outputId": "adb69f74-7817-4388-8091-3cb748fe1458"
      },
      "source": [
        "!pip install wandb\n",
        "import wandb\n",
        "!wandb login"
      ],
      "execution_count": null,
      "outputs": [
        {
          "output_type": "stream",
          "text": [
            "Collecting wandb\n",
            "  Downloading wandb-0.12.1-py2.py3-none-any.whl (1.7 MB)\n",
            "\u001b[K     |████████████████████████████████| 1.7 MB 5.1 MB/s \n",
            "\u001b[?25hCollecting subprocess32>=3.5.3\n",
            "  Downloading subprocess32-3.5.4.tar.gz (97 kB)\n",
            "\u001b[K     |████████████████████████████████| 97 kB 6.4 MB/s \n",
            "\u001b[?25hRequirement already satisfied: python-dateutil>=2.6.1 in /usr/local/lib/python3.7/dist-packages (from wandb) (2.8.2)\n",
            "Requirement already satisfied: Click!=8.0.0,>=7.0 in /usr/local/lib/python3.7/dist-packages (from wandb) (7.1.2)\n",
            "Requirement already satisfied: six>=1.13.0 in /usr/local/lib/python3.7/dist-packages (from wandb) (1.15.0)\n",
            "Requirement already satisfied: psutil>=5.0.0 in /usr/local/lib/python3.7/dist-packages (from wandb) (5.4.8)\n",
            "Collecting docker-pycreds>=0.4.0\n",
            "  Downloading docker_pycreds-0.4.0-py2.py3-none-any.whl (9.0 kB)\n",
            "Requirement already satisfied: protobuf>=3.12.0 in /usr/local/lib/python3.7/dist-packages (from wandb) (3.17.3)\n",
            "Collecting configparser>=3.8.1\n",
            "  Downloading configparser-5.0.2-py3-none-any.whl (19 kB)\n",
            "Requirement already satisfied: requests<3,>=2.0.0 in /usr/local/lib/python3.7/dist-packages (from wandb) (2.23.0)\n",
            "Requirement already satisfied: PyYAML in /usr/local/lib/python3.7/dist-packages (from wandb) (5.4.1)\n",
            "Collecting pathtools\n",
            "  Downloading pathtools-0.1.2.tar.gz (11 kB)\n",
            "Requirement already satisfied: promise<3,>=2.0 in /usr/local/lib/python3.7/dist-packages (from wandb) (2.3)\n",
            "Collecting GitPython>=1.0.0\n",
            "  Downloading GitPython-3.1.18-py3-none-any.whl (170 kB)\n",
            "\u001b[K     |████████████████████████████████| 170 kB 44.3 MB/s \n",
            "\u001b[?25hCollecting sentry-sdk>=1.0.0\n",
            "  Downloading sentry_sdk-1.3.1-py2.py3-none-any.whl (133 kB)\n",
            "\u001b[K     |████████████████████████████████| 133 kB 48.3 MB/s \n",
            "\u001b[?25hCollecting shortuuid>=0.5.0\n",
            "  Downloading shortuuid-1.0.1-py3-none-any.whl (7.5 kB)\n",
            "Requirement already satisfied: typing-extensions>=3.7.4.0 in /usr/local/lib/python3.7/dist-packages (from GitPython>=1.0.0->wandb) (3.7.4.3)\n",
            "Collecting gitdb<5,>=4.0.1\n",
            "  Downloading gitdb-4.0.7-py3-none-any.whl (63 kB)\n",
            "\u001b[K     |████████████████████████████████| 63 kB 1.7 MB/s \n",
            "\u001b[?25hCollecting smmap<5,>=3.0.1\n",
            "  Downloading smmap-4.0.0-py2.py3-none-any.whl (24 kB)\n",
            "Requirement already satisfied: urllib3!=1.25.0,!=1.25.1,<1.26,>=1.21.1 in /usr/local/lib/python3.7/dist-packages (from requests<3,>=2.0.0->wandb) (1.25.11)\n",
            "Requirement already satisfied: certifi>=2017.4.17 in /usr/local/lib/python3.7/dist-packages (from requests<3,>=2.0.0->wandb) (2021.5.30)\n",
            "Requirement already satisfied: chardet<4,>=3.0.2 in /usr/local/lib/python3.7/dist-packages (from requests<3,>=2.0.0->wandb) (3.0.4)\n",
            "Requirement already satisfied: idna<3,>=2.5 in /usr/local/lib/python3.7/dist-packages (from requests<3,>=2.0.0->wandb) (2.10)\n",
            "Building wheels for collected packages: subprocess32, pathtools\n",
            "  Building wheel for subprocess32 (setup.py) ... \u001b[?25l\u001b[?25hdone\n",
            "  Created wheel for subprocess32: filename=subprocess32-3.5.4-py3-none-any.whl size=6502 sha256=3680d8a57d3f6a407e09ab308effb5005fc0bbc0e65420af05d726e496828796\n",
            "  Stored in directory: /root/.cache/pip/wheels/50/ca/fa/8fca8d246e64f19488d07567547ddec8eb084e8c0d7a59226a\n",
            "  Building wheel for pathtools (setup.py) ... \u001b[?25l\u001b[?25hdone\n",
            "  Created wheel for pathtools: filename=pathtools-0.1.2-py3-none-any.whl size=8807 sha256=00943ea9680e379bdfbd0c64227fa3141fde82a43d87ba053ebc166048deb1aa\n",
            "  Stored in directory: /root/.cache/pip/wheels/3e/31/09/fa59cef12cdcfecc627b3d24273699f390e71828921b2cbba2\n",
            "Successfully built subprocess32 pathtools\n",
            "Installing collected packages: smmap, gitdb, subprocess32, shortuuid, sentry-sdk, pathtools, GitPython, docker-pycreds, configparser, wandb\n",
            "Successfully installed GitPython-3.1.18 configparser-5.0.2 docker-pycreds-0.4.0 gitdb-4.0.7 pathtools-0.1.2 sentry-sdk-1.3.1 shortuuid-1.0.1 smmap-4.0.0 subprocess32-3.5.4 wandb-0.12.1\n",
            "\u001b[34m\u001b[1mwandb\u001b[0m: You can find your API key in your browser here: https://wandb.ai/authorize\n",
            "\u001b[34m\u001b[1mwandb\u001b[0m: Paste an API key from your profile and hit enter: \n",
            "Aborted!\n",
            "^C\n"
          ],
          "name": "stdout"
        }
      ]
    },
    {
      "cell_type": "code",
      "metadata": {
        "colab": {
          "base_uri": "https://localhost:8080/"
        },
        "id": "HpFLCwYY9yGv",
        "outputId": "17cedb2b-164a-49cb-e09a-0dcc3859477c"
      },
      "source": [
        "!pip install gdown"
      ],
      "execution_count": null,
      "outputs": [
        {
          "output_type": "stream",
          "text": [
            "Requirement already satisfied: gdown in /usr/local/lib/python3.7/dist-packages (3.6.4)\n",
            "Requirement already satisfied: six in /usr/local/lib/python3.7/dist-packages (from gdown) (1.15.0)\n",
            "Requirement already satisfied: requests in /usr/local/lib/python3.7/dist-packages (from gdown) (2.23.0)\n",
            "Requirement already satisfied: tqdm in /usr/local/lib/python3.7/dist-packages (from gdown) (4.62.0)\n",
            "Requirement already satisfied: certifi>=2017.4.17 in /usr/local/lib/python3.7/dist-packages (from requests->gdown) (2021.5.30)\n",
            "Requirement already satisfied: chardet<4,>=3.0.2 in /usr/local/lib/python3.7/dist-packages (from requests->gdown) (3.0.4)\n",
            "Requirement already satisfied: idna<3,>=2.5 in /usr/local/lib/python3.7/dist-packages (from requests->gdown) (2.10)\n",
            "Requirement already satisfied: urllib3!=1.25.0,!=1.25.1,<1.26,>=1.21.1 in /usr/local/lib/python3.7/dist-packages (from requests->gdown) (1.25.11)\n"
          ],
          "name": "stdout"
        }
      ]
    },
    {
      "cell_type": "markdown",
      "metadata": {
        "id": "UqFTb4GQ_kR4"
      },
      "source": [
        "# Dataset"
      ]
    },
    {
      "cell_type": "code",
      "metadata": {
        "id": "0XtiZeis-VuG"
      },
      "source": [
        "!gdown https://drive.google.com/uc?id=1P189d4J3SBaBzevBToNegnVNaKeIIeej"
      ],
      "execution_count": null,
      "outputs": []
    },
    {
      "cell_type": "code",
      "metadata": {
        "id": "c64uL9YR-eaT"
      },
      "source": [
        "!tar xvf Danbooru2017_CUB.tar.gz\n",
        "!mv Danbooru2017_CUB CUB_200_2011"
      ],
      "execution_count": null,
      "outputs": []
    },
    {
      "cell_type": "code",
      "metadata": {
        "colab": {
          "base_uri": "https://localhost:8080/"
        },
        "id": "Ce26HuB5Go_v",
        "outputId": "bd1b0a8d-6ccc-438e-b850-a65ef3e392a7"
      },
      "source": [
        "os.listdir(\"./CUB_200_2011/\")"
      ],
      "execution_count": null,
      "outputs": [
        {
          "output_type": "execute_result",
          "data": {
            "text/plain": [
              "['classes.txt',\n",
              " 'images',\n",
              " 'image_class_labels.txt',\n",
              " 'parts',\n",
              " 'train_test_split.txt',\n",
              " 'bounding_boxes.txt',\n",
              " 'README',\n",
              " 'attributes',\n",
              " 'images.txt']"
            ]
          },
          "metadata": {},
          "execution_count": 15
        }
      ]
    },
    {
      "cell_type": "markdown",
      "metadata": {
        "id": "RI14wPoXOczg"
      },
      "source": [
        "# Tokenizer"
      ]
    },
    {
      "cell_type": "code",
      "metadata": {
        "id": "3jflHX81-F1I"
      },
      "source": [
        "from random import choice\n",
        "from pathlib import Path\n",
        "import os\n",
        "import numpy as np\n",
        "\n",
        "from tensorflow.keras.preprocessing.text import Tokenizer  \n",
        "\n",
        "IMAGE_TEXT_FOLDER = os.path.realpath('../AttnGAN/data/anime_wb_full/text/')\n",
        "\n",
        "path = Path(IMAGE_TEXT_FOLDER)\n",
        "text_files = [*path.glob('**/*.txt')]\n",
        "text_files = {t.stem: t for t in text_files}\n",
        "\n",
        "text_desc = []\n",
        "\n",
        "for text_file, text_file_posix in text_files.items():\n",
        "\n",
        "    descriptions = open(text_file_posix, \"r\").readlines()[0].strip()\n",
        "    descriptions = descriptions.split(\" \")\n",
        "    text_desc.append(descriptions)\n",
        "\n",
        "tokenizer = Tokenizer(oov_token='OOV')\n",
        "tokenizer.fit_on_texts(text_desc)"
      ],
      "execution_count": null,
      "outputs": []
    },
    {
      "cell_type": "code",
      "metadata": {
        "colab": {
          "base_uri": "https://localhost:8080/"
        },
        "id": "4ge2QUR8A5Aq",
        "outputId": "bd8fe1c4-bce2-4f9c-fc9b-b18d81d88576"
      },
      "source": [
        "print(tokenizer.word_index)\n",
        "len(tokenizer.word_index)"
      ],
      "execution_count": null,
      "outputs": [
        {
          "output_type": "stream",
          "text": [
            "{'OOV': 1, '1girl': 2, 'white_background': 3, 'solo': 4, 'simple_background': 5, 'long_hair': 6, 'looking_at_viewer': 7, 'smile': 8, 'blush': 9, 'breasts': 10, 'short_hair': 11, 'skirt': 12, 'open_mouth': 13, 'full_body': 14, 'blue_eyes': 15, 'thighhighs': 16, 'blonde_hair': 17, 'bangs': 18, 'brown_hair': 19, 'ribbon': 20, 'red_eyes': 21, 'dress': 22, 'gloves': 23, 'long_sleeves': 24, 'large_breasts': 25, 'hat': 26, 'hair_ornament': 27, 'bow': 28, 'original': 29, 'cleavage': 30, 'black_hair': 31, 'shirt': 32, 'bare_shoulders': 33, 'very_long_hair': 34, 'brown_eyes': 35, 'school_uniform': 36, 'medium_breasts': 37, 'sitting': 38, 'twintails': 39, 'eyebrows_visible_through_hair': 40, 'black_legwear': 41, 'navel': 42, 'standing': 43, 'upper_body': 44, 'animal_ears': 45, 'holding': 46, 'green_eyes': 47, 'jewelry': 48, 'boots': 49, 'hair_ribbon': 50, 'weapon': 51, 'collarbone': 52, 'underwear': 53, 'purple_eyes': 54, 'shoes': 55, 'pleated_skirt': 56, 'd': 57, 'short_sleeves': 58, 'hair_between_eyes': 59, 'blue_hair': 60, 'tail': 61, 'hair_bow': 62, 'closed_mouth': 63, 'panties': 64, 'ponytail': 65, 'swimsuit': 66, 'purple_hair': 67, 'pantyhose': 68, 'monochrome': 69, 'yellow_eyes': 70, 'serafuku': 71, 'ahoge': 72, 'pink_hair': 73, 'white_legwear': 74, 'silver_hair': 75, 'detached_sleeves': 76, 'hairband': 77, 'frills': 78, 'sketch': 79, 'braid': 80, 'jacket': 81, 'flower': 82, 'elbow_gloves': 83, 'wings': 84, 'puffy_sleeves': 85, 'heart': 86, 'green_hair': 87, 'white_shirt': 88, 'barefoot': 89, 'bikini': 90, 'one_eye_closed': 91, 'chibi': 92, 'ass': 93, 'sidelocks': 94, 'midriff': 95, 'necktie': 96, 'japanese_clothes': 97, 'greyscale': 98, 'alternate_costume': 99, 'red_hair': 100, 'parted_lips': 101, 'sleeveless': 102, 'small_breasts': 103, 'zettai_ryouiki': 104, 'food': 105, 'shorts': 106, 'belt': 107, 'striped': 108, 'earrings': 109, 'glasses': 110, 'choker': 111, 'closed_eyes': 112, 'sword': 113, 'white_gloves': 114, 'white_hair': 115, 'miniskirt': 116, 'fang': 117, 'hairclip': 118, 'looking_back': 119, 'o': 120, 'twitter_username': 121, 'wide_sleeves': 122, 'eyebrows': 123, 'thighs': 124, 'artist_name': 125, 'pointy_ears': 126, 'dated': 127, 'high_heels': 128, 'black_gloves': 129, 'cat_ears': 130, 'socks': 131, 'character_name': 132, 'fingerless_gloves': 133, 'bowtie': 134, 'blunt_bangs': 135, 'multicolored_hair': 136, 'hand_on_hip': 137, 'horns': 138, 'sailor_collar': 139, 'pink_eyes': 140, 'holding_weapon': 141, 'from_side': 142, 'signature': 143, 'armpits': 144, 'cape': 145, 'kneehighs': 146, 'black_skirt': 147, 'bag': 148, 'vest': 149, 'neckerchief': 150, 'shiny': 151, 'open_clothes': 152, 'aqua_eyes': 153, 'uniform': 154, 'armor': 155, 'hair_flower': 156, 'black_footwear': 157, 'teeth': 158, 'kimono': 159, 'necklace': 160, 'white_dress': 161, '_': 162, 'puffy_short_sleeves': 163, 'star': 164, 'scarf': 165, 'black_eyes': 166, 'hair_over_one_eye': 167, 'head_tilt': 168, 'bare_legs': 169, 'shadow': 170, 'sweater': 171, 'blue_skirt': 172, 'from_behind': 173, 'collared_shirt': 174, 'apron': 175, 'side_ponytail': 176, 'hood': 177, 'arm_up': 178, 'tongue': 179, 'ascot': 180, 'magical_girl': 181, 'orange_hair': 182, 'sash': 183, 'plaid': 184, 'bracelet': 185, 'vshaped_eyebrows': 186, 'red_ribbon': 187, 'wrist_cuffs': 188, 'grey_hair': 189, 'white_panties': 190, 'kneeling': 191, 'grin': 192, 'bra': 193, 'knee_boots': 194, 'lips': 195, 'tears': 196, 'cosplay': 197, 'cat_tail': 198, 'copyright_name': 199, 'turtleneck': 200, 'twin_braids': 201, 'arms_up': 202, 'lying': 203, 'bunny_ears': 204, 'two_side_up': 205, 'red_bow': 206, 'looking_to_the_side': 207, 'expressionless': 208, 'sweat': 209, 'bodysuit': 210, 'nail_polish': 211, '3': 212, 'collar': 213, 'sideboob': 214, 'gun': 215, 'leotard': 216, 'covered_nipples': 217, 'orange_eyes': 218, 'eyelashes': 219, 'headgear': 220, 'alternate_hairstyle': 221, 'wariza': 222, 'thigh_boots': 223, 'legs': 224, 'buttons': 225, 'red_neckwear': 226, 'striped_legwear': 227, 'tongue_out': 228, 'military': 229, 'black_dress': 230, 'pants': 231, 'loafers': 232, 'leaning_forward': 233, 'feet': 234, 'flat_chest': 235, 'dark_skin': 236, 'black_panties': 237, 'maid_headdress': 238, 'military_uniform': 239, 'huge_breasts': 240, 'onepiece_swimsuit': 241, 'off_shoulder': 242, 'capelet': 243, 'single_braid': 244, 'arm_support': 245, 'shiny_skin': 246, 'sweatdrop': 247, 'hand_up': 248, 'sandals': 249, 'skirt_set': 250, 'sleeves_past_wrists': 251, 'looking_away': 252, 'light_smile': 253, 'blazer': 254, 'profile': 255, 'multiple_views': 256, 'aqua_hair': 257, 'hair_tubes': 258, 'pantyshot': 259, 'v': 260, 'red_skirt': 261, 'plaid_skirt': 262, 'frown': 263, 'tareme': 264, 'petals': 265, 'arms_behind_back': 266, 'book': 267, 'dress_shirt': 268, 'short_shorts': 269, 'fox_ears': 270, 'bell': 271, 'standing_on_one_leg': 272, 'crop_top': 273, 'underboob': 274, 'maid': 275, 'covered_navel': 276, 'fingernails': 277, 'obi': 278, 'blush_stickers': 279, 'bare_arms': 280, 'mob_cap': 281, 'text': 282, 'black_ribbon': 283, 'no_shoes': 284, 'short_dress': 285, 'brown_footwear': 286, 'hat_ribbon': 287, 'garter_straps': 288, 'headphones': 289, 'groin': 290, 'fox_tail': 291, 'strapless': 292, 'blouse': 293, 'seethrough': 294, 'adapted_costume': 295, 'halterneck': 296, 'suspenders': 297, 'fur_trim': 298, 'remodel_kantai_collection': 299, 'wavy_hair': 300, 'cleavage_cutout': 301, 'mary_janes': 302, 'twotone_hair': 303, 'hoodie': 304, 'double_bun': 305, 'mole': 306, 'fruit': 307, 'drill_hair': 308, 'gradient_hair': 309, 'wavy_mouth': 310, 'traditional_media': 311, 'floating_hair': 312, 'witch_hat': 313, 'crossed_legs': 314, 'leg_up': 315, 'parted_bangs': 316, 'blue_dress': 317, 'shiny_hair': 318, 'outstretched_arm': 319, 'from_above': 320, 'stomach': 321, 'neck_ribbon': 322, 'sidetie_bikini': 323, 'sleeveless_dress': 324, 'face': 325, 'wolf_ears': 326, 'detached_collar': 327, 'beret': 328, 'sleeveless_shirt': 329, 'machinery': 330, 'crossed_arms': 331, 'school_swimsuit': 332, 'bat_wings': 333, 'thigh_gap': 334, 'animal': 335, 'staff': 336, 'frilled_skirt': 337, 'headband': 338, 'watermark': 339, 'open_jacket': 340, 'thigh_strap': 341, 'sheath': 342, 'eyepatch': 343, 'umbrella': 344, 'embarrassed': 345, 'holding_sword': 346, 'portrait': 347, 'symbolshaped_pupils': 348, 'swept_bangs': 349, 'grey_eyes': 350, 'tsurime': 351, 'outstretched_arms': 352, 'torn_clothes': 353, 'toes': 354, 'eating': 355, 'makeup': 356, 'ribbon_trim': 357, 'tokin_hat': 358, 'crescent': 359, 'ribbed_sweater': 360, 'bike_shorts': 361, 'cup': 362, 'chain': 363, 'floral_print': 364, 'katana': 365, 'hand_on_own_chest': 366, 'brooch': 367, 'flying_sweatdrops': 368, 'red_footwear': 369, 'english': 370, 'one_side_up': 371, 'crosslaced_footwear': 372, 'mouth_hold': 373, 'polearm': 374, 'chinese_clothes': 375, 'happy': 376, 'low_twintails': 377, 'scrunchie': 378, 'skindentation': 379, 'coat': 380, 'turret': 381, 'sparkle': 382, 'hair_bobbles': 383, 'shinkaiseikan': 384, 'frilled_dress': 385, 'highleg': 386, 'blue_ribbon': 387, 'red_dress': 388, 'gauntlets': 389, 'between_legs': 390, 'backpack': 391, 'underwear_only': 392, 'lavender_hair': 393, 'gradient': 394, 'rose': 395, 'tiara': 396, 'no_bra': 397, 'squatting': 398, 'speech_bubble': 399, 'white_bikini': 400, 'stuffed_toy': 401, 'mask': 402, 'antenna_hair': 403, 'water': 404, 'looking_up': 405, 'juliet_sleeves': 406, 'v_arms': 407, 'green_skirt': 408, 'black_bow': 409, 'hat_bow': 410, 'multiple_tails': 411, 'ass_visible_through_thighs': 412, 'personification': 413, 'head_wings': 414, 'skin_tight': 415, 'dutch_angle': 416, 'white_footwear': 417, 'denim': 418, 'looking_down': 419, 'black_bikini': 420, 'stuffed_animal': 421, 'kemonomimi_mode': 422, 'pom_pom_clothes': 423, 'single_thighhigh': 424, 'legs_apart': 425, 'heterochromia': 426, 'facial_mark': 427, 'sailor_dress': 428, 'pink_bow': 429, 'parody': 430, 'leaf': 431, 'cardigan': 432, 'no_pants': 433, 'back': 434, 'open_shirt': 435, 'short_twintails': 436, 'white_skirt': 437, 'side_slit': 438, 'slit_pupils': 439, 'monster_girl': 440, 'frilled_sleeves': 441, 'lowtied_long_hair': 442, 'gem': 443, 'bikini_top': 444, 'blue_bow': 445, 'brown_legwear': 446, 'wolf_tail': 447, 'pointing': 448, 'bent_over': 449, 'cropped_legs': 450, 'wing_collar': 451, 'musical_note': 452, 'hand_between_legs': 453, 'finger_to_mouth': 454, 'pale_skin': 455, 'bespectacled': 456, 'feathers': 457, 'corset': 458, 'glowing': 459, 'mole_under_eye': 460, 'meme_attire': 461, 'multicolored': 462, 'foreshortening': 463, 'hair_bun': 464, 'hair_flaps': 465, 'lace': 466, 'gradient_background': 467, 'bird': 468, 'white_bow': 469, 'seiza': 470, 'sneakers': 471, 'fronttie_top': 472, 'from_below': 473, 'fangs': 474, 'bandages': 475, 'tank_top': 476, 'third_eye': 477, 'buckle': 478, 'knees_together_feet_apart': 479, 'tan': 480, 'pendant': 481, 'half_updo': 482, 'wind': 483, 'redframed_eyewear': 484, 'skirt_lift': 485, 'twin_drills': 486, 'solo_focus': 487, 'soles': 488, 'crown': 489, 'strap_slip': 490, 'high_ponytail': 491, 'tattoo': 492, 'waist_apron': 493, 'hips': 494, 'strapless_dress': 495, 'short_hair_with_long_locks': 496, 'cross': 497, 'lipstick': 498, 'between_breasts': 499, 'clenched_hand': 500, 'cat': 501, 'black_neckwear': 502, 'nose_blush': 503, 'dual_wielding': 504, 'hands_up': 505, 'wet': 506, 'serious': 507, 'fake_animal_ears': 508, 'semirimless_eyewear': 509, 'animal_print': 510, 'high_heel_boots': 511, 'pokemon_creature': 512, 'peaked_cap': 513, 'box': 514, 'on_side': 515, 'no_panties': 516, 'spot_color': 517, 'hair_intakes': 518, 'bob_cut': 519, 'hood_down': 520, 'broom': 521, 'hands_on_hips': 522, 'pink_dress': 523, 'clothes_writing': 524, 'upskirt': 525, 'blue_legwear': 526, 'bunny_tail': 527, 'instrument': 528, 'revealing_clothes': 529, 'spread_legs': 530, 'bunnysuit': 531, 'helmet': 532, 'p': 533, 'camisole': 534, 'veil': 535, 'casual': 536, 'paw_pose': 537, 'polka_dot': 538, 'closeup': 539, 'knees_up': 540, 'white_ribbon': 541, 'messy_hair': 542, 'black_shirt': 543, 'own_hands_together': 544, 'white_skin': 545, 'eyes_visible_through_hair': 546, 'blood': 547, 'fire': 548, 'hands_together': 549, 'arm_warmers': 550, 'china_dress': 551, 'breast_hold': 552, 'pink_skirt': 553, 'red_legwear': 554, 'clenched_hands': 555, 'ankle_boots': 556, 'bottle': 557, 'white_blouse': 558, 'bridal_gauntlets': 559, 'ribbontrimmed_sleeves': 560, 'rifle': 561, 'light_brown_hair': 562, 'armored_boots': 563, 'arm_behind_back': 564, 'ring': 565, 'on_back': 566, 'crying': 567, 'chair': 568, 'yellow_bow': 569, 'vertical_stripes': 570, 'jingle_bell': 571, 'quaver': 572, 'denim_shorts': 573, 'x_hair_ornament': 574, 'cannon': 575, 'phone': 576, 'heartshaped_pupils': 577, 'on_stomach': 578, 'buruma': 579, 'pillow': 580, 'all_fours': 581, 'arm_at_side': 582, 'blurry': 583, 'black_wings': 584, 'laceup_boots': 585, 'headset': 586, 'covering': 587, 'long_legs': 588, 'blue_neckwear': 589, 'pelvic_curtain': 590, 'impossible_clothes': 591, 'pantyshot_sitting': 592, 'santa_hat': 593, 'sheathed': 594, 'sweater_vest': 595, 'sidetie_panties': 596, 'armband': 597, 'pencil_skirt': 598, 'alternate_color': 599, 'cameltoe': 600, 'fan': 601, 'anklet': 602, 'motion_lines': 603, 'wristband': 604, 'goggles': 605, 'pocket': 606, 'anchor': 607, 'underrim_eyewear': 608, 'happy_birthday': 609, 'white_hat': 610, 'tassel': 611, 'contrapposto': 612, 'yokozuwari': 613, 'long_fingernails': 614, 'lolita_fashion': 615, 'pigeontoed': 616, 'knee_up': 617, 'microphone': 618, 'black_hat': 619, 'number': 620, 'no_headwear': 621, 'purple_skirt': 622, 'anchor_symbol': 623, 'long_skirt': 624, 'thick_eyebrows': 625, 'santa_costume': 626, 'black_bra': 627, 'panties_under_pantyhose': 628, 'bracer': 629, 'curly_hair': 630, 'thighband_pantyhose': 631, 'jitome': 632, 'zipper': 633, 'walking': 634, 'brown_gloves': 635, 'holding_gun': 636, 'undressing': 637, 'halfclosed_eyes': 638, 'hair_over_shoulder': 639, 'pout': 640, 'mecha_musume': 641, 'cellphone': 642, 'pink_panties': 643, 'legs_together': 644, 'epaulettes': 645, 'arms_behind_head': 646, 'depth_of_field': 647, 'tshirt': 648, 'sun_hat': 649, 'bow_weapon': 650, 'jumping': 651, 'backless_outfit': 652, 'spear': 653, 'knife': 654, 'feathered_wings': 655, 'hand_in_hair': 656, 'horn': 657, 'armored_dress': 658, 'blue_footwear': 659, 'adjusting_hair': 660, 'handgun': 661, 'holding_food': 662, 'tabard': 663, 'character_sheet': 664, 'paws': 665, 'gym_uniform': 666, 'side_braid': 667, 'elf': 668, 'oring': 669, 'track_jacket': 670, 'striped_panties': 671, 'claws': 672, 'lineart': 673, 'pilot_suit': 674, 'index_finger_raised': 675, 'red_gloves': 676, 't': 677, 'microskirt': 678, 'comic': 679, 'folded_ponytail': 680, 'miko': 681, 'one_leg_raised': 682, 'yellow_neckwear': 683, 'swimsuit_under_clothes': 684, 'school_bag': 685, 'no_nose': 686, 'angry': 687, 'headwear_removed': 688, 'circlet': 689, 'bottomless': 690, 'child': 691, 'trembling': 692, 'pauldrons': 693, 'demon_girl': 694, 'ice': 695, 'bow_panties': 696, 'q': 697, 'single_glove': 698, 'hand_on_own_cheek': 699, 'green_dress': 700, 'butt_crack': 701, 'tabi': 702, 'no_hat': 703, 'armlet': 704, 'thick_thighs': 705, 'striped_bikini': 706, 'blue_sailor_collar': 707, 'black_serafuku': 708, 'fishnets': 709, 'purple_legwear': 710, 'fighting_stance': 711, 'thong': 712, 'wand': 713, 'red_scarf': 714, 'sharp_teeth': 715, 'checkered': 716, 'chinese': 717, 'underbust': 718, 'highleg_panties': 719, 'backlighting': 720, 'grey_skirt': 721, 'sleeves_rolled_up': 722, 'sweater_dress': 723, 'genderswap': 724, 'streaked_hair': 725, 'contemporary': 726, 'blue_bikini': 727, 'sarashi': 728, 'hakama': 729, 'blackframed_eyewear': 730, 'antennae': 731, 'genderswap_mtf': 732, 'shield': 733, 'hands': 734, 'mole_under_mouth': 735, 'frilled_shirt_collar': 736, 'sundress': 737, 'hairpin': 738, 'hair_scrunchie': 739, 'outline': 740, 'cherry_blossoms': 741, 'candy': 742, 'cover': 743, 'blue': 744, 'holding_book': 745, 'tress_ribbon': 746, 'blue_shirt': 747, 'dragon_horns': 748, '2016': 749, 'mittens': 750, 'adjusting_clothes': 751, 'huge_weapon': 752, 'tanline': 753, 'pink_lips': 754, 'younger': 755, 'in_container': 756, 'black_shorts': 757, 'dress_lift': 758, 'red_bikini': 759, 'cropped_jacket': 760, 'alternate_hair_length': 761, 'hitodama': 762, 'hand_on_own_knee': 763, 'hand_on_headwear': 764, 'hands_in_pockets': 765, 'nontraditional_miko': 766, 'plugsuit': 767, 'wide_hips': 768, 'highleg_leotard': 769, 'popsicle': 770, 'sailor_senshi_uniform': 771, 'purple_dress': 772, 'asymmetrical_legwear': 773, 'yellow_ribbon': 774, 'pink_legwear': 775, 'outstretched_hand': 776, 'smirk': 777, 'poke_ball': 778, 'skirt_hold': 779, 'highwaist_skirt': 780, 'ooarai_school_uniform': 781, 'colored_eyelashes': 782, 'grey_legwear': 783, 'lifted_by_self': 784, 'shaded_face': 785, 'pose': 786, 'shoulder_bag': 787, 'lingerie': 788, 'flat_cap': 789, 'bandaid': 790, 'ofuda': 791, 'unzipped': 792, 'gift': 793, 'dragon_girl': 794, 'formal': 795, 'strap_gap': 796, 'hat_removed': 797, 'spikes': 798, 'shiny_clothes': 799, 'beads': 800, 'mini_hat': 801, 'hooded_jacket': 802, 'black_jacket': 803, 'french_braid': 804, 'demon_tail': 805, 'facing_viewer': 806, 'arms_at_sides': 807, 'smartphone': 808, 'nurse_cap': 809, 'headdress': 810, 'absurdly_long_hair': 811, 'leg_hug': 812, 'hand_on_own_face': 813, 'multicolored_clothes': 814, 'halter_top': 815, 'peach': 816, 'pouch': 817, 'asymmetrical_hair': 818, 'geta': 819, 'leg_lift': 820, 'hair_rings': 821, 'alternate_eye_color': 822, 'breastplate': 823, 'valentine': 824, 'crying_with_eyes_open': 825, 'bloomers': 826, 'bouquet': 827, 'taut_clothes': 828, 'greaves': 829, 'crosslaced_clothes': 830, 'unbuttoned': 831, 'bare_back': 832, 'red_flower': 833, 'chestnut_mouth': 834, 'indian_style': 835, 'fronttie_bikini': 836, 'ball': 837, 'plate': 838, 'shorts_under_skirt': 839, 'brown_skirt': 840, 'scar': 841, 'pocky': 842, 'white_flower': 843, 'salute': 844, 'christmas': 845, 'otonokizaka_school_uniform': 846, 'skull': 847, 'crescent_hair_ornament': 848, 'bunny': 849, 'tray': 850, 'sunglasses': 851, 'butterfly': 852, 'ground_vehicle': 853, 'belt_buckle': 854, 'letterboxed': 855, 'vambraces': 856, 'fairy_wings': 857, 'red_shirt': 858, 'colored': 859, 'bell_collar': 860, 'arrow': 861, 'creature': 862, '2017': 863, 'suit': 864, 'nude': 865, 'legs_up': 866, 'military_hat': 867, 'spread_arms': 868, 'red_nails': 869, 'hand_to_own_mouth': 870, 'turtleneck_sweater': 871, 'cloak': 872, 'shirt_lift': 873, 'shawl': 874, 'yukata': 875, 'cardboard_box': 876, 'short_kimono': 877, 'demon_wings': 878, 'bobby_socks': 879, 'plant': 880, 'web_address': 881, 'crop_top_overhang': 882, 'ice_wings': 883, 'gohei': 884, 'teacup': 885, 'waving': 886, 'purple_ribbon': 887, 'layered_dress': 888, 'orange_skirt': 889, 'shoulder_pads': 890, 'arched_back': 891, 'black_hairband': 892, 'mouse_ears': 893, 'adjusting_eyewear': 894, 'innertube': 895, 'fur_collar': 896, 'crossover': 897, 'sleeping': 898, 'pink_bra': 899, 'anchor_hair_ornament': 900, 'hands_on_own_chest': 901, 'center_opening': 902, 'surprised': 903, 'round_teeth': 904, 'doraf': 905, 'hime_cut': 906, 'triangular_headpiece': 907, 'eyeball': 908, 'striped_neckwear': 909, 'muneate': 910, 'chocolate_hair': 911, 'company_name': 912, 'short_ponytail': 913, 'style_parody': 914, 'in_box': 915, 'extra_ears': 916, 'handbag': 917, 'pantyshot_standing': 918, 'arm_behind_head': 919, 'forehead': 920, 'border': 921, 'leg_garter': 922, 'torpedo': 923, 'dot_nose': 924, 'key': 925, 'o_o': 926, 'suspender_skirt': 927, 'pink_footwear': 928, 'scythe': 929, 'baseball_cap': 930, 'holding_staff': 931, 'competition_swimsuit': 932, 'chin_rest': 933, 'flipped_hair': 934, 'rope': 935, 'name_tag': 936, 'alcohol': 937, 'chocolate': 938, 'alternate_hair_color': 939, 'covering_crotch': 940, 'saliva': 941, 'striped_bow': 942, 'fish': 943, 'petticoat': 944, 'gothic_lolita': 945, 'triangle_mouth': 946, 'teddy_bear': 947, 'meme': 948, 'dragon_tail': 949, 'micro_bikini': 950, 'halo': 951, 'grey_background': 952, 'pajamas': 953, 'official_style': 954, 'green_bow': 955, 'goggles_on_head': 956, 'no_socks': 957, 'hair_down': 958, 'wind_lift': 959, 'cover_page': 960, 'solid_oval_eyes': 961, 'grey_shirt': 962, 'toenail_polish': 963, 'white_swimsuit': 964, 'headpiece': 965, 'food_on_face': 966, 'frilled_bikini': 967, 'high_collar': 968, 'randoseru': 969, 'guitar': 970, 'naked_sweater': 971, 'virgin_killer_sweater': 972, 'bubble_skirt': 973, 'hands_clasped': 974, 'wet_clothes': 975, 'animal_hood': 976, 'ghost': 977, 'oni_horns': 978, 'plaid_vest': 979, 'beltskirt': 980, 'running': 981, 'stretch': 982, 'facepaint': 983, 'blue_jacket': 984, 'straight_hair': 985, 'nose': 986, 'eyeshadow': 987, 'bed_sheet': 988, 'lollipop': 989, 'breath': 990, 'tied_hair': 991, 'lowleg': 992, 'bandeau': 993, 'paw_print': 994, 'scabbard': 995, 'pink_ribbon': 996, 'holster': 997, 'logo': 998, 'folding_fan': 999, 'covering_mouth': 1000, 'out_of_frame': 1001, 'topless': 1002, 'sack': 1003, 'string': 1004, 'doublebreasted': 1005, 'cake': 1006, 'table': 1007, 'marker_medium': 1008, 'new_year': 1009, 'white_wings': 1010, 'toeless_legwear': 1011, 'emblem': 1012, 'double_v': 1013, 'blue_panties': 1014, 'maid_apron': 1015, 'mouse_tail': 1016, 'frog_hair_ornament': 1017, 'rei_no_himo': 1018, 'spoon': 1019, 'hair_stick': 1020, 'glowing_eyes': 1021, 'hair_tie': 1022, 'argyle': 1023, 'openback_dress': 1024, 'ranguage': 1025, 'bun_cover': 1026, 'verticalstriped_legwear': 1027, 'sleeve_cuffs': 1028, 'looking_afar': 1029, 'bowl': 1030, 'sports_bra': 1031, 'top_hat': 1032, 'dog_ears': 1033, 'white_bra': 1034, 'white': 1035, 'white_leotard': 1036, 'medium_hair': 1037, 'purple_bow': 1038, 'concept_art': 1039, 'heart_hair_ornament': 1040, 'twotone_background': 1041, 'steam': 1042, 'whisker_markings': 1043, 'drinking_glass': 1044, 'piercing': 1045, 'bikini_armor': 1046, 'arm_garter': 1047, 'iron_cross': 1048, 'erun_granblue_fantasy': 1049, 'hair_bell': 1050, 'hug': 1051, 'character_doll': 1052, 'strap': 1053, 'halloween': 1054, 'lolita_hairband': 1055, 'motor_vehicle': 1056, 'visor_cap': 1057, 'enmaided': 1058, 'bunny_girl': 1059, 'anger_vein': 1060, 'single_earring': 1061, 'solid_circle_eyes': 1062, 'open_book': 1063, 'leaning_back': 1064, 'one_knee': 1065, 'red_rose': 1066, 'breasts_apart': 1067, 'slippers': 1068, 'one_eye_covered': 1069, 'dog': 1070, 'directional_arrow': 1071, 'older': 1072, 'star_print': 1073, 'jester_cap': 1074, 'holding_poke_ball': 1075, 'fullface_blush': 1076, 'hoop_earrings': 1077, 'clenched_teeth': 1078, 'pinafore_dress': 1079, 'garters': 1080, 'ribbon_choker': 1081, 'cheerleader': 1082, 'pom_poms': 1083, 'upsidedown': 1084, 'pistol': 1085, 'scales': 1086, 'towel': 1087, 'over_shoulder': 1088, '': 1089, 'cuffs': 1090, 'drinking_straw': 1091, 'freckles': 1092, 'cabbie_hat': 1093, 'floating': 1094, 'floral_background': 1095, 'stuffed_bunny': 1096, 'watch': 1097, 'spoken_heart': 1098, 'openchest_sweater': 1099, 'jeans': 1100, 'interlocked_fingers': 1101, '2015': 1102, 'tiptoes': 1103, 'oversized_clothes': 1104, 'pink_shirt': 1105, 'domino_mask': 1106, 'cable': 1107, 'pillow_hat': 1108, 'snake_hair_ornament': 1109, 'oni': 1110, 'serval_ears': 1111, 'riding': 1112, 'head_fins': 1113, 'wedding_dress': 1114, 'sleeveless_turtleneck': 1115, 'engrish': 1116, 'overalls': 1117, 'string_bikini': 1118, 'monster': 1119, 'red_panties': 1120, 'drooling': 1121, 'yellow_skirt': 1122, 'rigging': 1123, 'print_legwear': 1124, 'blue_gloves': 1125, 'dagger': 1126, 'colored_pencil_medium': 1127, 'pink_nails': 1128, 'white_apron': 1129, 'tate_eboshi': 1130, 'hair_up': 1131, 'starshaped_pupils': 1132, 'red_hat': 1133, 'grey_footwear': 1134, 'blue_skin': 1135, 'witch': 1136, 'magic': 1137, 'assault_rifle': 1138, 'aircraft': 1139, 'blue_flower': 1140, 'character_profile': 1141, 'angel_wings': 1142, 'race_queen': 1143, 'heart_hands': 1144, 'graphite_medium': 1145, 'asymmetrical_clothes': 1146, 'curvy': 1147, 'green_neckwear': 1148, 'pov': 1149, 'sunflower': 1150, 'center_frills': 1151, 'striped_shirt': 1152, 'crotch_seam': 1153, 'silver_eyes': 1154, 'plump': 1155, 'crystal': 1156, 'borrowed_character': 1157, 'hand_in_pocket': 1158, 'android': 1159, 'cutoffs': 1160, 'white_hairband': 1161, 'green_ribbon': 1162, 'demon_horns': 1163, 'tentacle_hair': 1164, 'bright_pupils': 1165, 'single_kneehigh': 1166, 'covered_mouth': 1167, 'winter_clothes': 1168, 'trigger_discipline': 1169, 'green_legwear': 1170, 'frilled_apron': 1171, 'body_blush': 1172, 'licking': 1173, 'flying': 1174, 'petting': 1175, 'huge_ahoge': 1176, 'sailor_hat': 1177, 'overkneehighs': 1178, 'black_vest': 1179, 'fang_out': 1180, 'blue_hat': 1181, 'blue_leotard': 1182, 'oriental_umbrella': 1183, 'forehead_mark': 1184, 'kneepits': 1185, 'blue_nails': 1186, 'holding_cup': 1187, 'reverse_grip': 1188, 'raised_eyebrows': 1189, 'smoke': 1190, 'on_head': 1191, 'blue_bra': 1192, 'tying_hair': 1193, 'multicolored_eyes': 1194, 'faulds': 1195, 'hands_on_own_face': 1196, 'cravat': 1197, 'uwabaki': 1198, 'squiggle': 1199, 'bridal_veil': 1200, 'animal_costume': 1201, 'hand_behind_head': 1202, 'aran_sweater': 1203, 'empty_eyes': 1204, 'breast_pocket': 1205, 'paper': 1206, 'minigirl': 1207, 'purple_footwear': 1208, 'blue_background': 1209, 'fur': 1210, 'bound': 1211, 'bow_bra': 1212, 'lacetrimmed_thighhighs': 1213, 'jackolantern': 1214, 'closed_umbrella': 1215, 'pointing_at_viewer': 1216, 'puffy_long_sleeves': 1217, 'holding_hair': 1218, 'sportswear': 1219, 'ninja': 1220, 'lifebuoy': 1221, 'magatama': 1222, 'bird_wings': 1223, 'asymmetrical_wings': 1224, 'heart_of_string': 1225, 'serval_print': 1226, 'looking_at_another': 1227, 'purple_gloves': 1228, 'panty_pull': 1229, 'white_neckwear': 1230, 'mismatched_legwear': 1231, 'black_pants': 1232, 'partially_colored': 1233, 'hip_vent': 1234, 'tearing_up': 1235, 'yellow_bikini': 1236, 'bangle': 1237, 'dog_tail': 1238, 'open_hoodie': 1239, 'short_eyebrows': 1240, 'single_shoe': 1241, 'apple': 1242, 'tree': 1243, 'doll': 1244, 'low_ponytail': 1245, '2014': 1246, 'white_scarf': 1247, 'doll_joints': 1248, 'plaid_shirt': 1249, 'holding_umbrella': 1250, 'orange_choker': 1251, 'grass': 1252, 'parasol': 1253, 'snake': 1254, 'breast_rest': 1255, 'open_coat': 1256, 'airplane': 1257, 'sad': 1258, 'no_pupils': 1259, 'hachimaki': 1260, 'belt_pouch': 1261, 'labcoat': 1262, 'abs': 1263, 'platform_footwear': 1264, 'red_shorts': 1265, 'red_jacket': 1266, 'green_shirt': 1267, 'unsheathing': 1268, 'american_flag_dress': 1269, 'naughty_face': 1270, 'purple_shirt': 1271, 'tentacles': 1272, 'hand_on_own_head': 1273, 'multitied_hair': 1274, 'cropped_torso': 1275, 'kita_high_school_uniform': 1276, 'axe': 1277, 'badge': 1278, 'yin_yang': 1279, 'ice_cream': 1280, 'naked_apron': 1281, 'office_lady': 1282, 'fantasy': 1283, 'serval_tail': 1284, 'neck_ring': 1285, 'object_namesake': 1286, 'mechanical_wings': 1287, 'hands_on_own_knees': 1288, 'fork': 1289, 'bursting_breasts': 1290, 'pink_background': 1291, 'millipen_medium': 1292, 'partly_fingerless_gloves': 1293, 'camouflage': 1294, 'downblouse': 1295, 'purple': 1296, 'mechanical_halo': 1297, 'unsheathed': 1298, 'bags_under_eyes': 1299, 'hibiscus': 1300, 'hat_flower': 1301, 'food_in_mouth': 1302, 'oring_top': 1303, 'thought_bubble': 1304, 'torn_thighhighs': 1305, 'pink_bikini': 1306, 'aqua_neckwear': 1307, 'zoom_layer': 1308, 'nekomata': 1309, 'furry': 1310, 'american_flag_legwear': 1311, 'm': 1312, 'tied_shirt': 1313, 'chopsticks': 1314, 'toned': 1315, 'black_choker': 1316, 'red_leotard': 1317, 'succubus': 1318, 'animal_hat': 1319, 'butterfly_hair_ornament': 1320, 'horn_ribbon': 1321, 'idol': 1322, 'breast_squeeze': 1323, 'spaghetti_strap': 1324, '2012': 1325, 'dragon': 1326, 'kariginu': 1327, 'sarong': 1328, 'doughnut': 1329, 'purple_bikini': 1330, 'green_footwear': 1331, 'yellow_dress': 1332, 'object_hug': 1333, 'invisible_chair': 1334, 'ear_piercing': 1335, 'red_hairband': 1336, 'green_bikini': 1337, 'bikini_under_clothes': 1338, 'eyewear_on_head': 1339, 'watson_cross': 1340, 'color_guide': 1341, 'white_jacket': 1342, 'blue_swimsuit': 1343, 'frilled_shirt': 1344, 'fishnet_pantyhose': 1345, 'bandaged_arm': 1346, 'nurse': 1347, 'holding_phone': 1348, 'snowflakes': 1349, 'navel_cutout': 1350, 'kicking': 1351, 'earmuffs': 1352, 'checkered_skirt': 1353, 'pink': 1354, 'rimless_eyewear': 1355, 'camera': 1356, 'front_ponytail': 1357, 'alternate_breast_size': 1358, 'blue_vest': 1359, 'tasuki': 1360, 'glint': 1361, 'water_drop': 1362, 'tail_ribbon': 1363, 'bikini_skirt': 1364, 'water_gun': 1365, 'no_legwear': 1366, 'sleepy': 1367, 'seiyuu_connection': 1368, 'garter_belt': 1369, 'fingers_together': 1370, 'androgynous': 1371, 'carrying': 1372, 'drink': 1373, 'clock': 1374, 'tubetop': 1375, 'taut_shirt': 1376, 'bonnet': 1377, 'argyle_legwear': 1378, 'w': 1379, 'straw_hat': 1380, 'smug': 1381, 'card': 1382, 'white_school_swimsuit': 1383, 'jacket_on_shoulders': 1384, 'arm_ribbon': 1385, 'light_brown_eyes': 1386, 'toenails': 1387, 'albino': 1388, 'strawberry': 1389, 'sakazuki': 1390, 'spoken_ellipsis': 1391, 'silhouette': 1392, 'yellow_legwear': 1393, 'robe': 1394, 'reaching_out': 1395, 'beachball': 1396, 'wedding_band': 1397, 'music': 1398, 'thigh_holster': 1399, 'japanese_armor': 1400, 'convenient_censoring': 1401, 'orange_shirt': 1402, 'pink_flower': 1403, 'bat': 1404, 'cow_horns': 1405, 'green_hat': 1406, 'robot': 1407, 'ankle_ribbon': 1408, 'offshoulder_shirt': 1409, 'striped_ribbon': 1410, 'pink_jacket': 1411, 'open_fly': 1412, 'tail_wagging': 1413, 'sign': 1414, 'layered_skirt': 1415, 'bloom': 1416, 'knee_pads': 1417, 'feet_out_of_frame': 1418, 'uneven_eyes': 1419, 'reflection': 1420, 'asymmetrical_bangs': 1421, 'low_wings': 1422, 'hakama_skirt': 1423, 'onepiece_tan': 1424, 'basket': 1425, 'mermaid': 1426, 'hair_twirling': 1427, 'waist': 1428, 'expressions': 1429, 'lower_body': 1430, 'hanging_breasts': 1431, 'shoes_removed': 1432, 'torn_pantyhose': 1433, 'bunny_print': 1434, 'oota_junya_style': 1435, 'bad_anatomy': 1436, 'fishnet_legwear': 1437, 'pen': 1438, 'very_short_hair': 1439, 'brown_dress': 1440, 'crown_braid': 1441, 'mini_crown': 1442, 'pumpkin': 1443, '90s': 1444, 'belly': 1445, 'loose_socks': 1446, 'plaid_scarf': 1447, 'object_on_head': 1448, 'ribbed_dress': 1449, 'muscle': 1450, 'light_particles': 1451, 'transparent': 1452, 'pun': 1453, 'gift_box': 1454, 'broom_riding': 1455, 'pink_neckwear': 1456, 'orange_bodysuit': 1457, 'black_sclera': 1458, 'aqua_nails': 1459, 'rice': 1460, 'arm_cannon': 1461, 'striped_tail': 1462, 'blue_shorts': 1463, 'hand_on_own_chin': 1464, 'evil_smile': 1465, 'hands_in_sleeves': 1466, 'blindfold': 1467, 'glowing_eye': 1468, 'realistic': 1469, 'bubble': 1470, 'dual_persona': 1471, 'cigarette': 1472, 'strap_cleavage': 1473, 'on_bed': 1474, 'food_themed_hair_ornament': 1475, 'pipe': 1476, 'open_vest': 1477, 'skirt_tug': 1478, 'japari_symbol': 1479, 'light_frown': 1480, 'alternate_headwear': 1481, 'red_hakama': 1482, 'wagashi': 1483, 'dark_persona': 1484, 'shade': 1485, 'tiger_print': 1486, 'leaning_to_the_side': 1487, 'grapes': 1488, 'leaf_on_head': 1489, 'pantylines': 1490, 'adjusting_hat': 1491, 'ringed_eyes': 1492, 'fringe': 1493, 'laughing': 1494, 'big_hair': 1495, 'mecha': 1496, 'mini_top_hat': 1497, 'leg_warmers': 1498, 'mirror': 1499, 'shoulder_armor': 1500, 'wrist_ribbon': 1501, 'halloween_costume': 1502, 'sniper_rifle': 1503, 'mature': 1504, 'orange_bow': 1505, 'black_nails': 1506, 'trial_captain': 1507, 'beamed_quavers': 1508, 'blue_scarf': 1509, 'costume': 1510, 'open_blazer': 1511, 'spoken_musical_note': 1512, 'winter_coat': 1513, 'animal_on_head': 1514, 'waitress': 1515, 'white_bodysuit': 1516, 'lance': 1517, 'nanamori_school_uniform': 1518, 'head_out_of_frame': 1519, 'motion_blur': 1520, 'print_kimono': 1521, 'hamburger': 1522, 'can': 1523, 'holding_bag': 1524, 'letter': 1525, 'black_leotard': 1526, 'black_sweater': 1527, 'torn_shirt': 1528, 'holding_microphone': 1529, 'spiked_hair': 1530, 'page_number': 1531, 'neck_ruff': 1532, 'moon': 1533, 'single_wing': 1534, 'showgirl_skirt': 1535, 'spring_onion': 1536, 'sharp_fingernails': 1537, 'kerchief': 1538, 'oversized_object': 1539, 'red_bodysuit': 1540, 'gym_leader': 1541, 'cow_bell': 1542, 'blood_on_face': 1543, 'watermelon': 1544, 'paw_gloves': 1545, 'gourd': 1546, 'vampire': 1547, 'covering_breasts': 1548, 'purple_panties': 1549, 'frilled_legwear': 1550, 'green_jacket': 1551, 'round_eyewear': 1552, 'pink_choker': 1553, 'green': 1554, 'electric_guitar': 1555, 'rapier': 1556, 'merry_christmas': 1557, 'fox_mask': 1558, 'two_tails': 1559, 'beanie': 1560, 'hair_beads': 1561, 'egyptian': 1562, 'bouncing_breasts': 1563, 'submachine_gun': 1564, 'blue_rose': 1565, 'desk': 1566, 'bubble_blowing': 1567, 'lantern': 1568, 'duel_monster': 1569, 'carrot': 1570, 'lily_flower': 1571, 'beer': 1572, 'animalization': 1573, 'yawning': 1574, 'lowleg_bikini': 1575, 'bunny_hair_ornament': 1576, 'cat_lingerie': 1577, 'topdown_bottomup': 1578, 'hooded_cloak': 1579, 'spaulders': 1580, 'green_panties': 1581, 'grey_gloves': 1582, 'hair_feathers': 1583, 'open_hand': 1584, 'blue_pants': 1585, 'wet_shirt': 1586, 'breast_press': 1587, 'collared_dress': 1588, 'kiseru': 1589, 'brown_jacket': 1590, 'heart_cutout': 1591, 'wading': 1592, 'rubber_boots': 1593, 'shackles': 1594, 'bat_print': 1595, 'pantyshot_squatting': 1596, 'sky': 1597, 'ribs': 1598, 'bloody_clothes': 1599, 'hammer_and_sickle': 1600, 'untied': 1601, 'impossible_shirt': 1602, 'bdsm': 1603, 'raccoon_ears': 1604, 'glass': 1605, 'cyborg': 1606, 'crossed_bangs': 1607, 'doujin_cover': 1608, 'orange_color': 1609, 'holding_flower': 1610, 'green_vest': 1611, 'tengugeta': 1612, 'motorcycle': 1613, 'outdoors': 1614, 'skirt_suit': 1615, 'dressing': 1616, 'ribbontrimmed_legwear': 1617, 'cross_necklace': 1618, 'chewing_gum': 1619, 'hammer': 1620, 'blue_choker': 1621, 'side_bun': 1622, 'teapot': 1623, 'blue_kimono': 1624, 'green_gloves': 1625, 'sleeves_pushed_up': 1626, 'head_rest': 1627, 'whip': 1628, 'short_over_long_sleeves': 1629, 'red_kimono': 1630, 'white_sweater': 1631, 'smoking': 1632, 'naked_shirt': 1633, 'injury': 1634, 'shoe_soles': 1635, 'heart_earrings': 1636, 'arm_strap': 1637, 'syringe': 1638, 'black_sailor_collar': 1639, 'casual_onepiece_swimsuit': 1640, 'meiji_schoolgirl_uniform': 1641, 'long_dress': 1642, 'red_lipstick': 1643, 'bad_hands': 1644, 'fairy': 1645, 'shirt_tug': 1646, 'ears_through_headwear': 1647, 'white_rose': 1648, 'smokestack': 1649, 'star_hair_ornament': 1650, 'convenient_leg': 1651, 'frilled_panties': 1652, 'bandaid_on_knee': 1653, 'necktie_between_breasts': 1654, 'wideeyed': 1655, 'lock': 1656, 'ladle': 1657, 'pov_feet': 1658, 'lacetrimmed_bra': 1659, 'vines': 1660, '2013': 1661, 'grey_sweater': 1662, 'cloud': 1663, 'blue_sweater': 1664, 'drawstring': 1665, 'head_wreath': 1666, 'hot': 1667, 'bondage': 1668, 'starry_background': 1669, 'happy_new_year': 1670, 'pencil': 1671, 'red': 1672, 'partially_submerged': 1673, 'long_ponytail': 1674, 'bamboo_broom': 1675, 'yellow': 1676, 'scissors': 1677, 'branch': 1678, 'shoe_ribbon': 1679, 'bandana': 1680, 'gap': 1681, 'bread': 1682, 'head_scarf': 1683, 'holding_gift': 1684, 'pinky_out': 1685, 'playing_with_own_hair': 1686, 'red_choker': 1687, 'white_kimono': 1688, 'laevatein': 1689, 'holding_wand': 1690, 'mouse': 1691, 'pointing_up': 1692, 'hand_on_own_thigh': 1693, 'photo': 1694, 'shikishi': 1695, 'shide': 1696, 'teardrop': 1697, 'upper_teeth': 1698, 'mechanical_arm': 1699, 'single_elbow_glove': 1700, 'armpit_peek': 1701, 'egg': 1702, 'hand_on_anothers_head': 1703, 'white_shorts': 1704, 'korean': 1705, 'offshoulder_sweater': 1706, 'torch': 1707, 'ribbontrimmed_clothes': 1708, 'furrowed_eyebrows': 1709, 'nightcap': 1710, 'lacetrimmed_panties': 1711, 'breast_suppress': 1712, 'biting': 1713, 'spoken_question_mark': 1714, 'wince': 1715, 'danmaku': 1716, 'wide_ponytail': 1717, 'fake_tail': 1718, 'black_bikini_top': 1719, 'leaf_hair_ornament': 1720, 'red_lips': 1721, 'shoe_bow': 1722, 'crisscross_halter': 1723, 'bone': 1724, 'open_toe_shoes': 1725, 'riding_crop': 1726, 'tail_bow': 1727, 'raglan_sleeves': 1728, 'frilled_bra': 1729, 'strap_pull': 1730, 'hat_feather': 1731, 'vneck': 1732, 'halftone': 1733, 'mismatched_footwear': 1734, 'mug': 1735, 'hood_up': 1736, 'red_cape': 1737, 'headphones_around_neck': 1738, 'oekaki': 1739, 'wristwatch': 1740, 'pentacle': 1741, 'penguin': 1742, 'weapon_over_shoulder': 1743, 'toe_scrunch': 1744, 'robot_joints': 1745, 'flat_color': 1746, 'side_glance': 1747, 'embellished_costume': 1748, 'couch': 1749, 'hand_on_thigh': 1750, 'eyewear_removed': 1751, 'competition_school_swimsuit': 1752, 'robot_ears': 1753, 'star_earrings': 1754, 'sleeves_past_fingers': 1755, 'binoculars': 1756, 'yellow_shirt': 1757, 'shoe_dangle': 1758, 'back_cutout': 1759, 'eyes': 1760, 'black_swimsuit': 1761, 'grey_jacket': 1762, 'purple_hat': 1763, 'pillow_hug': 1764, 'raised_fist': 1765, 'chocolate_heart': 1766, 'bell_choker': 1767, 'wine_glass': 1768, 'dimples_of_venus': 1769, 'grey_dress': 1770, 'quiver': 1771, 'spiked_bracelet': 1772, 'variations': 1773, 'torn_skirt': 1774, 'black_cat': 1775, 'singing': 1776, 'book_stack': 1777, 'unmoving_pattern': 1778, 'magic_circle': 1779, 'stitches': 1780, 'pulled_by_self': 1781, 'company_connection': 1782, 'bed': 1783, 'leggings': 1784, 'typo': 1785, 'unbuttoned_shirt': 1786, 'neon_trim': 1787, 'clothes_around_waist': 1788, 'purple_nails': 1789, 'ryouou_school_uniform': 1790, 'computer': 1791, 'flame': 1792, 'multiple_wings': 1793, 'holding_arm': 1794, 'dancing': 1795, 'oring_bikini': 1796, 'reading': 1797, 'legwear_under_shorts': 1798, 'star_choker': 1799, 'flat_ass': 1800, 'magnifying_glass': 1801, 'treble_clef': 1802, 'finger_gun': 1803, 'arm_guards': 1804, 'red_pants': 1805, 'raccoon_tail': 1806, 'quad_tails': 1807, 'spread_fingers': 1808, 'shoelaces': 1809, 'black_border': 1810, 'loincloth': 1811, 'green_nails': 1812, 'ooarai_military_uniform': 1813, 'abstract': 1814, 'sleeves_folded_up': 1815, 'strapless_leotard': 1816, 'red_sailor_collar': 1817, 'hands_on_own_head': 1818, 'sake': 1819, 'zipper_pull_tab': 1820, 'paper_fan': 1821, 'holding_hat': 1822, 'stick': 1823, 'slender_waist': 1824, 'blanket': 1825, 'saucer': 1826, 'aiguillette': 1827, 'garrison_cap': 1828, 'striped_scarf': 1829, 'antlers': 1830, 'lizard': 1831, 'karakasa_obake': 1832, 'sword_of_hisou': 1833, 'circle': 1834, 'alternate_weapon': 1835, 'yugake': 1836, 'explosive': 1837, 'grenade': 1838, 'haori': 1839, 'spread_wings': 1840, 'cross_earrings': 1841, 'hand_on_head': 1842, 'white_cape': 1843, 'hair_over_eyes': 1844, 'finger_to_face': 1845, 'impossible_leotard': 1846, 'shushing': 1847, 'plaid_neckwear': 1848, 'wrench': 1849, 'capri_pants': 1850, 'bent_knees': 1851, 'superhero': 1852, 'pearl_necklace': 1853, 'clipboard': 1854, 'trait_connection': 1855, 'hands_on_lap': 1856, 'perspective': 1857, 'leash': 1858, 'hat_ornament': 1859, 'drinking': 1860, 'ears': 1861, 'stud_earrings': 1862, 'flag': 1863, 'annoyed': 1864, 'yellow_footwear': 1865, 'leaning': 1866, 'cow_ears': 1867, 'studded_belt': 1868, 'laptop': 1869, 'white_sailor_collar': 1870, 'handheld_game_console': 1871, 'bucket': 1872, 'pumps': 1873, 'shell': 1874, 'doyagao': 1875, 'leather': 1876, 'yellow_flower': 1877, 'pizza': 1878, 'blade': 1879, 'holding_fruit': 1880, 'muscular_female': 1881, 'string_panties': 1882, 'bound_wrists': 1883, 'open_cardigan': 1884, 'confession': 1885, 'track_pants': 1886, 'shaved_ice': 1887, 'multicolored_dress': 1888, 'lamia': 1889, 'confetti': 1890, 'holding_fan': 1891, 'lens_flare': 1892, 'palms': 1893, 'condom': 1894, 'single_vertical_stripe': 1895, 'sheep_horns': 1896, 'charm_object': 1897, 'skinny': 1898, 'black_cape': 1899, 'frilled_hat': 1900, 'food_themed_clothes': 1901, 'science_fiction': 1902, 'bandaged_leg': 1903, 'kunai': 1904, 'scar_across_eye': 1905, 'earphones': 1906, 'sideways_mouth': 1907, 'crazy_eyes': 1908, 'kimono_skirt': 1909, 'cookie': 1910, 'crotchet': 1911, 'cat_hat': 1912, 'shimenawa': 1913, 'orange_hat': 1914, 'frilled_bow': 1915, 'rod_of_remorse': 1916, 'black_scarf': 1917, 'gigantic_breasts': 1918, 'white_bikini_top': 1919, 'snow': 1920, 'flight_deck': 1921, 'green_background': 1922, 'bustier': 1923, 'angel': 1924, 'hands_on_own_cheeks': 1925, 'carrot_necklace': 1926, 'soul_gem': 1927, 'plaid_bow': 1928, 'korean_clothes': 1929, 'polka_dot_bikini': 1930, 'pantyhose_pull': 1931, 'holding_drinking_glass': 1932, 'helmet_removed': 1933, 'pink_hat': 1934, 'white_bloomers': 1935, 'red_bra': 1936, 'tomato': 1937, 'mandarin_orange': 1938, 'german_clothes': 1939, 'green_kimono': 1940, 'faux_figurine': 1941, 'police': 1942, 'sparkling_eyes': 1943, 'blood_splatter': 1944, 'outside_border': 1945, 'smiley_face': 1946, 'claw_pose': 1947, 'babydoll': 1948, 'skirt_pull': 1949, 'areolae': 1950, 'pink_leotard': 1951, 'pink_rose': 1952, 'breast_lift': 1953, 'steepled_fingers': 1954, 'holding_plate': 1955, 'paintbrush': 1956, 'lookalike': 1957, 'light': 1958, 'pov_hands': 1959, 'electricity': 1960, 'bomber_jacket': 1961, 'russian': 1962, 'artbook': 1963, 'popped_collar': 1964, 'food_on_head': 1965, 'tight': 1966, 'rubbing_eyes': 1967, 'pocket_watch': 1968, 'crescent_moon_pin': 1969, 'waist_cape': 1970, 'disembodied_limb': 1971, 'baseball_bat': 1972, 'orange_dress': 1973, 'glowing_weapon': 1974, 'yellow_jacket': 1975, 'watercolor_medium': 1976, 'mole_on_breast': 1977, 'military_vehicle': 1978, 'grey_skin': 1979, 'black_bodysuit': 1980, 'wet_hair': 1981, 'blueframed_eyewear': 1982, 'diamond_shape': 1983, 'hair_tucking': 1984, 'hair_pulled_back': 1985, 'unfinished': 1986, 'white_pants': 1987, 'thinking': 1988, 'sanpaku': 1989, 'pink_shorts': 1990, 'duffel_bag': 1991, 'fox_girl': 1992, 'youkai': 1993, 'aiming': 1994, 'holding_hands': 1995, 'orange': 1996, 'purple_background': 1997, 'hand_gesture': 1998, 'digital_media_player': 1999, 'raised_eyebrow': 2000, 'monocle': 2001, 'pleated_dress': 2002, 'fake_horns': 2003, 'sexually_suggestive': 2004, 'machine_gun': 2005, 'heart_print': 2006, 'halfclosed_eye': 2007, 'maple_leaf': 2008, 'load_bearing_equipment': 2009, 'fundoshi': 2010, 'trefoil': 2011, 'ainu_clothes': 2012, 'zero_suit': 2013, 'oring_legwear': 2014, 'propeller': 2015, 'rabbit_house_uniform': 2016, 'holding_tray': 2017, 'emphasis_lines': 2018, 'virgin_killer_outfit': 2019, 'birthday': 2020, 'bride': 2021, 'nightgown': 2022, 'dripping': 2023, 'planted_weapon': 2024, 'side_cutout': 2025, 'large_bow': 2026, 'cat_cutout': 2027, 'bikini_bottom': 2028, 'forehead_jewel': 2029, 'visor': 2030, 'black_belt': 2031, 'face_mask': 2032, 'grabbing': 2033, 'multiple_monochrome': 2034, 'gyaru': 2035, 'damaged': 2036, 'zzz': 2037, 'wardrobe_malfunction': 2038, 'facing_away': 2039, 'highlights': 2040, 'bicycle': 2041, 'owl': 2042, 'rock': 2043, 'dirndl': 2044, 'police_uniform': 2045, 'torn_dress': 2046, 'flag_print': 2047, 'ruby_stone': 2048, 'long_coat': 2049, 'ankle_cuffs': 2050, 'animal_on_shoulder': 2051, 'electric_fan': 2052, 'shopping_bag': 2053, 'pocky_day': 2054, 'dpad': 2055, 'amputee': 2056, 'television': 2057, 'cow_tail': 2058, 'jiangshi': 2059, 'shoulder_cutout': 2060, 'namesake': 2061, 'oneeyed': 2062, 'shimakaze_kantai_collection_cosplay': 2063, 'scroll': 2064, 'self_shot': 2065, 'gym_shirt': 2066, 'thumbs_up': 2067, 'oring_bottom': 2068, 'needle': 2069, 'gears': 2070, 'ghost_tail': 2071, 'star_sky': 2072, 'habit': 2073, 'nun': 2074, 'purple_sailor_collar': 2075, 'pearl': 2076, 'hexagram': 2077, 'controller': 2078, 'scissor_blade': 2079, 'tail_bell': 2080, 'microphone_stand': 2081, 'cat_girl': 2082, 'monkey_tail': 2083, 'heavy_breathing': 2084, 'verticalstriped_skirt': 2085, '0_0': 2086, 'no_legs': 2087, 'mask_removed': 2088, 'frog': 2089, 'constricted_pupils': 2090, 'pincenez': 2091, 'water_bottle': 2092, 'scope': 2093, 'bandaid_on_nose': 2094, 'purple_neckwear': 2095, 'turnaround': 2096, 'ribbontrimmed_collar': 2097, 'hair_tousle': 2098, 'spoken_blush': 2099, 'frilled_collar': 2100, 'hands_on_thighs': 2101, 'elbow_pads': 2102, 'skates': 2103, 'heart_necklace': 2104, 'wide_stance': 2105, 'undershirt': 2106, 'bird_tail': 2107, 'finger_on_trigger': 2108, 'trident': 2109, 'enpera': 2110, 'brown_hat': 2111, 'cat_hair_ornament': 2112, 'mask_on_head': 2113, 'torii': 2114, 'error': 2115, 'crotch_plate': 2116, 'shoulder_blades': 2117, 'striped_skirt': 2118, 'pinstripe_pattern': 2119, 'incoming_gift': 2120, 'polka_dot_bow': 2121, 'ribbed_bodysuit': 2122, 'snowing': 2123, 'sleeveless_kimono': 2124, 'offshoulder_dress': 2125, 'bandaid_on_face': 2126, 'tri_tails': 2127, 'dragon_wings': 2128, 'liquid_hair': 2129, 'anzio_school_uniform': 2130, 'metal_boots': 2131, 'excalibur': 2132, 'shell_casing': 2133, 'holding_animal': 2134, 'whiskers': 2135, 'bunching_hair': 2136, 'gradient_eyes': 2137, 'licking_lips': 2138, 'aiming_at_viewer': 2139, 'cross_print': 2140, 'green_leotard': 2141, 'peeking_out': 2142, 'scared': 2143, 'lace_trim': 2144, 'skirt_removed': 2145, 'beer_can': 2146, 'half_gloves': 2147, 'baozi': 2148, 'harem_outfit': 2149, 'cat_ear_panties': 2150, 'partially_visible_vulva': 2151, 'pov_ass': 2152, 'multicolored_wings': 2153, 'chemise': 2154, 'yellow_background': 2155, 'poking': 2156, 'onigiri': 2157, 'pointy_hair': 2158, 'mamkute': 2159, 'plantar_flexion': 2160, 'shouting': 2161, 'print_gloves': 2162, 'closed_fan': 2163, 'red_coat': 2164, 'policewoman': 2165, 'alternate_legwear': 2166, 'horizontal_stripes': 2167, 'no_wings': 2168, 'spoken_exclamation_mark': 2169, 'purple_skin': 2170, 'lacetrimmed_sleeves': 2171, 'coffee': 2172, 'areola_slip': 2173, 'horn_ornament': 2174, 'mochi': 2175, 'notebook': 2176, 'tiger_tail': 2177, 'frilled_swimsuit': 2178, 'holding_knife': 2179, 'nontraditional_school_swimsuit': 2180, 'planted_umbrella': 2181, 'drop_shadow': 2182, 'trumpet': 2183, 'purple_choker': 2184, 'spider_lily': 2185, 'elite_four': 2186, 'framed_breasts': 2187, 'seashell': 2188, 'scepter': 2189, 'brown_bow': 2190, 'tree_of_life': 2191, 'borrowed_garments': 2192, 'roman_numerals': 2193, 'handcuffs': 2194, 'pantyshot_lying': 2195, 'palm_tree': 2196, 'halberd': 2197, 'furtrimmed_gloves': 2198, 'uranohoshi_school_uniform': 2199, 'brown_coat': 2200, 'playing_instrument': 2201, 'lowleg_panties': 2202, 'tooth': 2203, 'candle': 2204, 'yandere': 2205, 'naval_uniform': 2206, 'padlock': 2207, 'between_thighs': 2208, 'polka_dot_background': 2209, 'rainbow_order': 2210, 'lavender_eyes': 2211, 'holding_broom': 2212, 'multiple_persona': 2213, 'magazine_weapon': 2214, 'heart_ahoge': 2215, 'orb': 2216, 'club': 2217, 'limited_palette': 2218, 'between_fingers': 2219, 'drunk': 2220, 'huge_ass': 2221, 'red_string': 2222, 'heartshaped_box': 2223, 'strapless_bra': 2224, 'cloud_print': 2225, 'brown_belt': 2226, 'crotch': 2227, 'anniversary': 2228, 'bag_charm': 2229, 'print_bow': 2230, 'finger_to_chin': 2231, 'bullet': 2232, 'pink_kimono': 2233, 'xd': 2234, 'evil_grin': 2235, 'vial': 2236, 'stuffed_cat': 2237, 'furisode': 2238, 'polos_crown': 2239, 'multicolored_skirt': 2240, 'falling': 2241, 'alien': 2242, 'orange_neckwear': 2243, 'high_kick': 2244, 'seamed_legwear': 2245, 'hamster': 2246, 'beltbra': 2247, 'afterimage': 2248, 'magical_musket': 2249, 'puppet': 2250, 'drill': 2251, 'reclining': 2252, 'starpiece_memories': 2253, 'red_vest': 2254, 'fetal_position': 2255, 'the_pose': 2256, 'striped_dress': 2257, 'c': 2258, 'nape': 2259, 'business_suit': 2260, 'thigh_ribbon': 2261, 'tube_dress': 2262, 'panda': 2263, 'track_suit': 2264, 'battle_rifle': 2265, 'tea': 2266, 'flipflops': 2267, 'puffy_detached_sleeves': 2268, 'aestus_estus': 2269, 'world_war_ii': 2270, 'leg_ribbon': 2271, 'baggy_pants': 2272, 'tapir_tail': 2273, 'cherry': 2274, 'multicolored_bodysuit': 2275, 'bunny_hood': 2276, 'money': 2277, 'cow_girl': 2278, 'hat_tip': 2279, 'energy_gun': 2280, 'adjusting_swimsuit': 2281, 'bra_through_clothes': 2282, 'bunny_pose': 2283, 'rainbow_hair': 2284, 'elbow_rest': 2285, 'pink_lipstick': 2286, 'mascara': 2287, 'old_school_swimsuit': 2288, 'overskirt': 2289, 'wizard_hat': 2290, 'rose_petals': 2291, 'planted_sword': 2292, 'sitting_on_object': 2293, 'microdress': 2294, 'green_skin': 2295, 'pointing_at_self': 2296, 'drumsticks': 2297, 'satchel': 2298, 'latex': 2299, 'gas_mask': 2300, '2koma': 2301, 'whistle': 2302, 'prayer_beads': 2303, 'petite': 2304, 'multicolored_background': 2305, 'highleg_swimsuit': 2306, 'split': 2307, 'hose': 2308, 'novel_cover': 2309, 'holding_pipe': 2310, 'muted_color': 2311, 'checkered_floor': 2312, 'talking': 2313, 'emerald': 2314, 'jacket_removed': 2315, 'sunlight': 2316, 'punching': 2317, 'megaphone': 2318, 'santa_boots': 2319, 'ankle_socks': 2320, 'plastic_bag': 2321, 'partially_undressed': 2322, 'print_panties': 2323, 'holding_panties': 2324, 'wolf': 2325, 'hand_on_anothers_face': 2326, '_o': 2327, 'military_jacket': 2328, 'coin': 2329, 'hakurei_reimu_cosplay': 2330, 'ornament': 2331, 'bad_feet': 2332, 'spandex': 2333, 'cow_print': 2334, 'hand_on_own_stomach': 2335, 'tie_clip': 2336, 'naked_towel': 2337, 'on_floor': 2338, 'thorns': 2339, 'purple_bra': 2340, 'bloody_weapon': 2341, 'starfish': 2342, 'pinching': 2343, 'rod': 2344, 'hairpods': 2345, 'yellow_rose': 2346, 'white_choker': 2347, 'holding_pizza': 2348, 'pointer': 2349, 'purple_leotard': 2350, 'holding_paper': 2351, 'school_desk': 2352, 'kanzashi': 2353, 'covering_ass': 2354, 'dress_tug': 2355, 'forehead_protector': 2356, 'grey_hat': 2357, 'adapted_uniform': 2358, 'open_collar': 2359, 'sorcerers_sutra_scroll': 2360, 'brown_shorts': 2361, 'holding_bottle': 2362, 'v_over_eye': 2363, 'bookbag': 2364, 'speed_lines': 2365, 'action': 2366, 'sailor_shirt': 2367, 'revolver': 2368, 'perky_breasts': 2369, 'chromatic_aberration': 2370, 'black_coat': 2371, 'autumn_leaves': 2372, 'squid': 2373, 'chick': 2374, 'unitard': 2375, 'straddling': 2376, 'brown_background': 2377, 'cane': 2378, 'rice_bowl': 2379, 'frilled_kimono': 2380, 'hand_to_head': 2381, 'holding_skirt': 2382, 'stylus': 2383, 'window': 2384, 'uchiwa': 2385, 'yellow_panties': 2386, 'bloody_hands': 2387, 'hand_on_lap': 2388, 'plaid_dress': 2389, 'lunatic_gun': 2390, 'thong_leotard': 2391, 'puckered_lips': 2392, 'faux_traditional_media': 2393, 'pink_apron': 2394, 'crossed_ankles': 2395, 'earbuds': 2396, 'yellow_shorts': 2397, 'no_mouth': 2398, 'fox_shadow_puppet': 2399, 'pirate_hat': 2400, 'impossible_bodysuit': 2401, 'panty_peek': 2402, 'kindergarten_uniform': 2403, 'paper_bag': 2404, 'green_choker': 2405, 'doll_hug': 2406, 'topknot': 2407, 'holding_camera': 2408, 'hand_on_hilt': 2409, 'indoors': 2410, 'budget_sarashi': 2411, 'tsundere': 2412, 'clog_sandals': 2413, 'navel_piercing': 2414, 'censored': 2415, 'blue_bodysuit': 2416, 'balloon': 2417, 'suggestive_fluid': 2418, 'volleyball_uniform': 2419, 'holding_needle': 2420, 'oldschool': 2421, 'sailor': 2422, 'sheer_legwear': 2423, 'baton': 2424, 'polka_dot_panties': 2425, 'disembodied_head': 2426, 'skull_hair_ornament': 2427, 'fusion': 2428, 'ribbontrimmed_skirt': 2429, 'spinning': 2430, 'purple_umbrella': 2431, '39': 2432, 'light_blue_hair': 2433, 'ammunition': 2434, 'paddle': 2435, 'ink_blender': 2436, 'drawing': 2437, 'rainbow_gradient': 2438, 'eyeliner': 2439, 'overrim_eyewear': 2440, 'green_sailor_collar': 2441, 'knees_touching': 2442, 'obentou': 2443, 'fourleaf_clover': 2444, 'clover': 2445, 'covered_eyes': 2446, 'finger_licking': 2447, 'slim_waist': 2448, 'red_sweater': 2449, 'pink_sweater': 2450, 'clothes_lift': 2451, 'thank_you': 2452, 'flexible': 2453, 'twisted_torso': 2454, 'kogal': 2455, 'slingshot_swimsuit': 2456, 'frame': 2457, 'cat_paws': 2458, 'bikini_pull': 2459, 'noodles': 2460, 'adjusting_legwear': 2461, 'cheese': 2462, 'cooking': 2463, 'belly_peek': 2464, 'yunomi': 2465, 'pantyhose_under_shorts': 2466, 'power_symbol': 2467, 'knees_together': 2468, 'carried_breast_rest': 2469, 'police_hat': 2470, 'finger_to_cheek': 2471, 'black_skin': 2472, 'multicolored_nail_polish': 2473, 'firearm': 2474, 'covering_face': 2475, 'claw_weapon': 2476, 'sailor_bikini': 2477, 'coffee_cup': 2478, 'burnt_clothes': 2479, 'tied_up': 2480, 'undersized_clothes': 2481, 'meat': 2482, 'open_kimono': 2483, 'bright_background': 2484, 'employee_uniform': 2485, 'candy_apple': 2486, 'cushion': 2487, 'full_moon': 2488, 'liquid': 2489, 'sushi': 2490, 'setsubun': 2491, 'stool': 2492, 'open_eyes': 2493, 'butterfly_wings': 2494, 'playing_games': 2495, 'zouri': 2496, 'open_shorts': 2497, 'thighlet': 2498, 'holding_shield': 2499, 'layered_bikini': 2500, 'witch_madoka_magica': 2501, 'fins': 2502, 'hand_on_anothers_cheek': 2503, 'ankh': 2504, 'hikarizaka_private_high_school_uniform': 2505, 'map': 2506, 'holding_spear': 2507, 'trick_or_treat': 2508, 'tight_pants': 2509, 'large_wings': 2510, 'tankini': 2511, '3d': 2512, 'letterman_jacket': 2513, 'ankle_laceup': 2514, 'no_humans': 2515, 'tanuki': 2516, 'grey_neckwear': 2517, 'arabian_clothes': 2518, 'recorder': 2519, 'slim_legs': 2520, 'red_cross': 2521, 'test_tube': 2522, 'naked_coat': 2523, 'donation_box': 2524, 'mushroom': 2525, 'strappy_heels': 2526, 'egyptian_clothes': 2527, 'sphere': 2528, 'pinkframed_eyewear': 2529, 'yellow_choker': 2530, 'brown_shirt': 2531, 'blending': 2532, 'macaron': 2533, 'shrimp': 2534, 'holding_pen': 2535, 'kourindou_tengu_costume': 2536, 'brand_name_imitation': 2537, 'tachie': 2538, 'holding_box': 2539, 'potato': 2540, 'bolt_action': 2541, 'grey_shorts': 2542, 'curtsey': 2543, 'bear': 2544, 'ballerina': 2545, 'sling': 2546, 'pumpkin_hat': 2547, 'st_glorianas_school_uniform': 2548, 'reaching': 2549, 'yellow_scarf': 2550, 'suction_cups': 2551, 'no_shirt': 2552, 'roller_skates': 2553, 'middle_finger': 2554, 'streaming_tears': 2555, 'hands_in_hair': 2556, 'black_blouse': 2557, 'romaji': 2558, 'hand_on_own_arm': 2559, 'poncho': 2560, 'heckler__koch': 2561, 'pervert': 2562, 'female_pervert': 2563, 'fox': 2564, 'white_scrunchie': 2565, 'lacetrimmed_dress': 2566, 'prehensile_hair': 2567, 'gstring': 2568, 'brown_scarf': 2569, 'firing': 2570, 'worktool': 2571, 'knight': 2572, 'jumpsuit': 2573, 'bow_bikini': 2574, 'sheep': 2575, 'holding_bow_weapon': 2576, 'no_eyewear': 2577, 'space': 2578, 'purple_flower': 2579, 'anime_coloring': 2580, 'tree_branch': 2581, 'torn_sleeves': 2582, 'gatling_gun': 2583, 'white_belt': 2584, 'brown_ribbon': 2585, 'writing': 2586, 'wakizashi': 2587, 'harpy': 2588, 'ribbontrimmed_headwear': 2589, 'midriff_peek': 2590, 'hand_puppet': 2591, 'leg_armor': 2592, 'game_controller': 2593, 'messenger_bag': 2594, 'insect_girl': 2595, 'staff_music': 2596, 'thong_bikini': 2597, 'panty_lift': 2598, 'snowman': 2599, 'wine': 2600, 'pot': 2601, 'sitting_on_person': 2602, 'holding_stuffed_animal': 2603, 'against_wall': 2604, 'rain': 2605, 'gold': 2606, 'torn_bodysuit': 2607, 'pink_bodysuit': 2608, 'soccer_uniform': 2609, 'splashing': 2610, 'watercraft': 2611, 'star_of_david': 2612, 'layered_clothing': 2613, 'kuromorimine_school_uniform': 2614, 'wooden_floor': 2615, 'tape': 2616, 'plaid_panties': 2617, 'triangle': 2618, 'yellow_nails': 2619, 'comparison': 2620, 'dark_elf': 2621, 'verticalstriped_dress': 2622, 'light_blush': 2623, 'twintails_day': 2624, 'brown_sweater': 2625, 'facial_tattoo': 2626, 'halftone_background': 2627, 'hauchiwa': 2628, 'print_skirt': 2629, 'alpaca_ears': 2630, 'alola_form': 2631, 'purple_bodysuit': 2632, 'purple_wings': 2633, 'white_coat': 2634, 'ray_gun': 2635, 'koubeya_uniform': 2636, 'lamp': 2637, 'yellow_wings': 2638, 'hand_between_breasts': 2639, 'boobplate': 2640, 'holding_letter': 2641, 'ribbontrimmed_dress': 2642, 'floppy_ears': 2643, 'gathers': 2644, 'tsab_ground_military_uniform': 2645, 'ebisu_mythology': 2646, 'yebisu': 2647, 'dancer': 2648, 'bodypaint': 2649, 'happy_valentine': 2650, 'blue_headband': 2651, 'red_wings': 2652, 'nejiri_hachimaki': 2653, 'lion_ears': 2654, 'strapless_bikini': 2655, 'trick_or_treatment': 2656, 'ketchup': 2657, 'lettuce': 2658, 'multiple_earrings': 2659, 'valkyrie': 2660, 'photo_object': 2661, 'solid_eyes': 2662, 'clothes_grab': 2663, 'sandwich': 2664, 'hexagon': 2665, 'multiple_belts': 2666, 'bamboo': 2667, 'samurai': 2668, 'on_ground': 2669, 'shirt_pull': 2670, 'american_flag': 2671, 'round_image': 2672, 'clothed_animal': 2673, 'antique_firearm': 2674, 'artist_selfinsert': 2675, 'sleeves_past_elbows': 2676, 'poke_ball_theme': 2677, 'gym_shorts': 2678, 'panties_removed': 2679, 'holding_fork': 2680, 'spoken_anger_vein': 2681, 'holding_chopsticks': 2682, 'feeding': 2683, 'wa_maid': 2684, 'dango': 2685, 'keychain': 2686, 'dark': 2687, 'hip_bones': 2688, 'sweater_around_waist': 2689, 'polka_dot_swimsuit': 2690, 'denim_skirt': 2691, 'milk': 2692, 'cat_hood': 2693, 'floating_object': 2694, 'open_hands': 2695, 'seductive_smile': 2696, 'ringlets': 2697, 'princess': 2698, 'slice_of_cake': 2699, 'spider_web_print': 2700, 'weighing_scale': 2701, 'checkered_scarf': 2702, 'screw': 2703, 'pillarboxed': 2704, 'how_to': 2705, 'noh_mask': 2706, 'aura': 2707, 'weibo_logo': 2708, 'weibo_username': 2709, 'soviet': 2710, 'leaf_print': 2711, 'soaking_feet': 2712, 'cube': 2713, 'green_shorts': 2714, 'playing_card': 2715, 'torn_cape': 2716, 'bead_necklace': 2717, 'verticalstriped_bikini': 2718, 'partially_unbuttoned': 2719, 'acoustic_guitar': 2720, 'blue_hairband': 2721, 'aqua_footwear': 2722, 'aqua_dress': 2723, 'burn_scar': 2724, 'colored_stripes': 2725, 'kote': 2726, 'barefoot_sandals': 2727, 'rudder_shoes': 2728, 'spiked_knuckles': 2729, 'candy_cane': 2730, 'frilled_gloves': 2731, 'suspender_shorts': 2732, 'adjusting_shoe': 2733, 'pig': 2734, 'school_briefcase': 2735, 'yes': 2736, 'tank': 2737, 'caterpillar_tracks': 2738, 'long_tongue': 2739, 'colorful': 2740, 'day': 2741, 'jaguar_ears': 2742, 'striped_bra': 2743, 'ammunition_belt': 2744, 'monkey_ears': 2745, 'furtrimmed_boots': 2746, 'sleeveless_jacket': 2747, 'maid_cap': 2748, 'ribbed_legwear': 2749, 'book_hug': 2750, 'texture': 2751, 'midair': 2752, 'untied_bikini': 2753, 'tengu_mask': 2754, 'detached_pants': 2755, 'antimateriel_rifle': 2756, 'holding_spoon': 2757, 'yellow_leotard': 2758, 'background_text': 2759, 'horned_headwear': 2760, 'purple_jacket': 2761, 'puddle': 2762, 'bandage_over_one_eye': 2763, 'spade_hair_ornament': 2764, 'circle_name': 2765, 'fume': 2766, 'wire': 2767, 'nosebleed': 2768, 'deviantart_username': 2769, 'blue_sky': 2770, 'tablet': 2771, 'paint_splatter': 2772, 'frilled_hairband': 2773, 'summer': 2774, 'plectrum': 2775, 'medal': 2776, 'detached_wings': 2777, 'pudding': 2778, 'sleeveless_hoodie': 2779, 'line_shading': 2780, 'lemon': 2781, 'magatama_earrings': 2782, 'energy': 2783, 'deva_battle_suit': 2784, 'gorget': 2785, 'grey_ribbon': 2786, 'analog_clock': 2787, 'beamed_semiquavers': 2788, 'hands_on_headwear': 2789, 'medium_skirt': 2790, 'sausage': 2791, 'under_covers': 2792, 'no_gloves': 2793, 'white_pupils': 2794, 'single_boot': 2795, 'carrying_over_shoulder': 2796, 'fulllength_zipper': 2797, 'partially_unzipped': 2798, 'striped_hoodie': 2799, 'naginata': 2800, 'chicken': 2801, 'sweatband': 2802, 'bodystocking': 2803, 'staring': 2804, 'mixing_bowl': 2805, 'eggshell': 2806, 'daisy': 2807, 'white_eyes': 2808, 'legs_folded': 2809, 'holding_clothes': 2810, 'wrist_scrunchie': 2811, 'mechanical_legs': 2812, 'double_m': 2813, 'pirate': 2814, 'leopard_print': 2815, 'purple_shorts': 2816, 'cuts': 2817, 'crime_prevention_buzzer': 2818, 'squirrel_tail': 2819, 'squirrel_ears': 2820, 'no_tail': 2821, 'bench': 2822, 'suitcase': 2823, 'kiyosumi_school_uniform': 2824, 'applying_makeup': 2825, 'kitsune': 2826, 'keizoku_military_uniform': 2827, 'facial_hair': 2828, 'sketchbook': 2829, 'crossbow': 2830, 'violin': 2831, 'condom_in_mouth': 2832, 'game_console': 2833, 'blue_wings': 2834, 'nervous': 2835, 'red_swimsuit': 2836, 'belt_collar': 2837, 'multiple_swords': 2838, 'crowbar': 2839, 'bare_hips': 2840, 'multicolored_legwear': 2841, 'banana': 2842, 'hatchet': 2843, 'dark_orb_madoka_magica': 2844, 'purple_vest': 2845, 'red_bikini_top': 2846, 'ice_cream_cone': 2847, 'holding_mask': 2848, 'bikini_tan': 2849, 'yellow_bodysuit': 2850, 'pink_hairband': 2851, 'toilet': 2852, 'saliva_trail': 2853, 'feathertrimmed_sleeves': 2854, 'button_eyes': 2855, 'chain_necklace': 2856, 'orange_footwear': 2857, 'weapon_on_back': 2858, 'brush': 2859, 'tail_ornament': 2860, 'kuromorimine_military_uniform': 2861, 'fashion': 2862, 'numbers_uniform': 2863, 'numbers_nanoha': 2864, 'red_belt': 2865, 'potted_plant': 2866, 'soldier': 2867, 'ankle_wraps': 2868, 'obijime': 2869, 'mismatched_gloves': 2870, 'soccer_ball': 2871, 'car': 2872, 'mini_wings': 2873, 'what': 2874, 'fallen_down': 2875, 'belt_boots': 2876, 'combat_boots': 2877, 'sake_bottle': 2878, 'album_cover': 2879, 'puffy_pants': 2880, 'no_blindfold': 2881, 'beer_mug': 2882, 'waking_up': 2883, 'fanny_pack': 2884, 'keizoku_school_uniform': 2885, '9': 2886, 'studded_bracelet': 2887, 'viewfinder': 2888, 'torii_hair_ornament': 2889, 'energy_ball': 2890, 'ganbaruzoi': 2891, 'mukyuu': 2892, 'duffel_coat': 2893, 'gae_bolg': 2894, 'horn_bow': 2895, 'dangerous_beast': 2896, 'long_pointy_ears': 2897, 'bullpup': 2898, 'angora_rabbit': 2899, 'white_outline': 2900, 'balancing': 2901, 'cartridge': 2902, 'o3o': 2903, 'curtains': 2904, 'spirits': 2905, 'granblue_fantasy_style': 2906, 'cursor': 2907, 'spoken_squiggle': 2908, 'fur_coat': 2909, 'incoming_kiss': 2910, 'convention_greeting': 2911, 'broken': 2912, 'skeleton': 2913, 'stabbed': 2914, 'blue_bikini_top': 2915, 'chocolate_bar': 2916, 'patreon_logo': 2917, 'hands_on_feet': 2918, 'chaps': 2919, 'harem_pants': 2920, 'seethrough_silhouette': 2921, 'orange_legwear': 2922, 'cupping_glass': 2923, 'cardigan_vest': 2924, 'groin_tendon': 2925, 'pink_pants': 2926, 'horned_helmet': 2927, 'lion_tail': 2928, 'white_sleeves': 2929, 'green_bra': 2930, 'french_fries': 2931, 'cheek_poking': 2932, 'moemon': 2933, 'bra_strap': 2934, 'black_background': 2935, 'teasing': 2936, 'slashing': 2937, 'space_craft': 2938, 'polka_dot_hat': 2939, 'sample': 2940, 'seal': 2941, 'aqua': 2942, 'wedgie': 2943, 'hand_over_own_mouth': 2944, 'spoken_interrobang': 2945, 'drinking_cup': 2946, 'food_print': 2947, 'stomach_growling': 2948, 'negligee': 2949, 'unicorn': 2950, 'symbol_in_eye': 2951, 'textless': 2952, 'nail_art': 2953, 'pov_feeding': 2954, 'breasts_outside': 2955, 'ripples': 2956, 'orange_shorts': 2957, 'board_game': 2958, 'shiny_pokemon': 2959, 'makizushi': 2960, '4koma': 2961, 'iphone': 2962, 'strap_lift': 2963, 'snot': 2964, 'cat_on_head': 2965, 'thread': 2966, 'otter_ears': 2967, 'otter_tail': 2968, 'blank_stare': 2969, 'cupcake': 2970, 'hair_scarf': 2971, 'hands_on_own_thighs': 2972, 'turtle_shell': 2973, 'striped_jacket': 2974, 'scarf_over_mouth': 2975, 'orange_ribbon': 2976, 'asymmetrical_sleeves': 2977, 'sidetie_bottom': 2978, 'fat': 2979, 'come_hither': 2980, 'open_pants': 2981, 'hand_on_leg': 2982, 'taut_dress': 2983, 'no_nipples': 2984, 'shell_bikini': 2985, 'tail_ring': 2986, 'gills': 2987, 'fur_boots': 2988, 'night': 2989, 'night_sky': 2990, 'baseball': 2991, 'hooded_coat': 2992, 'chips': 2993, 'extra_eyes': 2994, 'sigh': 2995, 'production_art': 2996, 'yellow_sweater': 2997, 'planet': 2998, 'happy_halloween': 2999, 'cup_ramen': 3000, 'leather_jacket': 3001, 'female_service_cap': 3002, 'kouryou_academy_uniform': 3003, 'single_sock': 3004, 'towel_around_neck': 3005, 'slice_of_pizza': 3006, 'cheese_trail': 3007, 'fingers_to_mouth': 3008, 'battle': 3009, 'battle_axe': 3010, 'holding_card': 3011, 'bokura_wa_ima_no_naka_de': 3012, 'spiked_collar': 3013, 'arms_between_legs': 3014, 'starry_sky_print': 3015, 'rainbow': 3016, 'different_shadow': 3017, 'shy': 3018, 'backtoback': 3019, 'sore_wa_bokutachi_no_kiseki': 3020, 'hydrangea': 3021, 'thighhighs_pull': 3022, 'white_nails': 3023, 'teenage': 3024, 'neck': 3025, 'fading': 3026, 'bad_proportions': 3027, 'windsock': 3028, 'flask': 3029, 'glowing_sword': 3030, 'cream': 3031, 'ritual_baton': 3032, 'throne': 3033, 'heart_lock_kantai_collection': 3034, 'heartshaped_lock': 3035, 'reindeer_costume': 3036, 'multicolored_bikini': 3037, 'self_fondle': 3038, 'saber_weapon': 3039, 'red_collar': 3040, 'feather_trim': 3041, 'furtrimmed_jacket': 3042, 'ear_blush': 3043, 'yesno_pillow': 3044, 'putting_on_shoes': 3045, 'sidesaddle': 3046, 'minihakkero': 3047, 'apron_lift': 3048, 'holding_dress': 3049, 'frilled_pillow': 3050, 'kiss': 3051, 'usb': 3052, 'pillar': 3053, 'lefthanded': 3054, 'striped_sleeves': 3055, 'furtrimmed_capelet': 3056, 'bath_yukata': 3057, 'paint': 3058, 'oversized_shirt': 3059, 'sode': 3060, 'ears_down': 3061, 'horse': 3062, '2001': 3063, 'ear_wiggle': 3064, 'knees_apart_feet_together': 3065, 'wiping_tears': 3066, 'shuriken': 3067, 'acorn': 3068, 'knees': 3069, 'sleepwear': 3070, 'ballet': 3071, 'npc': 3072, 'strawberry_shortcake': 3073, 'dowsing_rod': 3074, 'enemy_vessel_zhan_jian_shao_nyu': 3075, 'sheep_costume': 3076, 'single_pantsleg': 3077, 'underwater': 3078, 'diadem': 3079, 'dougi': 3080, 'baby': 3081, 'butterfly_on_hand': 3082, 'pale_color': 3083, '2011': 3084, 'racket': 3085, 'tennis_racket': 3086, 'holding_ball': 3087, 'deep_skin': 3088, 'greyframed_eyewear': 3089, 'cheek_pinching': 3090, 'hooded_track_jacket': 3091, 'submerged': 3092, 'wooden_bucket': 3093, 'pastry_bag': 3094, 'zabuton': 3095, 'spoon_in_mouth': 3096, 'gold_chain': 3097, 'moon_ornament': 3098, 'hand_on_own_shoulder': 3099, 'al_bhed_eyes': 3100, 'dirty_clothes': 3101, 'pregnant': 3102, 'holding_instrument': 3103, 'tailcoat': 3104, 'lightning_bolt': 3105, 'stethoscope': 3106, 'animal_hug': 3107, 'single_gauntlet': 3108, 'purple_lipstick': 3109, 'underboob_cutout': 3110, 'number_tattoo': 3111, 'brown_neckwear': 3112, 'yellow_kimono': 3113, 'backseamed_legwear': 3114, 'nervous_smile': 3115, 'heart_in_mouth': 3116, 'clothes_hanger': 3117, 'lecole_des_cinq_lumieres_school_uniform': 3118, 'shovel': 3119, 'no_feet': 3120, 'harbin': 3121, 'chibi_inset': 3122, 'grey_bikini': 3123, 'shading_eyes': 3124, 'arm_grab': 3125, 'holding_eyewear': 3126, 'fingers': 3127, 'messy': 3128, 'grey_panties': 3129, 'beige_background': 3130, 'door': 3131, 'youre_doing_it_wrong': 3132, 'puffy_shorts': 3133, 'union_jack': 3134, 'dog_collar': 3135, 'rocket_launcher': 3136, 'national_shin_ooshima_school_uniform': 3137, 'bodice': 3138, 'shako_cap': 3139, 'behind_back': 3140, 'nanodesu_phrase': 3141, 'yellow_bra': 3142, 'pants_rolled_up': 3143, 'shiba_inu': 3144, 'sparrow': 3145, 'open_skirt': 3146, 'cross_hair_ornament': 3147, 'diagonal_stripes': 3148, 'red_skin': 3149, 'yellow_sclera': 3150, 'red_hood': 3151, 'spilling': 3152, 'bird_on_hand': 3153, 'blood_stain': 3154, 'armpit_cutout': 3155, 'reverse_trap': 3156, 'love_letter': 3157, 'breast_conscious': 3158, 'rectangular_mouth': 3159, 'print_shirt': 3160, 'tonfa': 3161, 'saury': 3162, 'rating': 3163, 'kyuubi': 3164, 'wrist_guards': 3165, 'talons': 3166, 'diving_mask_on_head': 3167, 'bee_girl': 3168, 'flower_earrings': 3169, 'dakimakura': 3170, 'self_hug': 3171, 'ad': 3172, 'hagoromo': 3173, 'blank_eyes': 3174, 'pastry': 3175, 'loose_thighhigh': 3176, 'sepia': 3177, 'striped_swimsuit': 3178, 'wine_bottle': 3179, 'happi': 3180, 'sitting_on_head': 3181, 'dinosaur': 3182, 'scowl': 3183, 'leaf_umbrella': 3184, 'hikimayu': 3185, 'pasties': 3186, 'arm_belt': 3187, 'grimoire': 3188, 'koi_dance': 3189, 'cage': 3190, 'front_zipper_swimsuit': 3191, 'winged_hat': 3192, 'pink_skin': 3193, 'tiles': 3194, 'tile_floor': 3195, 'print_bikini': 3196, 'orange_bikini': 3197, 'doujinshi': 3198, 'tiger': 3199, 'looking_at_phone': 3200, 'crab': 3201, 'origami': 3202, 'red_umbrella': 3203, 'kanji': 3204, 'yellow_hat': 3205, '80s': 3206, 'size_difference': 3207, 'bat_hair_ornament': 3208, 'hair_over_breasts': 3209, 'feet_together': 3210, 'curled_horns': 3211, 'condom_wrapper': 3212, 'natsuiro_egao_de_1_2_jump': 3213, 'jaguar_print': 3214, 'jaguar_tail': 3215, 'chainsaw': 3216, 'skull_earrings': 3217, 'sig_sauer': 3218, 'cold': 3219, 'sweets': 3220, 'cropped_vest': 3221, 'knees_to_chest': 3222, 'height_difference': 3223, 'power_lines': 3224, 'wa_lolita': 3225, 'tying_air': 3226, 'purple_kimono': 3227, 'cyclops': 3228, 'ship': 3229, 'naked_ribbon': 3230, '2007': 3231, 'eastern_dragon': 3232, 'white_snake': 3233, 'obiage': 3234, 'ammunition_pouch': 3235, 'adjusting_scarf': 3236, 'musical_note_print': 3237, 'artist_logo': 3238, 'insect': 3239, 'scylla': 3240, 'office_chair': 3241, 'power_armor': 3242, 'food_on_body': 3243, 'green_sweater': 3244, 'purpleframed_eyewear': 3245, 'too_many': 3246, 'pink_gloves': 3247, 'button_badge': 3248, 'beige_sweater': 3249, 'tools': 3250, 'congratulations': 3251, 'goggles_on_headwear': 3252, 'navy_blue_legwear': 3253, 'darkness': 3254, 'jar': 3255, 'purple_lips': 3256, 'plaid_apron': 3257, 'removing_jacket': 3258, 'yukkuri_shiteitte_ne': 3259, 'screaming': 3260, 'red_background': 3261, 'gloves_removed': 3262, 'melon': 3263, 'snake_tail': 3264, 'warning_sign': 3265, 'drawer': 3266, 'print_neckwear': 3267, 'test_plugsuit': 3268, 'hair_ornament_removed': 3269, 'gameplay_mechanics': 3270, 'rice_on_face': 3271, 'coffee_mug': 3272, 'polka_dot_bra': 3273, 'italian_flag': 3274, 'wolf_girl': 3275, 'asymmetrical_footwear': 3276, 'beaver_ears': 3277, 'bismarck_kantai_collection_cosplay': 3278, 'onmyouji': 3279, 'lute_instrument': 3280, 'biwa_lute': 3281, 'lotus': 3282, 'spray_can': 3283, 'bishamontens_pagoda': 3284, 'st_glorianas_military_uniform': 3285, 'keystone': 3286, 'red_armor': 3287, 'year_of_the_rooster': 3288, 'blue_scrunchie': 3289, 'sun': 3290, 'hagoita': 3291, 'ribbon_in_mouth': 3292, 'hair_undone': 3293, 'blue_hakama': 3294, 'shotgun': 3295, 'glowing_wings': 3296, 'dot_triangle': 3297, 'melting': 3298, 'warrior': 3299, 'kirisame_marisa_cosplay': 3300, 'treasure_chest': 3301, 'kine': 3302, 'paw_shoes': 3303, 'dark_background': 3304, 'bloody_tears': 3305, 'legwear_removed': 3306, 'gyate_gyate': 3307, 'heart_background': 3308, 'kimono_pull': 3309, 'nyan': 3310, 'tambourine': 3311, 'cat_print': 3312, 'orange_scarf': 3313, 'sweater_lift': 3314, 'layered_sleeves': 3315, 'cockpit': 3316, 'flower_eyepatch': 3317, 'welding_mask': 3318, 'chunli_cosplay': 3319, 'eyepatch_removed': 3320, 'in_food': 3321, 'ramen': 3322, 'slime': 3323, 'praying': 3324, 'wrist_straps': 3325, 'cucumber': 3326, 'turtle': 3327, 'patting_lap': 3328, 'tatami': 3329, 'aqua_skirt': 3330, 'envelope': 3331, 'pushing': 3332, 'dragging': 3333, 'orange_background': 3334, 'brown_cape': 3335, 'martial_arts': 3336, 'side_drill': 3337, 'fumika_bug': 3338, 'forked_tail': 3339, 'levitation': 3340, 'gakuran': 3341, 'white_vest': 3342, 'leg_belt': 3343, 'zombie': 3344, 'happy_tears': 3345, 'dirty_face': 3346, 'grey_wings': 3347, 'holding_head': 3348, 'grey_border': 3349, 'sweatshirt': 3350, 'single_bare_shoulder': 3351, 'hungry': 3352, 'grill': 3353, 'pony': 3354, 'cheektocheek': 3355, 'spacesuit': 3356, 'bacon': 3357, 'sock_pull': 3358, 'kunreishiki': 3359, 'food_between_breasts': 3360, 'verticalstriped_panties': 3361, 'turn_pale': 3362, 'frilled_shorts': 3363, 'folded_leg': 3364, 'fishing_rod': 3365, 'volleyball': 3366, 'ehoumaki': 3367, 'grey': 3368, 'color_trace': 3369, 'swimsuit_pull': 3370, 'talisman': 3371, 'lacetrimmed_bikini': 3372, 'frilled_ribbon': 3373, 'waving_arm': 3374, 'otter': 3375, 'squirrel': 3376, 'mechanical_arms': 3377, 'wiggling_toes': 3378, 'nail': 3379, 'pink_scarf': 3380, 'ocean': 3381, 'kotatsu': 3382, 'gown': 3383, 'skeletal_arm': 3384, 'threedimensional_maneuver_gear': 3385, 'progress': 3386, 'panpakapaaan': 3387, 'baseball_mitt': 3388, 'baseball_uniform': 3389, 'mace': 3390, 'communism': 3391, 'frog_print': 3392, 'key_frame': 3393, 'crazy_smile': 3394, 'menu': 3395, 'aqua_ribbon': 3396, 'aqua_bow': 3397, 'silence_glaive': 3398, 'a6m_zero': 3399, 'loose_clothes': 3400, 'loose_bikini': 3401, 'corsage': 3402, 'leather_gloves': 3403, 'meka_overwatch': 3404, 'remote_control': 3405, 'polka_dot_pillow': 3406, 'print_pillow': 3407, 'promotional_art': 3408, 'jojo_pose': 3409, 'hand_over_face': 3410, 'mtu_virus': 3411, 'frilled_leotard': 3412, 'sunny_day_song': 3413, 'purple_swimsuit': 3414, 'song_name': 3415, 'tail_through_clothes': 3416, 'bang': 3417, 'adjusting_buruma': 3418, 'panties_under_buruma': 3419, 'outofframe_censoring': 3420, 'costume_chart': 3421, 'spiral': 3422, 'hair_half_undone': 3423, 'thumb_sucking': 3424, 'orange_hairband': 3425, 'feet_up': 3426, 'new_mask_of_hope': 3427, 'blown_kiss': 3428, 'pubic_tattoo': 3429, 'butterfly_print': 3430, 'florence_nightingale_fategrand_order_cosplay': 3431, 'brass_knuckles': 3432, 'amulet': 3433, 'star_necklace': 3434, 'keyhole': 3435, 'naked_track_jacket': 3436, 'suspenders_pull': 3437, 'crow': 3438, 'hat_tug': 3439, 'bayonet': 3440, 'apple_hair_ornament': 3441, 'japari_bun': 3442, 'yellow_gloves': 3443, 'humanization': 3444, 'seishou_elementary_school_uniform': 3445, 'winged_shoes': 3446, 'shinai': 3447, 'stuffed_octopus': 3448, 'pink_hakama': 3449, 'orange_nails': 3450, 'ear_clip': 3451, '2009': 3452, 'black': 3453, 'art_brush': 3454, 'long_toenails': 3455, 'yellow_bikini_top': 3456, 'undone_necktie': 3457, 'very_long_sleeves': 3458, 'ikayaki': 3459, 'drum': 3460, 'weapon_bag': 3461, 'swirl_lollipop': 3462, 'chick_on_head': 3463, 'wrists_extended': 3464, 'hanging': 3465, 'telekinesis': 3466, 'print_pajamas': 3467, 'muzzle_brake': 3468, 'bipod': 3469, 'parfait': 3470, 'striped_kimono': 3471, 'pikachu_cosplay': 3472, 'furtrimmed_coat': 3473, 'gag': 3474, 'heart_tattoo': 3475, 'kappougi': 3476, 'yellow_vest': 3477, 'briefcase': 3478, 'bandaged_head': 3479, 'ruins': 3480, 'mixed_media': 3481, 'hair_in_face': 3482, 'tail_between_legs': 3483, 'fidgeting': 3484, 'pacifier': 3485, 'hanten_clothes': 3486, 'm16': 3487, 'polka_dot_scrunchie': 3488, 'multiple_arms': 3489, 'pink_pajamas': 3490, 'spoken_object': 3491, 'jellyfish': 3492, 'octopus': 3493, 'ink_tank_splatoon': 3494, 'brain_freeze': 3495, 'super_soaker': 3496, 'ink': 3497, 'forest': 3498, 'nature': 3499, 'glaring': 3500, 'rash_guard': 3501, 'polka_dot_dress': 3502, 'ass_grab': 3503, 'grabbing_own_ass': 3504, 'naked_hoodie': 3505, 'holding_doll': 3506, 'uchikake': 3507, 'earth': 3508, 'carrying_under_arm': 3509, 'earth_ornament': 3510, 'fingers_to_cheeks': 3511, 'patterned_clothing': 3512, 'potion': 3513, 'breast_tattoo': 3514, 'gloom_expression': 3515, 'vegetable': 3516, 'casing_ejection': 3517, 'hair_spread_out': 3518, 'xray': 3519, 'throwing': 3520, 'flats': 3521, 'fat_mons': 3522, 'suppressor': 3523, 'light_trail': 3524, 'furtrimmed_legwear': 3525, 'scar_on_cheek': 3526, 'adjusting_panties': 3527, 'whip_sword': 3528, 'nerv': 3529, 'arm_tattoo': 3530, 'updo': 3531, 'hand_on_own_leg': 3532, 'hand_on_breast': 3533, 'flustered': 3534, 'koinobori': 3535, 'kodomo_no_hi': 3536, 'newspaper': 3537, 'holding_scythe': 3538, 'narrow_waist': 3539, 'crack': 3540, 'oni_mask': 3541, 'helm': 3542, 'boot_removed': 3543, 'torn_scarf': 3544, 'fedora': 3545, 'chin_strap': 3546, 'animal_band_legwear': 3547, 'plaid_ribbon': 3548, 'shrimp_tempura': 3549, 'tempura': 3550, 'outstretched_leg': 3551, 'horn_ring': 3552, 'hatching': 3553, 'frilled_choker': 3554, 'anglerfish': 3555, 'veins': 3556, 'chinese_new_year': 3557, 'knocking': 3558, 'chikuwa': 3559, 'pornography': 3560, 'holding_arrow': 3561, 'curry': 3562, 'curry_rice': 3563, 'nico_nico_nii': 3564, 'bowl_cut': 3565, 'fuuin_no_tsue': 3566, 'strawberry_hair_ornament': 3567, 'boots_removed': 3568, 'venus_symbol': 3569, 'cocked_hammer': 3570, 'crystal_sword': 3571, 'remodel_zhan_jian_shao_nyu': 3572, 'verticalstriped_shirt': 3573, 'purple_scarf': 3574, 'cinderella_bust': 3575, 'standing_split': 3576, 'raincoat': 3577, 'belly_chain': 3578, 'lipstick_tube': 3579, 'cellphone_charm': 3580, 'milk_carton': 3581, 'eurasian_tree_sparrow': 3582, 'ass_cutout': 3583, 'what_if': 3584, 'saw': 3585, 'breast_grab': 3586, 'pancake': 3587, 'landing': 3588, 'yellow_pupils': 3589, 'school_hat': 3590, 'holding_legs': 3591, 'imagining': 3592, 'dust': 3593, 'striped_gloves': 3594, 'smelling': 3595, 'greenframed_eyewear': 3596, 'holding_torpedo': 3597, 'standing_on_object': 3598, 'red_pupils': 3599, 'bird_on_head': 3600, 'goggles_around_neck': 3601, 'diving_mask': 3602, 'stuffed_panda': 3603, 'hatsune_miku_cosplay': 3604, 'insect_wings': 3605, 'flower_necklace': 3606, 'year_of_the_dog': 3607, 'black_fur': 3608, 'motion_slit': 3609, 'green_pants': 3610, 'patch': 3611, 'twisted_neck': 3612, 'horizontalstriped_legwear': 3613, 'alice_wonderland_cosplay': 3614, 'team_magma': 3615, 'pass': 3616, 'italian': 3617, 'nose_hatchet': 3618, 'funeral_dress': 3619, 'surreal': 3620, 'seiyuu': 3621, 'holding_dagger': 3622, 'purple_rose': 3623, 'double_w': 3624, 'birdcage': 3625, 'mallet': 3626, 'purple_hairband': 3627, 'poolside': 3628, 'hairband_removed': 3629, 'acronym': 3630, 'hand_on_headphones': 3631, 'pullover': 3632, 'explosion': 3633, 'sweatpants': 3634, 'ice_cream_float': 3635, 'playstation_portable': 3636, 'giantess': 3637, 'multiple_braids': 3638, 'impossible_dress': 3639, 'faceless': 3640, 'attack': 3641, 'mop': 3642, 'crossdressing': 3643, 'hair_flip': 3644, 'upshorts': 3645, 'skull_and_crossbones': 3646, 'howa_type_89': 3647, 'red_headband': 3648, 'olympian_bloomers': 3649, 'leotard_under_clothes': 3650, 'bruise': 3651, 'power_suit': 3652, 'bowl_hat': 3653, 'alpaca': 3654, 'tsuki_ni_kawatte_oshioki_yo': 3655, 'heart_choker': 3656, 'moon_stick': 3657, 'gusset': 3658, 'tapir_ears': 3659, 'lily_of_the_valley': 3660, 'scooter': 3661, 'alternate_skin_color': 3662, 'blueberry': 3663, 'lemon_slice': 3664, 'high_contrast': 3665, 'hair_censor': 3666, 'brown_pants': 3667, 'ears_visible_through_hair': 3668, 'stuffed_shark': 3669, 'skirt_around_one_leg': 3670, 'face_licking': 3671, 'whale': 3672, 'bleeding': 3673, 'tiger_ears': 3674, 'ballpoint_pen_medium': 3675, 'spots': 3676, 'st_glorianas_emblem': 3677, 'pravda_school_uniform': 3678, 'american_flag_bikini': 3679, 'brown': 3680, 'bucket_hat': 3681, 'nanairogaoka_middle_school_uniform': 3682, 'pink_vest': 3683, 'latin_cross': 3684, 'blowing': 3685, 'frontseamed_legwear': 3686, 'flame_print': 3687, 'cowlick': 3688, 'mascot': 3689, 'boned_meat': 3690, 'blue_feathers': 3691, 'ema': 3692, 'plant_on_head': 3693, 'doubleblade': 3694, 'computer_mouse': 3695, 'aqua_panties': 3696, 'sandals_removed': 3697, 'tenugui': 3698, 'platinum_blonde': 3699, 'cutout': 3700, 'holding_sheath': 3701, 'holding_hand': 3702, 'unclasped': 3703, 'stairs': 3704, 'yagasuri': 3705, 'holding_bowl': 3706, 'full_body_tattoo': 3707, 'bookmark': 3708, 'beige_footwear': 3709, 'falcon': 3710, 'asymmetrical_horns': 3711, 'followers': 3712, 'blood_from_mouth': 3713, 'pie': 3714, 'hands_on_headphones': 3715, 'jester': 3716, 'multicolored_footwear': 3717, 'nunchaku': 3718, '2005': 3719, 'seigaiha': 3720, 'pon_de_ring': 3721, 'transparent_umbrella': 3722, 'boxing_gloves': 3723, 'ribbed_leotard': 3724, 'plaid_bra': 3725, 'french': 3726, 'harness': 3727, 'dragunov_svd': 3728, 'steampunk': 3729, 'tag': 3730, 'bike_jersey': 3731, 'horse_tail': 3732, 'us_army': 3733, 'hands_on_floor': 3734, 'different_reflection': 3735, 'bicycle_helmet': 3736, 'arch': 3737, 'green_bodysuit': 3738, 'gothic': 3739, 'handstand': 3740, 'watercolor_pencil_medium': 3741, 'buck_teeth': 3742, 'butterfly_sitting': 3743, 'sweating_profusely': 3744, 'torn_sleeve': 3745, 'folder': 3746, 'dog_tags': 3747, 'french_cruller': 3748, 'abstract_background': 3749, 'alice_gear': 3750, 'stasnding': 3751, 'canteen': 3752, 'peony_flower': 3753, 'panties_under_shorts': 3754, 'whisk': 3755, 'fake_wings': 3756, 'spiked_club': 3757, 'soda': 3758, 'kouhaku_nawa': 3759, 'tomoe_symbol': 3760, 'maebari': 3761, 'legband': 3762, 'grey_pants': 3763, 'skirt_basket': 3764, 'shin_guards': 3765, 'holding_leaf': 3766, 'hanfu': 3767, 'flower_ornament': 3768, 'pumpkin_hair_ornament': 3769, 'winter': 3770, 'yellow_hairband': 3771, 'bendy_straw': 3772, 'golf_club': 3773, 'hand_on_own_ass': 3774, 'frying_pan': 3775, 'calligraphy_brush_medium': 3776, 'soccer': 3777, 'palette_suit': 3778, 'hirschgeweih_antennas': 3779, 'nintendo_3ds': 3780, 'gingham': 3781, 'riyo_lyomsnpmp_style': 3782, 'passion_harp': 3783, 'shrug_clothing': 3784, 'blurry_foreground': 3785, 'black_rose': 3786, 'black_flower': 3787, 'pink_umbrella': 3788, 'adapted_object': 3789, 'eggplant': 3790, 'onion': 3791, 'mustache': 3792, 'giving': 3793, 'musical_note_necklace': 3794, 'quill': 3795, 'pool': 3796, 'holding_pillow': 3797, 'purple_coat': 3798, 'single_strap': 3799, 'dessert': 3800, 'shibari': 3801, 'blunt_ends': 3802, 'musical_note_hair_ornament': 3803, 'hair_cubes': 3804, 'guro': 3805, 'print_dress': 3806, 'honeycomb_pattern': 3807, 'honeycomb_background': 3808, 'pouty_lips': 3809, 'torn_pants': 3810, 'dpad_hair_ornament': 3811, 'sidetie_skirt': 3812, 'stuffed_unicorn': 3813, 'missile': 3814, 'panties_on_head': 3815, 'dollar_sign': 3816, 'cat_ear_headphones': 3817, 'asymmetrical_gloves': 3818, 'kindergarten_bag': 3819, 'in_bucket': 3820, 'diamond': 3821, 'package': 3822, 'cokebottle_glasses': 3823, 'arm_rest': 3824, 'ball_and_chain_restraint': 3825, 'striker_unit': 3826, 'drop_trap': 3827, 'tofu': 3828, 'stuffed_frog': 3829, 'skull_necklace': 3830, 'frill_trim': 3831, 'meltrandi': 3832, 'holding_above_head': 3833, 'figure': 3834, 'beaver_tail': 3835, 'lydian_academy_uniform': 3836, 'gold_trim': 3837, 'hemokinesis': 3838, 'blue_cape': 3839, 'potato_chips': 3840, 'oriental_hatchet': 3841, 'pink_blouse': 3842, 'jeweled_branch_of_hourai': 3843, 'is_that_so': 3844, 'new_school_swimsuit': 3845, 'twotone_hairband': 3846, 'hands_on_anothers_shoulders': 3847, 'screwdriver': 3848, 'key_necklace': 3849, 'cat_teaser': 3850, 'holding_hammer': 3851, 'reindeer_hood': 3852, 'bishamontens_spear': 3853, 'multicolored_scarf': 3854, 'fishnet_gloves': 3855, 'mountain': 3856, 'desk_lamp': 3857, 'phalanx_ciws': 3858, 'clothes_down': 3859, 'tying': 3860, 'rainbow_text': 3861, 'forehead_tattoo': 3862, 'wing_print': 3863, 'lizard_girl': 3864, 'lizard_tail': 3865, 'utx_school_uniform': 3866, 'you_gonna_get_raped': 3867, 'animal_pillow': 3868, 'rocket': 3869, 'dog_costume': 3870, 'impaled': 3871, 'suicide': 3872, 'fortissimo': 3873, 'thighhighs_removed': 3874, 'fengguan': 3875, 'runes': 3876, 'hanetsuki': 3877, 'low_neckline': 3878, 'forearms_at_chest': 3879, 'swimwear': 3880, 'fist_bump': 3881, 'bathrobe': 3882, 'lights': 3883, 'slouching': 3884, 'striped_bikini_bottom': 3885, 'mechanic_granblue_fantasy': 3886, 'fighter_granblue_fantasy': 3887, 'sage_granblue_fantasy': 3888, 'drum_master_granblue_fantasy': 3889, 'gunslinger_granblue_fantasy': 3890, 'chaos_ruler_granblue_fantasy': 3891, 'naked_overalls': 3892, 'black_armor': 3893, 'bullet_hole': 3894, 'beige_shirt': 3895, 'hidden_eyes': 3896, 'eyepatch_bikini': 3897, 'seaweed': 3898, 'gunblade': 3899, 'light_bulb': 3900, 'mini_witch_hat': 3901, 'latex_gloves': 3902, 'latex_legwear': 3903, 'plastic_cup': 3904, 'dotted_line': 3905, 'salad': 3906, 'black_hakama': 3907, 'phoenix': 3908, 'pink_swimsuit': 3909, 'accidental_exposure': 3910, 'oogai_daiichi_middle_school_uniform': 3911, 'brown_choker': 3912, 'toy': 3913, 'police_badge': 3914, 'pantyhose_under_trousers': 3915, 'copyright': 3916, 'mechanical_parts': 3917, 'floating_rock': 3918, 'mega_pokemon': 3919, 'achiga_school_uniform': 3920, 'holding_strap': 3921, 'patterned': 3922, 'perfect_dream_project': 3923, 'bullying': 3924, 'american_flag_shirt': 3925, 'scratching_cheek': 3926, 'archery': 3927, 'no': 3928, 'seikan_hikou': 3929, 'face_punch': 3930, 'profanity': 3931, 'in_the_face': 3932, 'framed': 3933, 'poke_ball_print': 3934, 'red_apron': 3935, 'cat_day': 3936, 'yarn': 3937, 'scientific_name': 3938, 'laceup': 3939, 'hooded_sweater': 3940, 'licking_hand': 3941, 'finger_in_mouth': 3942, 'heart_pendant': 3943, 'ufo': 3944, 'flying_saucer': 3945, 'recorder_case': 3946, 'pocky_kiss': 3947, 'shared_food': 3948, 'incoming_food': 3949, 'omurice': 3950, 'price_tag': 3951, 'swim_cap': 3952, 'mitsukoshi_department_store': 3953, 'character_print': 3954, 'mahjong_tile': 3955, 'mahjong': 3956, 'naked_tabard': 3957, 'bandaged_hands': 3958, 'plaid_pants': 3959, 'mundane_utility': 3960, 'camouflage_bikini': 3961, 'holding_cellphone': 3962, 'bolo_tie': 3963, 'exercise_ball': 3964, 'crystal_earrings': 3965, 'zombie_pose': 3966, 'runny_nose': 3967, 'screen': 3968, 'pantyshot_kneeling': 3969, 'bangs_pinned_back': 3970, 'fluffy_collar': 3971, 'sneezing': 3972, 'missing_eye': 3973, 'keyblade': 3974, 'energy_wings': 3975, 'kitchen_knife': 3976, 'icing': 3977, 'mummy': 3978, 'inverted_costume': 3979, 'patterned_background': 3980, 'wrist_flexed': 3981, 'silk': 3982, 'oversized_animal': 3983, 'spider_web': 3984, 'bra_peek': 3985, 'teacher': 3986, 'calligraphy_brush': 3987, 'hare_hare_yukai': 3988, 'suzumiya_haruhi_cosplay': 3989, 'black_lipstick': 3990, 'hands_on_anothers_face': 3991, 'puppet_rings': 3992, 'baton_instrument': 3993, 'cello': 3994, 'watermelon_bar': 3995, 'porkpie_hat': 3996, 'dove': 3997, 'spine': 3998, 'leaning_on_object': 3999, 'saunders_military_uniform': 4000, 'mismatched_bikini': 4001, 'saunders_school_uniform': 4002, 'collared_blouse': 4003, 'white_border': 4004, 'suit_jacket': 4005, 'hand_on_anothers_arm': 4006, 'tired': 4007, 'eyepatch_lift': 4008, 'russia': 4009, 'party_hat': 4010, 'red_capelet': 4011, 'chakram': 4012, 'tub': 4013, 'saturn_symbol': 4014, 'midnight_bliss': 4015, 'loose_shirt': 4016, 'insignia': 4017, 'narutomaki': 4018, 'kamaboko': 4019, 'mouth': 4020, 'ideolo_style': 4021, 'aqua_background': 4022, 'shirt_on_shoulders': 4023, 'katori_kantai_collection_cosplay': 4024, 'santa_bra': 4025, 'santa_panties': 4026, 'cafe_maid': 4027, 'loungewear': 4028, 'towel_on_head': 4029, 'blue_towel': 4030, 'yume_no_tobira': 4031, 'griffin': 4032, 'pegasus_knight': 4033, 'anchor_print': 4034, 'winged_boots': 4035, 'papers': 4036, 'anchor_necklace': 4037, 'dorsiflexion': 4038, 'blue_buruma': 4039, 'year_of_the_monkey': 4040, 'dust_cloud': 4041, 'constellation': 4042, 'print_hat': 4043, 'gunbuster_pose': 4044, 'holding_photo': 4045, 'reflective_eyes': 4046, 'beckoning': 4047, 'wooden_pencil': 4048, 'raccoon': 4049, 'source_quote_parody': 4050, 'mogyutto_love_de_sekkin_chuu': 4051, 'wedding': 4052, 'covering_ears': 4053, 'hand_on_ear': 4054, 'washbowl': 4055, 'frilled': 4056, 'pole': 4057, 'creator_connection': 4058, 'bear_costume': 4059, 'bird_print': 4060, 'hair_blowing': 4061, 'air_bubble': 4062, 'elemental_creature': 4063, 'fist_pump': 4064, 'coin_ornament': 4065, 'admiral_kantai_collection_cosplay': 4066, 'holding_fish': 4067, 'too_literal': 4068, 'lowleg_shorts': 4069, 'fake_antlers': 4070, 'single_fingerless_glove': 4071, 'black_bikini_bottom': 4072, 'trigram': 4073, 'torogao': 4074, 'purple_cape': 4075, 'black_cloak': 4076, 'wing_hair_ornament': 4077, 'novel_illustration': 4078, 'holding_cat': 4079, 'skull_print': 4080, 'no_bangs': 4081, 'white_cat': 4082, 'throat_microphone': 4083, 'tank_turret': 4084, 'splattershot_splatoon': 4085, 'tifa_lockhart_cosplay': 4086, 'open_palms': 4087, 'senbei': 4088, 'theft': 4089, 'keyboard_instrument': 4090, 'soda_can': 4091, 'pee': 4092, 'peeing': 4093, 'cape_removed': 4094, 'naked_sheet': 4095, 'ze_phrase': 4096, 'orange_sailor_collar': 4097, 'winged_hair_ornament': 4098, 'bunny_headphones': 4099, 'green_swimsuit': 4100, 'white_devil': 4101, 'dark_excalibur': 4102, 'back_tattoo': 4103, 'hanbok': 4104, 'holly': 4105, 'table_tennis_paddle': 4106, 'table_tennis_ball': 4107, 'blue_blouse': 4108, 'morning_glory': 4109, 'spill': 4110, 'hair_lift': 4111, 'shougi': 4112, 'stuffed_horse': 4113, 'evolution': 4114, 'chocolate_banana': 4115, 'climbing': 4116, 'bean_bag_chair': 4117, 'upshirt': 4118, 'keta_style': 4119, 'grey_bikini_top': 4120, 'polka_dot_trim': 4121, 'ama_usa_an_uniform': 4122, 'on_vehicle': 4123, 'kawasaki': 4124, 'miming': 4125, 'tutu': 4126, 'delinquent': 4127, 'hair_grab': 4128, 'crocs': 4129, 'white_capelet': 4130, 'restrained': 4131, 'bound_arms': 4132, 'improvised_gag': 4133, 'glove_biting': 4134, 'bunny_day': 4135, 'tower': 4136, 'cast': 4137, 'sideways': 4138, 'halloween_basket': 4139, 'holding_basket': 4140, 'spade_shape': 4141, 'crest': 4142, 'have_to_pee': 4143, 'european_clothes': 4144, 'transparent_sleeves': 4145, 'fingers_to_cheek': 4146, 'crease': 4147, 'bib': 4148, 'crystal_ball': 4149, 'magician': 4150, 'extra': 4151, 'short_jumpsuit': 4152, 'gorgon': 4153, 'goddess': 4154, 'multicolored_cape': 4155, 'tennis_uniform': 4156, 'tennis_ball': 4157, 'puffy_nipples': 4158, 'spike_ball': 4159, 'patting': 4160, 'rem_rezero_cosplay': 4161, 'scorpion_tail': 4162, 'w_arms': 4163, 'white_pajamas': 4164, 'tablet_pc': 4165, 'squidbeak_splatoon': 4166, 'vacuum_cleaner': 4167, 'deer': 4168, 'taiyaki': 4169, 'covering_one_eye': 4170, 'caliburn': 4171, 'food_as_clothes': 4172, 'metal_gloves': 4173, 'hadanugi_dousa': 4174, 'pizza_hut': 4175, 'pizza_box': 4176, 'holding_towel': 4177, 'wiping_face': 4178, 'field': 4179, 'bell_earrings': 4180, 'seraph': 4181, 'log': 4182, 'uvula': 4183, 'ground': 4184, 'caption': 4185, 'girly_running': 4186, 'ribbontrimmed_bra': 4187, 'glock': 4188, 'nude_cover': 4189, 'sitting_backwards': 4190, 'tin_can': 4191, 'afloat': 4192, 'shaft_look': 4193, 'knives_between_fingers': 4194, 'grandfather_clock': 4195, 'earpiece': 4196, 'bikini_lift': 4197, 'short_braid': 4198, 'pepper': 4199, 'bell_pepper': 4200, 'licking_weapon': 4201, 'butler': 4202, 'tail_wrap': 4203, 'holding_clipboard': 4204, 'square': 4205, 'living_hair': 4206, 'backprint_panties': 4207, 'assisted_exposure': 4208, 'deerstalker': 4209, 'no_eyepatch': 4210, 'hand_on_sword': 4211, 'tokkuri': 4212, 'pink_cape': 4213, 'head': 4214, 'clover_hair_ornament': 4215, 'green_cape': 4216, 'futon': 4217, 'ruler': 4218, 'boxcutter': 4219, 'roe': 4220, 'rubber_duck': 4221, 'bath': 4222, 'tantou': 4223, 'grey_hoodie': 4224, 'pointing_finger': 4225, 'for_adoption': 4226, 'holding_skull': 4227, 'transparent_wings': 4228, 'pouring': 4229, 'stats': 4230, 'beans': 4231, 'daruma_doll': 4232, 'wolf_mask': 4233, 'spirit': 4234, 'clarent': 4235, 'full_armor': 4236, 'pet_play': 4237, 'spinning_top': 4238, 'wreath': 4239, 'manicure': 4240, 'looking_at_mirror': 4241, 'oversize_forearms': 4242, 'cat_band_legwear': 4243, 'cocacola': 4244, 'unaligned_breasts': 4245, 'striped_sweater': 4246, 'black_scrunchie': 4247, 'full_mouth': 4248, 'black_kimono': 4249, 'soap_bubbles': 4250, 'short_sidetail': 4251, 'flower_on_head': 4252, 'incoming_hug': 4253, 'color_switch': 4254, 'shark_girl': 4255, 'shatter': 4256, 'carousel': 4257, 'cabbage': 4258, 'short_sword': 4259, 'holding_bouquet': 4260, 'amplifier': 4261, 'effects_pedal': 4262, 'guitar_case': 4263, 'instrument_case': 4264, 'snack': 4265, 'ice_cube': 4266, 'watering_can': 4267, 'anzio_military_uniform': 4268, 'funny_glasses': 4269, 'magazine_cover': 4270, 'nagato_kantai_collection_cosplay': 4271, 'komano_aun_komainu': 4272, 'head_bump': 4273, 'komainu': 4274, 'gesugao': 4275, 'objectification': 4276, 'm1911': 4277, 'yellow_sash': 4278, 'breathing_fire': 4279, 'hair_pull': 4280, 'alternate_form': 4281, 'teruterubouzu': 4282, 'dyson': 4283, 'electric_plug': 4284, 'bladeless_fan': 4285, 'pink_coat': 4286, 'ribbed_shirt': 4287, 'micro_panties': 4288, 'bound_ankles': 4289, 'island_kahuna': 4290, 'bicycle_basket': 4291, 'unbuckled_belt': 4292, 'lovestruck': 4293, 'bird_on_arm': 4294, 'mermaid_costume': 4295, 'cropped_shirt': 4296, 'striped_hat': 4297, 'angelic_angel': 4298, 'polka_dot_skirt': 4299, 'holding_pencil': 4300, 'banner': 4301, 'haraegushi': 4302, 'pointy_nose': 4303, 'toast_in_mouth': 4304, 'toast': 4305, 'single_bridal_gauntlet': 4306, 'alternate_wings': 4307, 'against_glass': 4308, 'red_blouse': 4309, 'struggling': 4310, 'light_rays': 4311, 'panther_pink_precure': 4312, 'hands_on_legs': 4313, 'tokisadame_school_uniform': 4314, 'confused': 4315, 'multicolored_skin': 4316, 'aqua_skin': 4317, 'prostitution': 4318, 'headsup_display': 4319, 'uzuki_kantai_collection_cosplay': 4320, 'kumano_kantai_collection_cosplay': 4321, 'thigh_pouch': 4322, 'undone_sarashi': 4323, 'murakumo_kantai_collection_cosplay': 4324, 'goldfish': 4325, 'shorts_pull': 4326, 'hatsushimo_kantai_collection_cosplay': 4327, 'michishio_kantai_collection_cosplay': 4328, 'gesture': 4329, 'n': 4330, 'fluffy': 4331, 'lowleg_pants': 4332, 'bandage_on_face': 4333, 'feather_boa': 4334, 'orange_gloves': 4335, 'balance_scale': 4336, 'metal_collar': 4337, 'pyramid': 4338, 'sharp_toenails': 4339, 'hairdressing': 4340, 'dakimakura_object': 4341, 'kusazuri': 4342, 'holding_up': 4343, 'green_hairband': 4344, 'ootachi': 4345, 'pursed_lips': 4346, 'x3': 4347, 'panty_straps': 4348, 'praying_mantis': 4349, 'x': 4350, 'jacket_around_waist': 4351, 'propeller_hair_ornament': 4352, 'sailor_swimsuit_idolmaster': 4353, 'cheek_press': 4354, 'broken_heart': 4355, 'fn_fal': 4356, 'rat': 4357, 'breast_envy': 4358, 'fubuki_kantai_collection_cosplay': 4359, 'christmas_stocking': 4360, 'reindeer_antlers': 4361, 'knees_on_chest': 4362, 'homu': 4363, 'moriyas_iron_rings': 4364, 'lip_piercing': 4365, 'bass_guitar': 4366, 'under_clothes': 4367, 'kaname_madoka_cosplay': 4368, 'no_mask': 4369, 'head_mounted_display': 4370, 'mitre': 4371, 'holding_lantern': 4372, 'frilled_capelet': 4373, 'pink_check_school': 4374, 'shimamura_uzuki_cosplay': 4375, 'single_sleeve': 4376, 'age_progression': 4377, 'cityscape': 4378, 'foot_grab': 4379, 'high_waisted_pants': 4380, 'finger_biting': 4381, 'lacetrimmed_skirt': 4382, 'kamishakujii_renko_cosplay': 4383, 'stand_jojo': 4384, 'kabuto': 4385, 'torn_swimsuit': 4386, 'panicking': 4387, 'floating_clothes': 4388, 'shirt_removed': 4389, 'wet_swimsuit': 4390, 'school_swimsuit_flap': 4391, 'skateboard': 4392, 'backwards_hat': 4393, 'heart_balloon': 4394, 'gingerbread_man': 4395, 'wavy_eyes': 4396, 'kafuu_chino_cosplay': 4397, 'figure_skating': 4398, 'ice_skates': 4399, 'beige_vest': 4400, 'toilet_use': 4401, 'laces': 4402, 'cocktail_umbrella': 4403, 'orange_slice': 4404, 'sprinkles': 4405, 'boat': 4406, 'energy_sword': 4407, 'pyrokinesis': 4408, 'ribbontrimmed_bikini': 4409, 'armchair': 4410, 'bird_ears': 4411, 'tunic': 4412, 'salt_bae_meme': 4413, 'salt': 4414, 'chained': 4415, 'mickey_mouse_cosplay': 4416, 'ear_ornament': 4417, 'leg_strap': 4418, 'flower_wreath': 4419, 'red_buruma': 4420, 'alternate_bottom_wear': 4421, 'fast_food_uniform': 4422, 'clone': 4423, 'sailor_moon_narikiri_bra_set': 4424, 'juuban_middle_school_uniform': 4425, 'cutie_moon_rod': 4426, 'maboroshi_no_ginzuishou': 4427, 'snowball': 4428, 'short_yukata': 4429, 'wading_pool': 4430, 'card_medium': 4431, 'mechanization': 4432, 'drum_container': 4433, 'yamato_kantai_collection_cosplay': 4434, 'z_flag': 4435, 'melon_bread': 4436, 'drawing_sword': 4437, 'bad_perspective': 4438, 'bored': 4439, 'black_feathers': 4440, 'undead': 4441, 'ballet_slippers': 4442, 'minigun': 4443, 'bandaid_on_arm': 4444, 'shark': 4445, 'sitting_on_bed': 4446, 'checkered_shirt': 4447, 'denim_vest': 4448, 'russian_clothes': 4449, 'oral_invitation': 4450, 'cotton_candy': 4451, 'hat_over_one_eye': 4452, 'bad_leg': 4453, 'silver_background': 4454, 'argyle_cutout': 4455, 'pravda_military_uniform': 4456, '5koma': 4457, 'long_tail': 4458, 'fence': 4459, 'alternate_footwear': 4460, 'homurahara_academy_uniform': 4461, 'hands_in_pocket': 4462, 'brown_vest': 4463, 'torpedo_tubes': 4464, 'bobblehat': 4465, 'shoulders': 4466, 'starry_sky_bright': 4467, 'jagdpanther_personification': 4468, 'glaive': 4469, 'tripod': 4470, 'okobo': 4471, 'hair_brushing': 4472, 'coattails': 4473, 'hamaya': 4474, 'candy_wrapper': 4475, 'serpent': 4476, 'loose_necktie': 4477, 'torn_kneehighs': 4478, 'shrug': 4479, 'belt_feed': 4480, 'striped_umbrella': 4481, 'reference_sheet': 4482, 'kujiin': 4483, 'whammy_bar': 4484, 'yuujo': 4485, 'japanese_flag': 4486, 'chestnut': 4487, 'cocktail_glass': 4488, 'school_chair': 4489, 'single_sandal': 4490, 'stance': 4491, 'soft_serve': 4492, 'waraji': 4493, 'ak74': 4494, 'musket': 4495, 'facing_to_the_side': 4496, 'plug': 4497, 'minim': 4498, 'semiquaver': 4499, 'bomb': 4500, 'eotech': 4501, 'fn_scar': 4502, 'vertical_foregrip': 4503, 'hk_mp5k': 4504, 'jug': 4505, 'german': 4506, 'railing': 4507, 'multistrapped_bikini': 4508, 'baguette': 4509, 'doctor': 4510, 'luna_princess': 4511, 'hand_on_ass': 4512, 'inkwell': 4513, 'hand_mirror': 4514, 'plaid_hat': 4515, 'shirt_tucked_in': 4516, 'holding_sign': 4517, 'clothes_pull': 4518, 'sweater_pull': 4519, 'seahorse': 4520, 'purple_hakama': 4521, 'loose_bowtie': 4522, 'duster': 4523, 'tsuba_guard': 4524, 'toe_ring': 4525, 'thompson_submachine_gun': 4526, 'telnyashka': 4527, 'pantsu_no_hi': 4528, 'a6m_zero_personification': 4529, 'pretzel': 4530, 'grey_leotard': 4531, 'real_life_insert': 4532, 'june': 4533, 'soda_cup': 4534, 'mazda_rx7': 4535, 'racing_suit': 4536, 'holding_cigarette': 4537, 'mac10': 4538, 's': 4539, 'luggage': 4540, 'traditional_clothes': 4541, 'gymnast_leotard': 4542, 'gradient_legwear': 4543, 'beretta_92': 4544, 'middle_w': 4545, 'long_braid': 4546, 'plant_girl': 4547, 'webbed_hands': 4548, 'm1_carbine': 4549, 'bird_on_shoulder': 4550, 'whiteframed_eyewear': 4551, 'single_pauldron': 4552, 'bilingual': 4553, 'wrong_feet': 4554, 'stuffing': 4555, 'verticalstriped_bra': 4556, 'black_umbrella': 4557, 'iroha_karuta': 4558, 'pocari_sweat': 4559, 'body_writing': 4560, 'cat_on_person': 4561, 'sword_behind_back': 4562, 'pentagram': 4563, 'motorcycle_helmet': 4564, 'ear_protection': 4565, 'm249': 4566, 'emoticon': 4567, 'checkerboard_cookie': 4568, 'blue_coat': 4569, 'fish_tail': 4570, 'cracking_knuckles': 4571, 'skewer': 4572, 'trash_can': 4573, 'scratching': 4574, 'mechanical_pencil': 4575, 'sleeveless_coat': 4576, 'juice_box': 4577, 'blue_hoodie': 4578, 'smoke_grenade': 4579, 'coffin': 4580, 'barcode': 4581, 'ouroboros': 4582, 'bandaid_on_leg': 4583, 'cloudy_sky': 4584, 'vietnam_war': 4585, 'm14': 4586, 'm1_helmet': 4587, 'adjusting_headwear': 4588, 'battleship': 4589, 'warship': 4590, 'black_school_swimsuit': 4591, 'gradient_wings': 4592, 'pink_wings': 4593, 'kukri': 4594, 'nintendo_ds': 4595, 'honey': 4596, 'hat_with_ears': 4597, 'red_sclera': 4598, 'centauroid': 4599, 'painting_object': 4600, 'arms': 4601, 'bending_forward': 4602, 'bellows_camera': 4603, 'halter_dress': 4604, 'dice': 4605, 'handle': 4606, 'snake_hair': 4607, 'stiletto_heels': 4608, 'recursion': 4609, 'white_bikini_bottom': 4610, 'transparent_weapon': 4611, 'imperial_japanese_navy': 4612, 'mitsudomoe_shape': 4613, 'battery': 4614, 'tank_destroyer': 4615, 'riding_bike': 4616, 'eggshell_hat': 4617, 'lighting_cigarette': 4618, 'olive_drab_green_camo': 4619, 'mosinnagant': 4620, 'saddle': 4621, 'dudou': 4622, 'wrist_wraps': 4623, 'british': 4624, 'split_ponytail': 4625, 'holding_shoe': 4626, '2018': 4627, 'bunny_pajamas': 4628, 'load_bearing_vest': 4629, 'horseback_riding': 4630, 'bulletproof_vest': 4631, 'shelf': 4632, 'spell_card': 4633, 'ankle_strap': 4634, 'beak': 4635, 'arm_across_waist': 4636, 'curled_up': 4637, 'green_bikini_top': 4638, 'blurry_background': 4639, 'frilled_armband': 4640, 'clothes_removed': 4641, 'snorkel': 4642, 'mg42': 4643, 'building': 4644, 'jacket_lift': 4645, 'crescent_moon': 4646, 'aqua_legwear': 4647, 'holding_shoes': 4648, 'crepe': 4649, 'medium_sleeves': 4650, 'flower_pot': 4651, 'royal_navy': 4652, 'twofinger_salute': 4653, 'paper_crane': 4654, 'tawawa_challenge': 4655, 'breasts_on_tray': 4656, 'chainmail': 4657, 'furtrimmed_cape': 4658, 'print_swimsuit': 4659, 'hands_on_hilt': 4660, 'beaker': 4661, 'bodysuit_under_clothes': 4662, 'multicolored_gloves': 4663, 'lolikari': 4664, 'shoe_removed': 4665, 'bad_end_precure': 4666, 'scratching_head': 4667, 'cute__girly_idolmaster': 4668, 'band_uniform': 4669, 'cow_costume': 4670, 'holding_can': 4671, 'torn_shorts': 4672, 'unyu': 4673, 'penguin_tail': 4674, 'humboldt_penguin': 4675, 'ajirogasa': 4676, 'pumpkin_skirt': 4677, 'pulling': 4678, 'tongs': 4679, 'white_collar': 4680, 'overcoat': 4681, 'chest_of_drawers': 4682, 'night_battle_idiot': 4683, 'spatula': 4684, 'christmas_ornaments': 4685, 'princess_form_smile_precure': 4686, 'shinsengumi': 4687, 'pointy_shoes': 4688, 'single_hair_intake': 4689, 'release_date': 4690, 'juice': 4691, 'pineapple': 4692, 'corded_phone': 4693, 'burger_skater_idolmaster': 4694, 'cake_hair_ornament': 4695, 'searchlight': 4696, 'grey_bodysuit': 4697, 'marker': 4698, 'squinting': 4699, 'before_and_after': 4700, 'tangzhuang': 4701, 'lace_bra': 4702, 'orange_jacket': 4703, 'luna_nova_school_uniform': 4704, 'bear_hair_ornament': 4705, 'idol_clothes': 4706, 'elbows_on_knees': 4707, 'checkered_dress': 4708, 'clothes_tug': 4709, 'sweater_tug': 4710, 'character_age': 4711, 'duck': 4712, 'single_detached_sleeve': 4713, 'blacksmith': 4714, 'shitty_admiral_phrase': 4715, 'chocolate_on_breasts': 4716, 'ladder': 4717, 'cat_mask': 4718, 'frilled_hair_tubes': 4719, 'oonusa': 4720, 'mouth_pull': 4721, 'swing': 4722, 'x_arms': 4723, 'paper_lantern': 4724, 'zflag': 4725, 'title': 4726, 'sideways_hat': 4727, 'strapless_santa_dress': 4728, 'spoken_zzz': 4729, 'dappled_sunlight': 4730, 'cephalopod_eyes': 4731, 'octarian': 4732, 'sapphire_stone': 4733, 'djeeta_granblue_fantasy_cosplay': 4734, 'lowleg_pantyhose': 4735, 'tiger_stripes': 4736, 'tailtip_fire': 4737, 'surgical_mask': 4738, 'bat_ears': 4739, 'corsair': 4740, 'derringer': 4741, 'tree_stump': 4742, 'i401_kantai_collection_cosplay': 4743, 'hat_leaf': 4744, 'strangling': 4745, 'ferret': 4746, 'italy': 4747, 'plaid_legwear': 4748, 'fertilizer': 4749, 'untucked_shirt': 4750, 'putting_on_boots': 4751, 'm1_grand_prix': 4752, 'jagdpanzer_38t': 4753, 'flush': 4754, 'crossed_bandaids': 4755, 'black_blazer': 4756, 'hestia_danmachi_cosplay': 4757, 'bikini_in_mouth': 4758, 'blob': 4759, 'double_amputee': 4760, 'color_connection': 4761, 'single_sidelock': 4762, 'zentradi': 4763, 'pipes': 4764, 'burning': 4765, 'head_down': 4766, 'stuffed_dog': 4767, 'lamppost': 4768, 'decantering': 4769, 'kimono_lift': 4770, 'snowflake_hair_ornament': 4771, 'matoi_ryuuko_cosplay': 4772, 'maid_dress': 4773, 'frilled_boots': 4774, 'frilled_cuffs': 4775, 'hydrokinesis': 4776, 'blue_collar': 4777, 'ribbed_sleeves': 4778, 'yellowframed_eyewear': 4779, 'panties_around_one_leg': 4780, 'flying_paper': 4781, 'fruit_tart': 4782, 'pink_sailor_collar': 4783, 'wrapper': 4784, 'pink_outline': 4785, 'taimanin_suit': 4786, 'beaver': 4787, 'basketball': 4788, 'polka_dot_legwear': 4789, 'hooded_pajamas': 4790, 'clothes': 4791, 'punk': 4792, 'anzio_emblem': 4793, 'shoulder_belt': 4794, 'hetero': 4795, 'horse_ears': 4796, 'sweet_potato': 4797, 'looking': 4798, 'silent_comic': 4799, 'tight_shirt': 4800, 'silhouette_demon': 4801, 'inline_skates': 4802, 'bruise_on_face': 4803, 'hecatia_lapislazuli_cosplay': 4804, 'vomiting': 4805, 'no_thank_you': 4806, 'spear_the_gungnir': 4807, 'waiting_for_kiss': 4808, 'uu': 4809, 'hat_around_neck': 4810, 'aqua_bikini': 4811, 'cattail': 4812, 'bear_print': 4813, 'pgm_hecate_ii': 4814, 'ayaya': 4815, 'snowflake_background': 4816, 'camcorder': 4817, 'ainu': 4818, 'crate': 4819, 'bead': 4820, 'nukekubi': 4821, 'helicopter': 4822, 'stuffed_penguin': 4823, 'fruit_on_head': 4824, 'stuck': 4825, 'drumming': 4826, 'striped_pants': 4827, 'animal_themed_umbrella': 4828, 'beach_umbrella': 4829, 'mayonnaise': 4830, 'pyramid_geometry': 4831, 'suikawari': 4832, 'highleg_bikini': 4833, 'mash_kyrielight_cosplay': 4834, 'bow_swimsuit': 4835, 'dress_swimsuit': 4836, 'swimsuit_of_perpetual_summer': 4837, 'easter_egg': 4838, 'easter': 4839, 'vodka': 4840, 'height_chart': 4841, 'furtrimmed_sleeves': 4842, 'kigurumi': 4843, 'posterior_cleavage': 4844, 'gargoyle': 4845, 'watermelon_print': 4846, 'zmove': 4847, 'zring': 4848, 'scimitar': 4849, 'shiraitodai_school_uniform': 4850, 'wheelbarrow': 4851, 'vocaloid_append': 4852, 'celtic_knot': 4853, 'taiko_sticks': 4854, 'command_spell': 4855, 'm1903_springfield': 4856, 'striped_scrunchie': 4857, 'grey_belt': 4858, 'open_track_jacket': 4859, 'uraeus': 4860, 'p90': 4861, 'snow_on_head': 4862, 'character_hat': 4863, 'kaga_battleship': 4864, 'egasumi': 4865, 'rotary_phone': 4866, 'radome': 4867, 'kotoyoro': 4868, 'breaking': 4869, 'remington_870': 4870, 'closed': 4871, 't_t': 4872, 'gangsta_hold': 4873, 'extraction': 4874, 'alternate_wing_color': 4875, 'age_conscious': 4876, 'hand_on_own_neck': 4877, 'tomato_costume': 4878, 'dominatrix': 4879, 'bondage_outfit': 4880, 'kamina_shades': 4881, 'argyle_bikini': 4882, 'caught': 4883, 'red_sash': 4884, 'carrot_pillow': 4885, 'kadomatsu': 4886, 'comiket': 4887, 'broken_weapon': 4888, 'broken_sword': 4889, 'record': 4890, 'wheel': 4891, 'fortissimo_hair_ornament': 4892, 'dolphin': 4893, 'symbolism': 4894, 'vira_cosplay': 4895, 'patreon_username': 4896, 'dumpling': 4897, 'turkey_food': 4898, 'sepia_background': 4899, 'yumenosaki_school_uniform': 4900, 'ass_shake': 4901, 'knee_to_chest': 4902, 'superstar_granblue_fantasy': 4903, 'kimi_to_boku_no_mirai': 4904, 'marksman_granblue_fantasy': 4905, 'dark_fencer_granblue_fantasy': 4906, 'tenryuu_kantai_collection_cosplay': 4907, 'checkered_neckwear': 4908, 'holding_whistle': 4909, 'checkered_bikini': 4910, 'scorch_marks': 4911, 'promo': 4912, 'ear_twitch': 4913, 'meandros': 4914, 'hardboiled_egg': 4915, 'grey_sailor_collar': 4916, 'ruby_style': 4917, 'pantyhose_under_swimsuit': 4918, 'bikini_removed': 4919, 'sesame_seeds': 4920, 'stomping': 4921, 'thumb_in_pocket': 4922, 'mario_cosplay': 4923, 'visor_armor': 4924, 'mimikaki': 4925, 'sleeve_tug': 4926, 'finger_hug': 4927, 'tongue_grab': 4928, 'polka_dot_ribbon': 4929, 'red_border': 4930, 'cagliostro_granblue_fantasy_cosplay': 4931, 'lei': 4932, 'covered_face': 4933, 'crane_stance': 4934, 'koala': 4935, 'torn_boots': 4936, 'visible_air': 4937, 'plaid_bikini': 4938, 'eguchi_sera_cosplay': 4939, 'ursula_hartmann_cosplay': 4940, 'school_nurse': 4941, 'yuzuhara_konomi_cosplay': 4942, 'aqua_kimono': 4943, 'takanashi_rikka_cosplay': 4944, 'throwing_knife': 4945, 'american_flag_gloves': 4946, 'american_flag_print': 4947, 'in_hat': 4948, 'tower_of_the_sun': 4949, 'e16a_zuiun': 4950, 'flowershaped_pupils': 4951, 'white_wing': 4952, 'thats_not_it': 4953, 'doremy_sweet_cosplay': 4954, 'peacock_feathers': 4955, 'film_grain': 4956, 'tweet': 4957, 'yarn_ball': 4958, 'collar_tug': 4959, 'strawberry_print': 4960, 'strawberry_panties': 4961, 'print_hoodie': 4962, 'doodle': 4963, 'sazanami_kantai_collection_cosplay': 4964, 'bite_mark': 4965, 'heart_pattern': 4966, 'pink_tank_top': 4967, 'sock_dangle': 4968, 'removing_sock': 4969, 'polka_dot_shirt': 4970, 'stopwatch': 4971, 'in_swimsuit': 4972, 'nostrils': 4973, 'nose_hook': 4974, 'misaka_mikoto_cosplay': 4975, 'biribiri': 4976, 'striped_shorts': 4977, 'fishing': 4978, 'bikini_bottom_removed': 4979, 'champagne_flute': 4980, 'folding_chair': 4981, 'the_best_schoolmate_idolmaster': 4982, 'yasogami_school_uniform': 4983, 'grimace': 4984, 'grave': 4985, 'lavender_legwear': 4986, 'aqua_hairband': 4987, 'afro': 4988, 'smallclawed_otter_kemono_friends_cosplay': 4989, 'rhinoceros': 4990, 'rhinoceros_ears': 4991, 'plate_armor': 4992, 'drill_locks': 4993, 'bagel': 4994, 'giant_object': 4995, 'eye_socket': 4996, 'pages': 4997, 'bandaid_on_finger': 4998, 'playstation_vita': 4999, 'panties_over_pantyhose': 5000, 'jump_rope': 5001, 'takao_kantai_collection_cosplay': 5002, 'no_jacket': 5003, 'sleeveless_blouse': 5004, 'black_wristband': 5005, 'weight_conscious': 5006, 'bubble_tea': 5007, 'giant_snake': 5008, 'multicolored_kimono': 5009, 'mini_necktie': 5010, 'phonograph': 5011, 'kibasen': 5012, 'snow_bunny': 5013, 'arawi_keiichi_style': 5014, 'beach': 5015, 'on_desk': 5016, 'extra_mouth': 5017, 'gun_to_head': 5018, 'macaron_hair_ornament': 5019, 'hands_on_anothers_cheeks': 5020, 'pincushion': 5021, 'conductor': 5022, 'trench_coat': 5023, 'calla_lily': 5024, 'stocks': 5025, 'numbered_panels': 5026, 'progression': 5027, 'holding_wrench': 5028, 'i400_kantai_collection_cosplay': 5029, 'hidden_mouth': 5030, 'sparks': 5031, 'floor': 5032, 'red_bikini_bottom': 5033, 'asymmetrical_bikini': 5034, 'lightning': 5035, 'cutoff_jeans': 5036, 'leather_belt': 5037, 'hands_on_own_ass': 5038, 'snow_boots': 5039, 'symbol_ricochet': 5040, 'beige_jacket': 5041, 'cheek_squash': 5042, 'atago_kantai_collection_cosplay': 5043, 'waistcoat': 5044, 'sand': 5045, 'orange_skin': 5046, 'graviton_beam_emitter': 5047, 'energy_weapon': 5048, 'leonzo': 5049, 'nagimaki': 5050, 'sedna_minor_planet': 5051, 'husband_and_wife': 5052, 'bucket_of_water': 5053, 'washpan': 5054, 'basin': 5055, 'saturn': 5056, 'cramped': 5057, 'ojousama_pose': 5058, 'oversized_breast_cup': 5059, 'leather_boots': 5060, 'lipgloss': 5061, 'depth_charge_projector': 5062, 'depth_charge': 5063, 'cuckoo': 5064, 'star_pin': 5065, 'converse': 5066, 'hadouken': 5067, 'sailor_crest': 5068, 'seashell_earrings': 5069, 'announcement_celebration': 5070, 'sports_bikini': 5071, 'kissuisou_uniform': 5072, 'red_pillow': 5073, 'purple_pillow': 5074, 'yellow_pillow': 5075, 'pink_pillow': 5076, 'heart_pillow': 5077, 'star_pillow': 5078, 'blue_pillow': 5079, 'kijin_seija_cosplay': 5080, 'red_suit': 5081, 'poker_chip': 5082, 'augma': 5083, 'more_deban': 5084, 'twohanded': 5085, 'goblin': 5086, 'star_panties': 5087, 'suspenders_gap': 5088, 'drying_hair': 5089, 'drying': 5090, 'cannonballs': 5091, 'mirai_ticket': 5092, 'anchor_earrings': 5093, 'vintage_microphone': 5094, 'gem_uniform_houseki_no_kuni': 5095, 'relaxed': 5096, 'constellation_costume': 5097, 'hello_hoshi_wo_kazoete': 5098, 'meta': 5099, 'cone_on_head': 5100, 'traffic_cone': 5101, 'expressive_clothes': 5102, 'sukusuku_hakutaku': 5103, 'hands_on_own_stomach': 5104, 'tail_chair': 5105, 'capsule': 5106, 'holding_ribbon': 5107, 'startdash': 5108, 'pants_around_one_leg': 5109, 'feather_beret': 5110, 'sentai': 5111, 'pokewood': 5112, 'end_card': 5113, 'math': 5114, 'turning_head': 5115, 'roomba': 5116, 'bloody_dress': 5117, 'chemistry': 5118, 'removing_eyewear': 5119, 'stone_mask_jojo': 5120, 'cake_in_face': 5121, 'birthday_cake': 5122, 'hand_on_table': 5123, 'akuma_homura_cosplay': 5124, 'short_sleeve_sweater': 5125, 'blown_air': 5126, 'pickaxe': 5127, 'white_headband': 5128, 'radio_antenna': 5129, 'shizuma_yoshinori_style': 5130, 'metal_belt': 5131, 'aburaage': 5132, 'shindouji_school_uniform': 5133, 'tampon': 5134, 'joints': 5135, 'torn_sack': 5136, 'furtrimmed_cloak': 5137, 'furtrimmed_hood': 5138, 'makihatayama_hana_cosplay': 5139, 'pig_tail': 5140, 'on_animal': 5141, 'inflatable_raft': 5142, 'persia_cosplay': 5143, 'baggy_shorts': 5144, 'plaid_shorts': 5145, 'takakamo_shizuno_cosplay': 5146, 'nail_biting': 5147, 'thumb_biting': 5148, 'type_89_igou': 5149, 'model': 5150, 'pads': 5151, 'frog_girl': 5152, 'ness_cosplay': 5153, 'plague_doctor': 5154, 'ramie_kirby': 5155, 'jaguar_kemono_friends_cosplay': 5156, 'scientist': 5157, 'gonsan': 5158, 'trigger': 5159, 'sock_ornament': 5160, 'peeing_self': 5161, 'adjusting_gloves': 5162, 'genos_cosplay': 5163, 'disheveled': 5164, 'bushmaster_acr': 5165, 'apron_grab': 5166, 'winged_hairband': 5167, 'green_scarf': 5168, 'stick_poster': 5169, 'crosslaced_legwear': 5170, 'sistrum': 5171, 'neckwear_grab': 5172, 'necktie_grab': 5173, 'felicia_fire_emblem_if_cosplay': 5174, 'mistletoe': 5175, 'red_blazer': 5176, 'pink_wedding_dress': 5177, 'cowering': 5178, 'souseiseki_cosplay': 5179, 'gleam': 5180, 'bud': 5181, 'table_of_contents': 5182, 'dirty_feet': 5183, 'paint_can': 5184, 'ua_school_uniform': 5185, 'micro_bikini_top': 5186, 'weapon_connection': 5187, 'johnny_sfondi_cosplay': 5188, 'tricycle': 5189, 'sleeve_rolled_up': 5190, 'body_markings': 5191, 'dotted_semiquaver': 5192, 'aztec': 5193, 'pumpkin_on_head': 5194, 'leaf_background': 5195, '2010': 5196, 'festival': 5197, 'water_yoyo': 5198, 'waterfall': 5199, 'holding_own_tail': 5200, 'holding_tail': 5201, 'undone': 5202, 'no_animal_ears': 5203, 'shamisen': 5204, 'pink_hoodie': 5205, 'pixel_art': 5206, 'flying_nimbus': 5207, 'demon': 5208, 'tiled': 5209, 'nutkin_cosplay': 5210, 'anal_object_insertion': 5211, 'object_insertion': 5212, 'anal_beads': 5213, 'anal_beads_tail': 5214, 'anal': 5215, 'spoon_bending': 5216, 'fish_girl': 5217, 'zastava_m93_black_arrow': 5218, 'hoto_cocoas_school_uniform': 5219, 'plaid_sailor_collar': 5220, 'low_tied_hair': 5221, 'million_dreams': 5222, 'digital_dissolve': 5223, 'vietnamese_dress': 5224, 'pikachu_hood': 5225, 'pikachu_ears': 5226, 'throwing_poke_ball': 5227, 'you_work_you_lose': 5228, 'striped_bike_shorts': 5229, 'holding_lollipop': 5230, 'kanda_momo_cosplay': 5231, 'black_mittens': 5232, 'multicolored_coat': 5233, 'cleave_gag': 5234, 'cloth_gag': 5235, 'gagged': 5236, 'at_field': 5237, 'cashier': 5238, 'familymart': 5239, 'dr_pepper': 5240, 'spade_earrings': 5241, 'club_shape': 5242, 'east_asian_architecture': 5243, 'architecture': 5244, 'makoto_street_fighter_cosplay': 5245, 'respirator': 5246, 'spiked_boots': 5247, 'blue_border': 5248, 'saigyouji_yuyukos_fan_design': 5249, 'kayari_buta': 5250, 'host': 5251, 'corner': 5252, 'dvd_cover': 5253, 'sayagata': 5254, 'note': 5255, 'abuse': 5256, 'chart': 5257, 'screentones': 5258, 'slug': 5259, 'wetsuit': 5260, 'green_scrunchie': 5261, 'eel': 5262, 'tossing': 5263, 'handkerchief': 5264, 'platform_boots': 5265, 'm950a': 5266, 'tumblr_username': 5267, 'spiked_mace': 5268, 'ball_and_chain': 5269, 'poking_self': 5270, 'argyle_background': 5271, 'pincers': 5272, 'scorpion_girl': 5273, 'stern': 5274, 'cheek_pull': 5275, 'vaio': 5276, 'pleated': 5277, 'spoken_food': 5278, 'aqua_jacket': 5279, 'eliter_3k_splatoon': 5280, 'giant_salamander': 5281, 'lobster': 5282, 'hero_shot_splatoon_2': 5283, 'paint_roller': 5284, 'headache': 5285, 'catchphrase': 5286, 'dishwashing_soap': 5287, 'dual_squelcher_splatoon': 5288, 'mini_splatling_splatoon': 5289, 'black_rock_shooter_character_cosplay': 5290, 'kujikawa_rise_cosplay': 5291, 'icon': 5292, 'white_feathers': 5293, 'fangs_out': 5294, 'cure_heart_cosplay': 5295, 'taut_leotard': 5296, 'green_serafuku': 5297, 'pitcher': 5298, 'knitting': 5299, 'saber_lily_cosplay': 5300, 'mushroom_hair_ornament': 5301, 'overexposure': 5302, 'sailor_jupiter_cosplay': 5303, 'moped': 5304, 'muchourin': 5305, 'green_hakama': 5306, 'bow_dress': 5307, 'hand_kiss': 5308, 'open_bra': 5309, 'imaizumi_kagerou_cosplay': 5310, 'white_hoodie': 5311, 'lazy_eye': 5312, 'glowing_hair': 5313, 'glowing_horns': 5314, 'flower_field': 5315, 'holding_shirt': 5316, 'holding_heart': 5317, 'no_helmet': 5318, 'kirara_gundam_bf_cosplay': 5319, 'pet': 5320, 'baseball_helmet': 5321, 'batting_stance': 5322, 'pearl_bracelet': 5323, 'dart': 5324, 'late': 5325, 'hogtie': 5326, 'bonfire': 5327, 'white_mage_cosplay': 5328, 'holding_pocky': 5329, 'leaning_on_person': 5330, 'throat': 5331, 'showering': 5332, 'polo_shirt': 5333, 'subtitled': 5334, 'whispering': 5335, 'wrist_extended': 5336, 'maternity_dress': 5337, 'akanbe': 5338, 'remington_model_31': 5339, 'mantis_shrimp': 5340, 'sea_slug': 5341, 'flotsam': 5342, 'woodland_pattern': 5343, 'cqc': 5344, 'hk_usp': 5345, 'broken_mirror': 5346, 'blur': 5347, 'pinstripe_suit': 5348, 'pool_table': 5349, 'female_butler': 5350, 'nose_shade': 5351, 'dithering': 5352, 'wrist_grab': 5353, 'eve_elsword_cosplay': 5354, 'bill_watterson_style': 5355, 'pounce': 5356, 'flamethrower': 5357, 'argyle_socks': 5358, 'tsubaki_yayoi_cosplay': 5359, 'cute_module': 5360, 'arm_scrunchie': 5361, 'chick_print': 5362, 'sparkle_print': 5363, 'tatamix': 5364, 'downpants': 5365, 'shorts_down': 5366, 'blue_blazer': 5367, 'revealing_swimsuit_dq': 5368, 'ear_grab': 5369, 'bohegao': 5370, 'double_eyepatch': 5371, 'ragna_the_bloodedge_cosplay': 5372, 'devoured_by_darkness': 5373, 'nazi': 5374, 'totenkopf': 5375, 'cleaning_glasses': 5376, 'tsab_air_military_uniform': 5377, 'ukon_no_chikara': 5378, 'depressed': 5379, 'back_bow': 5380, 'skipping': 5381, 'senjougahara_pose': 5382, 'kashiwa_mochi_food': 5383, 'hishimochi': 5384, 'go_back': 5385, 'ghost_costume': 5386, 'shampoo_hat': 5387, 'bathing': 5388, 'abbreviated_karakusa': 5389, 'furoshiki': 5390, 'laser_rifle': 5391, 'finger_puppet': 5392, 'toilet_paper': 5393, 'adjusting_hair_ornament': 5394, 'rhythmic_gymnastics': 5395, 'gymnastics': 5396, 'kasugano_urara_yes_precure_5_cosplay': 5397, 'double_vertical_stripe': 5398, 'heart_guitar': 5399, 'ribbon_bondage': 5400, 'gerudo_link_cosplay': 5401, 'character_pin': 5402, 'hachikuji_mayoi_cosplay': 5403, 'kagami_mochi': 5404, 'colored_fur': 5405, 'white_fur': 5406, 'checking_watch': 5407, 'fan_over_face': 5408, 'yakubyougami': 5409, 'model_tank': 5410, 'camouflage_jacket': 5411, 'honda_cbr1000rr': 5412, 'hand_on_shoulder': 5413, 'nero_claudius_swimsuit_caster_fate_cosplay': 5414, 'nero_claudius_fate_cosplay': 5415, 'asbel_lhant_cosplay': 5416, 'firelock': 5417, 'flintlock': 5418, 'sponge': 5419, 'happy_party_train': 5420, 'torikoriko_please': 5421, 'labia': 5422, 'okosama_lunch': 5423, 'flower_bracelet': 5424, 'gladiator': 5425, 'bangaa': 5426, 'duel': 5427, 'river': 5428, 'riverbank': 5429, 'shaking_head': 5430, 'butterfly_on_head': 5431, 'neko_nabe': 5432, 'miyuki_fresh_precure_cosplay': 5433, 'mogudan_style': 5434, 'monsterification': 5435, 'kindergarten_teacher': 5436, 'finger_frame': 5437, 'fisheye': 5438, 'foot_wings': 5439, 'promethean_knight': 5440, 'decapitation': 5441, 'giving_up_the_ghost': 5442, 'mushroom_print': 5443, 'barking': 5444, '1998': 5445, 'ribbontrimmed_ornament': 5446, 'lacetrimmed_apron': 5447, 'kodachi': 5448, 'digital_thermometer': 5449, 'thermometer': 5450, 'kindergarten': 5451, 'oar': 5452, 'telecaster': 5453, 'torpedo_surfing': 5454, 'surfing': 5455, 'white_corset': 5456, 'swordfish_airplane': 5457, 'dream_academy_uniform': 5458, 'nue_phrase': 5459, 'rough_time_school': 5460, 'jeanne_darc_alter_santa_lily_cosplay': 5461, 'multicolored_bow': 5462, 'hoshi_no_tsue': 5463, 'no_pussy': 5464, 'senjougahara_hitagi_cosplay': 5465, 'stapler': 5466, 'fleeing': 5467, 'autumn': 5468, 'flashing': 5469, 'constellation_print': 5470, 'fanning_crotch': 5471, 'flight_deck_scroll': 5472, 'shiba_koen_middle_school_uniform': 5473, 'torchic_cosplay': 5474, 'adjusting_goggles': 5475, 'expressive_hair': 5476, 'lost_child': 5477, 'no_hair_bow': 5478, 'pale_face': 5479, 'cure_honey_cosplay': 5480, 'popcorn_cheer': 5481, 'houndstooth': 5482, 'hair_over_face': 5483, 'taut_skirt': 5484, 'pine_flute': 5485, 'tail_grab': 5486, 'pop_sound_blossom': 5487, 'fujiwara_hazuki_cosplay': 5488, 'tramp_stamp': 5489, 'milk_bottle': 5490, 'yellow_umbrella': 5491, 'flailing': 5492, 'pencil_case': 5493, 'plug_in_mouth': 5494, 'yakiniku': 5495, 'shichirin': 5496, 'mixer_cooking': 5497, 'masada_acr': 5498, 'angled_foregrip': 5499, 'magpul': 5500, 'soap': 5501, 'hooters': 5502, 'marten_ears': 5503, 'marten_tail': 5504, 'manila_envelope': 5505, 'smell': 5506, 'grabbing_own_arm': 5507, 'flapping': 5508, 'first_high_school_uniform': 5509, 'hands_on_ground': 5510, 'accessories': 5511, 'checkered_flag': 5512, 'beyond_the_wishes': 5513, 'green_flower': 5514, 'green_rose': 5515, 'pink_diamond_765': 5516, 'groceries': 5517, 'pants_under_skirt': 5518, 'stalk_in_mouth': 5519, 'keizoku_emblem': 5520, 'bkub_style': 5521, 'mika_girls_und_panzer_cosplay': 5522, 'rei_no_serafuku': 5523, 'astaroth_shinrabanshou_cosplay': 5524, 'gradien': 5525, 'caramelldansen': 5526, 'umakoshi_yoshihiko_style': 5527, 'camouflage_footwear': 5528, 'purple_sweater': 5529, 'flower_symbol': 5530, 'hirasawa_yui_cosplay': 5531, 'unryuu_kantai_collection_cosplay': 5532, 'i_heart': 5533, 'hand_on_glass': 5534, 'sheer_clothes': 5535, 'picture_frame': 5536, 'split_theme': 5537, 'crayon': 5538, 'inkling_language': 5539, 'party_horn': 5540, 'sitting_sideways': 5541, 'croquette': 5542, 'pop_filter': 5543, 'sitting_on_chest': 5544, 'nanto_gokuto_ken': 5545, 'katakana': 5546, 'jealous': 5547, 'hirameki_hatsume_cosplay': 5548, 'reverse_xray': 5549, 'claymore_sword': 5550, 'imp': 5551, 'twotone_skin': 5552, 'markings': 5553, 'green_pepper': 5554, 'pepperoni': 5555, 'olive': 5556, 'pizza_background': 5557, 'covered_collarbone': 5558, 'naka_kantai_collection_cosplay': 5559, 'konnyaku_food': 5560, 'train_attendant': 5561, 'starlight_academy_uniform': 5562, 'alarm_clock': 5563, 'looking_at_clock': 5564, 'bunny_panties': 5565, 'cargo_pants': 5566, 'goldfish_print': 5567, 'fish_print': 5568, 'sparkle_background': 5569, 'hakama_pull': 5570, 'ushio_kantai_collection_cosplay': 5571, 'ayanami_kantai_collection_cosplay': 5572, 'tabard_lift': 5573, 'ayanami_rei_cosplay': 5574, 'sakura_mochi': 5575, 'cutting_board': 5576, 'surcoat': 5577, 'washboard': 5578, 'washing': 5579, 'howling': 5580, 'drawr': 5581, 'age_regression': 5582, 'nintendo_switch': 5583, 'adjusting_monocle': 5584, 'striped_vest': 5585, 'vampire_costume': 5586, 'puff_and_slash_sleeves': 5587, 'plume': 5588, 'harisen': 5589, 'living_clothes': 5590, 'bear_hood': 5591, 'torn_umbrella': 5592, 'verticalstriped_gloves': 5593, 'jackal': 5594, 'heart_in_eye': 5595, 'scale_armor': 5596, 'adjusting_leotard': 5597, 'sakurano_otoha_cosplay': 5598, 'arm_on_head': 5599, 'hologram': 5600, 'pants_pull': 5601, 'braiding_hair': 5602, 'torn_necktie': 5603, 'toothpick': 5604, 'sanshoku_dango': 5605, 'hilt': 5606, 'charcoal_medium': 5607, 'focused': 5608, 'wide_oval_eyes': 5609, 'pearl_earrings': 5610, 'elin_tera_cosplay': 5611, 'surprised_arms': 5612, 'nyanpassu': 5613, 'pointing_down': 5614, 'clock_hair_ornament': 5615, 'presenting_panties': 5616, 'exercise': 5617, 'foot_up': 5618, 'amatsukaze_kantai_collection_cosplay': 5619, 'teruzuki_kantai_collection_cosplay': 5620, 'fourth_wall': 5621, 'against_fourth_wall': 5622, 'hourglass': 5623, 'camisole_lift': 5624, 'ice_shaver': 5625, 'plant_hair': 5626, 'fanning': 5627, 'grilling': 5628, 'banana_peel': 5629, 'toddler': 5630, 'holding_branch': 5631, 'famicom': 5632, 'banchou': 5633, 'shimada_arisu_cosplay': 5634, 'plesiosaur': 5635, 'skyline': 5636, 'elizabethan_collar': 5637, 'elbow_on_arm': 5638, 'tsab_executive_military_uniform': 5639, 'fighting': 5640, 'split_image': 5641, 'wall_of_text': 5642, 'caustics': 5643, 'paper_balloon': 5644, 'frog_eyes': 5645, 'driving': 5646, 'capsule_corp': 5647, 'dragon_ball_object': 5648, 'barbell_piercing': 5649, 'jackal_ears': 5650, 'mitakihara_school_uniform': 5651, 'grief_seed': 5652, 'tomoe_mami_cosplay': 5653, 'mami_mogu_mogu': 5654, 'headless': 5655, 'swiss_roll': 5656, 'sakura_kyouko_cosplay': 5657, 'hobble_dress': 5658, 'lacetrimmed_gloves': 5659, 'lipstick_mark': 5660, 'grimoire_of_alice': 5661, 'german_shepherd': 5662, 'knee_blush': 5663, 'dolphin_pendant': 5664, 'facial_scar': 5665, 'nose_bubble': 5666, 'hamster_costume': 5667, 'pant_suit': 5668, 'darjeeling_cosplay': 5669, 'transformation': 5670, 'double_take': 5671, 'big_head': 5672, 'foot_massage': 5673, 'firefly': 5674, 'single_scoop': 5675, 'chocolate_mint_ice_cream': 5676, 'stepladder': 5677, 'antenna_mast': 5678, 'aqua_hat': 5679, 'kazamatsuri_institute_high_school_uniform': 5680, 'sling_bikini_top': 5681, 'moon_print': 5682, 'studs': 5683, 'erection': 5684, 'medical_eyepatch': 5685, 'anna_miller': 5686, 'pedophile': 5687, 'angel_mort': 5688, 'torn_bikini': 5689, 'babel_uniform': 5690, 'fast_ball': 5691, 'wet_tshirt': 5692, 'swimsuit_lift': 5693, 'facial_expressions': 5694, 'animal_bag': 5695, 'ballot_box': 5696, 'cheering': 5697, 'pink_bikini_top': 5698, 'leg_wrap': 5699, 'adjusting_headphones': 5700, 'holding_balloon': 5701, 'asian': 5702, 'dots': 5703, 'thunder_badge': 5704, 'marsh_badge': 5705, 'boulder_badge': 5706, 'soul_badge': 5707, 'rainbow_badge': 5708, 'volcano_badge': 5709, 'earth_badge': 5710, 'master_ball': 5711, 'cascade_badge': 5712, 'flower_tact': 5713, 'petal_print': 5714, 'lion_girl': 5715, 'character_signature': 5716, 'white_earrings': 5717, 'pink_scrunchie': 5718, 'wafer_stick': 5719, 'person_between_breasts': 5720, 'wheel_of_dharma': 5721, 'foot_jewelry': 5722, 'yamabiko': 5723, 'nue': 5724, 'spider': 5725, 'monkey': 5726, 'leg_wings': 5727, 'diffraction_spikes': 5728, 'rug': 5729, 'black_camisole': 5730, 'zero_code_geass_cosplay': 5731, 'merchant_dq3_cosplay': 5732, 'japanese_crested_ibis_kemono_friends_cosplay': 5733, 'mosaic_censoring': 5734, 'fake_censor': 5735, 'large_hat': 5736, 'culottes': 5737, 'dynamo_roller_splatoon': 5738, 'hands_on_own_feet': 5739, 'fur_sweater': 5740, 'low_braid': 5741, 'pins': 5742, 'artificial_vagina': 5743, 'tenga': 5744, 'mickey_mouse_ears': 5745, 'tourmaline': 5746, 'istyle_project': 5747, 'ia': 5748, 'ia_vocaloid_cosplay': 5749, 'sukajan': 5750, 'wet_legwear': 5751, 'wet_socks': 5752, 'tickling': 5753, 'ignite_module': 5754, 'wario_cosplay': 5755, 'ariel_disney_cosplay': 5756, 'fish_costume': 5757, 'paper_hat': 5758, 'paper_kabuto': 5759, 'cheek_bulge': 5760, 'f4u_corsair_personification': 5761, 'polka_dot_umbrella': 5762, 'sliding': 5763, 'blue_umbrella': 5764, 'short_necktie': 5765, 'grenade_pin': 5766, 'elizabeth_bathory_halloween_fate_cosplay': 5767, 'lancer_fateextra_ccc_cosplay': 5768, 'elizabeth_bathory_brave_fate_cosplay': 5769, 'eternal_tiare': 5770, 'juuban_high_school_uniform': 5771, 'harp': 5772, 'princess_sword': 5773, 'piyo_piyo_apron': 5774, 'geass': 5775, 'toy_gun': 5776, 'bowgun': 5777, 'ring_box': 5778, 'resting': 5779, 'monochrome_background': 5780, 'heron': 5781, 'lavender_background': 5782, 'dream_soul': 5783, 'tapir': 5784, 'cyrillic': 5785, 'himematsu_school_uniform': 5786, '2004': 5787, 'vespa': 5788, 'cross_of_saint_peter': 5789, 'invisible_wall': 5790, 'deer_ears': 5791, 'dragon_print': 5792, 'paper_plate': 5793, 'alphabet_blocks': 5794, 'towing': 5795, 'orange_pants': 5796, 'parka': 5797, 'steaming_breath': 5798, 'bad_ass': 5799, 'crosslaced_sandals': 5800, 'bamboo_steamer': 5801, 'hatatan': 5802, 'waist_down': 5803, 'speaker': 5804, 'brown_bikini': 5805, 'tied_jacket': 5806, 'triumph_expression': 5807, 'colored_shadow': 5808, 'lavender_dress': 5809, 'lavender_jacket': 5810, 'firecrackers': 5811, 'smoke_trail': 5812, 'holding_necklace': 5813, 'senshi_ikusa': 5814, 'cure_ace_cosplay': 5815, 'louise_francoise_le_blanc_de_la_valliere_cosplay': 5816, 'pillow_grab': 5817, 'black_gothic_dress_idolmaster': 5818, 'naked_cardigan': 5819, 'cheek_licking': 5820, 'bolverk': 5821, 'holding_condom': 5822, 'ramune': 5823, 'nut_food': 5824, 'bandaged_fingers': 5825, 'pink_armor': 5826, 'wonderful_rush': 5827, 'title_parody': 5828, 'partially_blind': 5829, 'music_start': 5830, 'suntory': 5831, 'poi_goldfish_scoop': 5832, 'goldfish_scooping': 5833, 'summer_festival': 5834, 'kinchaku': 5835, 'pixiv_username': 5836, 'bad_arm': 5837, 'striped_background': 5838, 'coral': 5839, 'spotted_hair': 5840, 'socks_removed': 5841, 'green_jumpsuit': 5842, 'caution_tape': 5843, 'keep_out': 5844, 'white_babydoll': 5845, 'udon': 5846, 'tehepero': 5847, 'daruma_otoshi': 5848, 'amethyst': 5849, 'chasen': 5850, 'green_tea': 5851, 'tea_ceremony': 5852, 'ro500_kantai_collection_cosplay': 5853, 'cello_case': 5854, 'no_choker': 5855, 'happy_shower': 5856, 'cure_happy_pose': 5857, 'sig_550': 5858, 'haro_button_badge': 5859, 'christmas_tree': 5860, 'araki_hirohiko_style': 5861, 'toosaka_rin_cosplay': 5862, 'doily': 5863, 'ashford_academy_uniform': 5864, 'nambu_type_14': 5865, 'dragon_arms': 5866, 'ramram_arms': 5867, 'winged_helmet': 5868, 'dual_braid': 5869, 'pinky_to_mouth': 5870, 'oppai_loli': 5871, 'square_necktie': 5872, 'animal_on_lap': 5873, 'pokeball_symbol': 5874, 'net_ball': 5875, 'highleg_buruma': 5876, 'cross_patty': 5877, 'blunderbuss': 5878, 'exposed_muscle': 5879, 'fractal': 5880, 'keshin_armed': 5881, 'majo_queen_redia_w_armed': 5882, 'drape': 5883, 'hair_brush': 5884, 'furtrimmed_kimono': 5885, 'dog_mask': 5886, 'yellow_capelet': 5887, 'belt_bracelet': 5888, 'bike_shorts_under_shorts': 5889, 'candy_hair_ornament': 5890, 'leeenfield': 5891, 'bitter_melon': 5892, 'cropped_arms': 5893, 'beard': 5894, 'mat': 5895, 'cactus': 5896, 'ninjatou': 5897, 'carrot_hair_ornament': 5898, 'funnels': 5899, 'holding_helmet': 5900, 'spell': 5901, 'tongue_piercing': 5902, 'facial': 5903, 'goblet': 5904, 'bag_removed': 5905, 'buriki_style': 5906, 'kendo': 5907, 'bougu': 5908, 'fish_head': 5909, 'allosaurus': 5910, '404': 5911, 'http_status_code': 5912, 'headwear': 5913, 'wet_floor_sign': 5914, 'spray_bottle': 5915, 'cleaning_brush': 5916, 'janitorial_cart': 5917, 'facing_another': 5918, 'rolling_suitcase': 5919, 'taut_swimsuit': 5920, 'plum_blossoms': 5921, 'swan': 5922, 'stain': 5923, 'eraser': 5924, 'fujoshi': 5925, 'book_to_mouth': 5926, 'sword_over_shoulder': 5927, 'tea_set': 5928, 'ai_ai_gasa': 5929, 'gas_pump_nozzle': 5930, 'hayasui_fleet_oiler': 5931, 'argyle_sweater': 5932, 'embroidery': 5933, 'thrusters': 5934, 'yamaha': 5935, 'lanyard': 5936, 'stuffed_chicken': 5937, 'phone_with_ears': 5938, 'shoulder_necklace': 5939, 'slingshot_tan': 5940, 'play_button': 5941, 'black_lips': 5942, 'usekh_collar': 5943, 'blank_speech_bubble': 5944, 'bikini_top_removed': 5945, 'vanilla_ice_cream': 5946, 'takosan_wiener': 5947, 'golden_spiral': 5948, 'sickle': 5949, 'caltrops': 5950, 'kusarigama': 5951, 'french_kiss': 5952, 'rifle_grenade': 5953, 'type_06_rifle_grenade': 5954, 'masturbation': 5955, 'panties_aside': 5956, 'fingering': 5957, 'razor_blade': 5958, 'sukeban': 5959, 'year_of_the_dragon': 5960, 'hoof_shoes': 5961, 'stuffed_sheep': 5962, 'sheep_ears': 5963, 'furtrimmed_shirt': 5964, 'tuna': 5965, 'fish_bone': 5966, 'vore': 5967, 'timestamp': 5968, 'orange_umbrella': 5969, 'cracked_skin': 5970, 'karakuri_puppet': 5971, 'soldering_iron': 5972, 'crazy_straw': 5973, 'semibreve': 5974, 'lit_fuse': 5975, 'pipe_in_mouth': 5976, 'fuse': 5977, 'hamster_on_head': 5978, 'military_operator': 5979, 'ak74m': 5980, 'greek_cross': 5981, 'holly_hair_ornament': 5982, 'white_santa_costume': 5983, 'bug': 5984, 'sucking': 5985, 'truncheon': 5986, 'beam_rifle': 5987, 'engine': 5988, 'piloting': 5989, 'very_long_tail': 5990, 'jacket_pull': 5991, 'grey_swimsuit': 5992, 'goo_girl': 5993, 'cellphone_camera': 5994, 'tights_day': 5995, 'faceless_female': 5996, 'comb': 5997, 'evil': 5998, 'hair_dryer': 5999, 'shirt_pocket': 6000, 'green_hood': 6001, 'striped_bikini_top': 6002, 'strawberry_tart': 6003, 'net': 6004, 'bird_hair_ornament': 6005, 'animal_hair_ornament': 6006, 'eagle': 6007, 'honda': 6008, 'sandogasa': 6009, 'polka_dot_innertube': 6010, 'beam_axe': 6011, 'perricotento': 6012, 'muzzle_flash': 6013, 'armored_twintails': 6014, 'red_heart': 6015, 'paper_background': 6016, 'red_kerchief': 6017, 'looking_at_animal': 6018, 'transparent_border': 6019, 'walkietalkie': 6020, 'radio': 6021, 'm4_carbine': 6022, 'fuchi_hilt': 6023, 'stamp': 6024, 'kanchuumimai': 6025, 'cloth': 6026, 'radar': 6027, 'uss_princeton_cvl23': 6028, 'kick_scooter': 6029, 'rpg': 6030, 'rpg7': 6031, 'napkin': 6032, 'puzzle_piece': 6033, 'double_barrels': 6034, 'vdv': 6035, 'chinese_knot': 6036, 'socks_over_pantyhose': 6037, 'bullet_necklace': 6038, 'c4': 6039, 'white_suit': 6040, 'magic_trick': 6041, 'cruiser_tank_personification': 6042, 'tarot': 6043, 'the_empress': 6044, 'wii_remote': 6045, 'demon_horn': 6046, 'reindeer_tail': 6047, 'reindeer_ears': 6048, 'hobble': 6049, 'single_stripe': 6050, 'chain_gun': 6051, 'giant_hand': 6052, 'prehensile_tongue': 6053, 'v22_osprey': 6054, '1': 6055, 'teeth_hold': 6056, 'hand_on_eyewear': 6057, 'l1a1': 6058, 'nike': 6059, 'righthand_drive': 6060, 'racecar': 6061, 'vehicle_interior': 6062, 'rollcage': 6063, 'carbon_fiber': 6064, 'tying_boots': 6065, 'sunset': 6066, 'barbed_wire': 6067, 'bow_instrument': 6068, 'orange_kimono': 6069, 'holding_scroll': 6070, 'yellow_hoodie': 6071, 'casting_spell': 6072, 'unbuttoned_pants': 6073, 'brick_floor': 6074, 'diorama': 6075, 'brick_wall': 6076, 'sig_552': 6077, 'stone_floor': 6078, 'label': 6079, 'gauge': 6080, 'valve': 6081, 'sheep_girl': 6082, 'g36': 6083, 'ladybug': 6084, 'peaked_lapels': 6085, 'm1_garand': 6086, 'radish': 6087, 'rattle': 6088, 'mechanic': 6089, 'bandaid_on_cheek': 6090, 'bolt': 6091, 'sheet_music': 6092, 'memory_card': 6093, 'digital_camera': 6094, 'height': 6095, 'external_hard_drive': 6096, 'hands_on_shoulders': 6097, 'panties_around_ankles': 6098, 'ganguro': 6099, 'thick_lips': 6100, 'announcement': 6101, 'muffin': 6102, 'raspberry': 6103, 'berries': 6104, 'lever_action': 6105, 'mares_leg': 6106, 'winchester_model_1892': 6107, 'tight_dress': 6108, 'goat_horns': 6109, 'pentagram_earrings': 6110, 'goat_eyes': 6111, 'exposed': 6112, 'exposed_breasts': 6113, 'satyr': 6114, 'motion_tracker': 6115, 'colonial_marine': 6116, 'm56_smartgun': 6117, 'rickenbacker': 6118, 'swordfish': 6119, 'red_glasses': 6120, 'spiked_shoes': 6121, 'gas_pump': 6122, 'animal_helmet': 6123, 'leg_tattoo': 6124, 'gas_station': 6125, 'go_kart': 6126, 'type_10_tank_personification': 6127, 'bug_spray': 6128, 'dog_lead': 6129, 'heckling': 6130, 'holding_leash': 6131, 'no_hands': 6132, 'blue_sclera': 6133, 'stg44': 6134, 'stahlhelm': 6135, 'panzerschreck': 6136, 'gaiters': 6137, 'palmfist_greeting': 6138, 'aviator_sunglasses': 6139, 'pig_ears': 6140, 'striped_hood': 6141, 'fn_scar_17': 6142, 'magazine_ejection': 6143, 'side_braids': 6144, 'crosshatching': 6145, 'queen': 6146, 'print_footwear': 6147, 'onomatopoeia': 6148, 'brocon': 6149, 'used_tissue': 6150, 'hk_mp5': 6151, 'new_years_eve': 6152, 'torn_jacket': 6153, 'green_wings': 6154, 'head_feathers': 6155, 'black_wedding_dress': 6156, 'wisteria': 6157, 'roots': 6158, 'junk': 6159, '1994': 6160, 'light_machine_gun': 6161, 'sticker': 6162, 'pkm': 6163, 'nigirizushi': 6164, 'adidas': 6165, 'mandragora': 6166, 'angel_french': 6167, 'large_tail': 6168, 'junjou_wear': 6169, 'medium_dress': 6170, 'splatter': 6171, 'marine_corps': 6172, 'warhammer': 6173, 'vought_os2u_kingfisher': 6174, 'uss_iowa_bb61': 6175, 'america': 6176, 'navy': 6177, 'dullahan': 6178, 'hole_in_sock': 6179, 'humming': 6180, 'naked_cape': 6181, 'bandolier': 6182, 'flak_jacket': 6183, 'flashbang': 6184, 'bowling_ball': 6185, 'grey_bow': 6186, 'whale_pillow': 6187, 'playing': 6188, 'acrylic_paint_medium': 6189, 'kittysuit': 6190, 'western': 6191, 'hands_above_head': 6192, 'black_vs_white': 6193, 'canvas_medium': 6194, 'chamomile': 6195, 'undone_belt': 6196, 'hip_armor': 6197, 'avatar_base': 6198, 'maroon_eyes': 6199, 'pinned': 6200, 'clock_tower': 6201, 'arena_company': 6202, 'print_ribbon': 6203, 'fg42': 6204, 'shooting_star': 6205, 'condom_packet_strip': 6206, 'tissue_box': 6207, 'tissue': 6208, 'cd_case': 6209, 'trypophobia': 6210, 'roaring': 6211, 'tyrannosaurus_rex': 6212, 'ar10': 6213, 'painting_nails': 6214, 'concentrating': 6215, 'fish_tank': 6216, 'tail_flower': 6217, 'wrist_flower': 6218, 'goose': 6219, '2002': 6220, 'steinberger': 6221, 'head_on_hand': 6222, 'balancing_on_head': 6223, 'gargantia_contest': 6224, 'ppsh41': 6225, 'ptrs41': 6226, 'oring_swimsuit': 6227, 'eyebrow_piercing': 6228, 'sett': 6229, 'bag_of_chips': 6230, 'umaibou': 6231, 'mp28': 6232, 'character_censor': 6233, 'novelty_censor': 6234, 'choko_cup': 6235, 'pointed_boots': 6236, 'pinwheel': 6237, 'pinwheel_hair_ornament': 6238, 'disapproving_stare': 6239, 'graduation': 6240, 'jagdtiger': 6241, 'against_tree': 6242, 'red_beanie': 6243, 'white_camisole': 6244, 'facetoface': 6245, 'pink_cardigan': 6246, 'yamakasa': 6247, 'lighter': 6248, 'hookah': 6249, 'numbered': 6250, 'toe_socks': 6251, 'tire': 6252, 'key_earrings': 6253, 'samehada': 6254, 'tsuka_handle': 6255, 'saya_scabbard': 6256, 'tsukaito': 6257, 'habaki': 6258, 'ankle_garter': 6259, 'bat_panties': 6260, 'frontprint_panties': 6261, 'scalpel': 6262, 'head_in_hand': 6263, 'camouflage_legwear': 6264, 'sky_print': 6265, 'barrett_m82': 6266, 'barrett_m107': 6267, 'h8k': 6268, 'flying_boat': 6269, 'inconvenient_breasts': 6270, 'fly': 6271, 'tiger_panties': 6272, 'necromancer': 6273, 'neck_tattoo': 6274, 'tengu': 6275, 'orange_hakama': 6276, 'green_fire': 6277, 'stuffed_carrot': 6278, 'lighting': 6279, 'aks74u': 6280, 'krinkov': 6281, 'spetsnaz': 6282, 'upright_straddle': 6283, 'mikan_box': 6284, 'gulf_war': 6285, 'chocochip_camouflage': 6286, '101st_airborne': 6287, 'pasgt_helmet': 6288, 'mk_14_rifle': 6289, 'uninterested': 6290, 'too_many_frills': 6291, 'arachne': 6292, 'spider_girl': 6293, 'carapace': 6294, 'translucent': 6295, 'native_american': 6296, 'blowgun': 6297, 'warbonnet': 6298, 'native_american_headdress': 6299, 'pot_helmet': 6300, 'laurel_crown': 6301, 'saunders_emblem': 6302, 'park_bench': 6303, 'oak_leaf': 6304, 'beats_by_dr_dre': 6305, 'bose': 6306, 'iguana_animal': 6307, 'feet_on_chair': 6308, 'raimon': 6309, 'on_couch': 6310, 'bathtub': 6311, 'bathroom': 6312, 'sink': 6313, 'crescent_earrings': 6314, 'touching_ears': 6315, 'shoe_flower': 6316, 'creepy': 6317, 'tube': 6318, 'skyscraper': 6319, 'bridge': 6320, 'city': 6321, 'webbed_feet': 6322, 'cleaver': 6323, 'star_hat_ornament': 6324, 'kono_lolicon_domome': 6325, 'hair_wings': 6326, 'koto_instrument': 6327, 'buruma_pull': 6328, 'lamb': 6329, 'armadillo': 6330, 'capybara': 6331, 'bathroom_scale': 6332, 'barbecue': 6333, 'opening': 6334, 'ammo_box': 6335, 'browning_m2': 6336, 'too_many_bunnies': 6337, 'bus_stop': 6338, 'ichimegasa': 6339, 'camouflage_paint': 6340, 'shooting_glasses': 6341, 'airsoft': 6342, 'medic': 6343, 'pill': 6344, 'purple_school_swimsuit': 6345, 'weight_gain': 6346, 'kawasaki_ninja_zx10r': 6347, 'slave': 6348, 'tupet': 6349, 'cow': 6350, 'ankle_scrunchie': 6351, 'acog': 6352, 'reflex_sight': 6353, 'mauser_98': 6354, 'micro_bra': 6355, 'breastless_clothes': 6356, 'richelieu_battleship': 6357, 'cancer_disease': 6358, 'chihuahua': 6359, 'poinsettia': 6360, 'wing_ears': 6361, 'selfportrait': 6362, 'truth': 6363, 'picnic_basket': 6364, 'm4_sherman_personification': 6365, 'shoe_strap': 6366, 'multicolored_shirt': 6367, 'raised_fists': 6368, 'white_ensign': 6369, 'arabian': 6370, 'okapi_ears': 6371, 'okapi_tail': 6372, 'rising_sun': 6373, 'flag_background': 6374, 'manekineko': 6375, 'sunburst': 6376, 'bokken': 6377, 'wooden_sword': 6378, 'vs_seeker': 6379, 'himura_kiseki_style': 6380, 'rope_gag': 6381, 'head_on_knees': 6382, 'smelling_feet': 6383, 'barrel': 6384, 'pointing_forward': 6385, 'bonsai': 6386, 'qi_lolita': 6387, 'kimeemaru': 6388, 'bent_elbow': 6389, 'shameimaru_aya_cosplay': 6390, 'drugs': 6391, 'cocaine': 6392, 'swimsuit_tug': 6393, 'notepad': 6394, 'kiryuuin_satsuki_cosplay': 6395, 'hamakaze_kantai_collection_cosplay': 6396, 'cat_paw': 6397, 'tomoeda_elementary_school_uniform': 6398, 'pink_feather': 6399, 'spread_ass': 6400, 'bent_knee': 6401, 'summoning': 6402, 'pantyshot_kicking': 6403, 'blood_drip': 6404, 'black_blindfold': 6405, 'thighhighs_under_boots': 6406, 'kaguya_luna_character_cosplay': 6407, 'traffic_light': 6408, 'signpost': 6409, 'paint_medium': 6410, 'color_ink_medium': 6411, 'road_sign': 6412, 'removing_legwear': 6413, 'bokutachi_wa_hitotsu_no_hikari': 6414, 'blue_bikini_bottom': 6415, 'bokura_no_live_kimi_to_no_life': 6416, 'looking_over_glasses': 6417, 'tail_hug': 6418, 'crucifix': 6419, 'sakura_megumi_cosplay': 6420, 'horseshoe': 6421, 'peeking': 6422, 'kodomo_beer': 6423, 'holding_gloves': 6424, 'bug_bite': 6425, 'string_around_finger': 6426, 'pea_pod': 6427, 'corn': 6428, 'food_themed_background': 6429, 'sk_telecom_t1': 6430, 'kino_makotos_school_uniform': 6431, 'fn_fnc': 6432, 'escalayer_cosplay': 6433, 'beige': 6434, 'glasses_day': 6435, 'furtrimmed_dress': 6436, 'cat_costume': 6437, 'kamoi_kantai_collection_cosplay': 6438, 'aqua_sailor_collar': 6439, 'monster_energy': 6440, 'hair_in_mouth': 6441, 'samoyed_dog': 6442, 'african_wild_dog_tail': 6443, 'african_wild_dog_ears': 6444, 'african_wild_dog_print': 6445, 'sitting_on_floor': 6446, 'brown_leotard': 6447, 'moe_moe_kyun': 6448, 'sailor_senshi_costume': 6449, 'vajra_object': 6450, 'snowflake_print': 6451, 'snowdrop_flower': 6452, 'mage': 6453, 'chef_uniform': 6454, 'mars_symbol': 6455, 'lifting': 6456, 'boulder': 6457, 'tsunokakushi': 6458, 'sig_sauer_p220': 6459, 'recoil': 6460, 'starshaped_glasses': 6461, 'giraffe_ears': 6462, 'giraffe_print': 6463, 'giraffe_horns': 6464, 'fang_necklace': 6465, 'shoulder_tattoo': 6466, 'sidebyside': 6467, 'tiered_tray': 6468, 'sasg': 6469, 'satsuki_kantai_collection_cosplay': 6470, 'wifi_symbol': 6471, 'colored_tips': 6472, 'prosthesis': 6473, 'private_kaisei_elementary_school_uniform': 6474, 'hand_on_own_foot': 6475, 'collared_jacket': 6476, 'satonaka_chie_cosplay': 6477, 'sewing_needle': 6478, 'sewing': 6479, 'spool': 6480, 'old_woman': 6481, 'soundwave_cosplay': 6482, 'decepticon': 6483, 'nautilus_animal': 6484, 'up_sleeve': 6485, 'green_apron': 6486, 'cecilia_alcott_cosplay': 6487, 'paper_texture': 6488, 'soumen': 6489, 'nagashi_soumen': 6490, 'ascii_art': 6491, 'premier_ball': 6492, 'haruka_pokemon_cosplay': 6493, 'nadia_cosplay': 6494, 'kaku_seiga_cosplay': 6495, 'naked_bandage': 6496, 'flying_teardrops': 6497, 'nearly_naked_apron': 6498, 'cure_peace_pose': 6499, 'ogre': 6500, 'asahi_breweries': 6501, 'naked_scarf': 6502, 'hands_on_knee': 6503, 'backboob': 6504, 'lace_panties': 6505, 'cure_black_cosplay': 6506, 'hand_in_panties': 6507, 'n7_armor': 6508, 'm55_argus': 6509, 'sweater_around_neck': 6510, 'shell_hair_ornament': 6511, 'multicolored_swimsuit': 6512, 'pokegear': 6513, 'japari_coin': 6514, 'tadpole_tail': 6515, 'morisawa_yuu_cosplay': 6516, 'tail_lift': 6517, 'backstab': 6518, 'murder': 6519, 'logo_parody': 6520, 'heart_censor': 6521, 'japari_symbol_print': 6522, 'azuma_hideo_style': 6523, 'pet_bowl': 6524, 'parts_exposed': 6525, 'elephant_ears': 6526, 'kagerou_kantai_collection_cosplay': 6527, 'bra_removed': 6528, 'pegasus': 6529, 'souryuu_asuka_langley_cosplay': 6530, 'hair_between_breasts': 6531, 'entry_plug': 6532, 'holding_rope': 6533, 'lance_of_longinus': 6534, 'bident': 6535, 'hairpod': 6536, 'duct_tape': 6537, 'shikinami_asuka_langley_cosplay': 6538, 'checkered_hat': 6539, 'spanish': 6540, 'swirls': 6541, 'punching_at_viewer': 6542, 'royal_robe': 6543, 'delmogeny_uniform': 6544, 'touching_toes': 6545, 'armpit_hold': 6546, 'crane': 6547, 'tsab_naval_military_uniform': 6548, 'wanted': 6549, 'yellow_scrunchie': 6550, 'shirt_down': 6551, 'nijigasaki_academy_uniform': 6552, 'sweet_crystal': 6553, 'plague_doctor_mask': 6554, 'eyeball_hair_ornament': 6555, 'covering_eyes': 6556, 'holding_clover': 6557, 'bluebird': 6558, 'heartshaped_goggles': 6559, 'usada_hikaru_cosplay': 6560, 'frilled_shawl': 6561, 'rio_rollins_cosplay': 6562, 'lowleg_skirt': 6563, 'ankles': 6564, 'flight_attendant': 6565, 'gift_bag': 6566, 'locket': 6567, 'walking_on_liquid': 6568, 'sitting_on_hand': 6569, 'panda_costume': 6570, 'zanshomimai': 6571, 'ishikei_style': 6572, 'hair_net': 6573, 'farmer': 6574, 'hoe': 6575, 'mansion': 6576, 'scarlet_devil_mansion': 6577, 'bubble_filter': 6578, 'ear_visible_through_hair': 6579, 'asashio_kantai_collection_cosplay': 6580, 'grey_bra': 6581, 'safety_pin': 6582, 'rubble': 6583, 'sugar_cube': 6584, 'tamagokake_gohan': 6585, 'soy_sauce': 6586, 'grape_hair_ornament': 6587, 'wheat_field': 6588, 'wheat': 6589, 'energy_beam': 6590, 'walkure_macross_delta': 6591, 'string_choker': 6592, 'film_reel': 6593, 'wood': 6594, 'moon_phases': 6595, 'purple_fire': 6596, 'jacket_over_swimsuit': 6597, 'thai': 6598, 'holding_jacket': 6599, 'can_to_cheek': 6600, 'flute': 6601, 'funded': 6602, 'onepiece_thong': 6603, 'hydra_splatling_splatoon': 6604, 'backless_pants': 6605, 'metal': 6606, 'incandescence': 6607, 'anvil': 6608, 'leg_grab': 6609, 'oring_panties': 6610, 'notched_ear': 6611, 'haramaki': 6612, 'trash_bag': 6613, 'youkai_watch_object': 6614, 'pendant_watch': 6615, 'myoudou_gakuen_high_school_uniform': 6616, 'seaport_hime_cosplay': 6617, 'symmetry': 6618, 'narrowed_eyes': 6619, 'stuffed_pegasus': 6620, 'indian_clothes': 6621, 'akagi_aircraft_carrier': 6622, 'tape_measure': 6623, 'bear_paws': 6624, 'hyottoko_mask': 6625, 'hata_no_kokoro_cosplay': 6626, 'monkey_mask': 6627, 'hannya': 6628, 'in_palm': 6629, 'severed_head': 6630, 'spoken_dollar_sign': 6631, 'circle_cut': 6632, 'chrysanthemum': 6633, 'volkswagen_golf': 6634, 'volkswagen': 6635, 'fake_cover': 6636, 'rally_car': 6637, 'box_art': 6638, 'tipsy': 6639, 'cover_image': 6640, 'calendar': 6641, 'alpaca_suri_kemono_friends_cosplay': 6642, 'stilts': 6643, 'akeome': 6644, 'hand_on_forehead': 6645, 'ankleband': 6646, 'multiple_girls': 6647, 'wet_face': 6648, 'shirt_around_waist': 6649, 'saxophone': 6650, 'okita_souji_fate_cosplay': 6651, 'urn': 6652, 'liquor': 6653, 'horn_grab': 6654, 'type_91_armorpiercing_shell': 6655, 'naval_flag': 6656, 'hotel_yamato': 6657, 'kikumon': 6658, 'mint': 6659, 'cocktail': 6660, 'rose_print': 6661, 'stenciled_rose': 6662, 'fat_folds': 6663, 'yellow_blouse': 6664, 'diamond_shaped_buttons': 6665, 'green_collar': 6666, 'self_bondage': 6667, 'groping': 6668, 'tan_skirt': 6669, 'blindfold_slip': 6670, 'consensual_tentacles': 6671, 'myrtenaster': 6672, 'paizuri_invitation': 6673, 'f4f_wildcat': 6674, 'omamori': 6675, 'deep_aqua_mirror': 6676, 'bitten_apple': 6677, 'top_pull': 6678, 'windowboxed': 6679, 'platform_truck': 6680, 'too_many_books': 6681, 'dropping': 6682, 'tail_hold': 6683, 'rubbing': 6684, 'implied_pantyshot': 6685, 'cutaway': 6686, 'room': 6687, 'looking_out_window': 6688, 'alternate_color_school_swimsuit': 6689, 'yellow_swimsuit': 6690, 'oversized_limbs': 6691, 'orange_leotard': 6692, 'frilled_bikini_bottom': 6693, 'kazuki_mai_cosplay': 6694, 'no_text': 6695, 'lifting_person': 6696, 'gerwalk': 6697, 'black_collar': 6698, 'grey_hairband': 6699, 'belly_grab': 6700, 'refraction': 6701, 'stepped_on': 6702, 'counting_money': 6703, 'genryuusai_maki_cosplay': 6704, 'frilled_vest': 6705, 'pink_pupils': 6706, 'takenoko_no_sato_food': 6707, 'kinoko_no_yama': 6708, 'patches': 6709, 'wringing': 6710, 'sitting_on_ground': 6711, 'no_neck': 6712, 'energy_blade': 6713, 'yakult': 6714, 'inverted_cross': 6715, 'hallway': 6716, 'college_shirt': 6717, 'widows_peak': 6718, 'cutie_mark': 6719, 'adjusting_strap': 6720, 'kanabou': 6721, 'wavy_eyebrows': 6722, 'les_paul': 6723, 'hanazono_yumi_cosplay': 6724, 'scratches': 6725, 'yuudachi_kantai_collection_cosplay': 6726, 'fanning_face': 6727, 'akizuki_kantai_collection_cosplay': 6728, 'poi_face': 6729, 'wringing_clothes': 6730, 'faris_nyannyan_cosplay': 6731, 'darth_vader_cosplay': 6732, 'removing_helmet': 6733, 'roundbottom_flask': 6734, 'red_geta': 6735, 'long_nose': 6736, 'gradient_skirt': 6737, 'bow_legwear': 6738, 'sitting_on_tree_stump': 6739, 'mole_animal': 6740, 'sleeping_upright': 6741, 'dissolving_clothes': 6742, 'dissolving': 6743, 'marie_rose_cosplay': 6744, 'yuzuriha_inori_cosplay': 6745, 'void_guilty_crown': 6746, 'materia': 6747, 'mechanical_tail': 6748, 'tasting': 6749, 'yakisoba': 6750, 'panties_over_bike_shorts': 6751, 'mask_over_one_eye': 6752, 'pitchfork': 6753, 'single_overkneehigh': 6754, 'pp91_kedr': 6755, 'bean_bag': 6756, 'juggling': 6757, 'ok_sign': 6758, 'hair_weapon': 6759, 'burning_hair_ties': 6760, 'sailor_onepiece_swimsuit': 6761, 'bowtie_removed': 6762, 'headshop': 6763, 'cat_on_shoulder': 6764, 'jackolantern_earrings': 6765, 'bikesuit': 6766, 'biker_clothes': 6767, 'power_lady_cosplay': 6768, 'wrestling_outfit': 6769, 'barcode_tattoo': 6770, 'hk_g41': 6771, 'through_wall': 6772, 'animal_on_hand': 6773, 'hands_on_anothers_neck': 6774, 'snort': 6775, 'pier': 6776, 'lyrics': 6777, 'cassette_tape': 6778, 'torn_hakama': 6779, 'victory_pose': 6780, 'charles_schulz_style': 6781, 'beretta_model_38': 6782, 'cantaloupe': 6783, 'plaid_sweater': 6784, 'untucked': 6785, 'crazy': 6786, 'trowel': 6787, 'calligraphy': 6788, 'impossible_swimsuit': 6789, 'rake': 6790, 'cherry_knot': 6791, 'checkered_vest': 6792, 'daffodil': 6793, 'vest_removed': 6794, 'pen_in_pocket': 6795, 'postcard': 6796, 'smelling_flower': 6797, 'single_wrist_cuff': 6798, 'troll_face': 6799, 'ooarai_emblem': 6800, 'turretless_tank': 6801, 'horns_pose': 6802, 'frisbee': 6803, 'utility_belt': 6804, 'spread_armpit': 6805, 'chicken_food': 6806, 'angel_wing_uniform': 6807, 'character_hair_ornament': 6808, 'double_bass': 6809, 'marimo': 6810, 'poop': 6811, 'moose_ears': 6812, 'tokiwadai_school_uniform': 6813, 'maroon_legwear': 6814, 'splattershot_jr_splatoon': 6815, 'aozora_jumping_heart': 6816, 'sailor_saturn_cosplay': 6817, 'croissant': 6818, 'micro_shorts': 6819, 'harley_quinn_cosplay': 6820, 'spoken_skull': 6821, 'chiappa_rhino': 6822, 'hand_under_shirt': 6823, 'hand_under_clothes': 6824, 'toriyama_akira_style': 6825, 'face_down': 6826, 'exploding_clothes': 6827, 'stomach_tattoo': 6828, 'tulip': 6829, 'heart_tail': 6830, 'miclone': 6831, 'sms': 6832, 'maclone': 6833, 'celtic_cross': 6834, 'orange_vest': 6835, 'fuuka_academy_uniform': 6836, 'miyamori_school_uniform': 6837, 'broken_floor': 6838, 'oppai_mochi': 6839, 'shoulder_massage': 6840, 'feather_dress': 6841, 'heavy': 6842, 'black_sun': 6843, 'atom': 6844, 'candlelight': 6845, 'sun_print': 6846, 'male_focus': 6847, 'dollar_bill': 6848, 'chin_stroking': 6849, 'burning_hand': 6850, 'naked_suspenders': 6851, 'blue_fire': 6852, 'man_face': 6853, 'clapping': 6854, 'robotic_legs': 6855, 'fireball': 6856, 'stielhandgranate': 6857, 'video_game': 6858, 'slam': 6859, 'pants_down': 6860, 'wok': 6861, 'chicken_costume': 6862, 'iowa_kantai_collection_cosplay': 6863, 'torn_gloves': 6864, 'thumbs_down': 6865, 'forked_tongue': 6866, 'black_hands': 6867, 'leopard_ears': 6868, 'leopard_tail': 6869, 'august1st': 6870, 'recycle_bin': 6871, 'pen_medium': 6872, 'yellow_sky': 6873, 'ohta_masahiko': 6874, 'welsh_corgi': 6875, 'hand_to_neck': 6876, 'pregnancy_test': 6877, 'lacetrimmed_choker': 6878, 'lectern': 6879, 'dazzle_paint': 6880, 'fan_speaking': 6881, 'death_flag': 6882, 'failure': 6883, 'checkered_background': 6884, 'sitting_on_tail': 6885, 'alpaca_tail': 6886, 'horizontal_pupils': 6887, 'lacetrimmed_collar': 6888, 'fingerprint': 6889, 'eclair_kiddy_grade_cosplay': 6890, 'dog_food': 6891, 'swimming': 6892, 'in_cup': 6893, 'waha': 6894, 'fourleaf_clover_hair_ornament': 6895, 'on_shoulder': 6896, 'nagai_gou_style': 6897, 'pointing_sword': 6898, 'in_basket': 6899, 'frilled_crown': 6900, 'gentoo_penguin': 6901, 'mismatched_sclera': 6902, 'bread_eating_race': 6903, 'hanged': 6904, 'conveyor_belt': 6905, 'helicopter_hair': 6906, 'first_aid_kit': 6907, 'lily_white_cosplay': 6908, 'computer_keyboard': 6909, 'racism': 6910, 'tart_food': 6911, 'crystal_carillon': 6912, 'cone': 6913, 'in_tree': 6914, 'sitting_in_tree': 6915, 'shirt_grab': 6916, 'pasta': 6917, 'spaghetti': 6918, 'mechanical_ears': 6919, 'hat_loss': 6920, 'bead_bracelet': 6921, 'hk_mp7': 6922, 'pdw': 6923, 'sagging_breasts': 6924, 'blue_santa_costume': 6925, 'shikigami': 6926, 'rooster': 6927, 'nero_claudius_bride_fate_cosplay': 6928, 'popsicle_stick': 6929, 'hand_biting': 6930, 'prehensile_tail': 6931, 'messy_room': 6932, 'bruce_lees_jumpsuit': 6933, 'fumitan_admoss_cosplay': 6934, 'bar_censor': 6935, 'the_genesis': 6936, 'glasgow_smile': 6937, 'hitachi_magic_wand': 6938, 'massager': 6939, 'cicada': 6940, 'butterfly_net': 6941, 'hand_net': 6942, 'reclass_battleship_cosplay': 6943, 'holding_binoculars': 6944, 'impossible_hair': 6945, 'maruyu_kantai_collection_cosplay': 6946, 'yukikaze_kantai_collection_cosplay': 6947, 'double_sided_wrench': 6948, 'nyan_ko_module': 6949, 'time_signature': 6950, 'sharp_sign': 6951, 'butterfly_on_hair': 6952, 'dandelion': 6953, 'footprints': 6954, 'orangeframed_eyewear': 6955, 'osanpo_style_module': 6956, 'aqua_shirt': 6957, 'cutting': 6958, 'soda_bottle': 6959, 'gibson': 6960, 'mikupa': 6961, 'shippou_pattern': 6962, 'core': 6963, 'single_thigh_boot': 6964, 'bandaid_on_foot': 6965, 'backpack_removed': 6966, 'toga': 6967, 'necktie_on_head': 6968, 'spring_rider': 6969, 'keytar': 6970, 'shop': 6971, 'counter': 6972, 'dvddvd': 6973, 'blue_apron': 6974, 'punkish_gothic': 6975, 'carabinieri': 6976, 'selfpropelled_gun': 6977, 'semovente_9053': 6978, 'kibina_high_school_uniform': 6979, 'team_rocket': 6980, 'puppy': 6981, 'mail': 6982, 'eye_of_horus': 6983, 'glowing_staff': 6984, 'debris': 6985, 'finger_sucking': 6986, 'finger_in_anothers_mouth': 6987, 'furutaka_kantai_collection_cosplay': 6988, 'violet_flower': 6989, 'onbashira': 6990, 'inaba_tewi_cosplay': 6991, 'stone': 6992, 'alternate_hair_ornament': 6993, 'cowgirl_position': 6994, 'girl_on_top': 6995, 'santa_gloves': 6996, 'argetlahm': 6997, 'great_ball': 6998, 'team_rainbow_rocket_uniform': 6999, 'uncolored': 7000, 'holding_bucket': 7001, 'green_santa_costume': 7002, 'charging': 7003, 'lollipop_hip_hop': 7004, 'donquixote_doflamingo_cosplay': 7005, 'shorts_under_dress': 7006, 'dark_power': 7007, 'black_killers_phantom_of_the_kill': 7008, 'scarf_removed': 7009, 'holding_star': 7010, 'multicolored_shorts': 7011, 'fish_hair_ornament': 7012, 'stargazy_pie': 7013, 'mast': 7014, 'taking_picture': 7015, 'recording': 7016, 'astronaut': 7017, 'although_she_hurriedly_put_on_clothes': 7018, 'jewelry_box': 7019, 'bollard': 7020, 'car_keys': 7021, 'morrigan_aensland_cosplay': 7022, 'bamboo_forest': 7023, 'tug': 7024, 'gradient_outline': 7025, 'maroon_skirt': 7026, 'torn_panties': 7027, 'beretta_m1934': 7028, 'countdown': 7029, 'varia_suit': 7030, 'piggyback': 7031, 'eye_contact': 7032, 'bloodshot_eyes': 7033, 'take_it_home': 7034, 'sidetie_swimsuit': 7035, 'lilith_aensland_cosplay': 7036, 'blue_lipstick': 7037, 'kafuu_chinos_school_uniform': 7038, 'takoyaki': 7039, 'white_bike_shorts': 7040, 'tedeza_rizes_school_uniform': 7041, 'anpan': 7042, 'whipped_cream': 7043, 'lily_shironeko_project': 7044, 'hishaku': 7045, 'hijiri_byakuren_cosplay': 7046, 'jet': 7047, 'b2_spirit': 7048, 'bomber': 7049, 'swimsuit_tan': 7050, 'lavender_skin': 7051, 'leg_hold': 7052, 'toy_sword': 7053, 'spoken_sweatdrop': 7054, 'apple_o_archer': 7055, 'kagune_tokyo_ghoul': 7056, 'lip_biting': 7057, 'forced_smile': 7058, 'enma_mythology': 7059, 'pointy_boots': 7060, 'mechanical_leg': 7061, 'white_tank_top': 7062, 'spiked_choker': 7063, 'makinami_mari_illustrious_cosplay': 7064, 'licking_blood': 7065, 'rising_liuid': 7066, 'looking_ahead': 7067, 'dirty': 7068, 'mud': 7069, 'inflatable_toy': 7070, 'inflatable_dolphin': 7071, 'jazz_bass': 7072, 'carmen_persona_5_cosplay': 7073, 'fishnet_top': 7074, 'hinano_high_school_uniform': 7075, 'veil_lift': 7076, 'aichan_tawawa_cosplay': 7077, 'print_obi': 7078, 'haneri': 7079, 'evoker': 7080, 'onsen_symbol': 7081, 'isopod': 7082, 'cure_pine_cosplay': 7083, 'seiou_gakuen_school_uniform': 7084, 'ears_up': 7085, 'gattai': 7086, 'falling_leaves': 7087, 'ashes': 7088, 'disintegration': 7089, 'death': 7090, 'torn_hat': 7091, 'torn_ribbon': 7092, 'strawberry_blossoms': 7093, 'heart_straw': 7094, 'wind_chime': 7095, 'withered': 7096, 'red_moon': 7097, 'print_bloomers': 7098, 'gungnir_weapon': 7099, 'holding_cross': 7100, 'whale_hair_ornament': 7101, 'fishing_line': 7102, 'fishing_hook': 7103, 'tripping': 7104, 'pigeon': 7105, 'stuffed_bird': 7106, 'starry_sky': 7107, 'pure_girls_project': 7108, 'kokuhaku_biyori_desu': 7109, 'nut_hardware': 7110, 'train': 7111, 'sunbeam': 7112, 'station': 7113, 'scenery': 7114, 'freezer': 7115, 'skirt_up': 7116, 'imminent_kiss': 7117, 'adjustable_wrench': 7118, 'wiping_sweat': 7119, 'kappamaki': 7120, 'sniper': 7121, 'hat_belt': 7122, 'pelican': 7123, 'head_biting': 7124, 'too_bad_it_was_just_me': 7125, 'writing_on_hand': 7126, 'striped_footwear': 7127, 'lum_cosplay': 7128, 'talking_on_phone': 7129, 'fountain_pen': 7130, 'fake_screenshot': 7131, 'gradient_dress': 7132, 'gradient_footwear': 7133, 'gradient_ribbon': 7134, 'eel_hat': 7135, 'mortarboard': 7136, 'multicolored_ribbon': 7137, 'picking_up': 7138, 'blue_mittens': 7139, 'frozen_frog': 7140, 'frozen': 7141, 'icelandic_flag': 7142, 'iceland': 7143, 'dress_grab': 7144, 'hippopotamus_ears': 7145, 'breast_padding': 7146, 'choco_ring': 7147, 'twist_doughnut': 7148, 'double_chocolate_doughnut': 7149, 'old_fashion_honey': 7150, 'strawberry_ring': 7151, 'angel_cream': 7152, 'oldfashioned_doughnut': 7153, 'sega_dreamcast': 7154, 'adjusting_earphones': 7155, 'tomori_nao_cosplay': 7156, 'orange_flower': 7157, 'relay_baton': 7158, 'garnet_rod': 7159, 'ohitsu': 7160, 'rice_spoon': 7161, 'leg_cutout': 7162, 'clothes_in_mouth': 7163, 'blue_sash': 7164, 'headband_removed': 7165, 'machine_pistol': 7166, 'neck_scar': 7167, 'lightning_hair': 7168, 'hair_slicked_back': 7169, 'unfastened': 7170, 'lacetrimmed_socks': 7171, 'pointy_breasts': 7172, 'ilya_kuvshinov_style': 7173, 'plaid_trim': 7174, 'karakusa_pattern': 7175, 'tsurumaki_maki_cosplay': 7176, 'heart_hair': 7177, 'hair_bead': 7178, 'kazami_mizuho_cosplay': 7179, 'animal_band_panties': 7180, 'person_on_head': 7181, 'oring_choker': 7182, 'short_pointy_ears': 7183, 'platform_heels': 7184, 'yamamaya': 7185, 'tombstone': 7186, 'smudge': 7187, 'ak47': 7188, 'bad_gun_anatomy': 7189, 'listening_to_music': 7190, 'chocolate_chip_cookie': 7191, 'mont_blanc_food': 7192, 'cream_puff': 7193, 'raven_animal': 7194, 'shadow_puppet': 7195, 'nib_pen_medium': 7196, 'snail': 7197, 'femdom': 7198, 'persimmon': 7199, 'i': 7200, 'puffed_cheeks': 7201, 'break_action': 7202, 'sh60_seahawk': 7203, 'sai_weapon': 7204, 'antler_sai': 7205, 'projected_inset': 7206, 'hamster_ears': 7207, 'clothed_pokemon': 7208, 'ryuujou_kantai_collection_cosplay': 7209, 'daijoubu_oppai_momu': 7210, 'ikazuchi_kantai_collection_cosplay': 7211, 'headwear_writing': 7212, 'majorette': 7213, 'marching_band_baton': 7214, 'marching_band': 7215, 'bunny_head': 7216, 'raccoon_costume': 7217, 'sakugawa_school_uniform': 7218, 'slender': 7219, 'hedgehog': 7220, 'reins': 7221, 'cassock': 7222, 'nyokai': 7223, 'floating_book': 7224, 'bloody_hair': 7225, 'rape_face': 7226, 'desert': 7227, 'asphyxiation': 7228, 'flaming_sword': 7229, 'worried': 7230, 'undone_bowtie': 7231, 'neck_bow': 7232, 'borrowed_design': 7233, 'zun_reference': 7234, 'drum_set': 7235, 'sitting_on_drum': 7236, 'white_pillow': 7237, 'bras_dhonneur': 7238, 'bend': 7239, 'camel_ears': 7240, 'orange_sweater': 7241, 'camel_tail': 7242, 'naruko_instrument': 7243, 'yin_yang_orb': 7244, 'squid_girl': 7245, 'shijou_takane_cosplay': 7246, 'brown_bra': 7247, 'golem': 7248, 'brown_panties': 7249, 'impossible_sweater': 7250, 'outseal': 7251, 'clown_nose': 7252, 'funchuk_arms': 7253, 'yellow_pants': 7254, 'clown': 7255, 'polka_dot_pants': 7256, 'satan_saber': 7257, 'verone_gakuin_cheerleader_uniform': 7258, 'stewardess': 7259, 'stahn_aileron_cosplay': 7260, 'verniy_kantai_collection_cosplay': 7261, 'grey_vest': 7262, 'clothes_sniffing': 7263, 'blazblue_insignia': 7264, 'undercut': 7265, 'white_sky': 7266, 'hand_on_goggles': 7267, 'sitting_on_pillow': 7268, 'oiran': 7269, 'role_reversal': 7270, 'attacking_viewer': 7271, 'red_scrunchie': 7272, 'condiment': 7273, 'himeya_company_uniform': 7274, 'dark_magician_girl_cosplay': 7275, 'ginkgo_leaf': 7276, 'breast_poke': 7277, 'howa_type_64': 7278, 'rakuyo_bloodborne': 7279, 'double_blade': 7280, 'ito_yoshihiko': 7281, 'white_umbrella': 7282, 'gunkanmaki': 7283, 'ikura_food': 7284, 'lowcut': 7285, 'boomerang': 7286, 'dolphin_hair_ornament': 7287, 'king_shakalaka_cosplay': 7288, 'creature_on_head': 7289, 'heart_eyes': 7290, 'nintendo_dsi': 7291, 'yotsuboshi_academy_uniform': 7292, 'rectangular_eyewear': 7293, 'leotard_pull': 7294, 'hood_basket': 7295, 'baby_penguin': 7296, 'horizon': 7297, 'hollow_eyes': 7298, 'beige_dress': 7299, 'matching_outfit': 7300, 'twotone_dress': 7301, 'lacetrimmed_legwear': 7302, 'cowter': 7303, 'pink_collar': 7304, 'hair_behind_eyewear': 7305, 'id_card': 7306, 'oni_cutout': 7307, 'mamemaki': 7308, 'visible_ears': 7309, 'swinging': 7310, 'dice_hair_ornament': 7311, 'kyubey_cosplay': 7312, 'hairclip_removed': 7313, 'vomiting_rainbows': 7314, 'tearing_clothes': 7315, 'sideseamed_legwear': 7316, 'arm_pillow': 7317, 'cupping_hands': 7318, 'stroking_cheek': 7319, 'hockey_stick': 7320, 'cat_slippers': 7321, 'hand_out': 7322, 'incoming_pocky_kiss': 7323, 'miniature': 7324, 'model_ship': 7325, 'suzuya_cruiser': 7326, 'suzuya_kantai_collection_cosplay': 7327, 'brown_blazer': 7328, 'bush': 7329, 'akatsuki_kantai_collection_cosplay': 7330, 'naked_necktie': 7331, 'hickey': 7332, 'christmas_tree_hair_ornament': 7333, 'legendary_pokemon': 7334, 'yassai_mossai': 7335, 'snapping_fingers': 7336, 'chewing': 7337, 'crumbs': 7338, 'out_of_character': 7339, 'goodbye': 7340, 'nakabayashi_yoshitakas_maid_uniform': 7341, 'bishamonten_cosplay': 7342, 'ornate': 7343, 'pelt': 7344, 'hooded_dress': 7345, 'chipmunk': 7346, 'fingersmile': 7347, 'single_head_wing': 7348, 'yellow_teeth': 7349, 'stuffed_fish': 7350, 'squid_costume': 7351, 'grocery_bag': 7352, 'gashapon': 7353, 'camisole_over_clothes': 7354, 'gym_bag': 7355, 'kokeshi': 7356, 'shibafu_glock23_style': 7357, 'yellow_apron': 7358, 'stabbing': 7359, 'sig_sauer_p226': 7360, 'search_bar': 7361, 'toepoint': 7362, 'saishi': 7363, 'hinamatsuri': 7364, 'gotenks_cosplay': 7365, 'kasumi_kantai_collection_cosplay': 7366, 'adelie_penguin': 7367, 'emperor_penguin': 7368, 'little_penguin': 7369, 'lineup': 7370, 'rockhopper_penguin': 7371, 'painting': 7372, 'ducking': 7373, 'widescreen': 7374, 'hole': 7375, 'uneven_twintails': 7376, 'clock_eyes': 7377, 'multiple_horns': 7378, 'brushing_teeth': 7379, 'caduceus': 7380, 'beetle': 7381, 'dish': 7382, 'on_lap': 7383, 'komeiji_koishi_cosplay': 7384, 'shiny_tambourine': 7385, 'topaz_stone': 7386, 'ketchup_bottle': 7387, 'strapless_swimsuit': 7388, 'print_bra': 7389, 'guzma_pokemon_cosplay': 7390, 'luna_sailor_moon_human': 7391, 'bluray_cover': 7392, 'kibito_high_school_uniform': 7393, 'hand_on_foot': 7394, 'removing_hat': 7395, 'goggles_removed': 7396, 'fanning_self': 7397, 'piccolo_cosplay': 7398, 'turban': 7399, 'shiny_rod': 7400, 'kickstarter': 7401, 'paint_stains': 7402, 'bloody_knife': 7403, 'palette_knife': 7404, 'white_rope': 7405, 'cutlass_sword': 7406, 'belly_dancing': 7407, 'american': 7408, 'robotic_parts': 7409, 'human_weapon': 7410, 'moccasins': 7411, 'akemi_homura_cosplay': 7412, 'puma_ag': 7413, 'europass': 7414, '2008': 7415, 'sport': 7416, 'playing_sports': 7417, 'jersey': 7418, 'headphones_removed': 7419, 'tiger_costume': 7420, 'sailor_moon_cosplay': 7421, 'x_x': 7422, 'gamepad': 7423, 'sega_saturn': 7424, 'pumpkin_pants': 7425, 'flaming_skull': 7426, 'floating_skull': 7427, 'shoebill': 7428, 'holding_hose': 7429, 'no_eyes': 7430, 'detached_leggings': 7431, 'tribal': 7432, 'cammy_white_cosplay': 7433, 'money_hold': 7434, 'kazekoshi_school_uniform': 7435, 'npc_trainer': 7436, 'symbol': 7437, 'manly': 7438, 'masu': 7439, 'determined': 7440, 'thermos': 7441, 'berlin_cathedral_church': 7442, 'gummy_bear': 7443, 'church': 7444, '88_flak': 7445, 'accordion': 7446, 'nutcracker': 7447, 'bf_109': 7448, 'taiko_drum': 7449, 'school_uniform_yuyushiki': 7450, 'verticalstriped_pants': 7451, '70s': 7452, 'bellbottoms': 7453, 'kaleidostick': 7454, 'oven_mitts': 7455, 'torn_apron': 7456, 'sharingan': 7457, 'female_pov': 7458, 'yuri': 7459, 'hand_tattoo': 7460, 'ruyi_jingu_bang': 7461, 'wiping': 7462, 'reflective_floor': 7463, 'blood_sword': 7464, 'chest_jewel': 7465, 'reindeer': 7466, 'cameo': 7467, 'pokedex': 7468, '3koma': 7469, 'city_lights': 7470, 'moonlight': 7471, 'tuxedo': 7472, 'merumo_cosplay': 7473, 'magatama_necklace': 7474, 'vega_cosplay': 7475, 'child_drawing': 7476, 'oda_uri': 7477, 'family_crest': 7478, 'gold_buttons': 7479, 'french_flag': 7480}\n"
          ],
          "name": "stdout"
        },
        {
          "output_type": "execute_result",
          "data": {
            "text/plain": [
              "7480"
            ]
          },
          "metadata": {},
          "execution_count": 2
        }
      ]
    },
    {
      "cell_type": "code",
      "metadata": {
        "colab": {
          "base_uri": "https://localhost:8080/"
        },
        "id": "uVZzALg34JSU",
        "outputId": "24676ddc-83d1-4e6c-df7d-11a26da565cd"
      },
      "source": [
        "import random\n",
        "\n",
        "def my_tokenize(string, pad=50, randomize=True):\n",
        "\n",
        "    seq = []\n",
        "\n",
        "    for word in string.strip().split(\" \"):\n",
        "\n",
        "        if word in tokenizer.word_index:\n",
        "            seq.append(tokenizer.word_index[word])\n",
        "\n",
        "    if randomize:\n",
        "        random.shuffle(seq)\n",
        "\n",
        "    while len(seq) < pad:\n",
        "        seq.append(0)\n",
        "\n",
        "    return np.array(seq[0:pad])\n",
        "\n",
        "def decode_text(padded):\n",
        "\n",
        "    words = []\n",
        "\n",
        "    for index in padded:\n",
        "\n",
        "        if index == 0:\n",
        "            continue\n",
        "\n",
        "        for key, value in tokenizer.word_index.items():\n",
        "\n",
        "            if value == index:\n",
        "                words.append(key)\n",
        "                break\n",
        "\n",
        "    return \" \".join(words)\n",
        "    \n",
        "\n",
        "padded_train = my_tokenize(\"breasts long_pointy_ears twintails X\", pad=10)\n",
        "print(padded_train)\n",
        "print(padded_train != 0)\n",
        "print(decode_text(padded_train))\n"
      ],
      "execution_count": null,
      "outputs": [
        {
          "output_type": "stream",
          "text": [
            "[  10   39 2897    0    0    0    0    0    0    0]\n",
            "[ True  True  True False False False False False False False]\n",
            "breasts twintails long_pointy_ears\n"
          ],
          "name": "stdout"
        }
      ]
    },
    {
      "cell_type": "markdown",
      "metadata": {
        "id": "q2AI5t5OPEW-"
      },
      "source": [
        "# Training"
      ]
    },
    {
      "cell_type": "code",
      "metadata": {
        "id": "KliU6kut4Iin",
        "colab": {
          "base_uri": "https://localhost:8080/",
          "height": 1000
        },
        "outputId": "a66be73c-a680-4f14-c994-e998846fd921"
      },
      "source": [
        "from random import choice\n",
        "from pathlib import Path\n",
        "import os\n",
        "\n",
        "# torch\n",
        "\n",
        "import torch\n",
        "from torch.optim import Adam\n",
        "from torch.nn.utils import clip_grad_norm_\n",
        "\n",
        "# vision imports\n",
        "\n",
        "from PIL import Image\n",
        "from torchvision import transforms as T\n",
        "from torch.utils.data import DataLoader, Dataset\n",
        "from torchvision.datasets import ImageFolder\n",
        "from torchvision.utils import make_grid, save_image\n",
        "\n",
        "# dalle related classes and utils\n",
        "\n",
        "from dalle_pytorch import OpenAIDiscreteVAE, DiscreteVAE, DALLE\n",
        "\n",
        "# helpers\n",
        "\n",
        "def exists(val):\n",
        "    return val is not None\n",
        "\n",
        "os.environ[\"CUDA_LAUNCH_BLOCKING\"] = \"1\"\n",
        "\n",
        "# argument parsing\n",
        "\n",
        "VAE_PATH = './anime_wb_100_ep_220/vae.pt' # - will use OpenAIs pretrained VAE if not set\n",
        "DALLE_PATH = None # './anime_wb_100_ep_220/dalle.pt' # None # './dalle.pt'\n",
        "TAMING = False    # use VAE from taming transformers paper\n",
        "IMAGE_TEXT_FOLDER = os.path.realpath('../AttnGAN/data/anime_wb_full/')\n",
        "BPE_PATH = None\n",
        "RESUME = exists(DALLE_PATH)\n",
        "\n",
        "EPOCHS = 300\n",
        "BATCH_SIZE = 4\n",
        "LEARNING_RATE = 3e-4\n",
        "GRAD_CLIP_NORM = 0.5\n",
        "\n",
        "MODEL_DIM = 512\n",
        "TEXT_SEQ_LEN = 100\n",
        "DEPTH = 2\n",
        "HEADS = 4\n",
        "DIM_HEAD = 64\n",
        "REVERSIBLE = True\n",
        "\n",
        "# tokenizer\n",
        "VOCAL_SIZE = len(tokenizer.word_counts) + TEXT_SEQ_LEN\n",
        "\n",
        "# reconstitute vae\n",
        "\n",
        "if RESUME:\n",
        "    dalle_path = Path(DALLE_PATH)\n",
        "    assert dalle_path.exists(), 'DALL-E model file does not exist'\n",
        "\n",
        "    loaded_obj = torch.load(str(dalle_path))\n",
        "\n",
        "    dalle_params, vae_params, weights = loaded_obj['hparams'], loaded_obj['vae_params'], loaded_obj['weights']\n",
        "\n",
        "    if vae_params is not None:\n",
        "        vae = DiscreteVAE(**vae_params)\n",
        "    else:\n",
        "        vae = OpenAIDiscreteVAE()\n",
        "\n",
        "    dalle_params = dict(        \n",
        "        **dalle_params\n",
        "    )\n",
        "\n",
        "    IMAGE_SIZE = vae.image_size\n",
        "\n",
        "else:\n",
        "    if exists(VAE_PATH):\n",
        "\n",
        "        vae_path = Path(VAE_PATH)\n",
        "        assert vae_path.exists(), 'VAE model file does not exist'\n",
        "\n",
        "        loaded_obj = torch.load(str(vae_path))\n",
        "\n",
        "        vae_params, weights = loaded_obj['hparams'], loaded_obj['weights']\n",
        "\n",
        "        vae = DiscreteVAE(**vae_params)\n",
        "        vae.load_state_dict(weights)\n",
        "    else:\n",
        "        print('using pretrained VAE for encoding images to tokens')\n",
        "        vae_params = None\n",
        "\n",
        "        vae_klass = OpenAIDiscreteVAE if not TAMING else VQGanVAE1024\n",
        "        vae = vae_klass()\n",
        "\n",
        "    IMAGE_SIZE = vae.image_size\n",
        "\n",
        "    dalle_params = dict(\n",
        "        num_text_tokens = VOCAL_SIZE,\n",
        "        text_seq_len = TEXT_SEQ_LEN,\n",
        "        dim = MODEL_DIM,\n",
        "        depth = DEPTH,\n",
        "        heads = HEADS,\n",
        "        dim_head = DIM_HEAD,\n",
        "        reversible = REVERSIBLE,\n",
        "        attn_types = ('full', 'axial_row', 'axial_col', 'conv_like')\n",
        "    )\n",
        "\n",
        "# helpers\n",
        "\n",
        "def save_model(path):\n",
        "    save_obj = {\n",
        "        'hparams': dalle_params,\n",
        "        'vae_params': vae_params,\n",
        "        'weights': dalle.state_dict()\n",
        "    }\n",
        "\n",
        "    torch.save(save_obj, path)\n",
        "\n",
        "# dataset loading\n",
        "\n",
        "class TextImageDataset(Dataset):\n",
        "    def __init__(self, folder, text_len = 256, image_size = 128):\n",
        "        super().__init__()\n",
        "        path = Path(folder)\n",
        "\n",
        "        text_files = [*path.glob('**/*.txt')]\n",
        "\n",
        "        image_files = [\n",
        "            *path.glob('**/*.png'),\n",
        "            *path.glob('**/*.jpg'),\n",
        "            *path.glob('**/*.jpeg')\n",
        "        ]\n",
        "\n",
        "        text_files = {t.stem: t for t in text_files}\n",
        "        image_files = {i.stem: i for i in image_files}\n",
        "\n",
        "        keys = (image_files.keys() & text_files.keys())\n",
        "\n",
        "        self.keys = list(keys)\n",
        "        self.text_files = {k: v for k, v in text_files.items() if k in keys}\n",
        "        self.image_files = {k: v for k, v in image_files.items() if k in keys}\n",
        "\n",
        "        self.image_tranform = T.Compose([\n",
        "            T.Lambda(lambda img: img.convert('RGB') if img.mode != 'RGB' else img),\n",
        "            T.RandomResizedCrop(image_size, scale = (0.75, 1.), ratio = (1., 1.)),\n",
        "            T.ToTensor()\n",
        "        ])\n",
        "\n",
        "    def __len__(self):\n",
        "        return len(self.keys)\n",
        "\n",
        "    def __getitem__(self, ind):\n",
        "        key = self.keys[ind]\n",
        "        text_file = self.text_files[key]\n",
        "        image_file = self.image_files[key]\n",
        "\n",
        "        image = Image.open(image_file)\n",
        "        #descriptions = text_file.read_text().split('\\n')\n",
        "        #descriptions = list(filter(lambda t: len(t) > 0, descriptions))\n",
        "        #description = choice(descriptions)\n",
        "\n",
        "        with open(text_file, \"r\") as f:\n",
        "            seq = f.readlines()[0].strip()\n",
        "            tokenized_text = my_tokenize(seq, pad=TEXT_SEQ_LEN)\n",
        "            mask = tokenized_text != 0\n",
        "\n",
        "        #seq = tokenizer.texts_to_sequences([description])\n",
        "        #tokenized_text = pad_sequences(seq, maxlen = TEXT_SEQ_LEN, padding = 'post')[0]\n",
        "        #tokenized_text = my_tokenize()\n",
        "        #mask = tokenized_text != 0\n",
        "\n",
        "        image_tensor = self.image_tranform(image)\n",
        "        return tokenized_text, image_tensor, mask\n",
        "\n",
        "# create dataset and dataloader\n",
        "\n",
        "ds = TextImageDataset(\n",
        "    IMAGE_TEXT_FOLDER,\n",
        "    text_len = TEXT_SEQ_LEN,\n",
        "    image_size = IMAGE_SIZE\n",
        ")\n",
        "\n",
        "assert len(ds) > 0, 'dataset is empty'\n",
        "print(f'{len(ds)} image-text pairs found for training')\n",
        "\n",
        "dl = DataLoader(ds, batch_size = BATCH_SIZE, shuffle = True, drop_last = True)\n",
        "\n",
        "# initialize DALL-E\n",
        "\n",
        "dalle = DALLE(vae = vae, **dalle_params).cuda()\n",
        "\n",
        "if RESUME:\n",
        "    dalle.load_state_dict(weights)\n",
        "\n",
        "# optimizer\n",
        "\n",
        "opt = Adam(dalle.parameters(), lr = LEARNING_RATE)\n",
        "\n",
        "# experiment tracker\n",
        "\n",
        "import wandb\n",
        "\n",
        "model_config = dict(\n",
        "    depth = DEPTH,\n",
        "    heads = HEADS,\n",
        "    dim_head = DIM_HEAD\n",
        ")\n",
        "\n",
        "run = wandb.init(project = 'dalle_train_transformer', resume = RESUME, config = model_config)\n",
        "\n",
        "# training\n",
        "\n",
        "for epoch in range(EPOCHS):\n",
        "    for i, (text, images, mask) in enumerate(dl):\n",
        "        text, images, mask = map(lambda t: t.cuda(), (text, images, mask))\n",
        "\n",
        "        loss = dalle(text, images, mask = mask, return_loss = True)\n",
        "\n",
        "        loss.backward()\n",
        "        clip_grad_norm_(dalle.parameters(), GRAD_CLIP_NORM)\n",
        "\n",
        "        opt.step()\n",
        "        opt.zero_grad()\n",
        "\n",
        "        log = {}\n",
        "\n",
        "        if i % 10 == 0:\n",
        "            print(epoch, i, f'loss - {loss.item()}')\n",
        "\n",
        "            log = {\n",
        "                **log,\n",
        "                'epoch': epoch,\n",
        "                'iter': i,\n",
        "                'loss': loss.item()\n",
        "            }\n",
        "\n",
        "        if i % 1000 == 0:\n",
        "            sample_text = text[:1]\n",
        "            token_list = sample_text.masked_select(sample_text != 0).tolist()\n",
        "            decoded_text = decode_text(token_list)\n",
        "\n",
        "            image = dalle.generate_images(\n",
        "                text[:1],\n",
        "                mask = mask[:1],\n",
        "                filter_thres = 0.9    # topk sampling at 0.9\n",
        "            )\n",
        "\n",
        "            save_model(f'./dalle.pt')\n",
        "            wandb.save(f'./dalle.pt')\n",
        "\n",
        "            log = {\n",
        "                **log,\n",
        "                'image': wandb.Image(image, caption = decoded_text)\n",
        "            }\n",
        "\n",
        "        wandb.log(log)\n",
        "\n",
        "    # save trained model to wandb as an artifact every epoch's end\n",
        "\n",
        "    model_artifact = wandb.Artifact('trained-dalle', type = 'model', metadata = dict(model_config))\n",
        "    model_artifact.add_file('dalle.pt')\n",
        "    run.log_artifact(model_artifact)\n",
        "\n",
        "save_model(f'./dalle-final.pt')\n",
        "wandb.save('./dalle-final.pt')\n",
        "model_artifact = wandb.Artifact('trained-dalle', type = 'model', metadata = dict(model_config))\n",
        "model_artifact.add_file('dalle-final.pt')\n",
        "run.log_artifact(model_artifact)\n",
        "\n",
        "wandb.finish()\n"
      ],
      "execution_count": null,
      "outputs": [
        {
          "output_type": "stream",
          "text": [
            "14453 image-text pairs found for training\n"
          ],
          "name": "stdout"
        },
        {
          "output_type": "stream",
          "text": [
            "\u001b[34m\u001b[1mwandb\u001b[0m: W&B syncing is set to `offline` in this directory.  Run `wandb online` or set WANDB_MODE=online to enable cloud syncing.\n"
          ],
          "name": "stderr"
        },
        {
          "output_type": "stream",
          "text": [
            "0 0 loss - 9.277132987976074\n",
            "0 10 loss - 5.959808349609375\n",
            "0 20 loss - 3.506715774536133\n",
            "0 30 loss - 2.454176187515259\n",
            "0 40 loss - 2.893954277038574\n",
            "0 50 loss - 2.191697835922241\n",
            "0 60 loss - 2.136192798614502\n",
            "0 70 loss - 2.3646109104156494\n",
            "0 80 loss - 1.8515923023223877\n",
            "0 90 loss - 2.1615488529205322\n",
            "0 100 loss - 2.116283655166626\n",
            "0 110 loss - 2.272986888885498\n",
            "0 120 loss - 2.7789223194122314\n",
            "0 130 loss - 2.259046792984009\n",
            "0 140 loss - 2.1573538780212402\n",
            "0 150 loss - 2.6952545642852783\n",
            "0 160 loss - 2.4304513931274414\n",
            "0 170 loss - 2.0836734771728516\n",
            "0 180 loss - 1.944146752357483\n",
            "0 190 loss - 2.339047908782959\n",
            "0 200 loss - 1.935229778289795\n",
            "0 210 loss - 2.004563093185425\n",
            "0 220 loss - 1.9256055355072021\n",
            "0 230 loss - 2.4952147006988525\n",
            "0 240 loss - 2.181318759918213\n",
            "0 250 loss - 2.1378414630889893\n",
            "0 260 loss - 1.9706882238388062\n",
            "0 270 loss - 2.2072901725769043\n",
            "0 280 loss - 2.569707155227661\n",
            "0 290 loss - 2.1079177856445312\n",
            "0 300 loss - 1.843839168548584\n",
            "0 310 loss - 2.185731887817383\n",
            "0 320 loss - 2.6623013019561768\n",
            "0 330 loss - 1.4615216255187988\n",
            "0 340 loss - 2.2452704906463623\n",
            "0 350 loss - 2.255929708480835\n",
            "0 360 loss - 2.284827470779419\n",
            "0 370 loss - 2.6463823318481445\n",
            "0 380 loss - 2.079421043395996\n",
            "0 390 loss - 2.17590069770813\n",
            "0 400 loss - 1.4863020181655884\n",
            "0 410 loss - 2.254591464996338\n",
            "0 420 loss - 2.162797212600708\n",
            "0 430 loss - 1.815064549446106\n",
            "0 440 loss - 1.9878610372543335\n",
            "0 450 loss - 2.1703004837036133\n",
            "0 460 loss - 2.1538820266723633\n",
            "0 470 loss - 2.1558263301849365\n",
            "0 480 loss - 1.917256236076355\n",
            "0 490 loss - 2.023036479949951\n",
            "0 500 loss - 2.226015567779541\n",
            "0 510 loss - 1.4180500507354736\n",
            "0 520 loss - 2.104741096496582\n",
            "0 530 loss - 2.0754806995391846\n",
            "0 540 loss - 1.8481947183609009\n",
            "0 550 loss - 1.5840849876403809\n",
            "0 560 loss - 2.0809504985809326\n",
            "0 570 loss - 2.081861972808838\n",
            "0 580 loss - 1.482054352760315\n",
            "0 590 loss - 1.724848985671997\n",
            "0 600 loss - 1.6456676721572876\n",
            "0 610 loss - 1.672743320465088\n",
            "0 620 loss - 2.458557605743408\n",
            "0 630 loss - 2.210510730743408\n",
            "0 640 loss - 1.7419981956481934\n",
            "0 650 loss - 1.7028611898422241\n",
            "0 660 loss - 2.1828746795654297\n",
            "0 670 loss - 1.7157928943634033\n",
            "0 680 loss - 1.6425060033798218\n",
            "0 690 loss - 1.8468321561813354\n",
            "0 700 loss - 1.5354535579681396\n",
            "0 710 loss - 2.316164016723633\n",
            "0 720 loss - 1.8284928798675537\n",
            "0 730 loss - 2.0313382148742676\n",
            "0 740 loss - 2.110909938812256\n",
            "0 750 loss - 2.1064577102661133\n",
            "0 760 loss - 1.7702977657318115\n",
            "0 770 loss - 2.1460366249084473\n",
            "0 780 loss - 1.962790608406067\n",
            "0 790 loss - 1.930840015411377\n",
            "0 800 loss - 1.8936944007873535\n",
            "0 810 loss - 2.3357558250427246\n",
            "0 820 loss - 2.2107276916503906\n",
            "0 830 loss - 1.3512600660324097\n",
            "0 840 loss - 1.9878332614898682\n",
            "0 850 loss - 1.3981235027313232\n",
            "0 860 loss - 1.973563551902771\n",
            "0 870 loss - 1.984275460243225\n"
          ],
          "name": "stdout"
        },
        {
          "output_type": "stream",
          "text": [
            "/workspace/home/jesandov/.local/lib/python3.6/site-packages/PIL/TiffImagePlugin.py:793: UserWarning: Corrupt EXIF data.  Expecting to read 2 bytes but only got 0. \n",
            "  warnings.warn(str(msg))\n"
          ],
          "name": "stderr"
        },
        {
          "output_type": "stream",
          "text": [
            "\u001b[1;30;43mStreaming output truncated to the last 5000 lines.\u001b[0m\n",
            "286 680 loss - 0.8973888158798218\n",
            "286 690 loss - 1.0955572128295898\n",
            "286 700 loss - 1.5374457836151123\n",
            "286 710 loss - 1.2389516830444336\n",
            "286 720 loss - 1.2988641262054443\n",
            "286 730 loss - 0.8435247540473938\n",
            "286 740 loss - 1.405513048171997\n",
            "286 750 loss - 1.363210678100586\n",
            "286 760 loss - 1.0794316530227661\n",
            "286 770 loss - 1.2574976682662964\n",
            "286 780 loss - 1.259017825126648\n",
            "286 790 loss - 1.0894546508789062\n",
            "286 800 loss - 1.083931803703308\n",
            "286 810 loss - 1.2283803224563599\n",
            "286 820 loss - 1.2039791345596313\n",
            "286 830 loss - 1.3769994974136353\n",
            "286 840 loss - 1.1823610067367554\n",
            "286 850 loss - 1.4174911975860596\n",
            "286 860 loss - 1.2649548053741455\n",
            "286 870 loss - 0.9503085017204285\n",
            "286 880 loss - 1.5053764581680298\n",
            "286 890 loss - 1.5800880193710327\n",
            "286 900 loss - 1.1765029430389404\n",
            "286 910 loss - 1.2774962186813354\n",
            "286 920 loss - 1.3253204822540283\n",
            "286 930 loss - 1.1943488121032715\n",
            "286 940 loss - 1.3299055099487305\n",
            "286 950 loss - 1.0091389417648315\n",
            "286 960 loss - 1.0770171880722046\n",
            "286 970 loss - 1.486439824104309\n",
            "286 980 loss - 1.2602972984313965\n",
            "286 990 loss - 1.2321479320526123\n",
            "286 1000 loss - 1.4451032876968384\n",
            "286 1010 loss - 1.2907099723815918\n",
            "286 1020 loss - 1.279573917388916\n",
            "286 1030 loss - 1.0059047937393188\n",
            "286 1040 loss - 1.319027066230774\n",
            "286 1050 loss - 1.210999608039856\n",
            "286 1060 loss - 1.485258936882019\n",
            "286 1070 loss - 1.3496367931365967\n",
            "286 1080 loss - 1.8040962219238281\n",
            "286 1090 loss - 1.3185720443725586\n",
            "286 1100 loss - 1.2733057737350464\n",
            "286 1110 loss - 1.350813627243042\n",
            "286 1120 loss - 1.254652500152588\n",
            "286 1130 loss - 1.3523954153060913\n",
            "286 1140 loss - 1.0271894931793213\n",
            "286 1150 loss - 1.164542317390442\n",
            "286 1160 loss - 1.5041266679763794\n",
            "286 1170 loss - 1.4148682355880737\n",
            "286 1180 loss - 1.7883726358413696\n",
            "286 1190 loss - 1.3836456537246704\n",
            "286 1200 loss - 1.429063320159912\n",
            "286 1210 loss - 1.170264720916748\n",
            "286 1220 loss - 1.3490933179855347\n",
            "286 1230 loss - 0.9563302397727966\n",
            "286 1240 loss - 1.2113618850708008\n",
            "286 1250 loss - 1.0298835039138794\n",
            "286 1260 loss - 0.9679127931594849\n",
            "286 1270 loss - 1.2655296325683594\n",
            "286 1280 loss - 1.340074896812439\n",
            "286 1290 loss - 1.5422124862670898\n",
            "286 1300 loss - 0.8380511999130249\n",
            "286 1310 loss - 1.578182339668274\n",
            "286 1320 loss - 1.2910515069961548\n",
            "286 1330 loss - 1.3091727495193481\n",
            "286 1340 loss - 1.26215398311615\n",
            "286 1350 loss - 1.6237882375717163\n",
            "286 1360 loss - 0.8606913685798645\n",
            "286 1370 loss - 1.3150805234909058\n",
            "286 1380 loss - 1.6954234838485718\n",
            "286 1390 loss - 1.198035717010498\n",
            "286 1400 loss - 1.384397029876709\n",
            "286 1410 loss - 0.993926465511322\n",
            "286 1420 loss - 1.045561671257019\n",
            "286 1430 loss - 1.152435302734375\n",
            "286 1440 loss - 1.3308789730072021\n",
            "286 1450 loss - 1.4637813568115234\n",
            "286 1460 loss - 1.4886125326156616\n",
            "286 1470 loss - 1.2384613752365112\n",
            "286 1480 loss - 1.4034538269042969\n",
            "286 1490 loss - 1.2610303163528442\n",
            "286 1500 loss - 1.3853005170822144\n",
            "286 1510 loss - 1.6049271821975708\n",
            "286 1520 loss - 1.2451717853546143\n",
            "286 1530 loss - 1.1151506900787354\n",
            "286 1540 loss - 1.589351773262024\n",
            "286 1550 loss - 1.2643320560455322\n",
            "286 1560 loss - 1.4480806589126587\n",
            "286 1570 loss - 1.1484057903289795\n",
            "286 1580 loss - 1.3708552122116089\n",
            "286 1590 loss - 1.1075507402420044\n",
            "286 1600 loss - 1.301483154296875\n",
            "286 1610 loss - 1.255339503288269\n",
            "286 1620 loss - 1.5521494150161743\n",
            "286 1630 loss - 1.3366732597351074\n",
            "286 1640 loss - 1.3682011365890503\n",
            "286 1650 loss - 0.9903404116630554\n",
            "286 1660 loss - 1.1405631303787231\n",
            "286 1670 loss - 1.242598295211792\n",
            "286 1680 loss - 1.3521032333374023\n",
            "286 1690 loss - 1.2231059074401855\n",
            "286 1700 loss - 1.3622617721557617\n",
            "286 1710 loss - 1.4095419645309448\n",
            "286 1720 loss - 1.5840842723846436\n",
            "286 1730 loss - 1.0061107873916626\n",
            "286 1740 loss - 1.454663634300232\n",
            "286 1750 loss - 1.342685341835022\n",
            "286 1760 loss - 1.3488662242889404\n",
            "286 1770 loss - 1.2301164865493774\n",
            "286 1780 loss - 1.294316053390503\n",
            "286 1790 loss - 1.0811947584152222\n",
            "286 1800 loss - 1.1500650644302368\n",
            "286 1810 loss - 1.3596127033233643\n",
            "286 1820 loss - 1.4644578695297241\n",
            "286 1830 loss - 1.1858229637145996\n",
            "286 1840 loss - 1.137426733970642\n",
            "286 1850 loss - 1.4723833799362183\n",
            "286 1860 loss - 1.3826429843902588\n",
            "286 1870 loss - 1.3519396781921387\n",
            "286 1880 loss - 0.9393764138221741\n",
            "286 1890 loss - 1.3245404958724976\n",
            "286 1900 loss - 1.1424000263214111\n",
            "286 1910 loss - 1.1371105909347534\n",
            "286 1920 loss - 1.5106902122497559\n",
            "286 1930 loss - 0.8777603507041931\n",
            "286 1940 loss - 1.1437197923660278\n",
            "286 1950 loss - 1.0725653171539307\n",
            "286 1960 loss - 1.2673312425613403\n",
            "286 1970 loss - 1.4774043560028076\n",
            "286 1980 loss - 1.532983660697937\n",
            "286 1990 loss - 1.1053199768066406\n",
            "286 2000 loss - 1.1444683074951172\n",
            "286 2010 loss - 1.8039002418518066\n",
            "286 2020 loss - 1.3390635251998901\n",
            "286 2030 loss - 1.4148634672164917\n",
            "286 2040 loss - 1.3908616304397583\n",
            "286 2050 loss - 1.1403863430023193\n",
            "286 2060 loss - 1.679290771484375\n",
            "286 2070 loss - 1.400100827217102\n",
            "286 2080 loss - 1.3102149963378906\n",
            "286 2090 loss - 1.4792560338974\n",
            "286 2100 loss - 1.0966613292694092\n",
            "286 2110 loss - 1.1284071207046509\n",
            "286 2120 loss - 1.3942644596099854\n",
            "286 2130 loss - 1.2708032131195068\n",
            "286 2140 loss - 1.0477931499481201\n",
            "286 2150 loss - 1.4000883102416992\n",
            "286 2160 loss - 1.321692943572998\n",
            "286 2170 loss - 1.351230502128601\n",
            "286 2180 loss - 1.4981787204742432\n",
            "286 2190 loss - 1.0517606735229492\n",
            "286 2200 loss - 1.421042799949646\n",
            "286 2210 loss - 1.3492997884750366\n",
            "286 2220 loss - 1.3355005979537964\n",
            "286 2230 loss - 1.0252621173858643\n",
            "286 2240 loss - 1.2279061079025269\n",
            "286 2250 loss - 1.6130567789077759\n",
            "286 2260 loss - 1.5298856496810913\n",
            "286 2270 loss - 1.0606250762939453\n",
            "286 2280 loss - 1.4049606323242188\n",
            "286 2290 loss - 1.3759750127792358\n",
            "286 2300 loss - 1.0907235145568848\n",
            "286 2310 loss - 0.9886091351509094\n",
            "286 2320 loss - 1.5150567293167114\n",
            "286 2330 loss - 1.5252434015274048\n",
            "286 2340 loss - 1.3915917873382568\n",
            "286 2350 loss - 1.1917821168899536\n",
            "286 2360 loss - 1.1279217004776\n",
            "286 2370 loss - 1.0144720077514648\n",
            "286 2380 loss - 0.9057453870773315\n",
            "286 2390 loss - 1.2619950771331787\n",
            "286 2400 loss - 1.4448765516281128\n",
            "286 2410 loss - 1.3257230520248413\n",
            "286 2420 loss - 1.199129581451416\n",
            "286 2430 loss - 1.2544771432876587\n",
            "286 2440 loss - 1.670535683631897\n",
            "286 2450 loss - 1.3537802696228027\n",
            "286 2460 loss - 1.3401458263397217\n",
            "286 2470 loss - 1.2919410467147827\n",
            "286 2480 loss - 1.7243739366531372\n",
            "286 2490 loss - 1.1338832378387451\n",
            "286 2500 loss - 1.5698097944259644\n",
            "286 2510 loss - 1.1203354597091675\n",
            "286 2520 loss - 1.3792537450790405\n",
            "286 2530 loss - 1.4093204736709595\n",
            "286 2540 loss - 1.297652244567871\n",
            "286 2550 loss - 1.463179349899292\n",
            "286 2560 loss - 1.5712389945983887\n",
            "286 2570 loss - 1.007275938987732\n",
            "286 2580 loss - 1.027441382408142\n",
            "286 2590 loss - 1.128259539604187\n",
            "286 2600 loss - 1.1933135986328125\n",
            "286 2610 loss - 1.3924165964126587\n",
            "286 2620 loss - 1.5280557870864868\n",
            "286 2630 loss - 1.6405552625656128\n",
            "286 2640 loss - 1.0729624032974243\n",
            "286 2650 loss - 1.3689016103744507\n",
            "286 2660 loss - 1.4414575099945068\n",
            "286 2670 loss - 1.2431926727294922\n",
            "286 2680 loss - 1.0902506113052368\n",
            "286 2690 loss - 0.9472762942314148\n",
            "286 2700 loss - 1.1474242210388184\n",
            "286 2710 loss - 1.1955842971801758\n",
            "286 2720 loss - 1.6521995067596436\n",
            "286 2730 loss - 0.8500509262084961\n",
            "286 2740 loss - 0.9699024558067322\n",
            "286 2750 loss - 1.2464998960494995\n",
            "286 2760 loss - 1.3796340227127075\n",
            "286 2770 loss - 1.1639325618743896\n",
            "286 2780 loss - 1.353232502937317\n",
            "286 2790 loss - 1.5762379169464111\n",
            "286 2800 loss - 1.1726080179214478\n",
            "286 2810 loss - 1.3492685556411743\n",
            "286 2820 loss - 1.2681589126586914\n",
            "286 2830 loss - 1.0940693616867065\n",
            "286 2840 loss - 1.2847568988800049\n",
            "286 2850 loss - 1.3965436220169067\n",
            "286 2860 loss - 1.3702150583267212\n",
            "286 2870 loss - 1.4273052215576172\n",
            "286 2880 loss - 1.543073296546936\n",
            "286 2890 loss - 1.338982343673706\n",
            "286 2900 loss - 0.8825471997261047\n",
            "286 2910 loss - 1.2793070077896118\n",
            "286 2920 loss - 1.4049582481384277\n",
            "286 2930 loss - 1.3547654151916504\n",
            "286 2940 loss - 1.2965956926345825\n",
            "286 2950 loss - 1.2095178365707397\n",
            "286 2960 loss - 1.2158809900283813\n",
            "286 2970 loss - 1.0741275548934937\n",
            "286 2980 loss - 1.3325670957565308\n",
            "286 2990 loss - 1.1414884328842163\n",
            "286 3000 loss - 1.663311243057251\n",
            "286 3010 loss - 1.2249681949615479\n",
            "286 3020 loss - 1.3787510395050049\n",
            "286 3030 loss - 1.2256542444229126\n",
            "286 3040 loss - 1.983596920967102\n",
            "286 3050 loss - 1.0439767837524414\n",
            "286 3060 loss - 1.3112760782241821\n",
            "286 3070 loss - 1.283982753753662\n",
            "286 3080 loss - 1.3880157470703125\n",
            "286 3090 loss - 1.3778542280197144\n",
            "286 3100 loss - 1.152671217918396\n",
            "286 3110 loss - 1.3500635623931885\n",
            "286 3120 loss - 1.7329407930374146\n",
            "286 3130 loss - 1.0990526676177979\n",
            "286 3140 loss - 1.1943964958190918\n",
            "286 3150 loss - 1.295133352279663\n",
            "286 3160 loss - 1.1205228567123413\n",
            "286 3170 loss - 1.4984012842178345\n",
            "286 3180 loss - 1.3399995565414429\n",
            "286 3190 loss - 0.9143946170806885\n",
            "286 3200 loss - 1.4093903303146362\n",
            "286 3210 loss - 1.2567662000656128\n",
            "286 3220 loss - 1.3048876523971558\n",
            "286 3230 loss - 1.2738115787506104\n",
            "286 3240 loss - 1.3875732421875\n",
            "286 3250 loss - 1.1170486211776733\n",
            "286 3260 loss - 1.2605326175689697\n",
            "286 3270 loss - 1.207740068435669\n",
            "286 3280 loss - 1.1419696807861328\n",
            "286 3290 loss - 1.6093096733093262\n",
            "286 3300 loss - 1.577345848083496\n",
            "286 3310 loss - 1.3362905979156494\n",
            "286 3320 loss - 1.1182483434677124\n",
            "286 3330 loss - 1.4376517534255981\n",
            "286 3340 loss - 0.9844948649406433\n",
            "286 3350 loss - 1.0851683616638184\n",
            "286 3360 loss - 0.8019884824752808\n",
            "286 3370 loss - 0.9330804944038391\n",
            "286 3380 loss - 1.5855952501296997\n",
            "286 3390 loss - 1.3829503059387207\n",
            "286 3400 loss - 1.3730312585830688\n",
            "286 3410 loss - 1.226952075958252\n",
            "286 3420 loss - 1.3674750328063965\n",
            "286 3430 loss - 0.9672945737838745\n",
            "286 3440 loss - 1.476993203163147\n",
            "286 3450 loss - 1.1505454778671265\n",
            "286 3460 loss - 1.2584697008132935\n",
            "286 3470 loss - 1.3345683813095093\n",
            "286 3480 loss - 1.8029903173446655\n",
            "286 3490 loss - 1.804482102394104\n",
            "286 3500 loss - 1.4173606634140015\n",
            "286 3510 loss - 1.1870192289352417\n",
            "286 3520 loss - 1.9011164903640747\n",
            "286 3530 loss - 1.2920241355895996\n",
            "286 3540 loss - 1.4804601669311523\n",
            "286 3550 loss - 1.3353830575942993\n",
            "286 3560 loss - 1.2933955192565918\n",
            "286 3570 loss - 1.200751543045044\n",
            "286 3580 loss - 1.8304274082183838\n",
            "286 3590 loss - 1.7462950944900513\n",
            "286 3600 loss - 1.4579193592071533\n",
            "286 3610 loss - 1.3668049573898315\n",
            "287 0 loss - 1.3941030502319336\n",
            "287 10 loss - 0.9831671714782715\n",
            "287 20 loss - 1.3396967649459839\n",
            "287 30 loss - 0.9631769061088562\n",
            "287 40 loss - 1.3842271566390991\n",
            "287 50 loss - 1.3966665267944336\n",
            "287 60 loss - 1.312042236328125\n",
            "287 70 loss - 0.9511671662330627\n",
            "287 80 loss - 1.1664443016052246\n",
            "287 90 loss - 1.1845245361328125\n",
            "287 100 loss - 1.22227942943573\n",
            "287 110 loss - 1.596168041229248\n",
            "287 120 loss - 1.5808788537979126\n",
            "287 130 loss - 1.4599465131759644\n",
            "287 140 loss - 1.2911808490753174\n",
            "287 150 loss - 1.1274077892303467\n",
            "287 160 loss - 1.4494956731796265\n",
            "287 170 loss - 1.11623215675354\n",
            "287 180 loss - 1.1168365478515625\n",
            "287 190 loss - 1.1747151613235474\n",
            "287 200 loss - 1.245002269744873\n",
            "287 210 loss - 1.3719137907028198\n",
            "287 220 loss - 1.0523451566696167\n",
            "287 230 loss - 1.1594082117080688\n",
            "287 240 loss - 1.022483229637146\n",
            "287 250 loss - 1.3190332651138306\n",
            "287 260 loss - 1.1214731931686401\n",
            "287 270 loss - 1.0794070959091187\n",
            "287 280 loss - 1.5452618598937988\n",
            "287 290 loss - 1.371516227722168\n",
            "287 300 loss - 1.543111801147461\n",
            "287 310 loss - 1.6047818660736084\n",
            "287 320 loss - 1.2468469142913818\n",
            "287 330 loss - 1.4459794759750366\n",
            "287 340 loss - 1.3260345458984375\n",
            "287 350 loss - 1.4922561645507812\n",
            "287 360 loss - 1.6395533084869385\n",
            "287 370 loss - 1.2083295583724976\n",
            "287 380 loss - 1.2873111963272095\n",
            "287 390 loss - 1.4890446662902832\n",
            "287 400 loss - 1.3019816875457764\n",
            "287 410 loss - 1.4012681245803833\n",
            "287 420 loss - 1.034456729888916\n",
            "287 430 loss - 1.0610707998275757\n",
            "287 440 loss - 1.32144296169281\n",
            "287 450 loss - 1.3876771926879883\n",
            "287 460 loss - 1.2532926797866821\n",
            "287 470 loss - 1.1308414936065674\n",
            "287 480 loss - 1.3267048597335815\n",
            "287 490 loss - 1.8124260902404785\n",
            "287 500 loss - 1.0749508142471313\n",
            "287 510 loss - 1.4450846910476685\n",
            "287 520 loss - 1.2695428133010864\n",
            "287 530 loss - 1.549050211906433\n",
            "287 540 loss - 1.2889831066131592\n",
            "287 550 loss - 0.9994483590126038\n",
            "287 560 loss - 1.3789726495742798\n",
            "287 570 loss - 1.5858302116394043\n",
            "287 580 loss - 1.2092698812484741\n",
            "287 590 loss - 1.0024389028549194\n",
            "287 600 loss - 1.5933189392089844\n",
            "287 610 loss - 1.3286985158920288\n",
            "287 620 loss - 1.613490343093872\n",
            "287 630 loss - 1.149295687675476\n",
            "287 640 loss - 1.6041162014007568\n",
            "287 650 loss - 1.3546788692474365\n",
            "287 660 loss - 1.4009888172149658\n",
            "287 670 loss - 1.049143671989441\n",
            "287 680 loss - 1.2645058631896973\n",
            "287 690 loss - 1.2933341264724731\n",
            "287 700 loss - 1.2622756958007812\n",
            "287 710 loss - 1.537247896194458\n",
            "287 720 loss - 1.0549110174179077\n",
            "287 730 loss - 1.0554529428482056\n",
            "287 740 loss - 1.4773060083389282\n",
            "287 750 loss - 1.2901487350463867\n",
            "287 760 loss - 1.1901203393936157\n",
            "287 770 loss - 1.3116174936294556\n",
            "287 780 loss - 1.2995284795761108\n",
            "287 790 loss - 1.433526635169983\n",
            "287 800 loss - 1.3592125177383423\n",
            "287 810 loss - 1.204263687133789\n",
            "287 820 loss - 1.4275569915771484\n",
            "287 830 loss - 1.0275872945785522\n",
            "287 840 loss - 1.3033826351165771\n",
            "287 850 loss - 1.373136281967163\n",
            "287 860 loss - 1.1406176090240479\n",
            "287 870 loss - 1.1679764986038208\n",
            "287 880 loss - 1.3920397758483887\n",
            "287 890 loss - 1.107892632484436\n",
            "287 900 loss - 1.3528680801391602\n",
            "287 910 loss - 1.251412034034729\n",
            "287 920 loss - 1.3878583908081055\n",
            "287 930 loss - 1.1861846446990967\n",
            "287 940 loss - 1.2982910871505737\n",
            "287 950 loss - 1.5573360919952393\n",
            "287 960 loss - 1.3842734098434448\n",
            "287 970 loss - 1.3918792009353638\n",
            "287 980 loss - 1.3990540504455566\n",
            "287 990 loss - 1.1533706188201904\n",
            "287 1000 loss - 0.8977483510971069\n",
            "287 1010 loss - 1.0731728076934814\n",
            "287 1020 loss - 1.7812905311584473\n",
            "287 1030 loss - 1.0575448274612427\n",
            "287 1040 loss - 1.0551215410232544\n",
            "287 1050 loss - 1.093036413192749\n",
            "287 1060 loss - 0.9518153667449951\n",
            "287 1070 loss - 1.0632200241088867\n",
            "287 1080 loss - 1.2551965713500977\n",
            "287 1090 loss - 1.3127187490463257\n",
            "287 1100 loss - 1.0483769178390503\n",
            "287 1110 loss - 1.0662028789520264\n",
            "287 1120 loss - 1.0572422742843628\n",
            "287 1130 loss - 1.191838026046753\n",
            "287 1140 loss - 1.2709481716156006\n",
            "287 1150 loss - 1.0222848653793335\n",
            "287 1160 loss - 1.2842994928359985\n",
            "287 1170 loss - 1.1024070978164673\n",
            "287 1180 loss - 1.3877249956130981\n",
            "287 1190 loss - 1.4918650388717651\n",
            "287 1200 loss - 1.7399460077285767\n",
            "287 1210 loss - 1.3891648054122925\n",
            "287 1220 loss - 1.3670753240585327\n",
            "287 1230 loss - 1.2630980014801025\n",
            "287 1240 loss - 1.7436087131500244\n",
            "287 1250 loss - 1.0331591367721558\n",
            "287 1260 loss - 1.5947434902191162\n",
            "287 1270 loss - 1.2936532497406006\n",
            "287 1280 loss - 1.3736430406570435\n",
            "287 1290 loss - 1.1311215162277222\n",
            "287 1300 loss - 1.0863984823226929\n",
            "287 1310 loss - 1.1256177425384521\n",
            "287 1320 loss - 1.071179747581482\n",
            "287 1330 loss - 1.451955795288086\n",
            "287 1340 loss - 1.3317443132400513\n",
            "287 1350 loss - 1.280623197555542\n",
            "287 1360 loss - 1.4517101049423218\n",
            "287 1370 loss - 1.145498275756836\n",
            "287 1380 loss - 1.4660700559616089\n",
            "287 1390 loss - 1.4479225873947144\n",
            "287 1400 loss - 1.2676832675933838\n",
            "287 1410 loss - 1.0402690172195435\n",
            "287 1420 loss - 1.1822389364242554\n",
            "287 1430 loss - 1.1658178567886353\n",
            "287 1440 loss - 1.1811751127243042\n",
            "287 1450 loss - 1.3973970413208008\n",
            "287 1460 loss - 1.2348307371139526\n",
            "287 1470 loss - 1.3422470092773438\n",
            "287 1480 loss - 1.6018178462982178\n",
            "287 1490 loss - 1.2214949131011963\n",
            "287 1500 loss - 1.2773106098175049\n",
            "287 1510 loss - 1.4986622333526611\n",
            "287 1520 loss - 0.9769842624664307\n",
            "287 1530 loss - 1.4692293405532837\n",
            "287 1540 loss - 1.0074825286865234\n",
            "287 1550 loss - 1.0750439167022705\n",
            "287 1560 loss - 1.3623439073562622\n",
            "287 1570 loss - 1.1608752012252808\n",
            "287 1580 loss - 1.0561562776565552\n",
            "287 1590 loss - 1.4430428743362427\n",
            "287 1600 loss - 1.1171619892120361\n",
            "287 1610 loss - 0.9971479773521423\n",
            "287 1620 loss - 1.2926143407821655\n",
            "287 1630 loss - 1.4400686025619507\n",
            "287 1640 loss - 1.205661654472351\n",
            "287 1650 loss - 1.023146390914917\n",
            "287 1660 loss - 1.1981542110443115\n",
            "287 1670 loss - 1.2474725246429443\n",
            "287 1680 loss - 1.354304552078247\n",
            "287 1690 loss - 1.4112935066223145\n",
            "287 1700 loss - 0.929463267326355\n",
            "287 1710 loss - 1.4581053256988525\n",
            "287 1720 loss - 1.3540598154067993\n",
            "287 1730 loss - 1.5680136680603027\n",
            "287 1740 loss - 1.2758173942565918\n",
            "287 1750 loss - 1.2707463502883911\n",
            "287 1760 loss - 1.4709466695785522\n",
            "287 1770 loss - 1.2425247430801392\n",
            "287 1780 loss - 1.1360427141189575\n",
            "287 1790 loss - 0.9065455794334412\n",
            "287 1800 loss - 1.58906090259552\n",
            "287 1810 loss - 1.2755820751190186\n",
            "287 1820 loss - 1.3957948684692383\n",
            "287 1830 loss - 1.4121402502059937\n",
            "287 1840 loss - 1.2479904890060425\n",
            "287 1850 loss - 1.4705655574798584\n",
            "287 1860 loss - 1.0960938930511475\n",
            "287 1870 loss - 1.0617324113845825\n",
            "287 1880 loss - 1.4936054944992065\n",
            "287 1890 loss - 1.3891065120697021\n",
            "287 1900 loss - 1.226953387260437\n",
            "287 1910 loss - 1.0127496719360352\n",
            "287 1920 loss - 1.356971263885498\n",
            "287 1930 loss - 1.4285762310028076\n",
            "287 1940 loss - 1.4299418926239014\n",
            "287 1950 loss - 1.13494074344635\n",
            "287 1960 loss - 1.170147180557251\n",
            "287 1970 loss - 1.6992321014404297\n",
            "287 1980 loss - 1.2475924491882324\n",
            "287 1990 loss - 1.1788346767425537\n",
            "287 2000 loss - 1.1336157321929932\n",
            "287 2010 loss - 1.5193804502487183\n",
            "287 2020 loss - 1.157196044921875\n",
            "287 2030 loss - 1.2609596252441406\n",
            "287 2040 loss - 1.2951925992965698\n",
            "287 2050 loss - 1.1040904521942139\n",
            "287 2060 loss - 1.1647324562072754\n",
            "287 2070 loss - 1.2842071056365967\n",
            "287 2080 loss - 1.486025094985962\n",
            "287 2090 loss - 1.1691116094589233\n",
            "287 2100 loss - 1.6238654851913452\n",
            "287 2110 loss - 1.2448980808258057\n",
            "287 2120 loss - 1.1089162826538086\n",
            "287 2130 loss - 1.316755771636963\n",
            "287 2140 loss - 1.0144119262695312\n",
            "287 2150 loss - 1.3700579404830933\n",
            "287 2160 loss - 1.1414940357208252\n",
            "287 2170 loss - 1.1251838207244873\n",
            "287 2180 loss - 1.2385205030441284\n",
            "287 2190 loss - 1.2450287342071533\n",
            "287 2200 loss - 1.1887112855911255\n",
            "287 2210 loss - 1.0293896198272705\n",
            "287 2220 loss - 1.3046821355819702\n",
            "287 2230 loss - 1.2910560369491577\n",
            "287 2240 loss - 1.6150504350662231\n",
            "287 2250 loss - 0.9947302937507629\n",
            "287 2260 loss - 1.5487710237503052\n",
            "287 2270 loss - 1.4373488426208496\n",
            "287 2280 loss - 1.4832993745803833\n",
            "287 2290 loss - 1.559654712677002\n",
            "287 2300 loss - 1.5233341455459595\n",
            "287 2310 loss - 1.531803011894226\n",
            "287 2320 loss - 1.0638645887374878\n",
            "287 2330 loss - 1.4116419553756714\n",
            "287 2340 loss - 1.189202904701233\n",
            "287 2350 loss - 1.4428188800811768\n",
            "287 2360 loss - 1.017404317855835\n",
            "287 2370 loss - 1.0414764881134033\n",
            "287 2380 loss - 1.26609206199646\n",
            "287 2390 loss - 1.4353629350662231\n",
            "287 2400 loss - 1.1857527494430542\n",
            "287 2410 loss - 0.9471516609191895\n",
            "287 2420 loss - 1.2106201648712158\n",
            "287 2430 loss - 1.229993462562561\n",
            "287 2440 loss - 1.337398648262024\n",
            "287 2450 loss - 1.2141550779342651\n",
            "287 2460 loss - 0.8651260137557983\n",
            "287 2470 loss - 1.2851896286010742\n",
            "287 2480 loss - 1.368623971939087\n",
            "287 2490 loss - 1.385867714881897\n",
            "287 2500 loss - 1.3460373878479004\n",
            "287 2510 loss - 1.4852226972579956\n",
            "287 2520 loss - 1.7010295391082764\n",
            "287 2530 loss - 1.4994093179702759\n",
            "287 2540 loss - 1.460154414176941\n",
            "287 2550 loss - 1.2145742177963257\n",
            "287 2560 loss - 1.298592448234558\n",
            "287 2570 loss - 1.4255969524383545\n",
            "287 2580 loss - 1.340062141418457\n",
            "287 2590 loss - 1.3406615257263184\n",
            "287 2600 loss - 1.0937561988830566\n",
            "287 2610 loss - 1.5685694217681885\n",
            "287 2620 loss - 1.581656813621521\n",
            "287 2630 loss - 1.5303246974945068\n",
            "287 2640 loss - 0.9595791697502136\n",
            "287 2650 loss - 1.1669596433639526\n",
            "287 2660 loss - 1.1945627927780151\n",
            "287 2670 loss - 1.3878282308578491\n",
            "287 2680 loss - 1.0336493253707886\n",
            "287 2690 loss - 1.0442533493041992\n",
            "287 2700 loss - 1.267905354499817\n",
            "287 2710 loss - 1.3161648511886597\n",
            "287 2720 loss - 1.0855542421340942\n",
            "287 2730 loss - 1.127027153968811\n",
            "287 2740 loss - 1.1565896272659302\n",
            "287 2750 loss - 1.171897530555725\n",
            "287 2760 loss - 1.1221152544021606\n",
            "287 2770 loss - 1.5626568794250488\n",
            "287 2780 loss - 1.296653389930725\n",
            "287 2790 loss - 1.4667978286743164\n",
            "287 2800 loss - 1.209975242614746\n",
            "287 2810 loss - 1.300386667251587\n",
            "287 2820 loss - 1.098976969718933\n",
            "287 2830 loss - 1.230576515197754\n",
            "287 2840 loss - 1.2313934564590454\n",
            "287 2850 loss - 1.254786491394043\n",
            "287 2860 loss - 1.3397573232650757\n",
            "287 2870 loss - 1.5346989631652832\n",
            "287 2880 loss - 1.271929383277893\n",
            "287 2890 loss - 1.0569159984588623\n",
            "287 2900 loss - 1.1961359977722168\n",
            "287 2910 loss - 1.2402770519256592\n",
            "287 2920 loss - 1.186049222946167\n",
            "287 2930 loss - 1.9246187210083008\n",
            "287 2940 loss - 1.1521720886230469\n",
            "287 2950 loss - 1.217315912246704\n",
            "287 2960 loss - 1.4432920217514038\n",
            "287 2970 loss - 1.3624234199523926\n",
            "287 2980 loss - 0.9675471782684326\n",
            "287 2990 loss - 1.2978389263153076\n",
            "287 3000 loss - 1.5091267824172974\n",
            "287 3010 loss - 1.7308411598205566\n",
            "287 3020 loss - 1.3395264148712158\n",
            "287 3030 loss - 1.1184272766113281\n",
            "287 3040 loss - 1.3274571895599365\n",
            "287 3050 loss - 0.9538174271583557\n",
            "287 3060 loss - 1.3574095964431763\n",
            "287 3070 loss - 1.1520111560821533\n",
            "287 3080 loss - 1.1520490646362305\n",
            "287 3090 loss - 1.3491315841674805\n",
            "287 3100 loss - 1.0903289318084717\n",
            "287 3110 loss - 1.2321059703826904\n",
            "287 3120 loss - 1.1379976272583008\n",
            "287 3130 loss - 1.4291521310806274\n",
            "287 3140 loss - 1.5791422128677368\n",
            "287 3150 loss - 1.2131565809249878\n",
            "287 3160 loss - 1.0169905424118042\n",
            "287 3170 loss - 1.0796862840652466\n",
            "287 3180 loss - 1.1037259101867676\n",
            "287 3190 loss - 1.1311484575271606\n",
            "287 3200 loss - 1.422318458557129\n",
            "287 3210 loss - 1.1442009210586548\n",
            "287 3220 loss - 1.0818499326705933\n",
            "287 3230 loss - 1.2043840885162354\n",
            "287 3240 loss - 1.2616616487503052\n",
            "287 3250 loss - 1.5550298690795898\n",
            "287 3260 loss - 0.7943803071975708\n",
            "287 3270 loss - 1.2445552349090576\n",
            "287 3280 loss - 1.4370309114456177\n",
            "287 3290 loss - 1.1199134588241577\n",
            "287 3300 loss - 1.46632981300354\n",
            "287 3310 loss - 1.3815016746520996\n",
            "287 3320 loss - 0.9576367139816284\n",
            "287 3330 loss - 0.7534974813461304\n",
            "287 3340 loss - 1.2762835025787354\n",
            "287 3350 loss - 1.0269898176193237\n",
            "287 3360 loss - 1.2917876243591309\n",
            "287 3370 loss - 1.3819761276245117\n",
            "287 3380 loss - 1.4001474380493164\n",
            "287 3390 loss - 0.9227315783500671\n",
            "287 3400 loss - 0.9160329103469849\n",
            "287 3410 loss - 1.273559808731079\n",
            "287 3420 loss - 1.355930209159851\n",
            "287 3430 loss - 1.1771353483200073\n",
            "287 3440 loss - 1.5907189846038818\n",
            "287 3450 loss - 1.340662956237793\n",
            "287 3460 loss - 1.2604843378067017\n",
            "287 3470 loss - 1.4891713857650757\n",
            "287 3480 loss - 1.1650959253311157\n",
            "287 3490 loss - 1.3536261320114136\n",
            "287 3500 loss - 1.4780329465866089\n",
            "287 3510 loss - 1.1959582567214966\n",
            "287 3520 loss - 1.0353891849517822\n",
            "287 3530 loss - 0.8693423271179199\n",
            "287 3540 loss - 1.5627567768096924\n",
            "287 3550 loss - 1.386756420135498\n",
            "287 3560 loss - 1.2873228788375854\n",
            "287 3570 loss - 1.5203596353530884\n",
            "287 3580 loss - 1.085015058517456\n",
            "287 3590 loss - 1.0875985622406006\n",
            "287 3600 loss - 1.5232163667678833\n",
            "287 3610 loss - 1.385968804359436\n",
            "288 0 loss - 1.2640035152435303\n",
            "288 10 loss - 1.7835086584091187\n",
            "288 20 loss - 1.4054548740386963\n",
            "288 30 loss - 1.491797924041748\n",
            "288 40 loss - 1.5458253622055054\n",
            "288 50 loss - 1.4634101390838623\n",
            "288 60 loss - 1.1500086784362793\n",
            "288 70 loss - 1.0352264642715454\n",
            "288 80 loss - 1.1392148733139038\n",
            "288 90 loss - 1.2098538875579834\n",
            "288 100 loss - 1.0995038747787476\n",
            "288 110 loss - 1.0919581651687622\n",
            "288 120 loss - 1.4805694818496704\n",
            "288 130 loss - 1.1508519649505615\n",
            "288 140 loss - 1.9293315410614014\n",
            "288 150 loss - 1.2830743789672852\n",
            "288 160 loss - 1.4034239053726196\n",
            "288 170 loss - 1.209203839302063\n",
            "288 180 loss - 1.2914789915084839\n",
            "288 190 loss - 1.4052832126617432\n",
            "288 200 loss - 1.4082622528076172\n",
            "288 210 loss - 1.2203000783920288\n",
            "288 220 loss - 1.3677858114242554\n",
            "288 230 loss - 1.4045644998550415\n",
            "288 240 loss - 1.0675499439239502\n",
            "288 250 loss - 1.1455634832382202\n",
            "288 260 loss - 1.492607593536377\n",
            "288 270 loss - 1.5255624055862427\n",
            "288 280 loss - 1.112851619720459\n",
            "288 290 loss - 1.173809289932251\n",
            "288 300 loss - 1.4866676330566406\n",
            "288 310 loss - 1.0373632907867432\n",
            "288 320 loss - 1.483211636543274\n",
            "288 330 loss - 0.8702446222305298\n",
            "288 340 loss - 1.4568625688552856\n",
            "288 350 loss - 1.319077968597412\n",
            "288 360 loss - 1.2311577796936035\n",
            "288 370 loss - 1.2798364162445068\n",
            "288 380 loss - 1.600819706916809\n",
            "288 390 loss - 1.7570817470550537\n",
            "288 400 loss - 0.9913932681083679\n",
            "288 410 loss - 0.9802612662315369\n",
            "288 420 loss - 1.077976942062378\n",
            "288 430 loss - 1.1234441995620728\n",
            "288 440 loss - 1.3450720310211182\n",
            "288 450 loss - 1.3813679218292236\n",
            "288 460 loss - 1.1694964170455933\n",
            "288 470 loss - 1.3392986059188843\n",
            "288 480 loss - 1.1227846145629883\n",
            "288 490 loss - 1.1676416397094727\n",
            "288 500 loss - 1.2896497249603271\n",
            "288 510 loss - 0.9463533163070679\n",
            "288 520 loss - 0.8882033228874207\n",
            "288 530 loss - 1.2679312229156494\n",
            "288 540 loss - 1.1022452116012573\n",
            "288 550 loss - 1.1619127988815308\n",
            "288 560 loss - 1.2756247520446777\n",
            "288 570 loss - 1.126794457435608\n",
            "288 580 loss - 1.2992417812347412\n",
            "288 590 loss - 1.3513035774230957\n",
            "288 600 loss - 1.3595691919326782\n",
            "288 610 loss - 1.3179898262023926\n",
            "288 620 loss - 1.3192201852798462\n",
            "288 630 loss - 1.3554831743240356\n",
            "288 640 loss - 1.224364161491394\n",
            "288 650 loss - 1.3879873752593994\n",
            "288 660 loss - 1.1622315645217896\n",
            "288 670 loss - 1.2190037965774536\n",
            "288 680 loss - 1.2900280952453613\n",
            "288 690 loss - 1.2958780527114868\n",
            "288 700 loss - 1.4899654388427734\n",
            "288 710 loss - 1.5490906238555908\n",
            "288 720 loss - 1.4670273065567017\n",
            "288 730 loss - 1.259926676750183\n",
            "288 740 loss - 1.3680484294891357\n",
            "288 750 loss - 0.8774160742759705\n",
            "288 760 loss - 1.0847036838531494\n",
            "288 770 loss - 1.1128085851669312\n",
            "288 780 loss - 1.0552306175231934\n",
            "288 790 loss - 1.24565851688385\n",
            "288 800 loss - 1.225080132484436\n",
            "288 810 loss - 1.8270084857940674\n",
            "288 820 loss - 1.0867916345596313\n",
            "288 830 loss - 0.989743709564209\n",
            "288 840 loss - 1.3756333589553833\n",
            "288 850 loss - 1.0904043912887573\n",
            "288 860 loss - 1.237309217453003\n",
            "288 870 loss - 1.5429627895355225\n",
            "288 880 loss - 1.3646247386932373\n",
            "288 890 loss - 1.5659046173095703\n",
            "288 900 loss - 1.4830958843231201\n",
            "288 910 loss - 1.0482382774353027\n",
            "288 920 loss - 0.9404908418655396\n",
            "288 930 loss - 1.2389857769012451\n",
            "288 940 loss - 1.9436285495758057\n",
            "288 950 loss - 1.2266806364059448\n",
            "288 960 loss - 1.247122883796692\n",
            "288 970 loss - 1.396997332572937\n",
            "288 980 loss - 1.707592248916626\n",
            "288 990 loss - 1.4767482280731201\n",
            "288 1000 loss - 1.0525578260421753\n",
            "288 1010 loss - 1.0749456882476807\n",
            "288 1020 loss - 1.3727447986602783\n",
            "288 1030 loss - 1.5052454471588135\n",
            "288 1040 loss - 1.4853475093841553\n",
            "288 1050 loss - 1.4768580198287964\n",
            "288 1060 loss - 1.2838259935379028\n",
            "288 1070 loss - 1.262739896774292\n",
            "288 1080 loss - 1.3038049936294556\n",
            "288 1090 loss - 1.0624648332595825\n",
            "288 1100 loss - 1.3259660005569458\n",
            "288 1110 loss - 1.4653202295303345\n",
            "288 1120 loss - 1.0758540630340576\n",
            "288 1130 loss - 0.8815716505050659\n",
            "288 1140 loss - 1.209190011024475\n",
            "288 1150 loss - 1.3423020839691162\n",
            "288 1160 loss - 1.4554879665374756\n",
            "288 1170 loss - 0.9268693923950195\n",
            "288 1180 loss - 1.3069665431976318\n",
            "288 1190 loss - 0.8016829490661621\n",
            "288 1200 loss - 1.375390887260437\n",
            "288 1210 loss - 1.2727055549621582\n",
            "288 1220 loss - 1.4871553182601929\n",
            "288 1230 loss - 1.1045676469802856\n",
            "288 1240 loss - 0.9775843620300293\n",
            "288 1250 loss - 1.4361566305160522\n",
            "288 1260 loss - 1.2994396686553955\n",
            "288 1270 loss - 1.3720829486846924\n",
            "288 1280 loss - 1.5917599201202393\n",
            "288 1290 loss - 1.3101555109024048\n",
            "288 1300 loss - 1.0257189273834229\n",
            "288 1310 loss - 1.1707090139389038\n",
            "288 1320 loss - 1.1443983316421509\n",
            "288 1330 loss - 1.3619590997695923\n",
            "288 1340 loss - 1.1203550100326538\n",
            "288 1350 loss - 1.1494313478469849\n",
            "288 1360 loss - 1.2987812757492065\n",
            "288 1370 loss - 1.2205692529678345\n",
            "288 1380 loss - 0.9420067667961121\n",
            "288 1390 loss - 1.1400649547576904\n",
            "288 1400 loss - 1.319199562072754\n",
            "288 1410 loss - 1.2378045320510864\n",
            "288 1420 loss - 1.409945011138916\n",
            "288 1430 loss - 1.4482131004333496\n",
            "288 1440 loss - 1.433393955230713\n",
            "288 1450 loss - 0.9279600381851196\n",
            "288 1460 loss - 1.461827039718628\n",
            "288 1470 loss - 1.4203041791915894\n",
            "288 1480 loss - 1.0588164329528809\n",
            "288 1490 loss - 1.5499579906463623\n",
            "288 1500 loss - 1.3863533735275269\n",
            "288 1510 loss - 1.214579463005066\n",
            "288 1520 loss - 1.110042691230774\n",
            "288 1530 loss - 1.6427831649780273\n",
            "288 1540 loss - 1.1892977952957153\n",
            "288 1550 loss - 1.3876392841339111\n",
            "288 1560 loss - 0.9505305290222168\n",
            "288 1570 loss - 1.3580862283706665\n",
            "288 1580 loss - 1.2528685331344604\n",
            "288 1590 loss - 1.4167557954788208\n",
            "288 1600 loss - 1.4431835412979126\n",
            "288 1610 loss - 1.094163179397583\n",
            "288 1620 loss - 1.0863217115402222\n",
            "288 1630 loss - 1.1817210912704468\n",
            "288 1640 loss - 1.346540927886963\n",
            "288 1650 loss - 1.036305546760559\n",
            "288 1660 loss - 1.0811413526535034\n",
            "288 1670 loss - 1.3935431241989136\n",
            "288 1680 loss - 1.3262763023376465\n",
            "288 1690 loss - 1.323538064956665\n",
            "288 1700 loss - 1.5066769123077393\n",
            "288 1710 loss - 1.2159277200698853\n",
            "288 1720 loss - 1.3962453603744507\n",
            "288 1730 loss - 1.419287919998169\n",
            "288 1740 loss - 1.293946385383606\n",
            "288 1750 loss - 1.7504597902297974\n",
            "288 1760 loss - 1.386529564857483\n",
            "288 1770 loss - 0.9787392020225525\n",
            "288 1780 loss - 1.4127039909362793\n",
            "288 1790 loss - 1.1116865873336792\n",
            "288 1800 loss - 1.4913192987442017\n",
            "288 1810 loss - 1.2403489351272583\n",
            "288 1820 loss - 1.2187573909759521\n",
            "288 1830 loss - 1.4241820573806763\n",
            "288 1840 loss - 1.195697546005249\n",
            "288 1850 loss - 1.7229037284851074\n",
            "288 1860 loss - 1.1883372068405151\n",
            "288 1870 loss - 1.2600347995758057\n",
            "288 1880 loss - 1.101557970046997\n",
            "288 1890 loss - 1.2202340364456177\n",
            "288 1900 loss - 1.2290066480636597\n",
            "288 1910 loss - 1.1565226316452026\n",
            "288 1920 loss - 1.3007601499557495\n",
            "288 1930 loss - 1.171523094177246\n",
            "288 1940 loss - 1.4469883441925049\n",
            "288 1950 loss - 1.0884536504745483\n",
            "288 1960 loss - 1.1679438352584839\n",
            "288 1970 loss - 0.9069383144378662\n",
            "288 1980 loss - 1.2416322231292725\n",
            "288 1990 loss - 0.9554467797279358\n",
            "288 2000 loss - 1.0428708791732788\n",
            "288 2010 loss - 1.3426374197006226\n",
            "288 2020 loss - 1.620484709739685\n",
            "288 2030 loss - 1.0788402557373047\n",
            "288 2040 loss - 1.170635461807251\n",
            "288 2050 loss - 1.1917979717254639\n",
            "288 2060 loss - 1.1776621341705322\n",
            "288 2070 loss - 1.327722191810608\n",
            "288 2080 loss - 1.3895102739334106\n",
            "288 2090 loss - 1.2749038934707642\n",
            "288 2100 loss - 1.4901107549667358\n",
            "288 2110 loss - 1.7594661712646484\n",
            "288 2120 loss - 1.0415891408920288\n",
            "288 2130 loss - 1.2207818031311035\n",
            "288 2140 loss - 1.9683983325958252\n",
            "288 2150 loss - 1.0434526205062866\n",
            "288 2160 loss - 1.1279616355895996\n",
            "288 2170 loss - 1.2271528244018555\n",
            "288 2180 loss - 1.2936155796051025\n",
            "288 2190 loss - 1.398086667060852\n",
            "288 2200 loss - 1.4647396802902222\n",
            "288 2210 loss - 1.3571141958236694\n",
            "288 2220 loss - 1.3061193227767944\n",
            "288 2230 loss - 1.1309959888458252\n",
            "288 2240 loss - 1.756138801574707\n",
            "288 2250 loss - 0.8568398356437683\n",
            "288 2260 loss - 1.0889484882354736\n",
            "288 2270 loss - 1.1895817518234253\n",
            "288 2280 loss - 1.7737499475479126\n",
            "288 2290 loss - 1.0490659475326538\n",
            "288 2300 loss - 1.1163244247436523\n",
            "288 2310 loss - 1.201951503753662\n",
            "288 2320 loss - 1.4256073236465454\n",
            "288 2330 loss - 1.0822428464889526\n",
            "288 2340 loss - 1.7481201887130737\n",
            "288 2350 loss - 1.3634060621261597\n",
            "288 2360 loss - 0.9163395762443542\n",
            "288 2370 loss - 1.054979681968689\n",
            "288 2380 loss - 1.1319561004638672\n",
            "288 2390 loss - 1.5972323417663574\n",
            "288 2400 loss - 1.1186504364013672\n",
            "288 2410 loss - 1.5337140560150146\n",
            "288 2420 loss - 1.1235334873199463\n",
            "288 2430 loss - 0.9200266599655151\n",
            "288 2440 loss - 0.9631007313728333\n",
            "288 2450 loss - 1.2319247722625732\n",
            "288 2460 loss - 1.4459028244018555\n",
            "288 2470 loss - 1.466181755065918\n",
            "288 2480 loss - 1.4736279249191284\n",
            "288 2490 loss - 1.2008074522018433\n",
            "288 2500 loss - 1.2740529775619507\n",
            "288 2510 loss - 1.113678216934204\n",
            "288 2520 loss - 1.068246841430664\n",
            "288 2530 loss - 1.182440161705017\n",
            "288 2540 loss - 1.0495790243148804\n",
            "288 2550 loss - 1.264510154724121\n",
            "288 2560 loss - 1.3075873851776123\n",
            "288 2570 loss - 1.5385502576828003\n",
            "288 2580 loss - 1.2442594766616821\n",
            "288 2590 loss - 1.4621484279632568\n",
            "288 2600 loss - 1.2705661058425903\n",
            "288 2610 loss - 1.2510892152786255\n",
            "288 2620 loss - 1.077225923538208\n",
            "288 2630 loss - 1.0045591592788696\n",
            "288 2640 loss - 1.3115493059158325\n",
            "288 2650 loss - 1.2850514650344849\n",
            "288 2660 loss - 1.3553693294525146\n",
            "288 2670 loss - 0.897016167640686\n",
            "288 2680 loss - 1.3873381614685059\n",
            "288 2690 loss - 1.2232043743133545\n",
            "288 2700 loss - 1.2095730304718018\n",
            "288 2710 loss - 1.1605572700500488\n",
            "288 2720 loss - 1.2600173950195312\n",
            "288 2730 loss - 1.1351741552352905\n",
            "288 2740 loss - 1.235056757926941\n",
            "288 2750 loss - 1.2163238525390625\n",
            "288 2760 loss - 1.2156840562820435\n",
            "288 2770 loss - 1.3547184467315674\n",
            "288 2780 loss - 1.3883498907089233\n",
            "288 2790 loss - 1.2384798526763916\n",
            "288 2800 loss - 1.4109574556350708\n",
            "288 2810 loss - 1.2107356786727905\n",
            "288 2820 loss - 1.3111943006515503\n",
            "288 2830 loss - 1.1265896558761597\n",
            "288 2840 loss - 1.556034803390503\n",
            "288 2850 loss - 1.0135234594345093\n",
            "288 2860 loss - 1.5082061290740967\n",
            "288 2870 loss - 1.3588979244232178\n",
            "288 2880 loss - 1.170303225517273\n",
            "288 2890 loss - 1.540643334388733\n",
            "288 2900 loss - 1.7427635192871094\n",
            "288 2910 loss - 1.1185269355773926\n",
            "288 2920 loss - 1.3130170106887817\n",
            "288 2930 loss - 1.5243585109710693\n",
            "288 2940 loss - 1.120280385017395\n",
            "288 2950 loss - 1.072373390197754\n",
            "288 2960 loss - 1.5876281261444092\n",
            "288 2970 loss - 1.1213040351867676\n",
            "288 2980 loss - 1.5391284227371216\n",
            "288 2990 loss - 1.0152645111083984\n",
            "288 3000 loss - 1.2297626733779907\n",
            "288 3010 loss - 1.2296125888824463\n",
            "288 3020 loss - 1.0178356170654297\n",
            "288 3030 loss - 1.618760108947754\n",
            "288 3040 loss - 0.9363982081413269\n",
            "288 3050 loss - 1.6359646320343018\n",
            "288 3060 loss - 1.4855167865753174\n",
            "288 3070 loss - 1.3371813297271729\n",
            "288 3080 loss - 1.326182246208191\n",
            "288 3090 loss - 1.6639527082443237\n",
            "288 3100 loss - 0.6058186292648315\n",
            "288 3110 loss - 1.2628520727157593\n",
            "288 3120 loss - 0.9778826832771301\n",
            "288 3130 loss - 1.6543364524841309\n",
            "288 3140 loss - 1.1375657320022583\n",
            "288 3150 loss - 1.3017148971557617\n",
            "288 3160 loss - 1.3430144786834717\n",
            "288 3170 loss - 1.476297378540039\n",
            "288 3180 loss - 1.2007322311401367\n",
            "288 3190 loss - 1.5604565143585205\n",
            "288 3200 loss - 1.0654096603393555\n",
            "288 3210 loss - 1.5169404745101929\n",
            "288 3220 loss - 1.2120575904846191\n",
            "288 3230 loss - 1.2484492063522339\n",
            "288 3240 loss - 1.2201803922653198\n",
            "288 3250 loss - 0.9840627908706665\n",
            "288 3260 loss - 1.1582039594650269\n",
            "288 3270 loss - 1.2837988138198853\n",
            "288 3280 loss - 1.059024453163147\n",
            "288 3290 loss - 1.1122280359268188\n",
            "288 3300 loss - 1.847299337387085\n",
            "288 3310 loss - 1.1196022033691406\n",
            "288 3320 loss - 1.4867429733276367\n",
            "288 3330 loss - 1.7645546197891235\n",
            "288 3340 loss - 1.177380084991455\n",
            "288 3350 loss - 1.1992554664611816\n",
            "288 3360 loss - 1.3164247274398804\n",
            "288 3370 loss - 1.3176785707473755\n",
            "288 3380 loss - 1.085442304611206\n",
            "288 3390 loss - 1.0482559204101562\n",
            "288 3400 loss - 1.4276713132858276\n",
            "288 3410 loss - 1.2382771968841553\n",
            "288 3420 loss - 1.4157363176345825\n",
            "288 3430 loss - 1.0613205432891846\n",
            "288 3440 loss - 0.8550040125846863\n",
            "288 3450 loss - 1.10884428024292\n",
            "288 3460 loss - 1.4770089387893677\n",
            "288 3470 loss - 0.9469466209411621\n",
            "288 3480 loss - 1.278886079788208\n",
            "288 3490 loss - 1.3290482759475708\n",
            "288 3500 loss - 1.3590409755706787\n",
            "288 3510 loss - 1.297731876373291\n",
            "288 3520 loss - 1.5632710456848145\n",
            "288 3530 loss - 1.174793004989624\n",
            "288 3540 loss - 1.5300716161727905\n",
            "288 3550 loss - 1.6569136381149292\n",
            "288 3560 loss - 1.1454170942306519\n",
            "288 3570 loss - 1.0953447818756104\n",
            "288 3580 loss - 1.6531955003738403\n",
            "288 3590 loss - 1.1628068685531616\n",
            "288 3600 loss - 1.2768124341964722\n",
            "288 3610 loss - 1.1055527925491333\n",
            "289 0 loss - 1.3682878017425537\n",
            "289 10 loss - 1.223574161529541\n",
            "289 20 loss - 1.1924129724502563\n",
            "289 30 loss - 1.547977328300476\n",
            "289 40 loss - 1.3174753189086914\n",
            "289 50 loss - 1.511783242225647\n",
            "289 60 loss - 1.138880729675293\n",
            "289 70 loss - 1.0579708814620972\n",
            "289 80 loss - 1.1533691883087158\n",
            "289 90 loss - 1.1914526224136353\n",
            "289 100 loss - 1.5789107084274292\n",
            "289 110 loss - 1.3326177597045898\n",
            "289 120 loss - 1.0380420684814453\n",
            "289 130 loss - 1.5216608047485352\n",
            "289 140 loss - 1.2508000135421753\n",
            "289 150 loss - 1.1925702095031738\n",
            "289 160 loss - 1.4568668603897095\n",
            "289 170 loss - 1.1144871711730957\n",
            "289 180 loss - 1.4720733165740967\n",
            "289 190 loss - 1.2239009141921997\n",
            "289 200 loss - 1.4463168382644653\n",
            "289 210 loss - 1.0619988441467285\n",
            "289 220 loss - 1.2048195600509644\n",
            "289 230 loss - 1.442909836769104\n",
            "289 240 loss - 1.2492327690124512\n",
            "289 250 loss - 1.6948086023330688\n",
            "289 260 loss - 1.0405077934265137\n",
            "289 270 loss - 1.3491328954696655\n",
            "289 280 loss - 1.3722403049468994\n",
            "289 290 loss - 1.4060806035995483\n",
            "289 300 loss - 1.3361183404922485\n",
            "289 310 loss - 0.8427637219429016\n",
            "289 320 loss - 1.2626646757125854\n",
            "289 330 loss - 1.0537481307983398\n",
            "289 340 loss - 1.079382061958313\n",
            "289 350 loss - 1.1835566759109497\n",
            "289 360 loss - 0.8069174289703369\n",
            "289 370 loss - 0.8614612817764282\n",
            "289 380 loss - 1.2996047735214233\n",
            "289 390 loss - 0.914090096950531\n",
            "289 400 loss - 1.4084049463272095\n",
            "289 410 loss - 1.5217646360397339\n",
            "289 420 loss - 1.1699031591415405\n",
            "289 430 loss - 1.489642858505249\n",
            "289 440 loss - 1.4660066366195679\n",
            "289 450 loss - 1.5086710453033447\n",
            "289 460 loss - 1.5038446187973022\n",
            "289 470 loss - 1.527968406677246\n",
            "289 480 loss - 1.339166522026062\n",
            "289 490 loss - 0.9019591212272644\n",
            "289 500 loss - 1.348244071006775\n",
            "289 510 loss - 1.4372752904891968\n",
            "289 520 loss - 1.453843593597412\n",
            "289 530 loss - 1.5699806213378906\n",
            "289 540 loss - 1.4792206287384033\n",
            "289 550 loss - 1.2741931676864624\n",
            "289 560 loss - 1.20486319065094\n",
            "289 570 loss - 1.166621208190918\n",
            "289 580 loss - 1.2258001565933228\n",
            "289 590 loss - 1.5603104829788208\n",
            "289 600 loss - 1.0394421815872192\n",
            "289 610 loss - 1.1082892417907715\n",
            "289 620 loss - 1.4432302713394165\n",
            "289 630 loss - 1.4792481660842896\n",
            "289 640 loss - 1.277148962020874\n",
            "289 650 loss - 1.5192289352416992\n",
            "289 660 loss - 1.1664663553237915\n",
            "289 670 loss - 1.5674870014190674\n",
            "289 680 loss - 0.9818421006202698\n",
            "289 690 loss - 1.488112211227417\n",
            "289 700 loss - 1.1248496770858765\n",
            "289 710 loss - 1.3554226160049438\n",
            "289 720 loss - 1.3712732791900635\n",
            "289 730 loss - 1.2470574378967285\n",
            "289 740 loss - 1.269403338432312\n",
            "289 750 loss - 1.0911017656326294\n",
            "289 760 loss - 1.7703207731246948\n",
            "289 770 loss - 1.3605334758758545\n",
            "289 780 loss - 1.1734542846679688\n",
            "289 790 loss - 1.1305614709854126\n",
            "289 800 loss - 1.5974284410476685\n",
            "289 810 loss - 0.8716071248054504\n",
            "289 820 loss - 1.1136406660079956\n",
            "289 830 loss - 1.5570112466812134\n",
            "289 840 loss - 1.2286362648010254\n",
            "289 850 loss - 1.1523605585098267\n",
            "289 860 loss - 1.1585288047790527\n",
            "289 870 loss - 1.5267188549041748\n",
            "289 880 loss - 1.4513894319534302\n",
            "289 890 loss - 1.2586381435394287\n",
            "289 900 loss - 1.047608494758606\n",
            "289 910 loss - 1.2176108360290527\n",
            "289 920 loss - 1.2792797088623047\n",
            "289 930 loss - 1.4320061206817627\n",
            "289 940 loss - 1.277182936668396\n",
            "289 950 loss - 1.2622469663619995\n",
            "289 960 loss - 1.4887207746505737\n",
            "289 970 loss - 1.449995517730713\n",
            "289 980 loss - 1.1287165880203247\n",
            "289 990 loss - 0.9794453382492065\n",
            "289 1000 loss - 1.4352425336837769\n",
            "289 1010 loss - 1.3407096862792969\n",
            "289 1020 loss - 1.104343056678772\n",
            "289 1030 loss - 0.9967861771583557\n",
            "289 1040 loss - 1.4093607664108276\n",
            "289 1050 loss - 1.3026459217071533\n",
            "289 1060 loss - 1.2981681823730469\n",
            "289 1070 loss - 1.4775367975234985\n",
            "289 1080 loss - 1.3269978761672974\n",
            "289 1090 loss - 1.2656935453414917\n",
            "289 1100 loss - 1.2489129304885864\n",
            "289 1110 loss - 0.9341989159584045\n",
            "289 1120 loss - 1.5325500965118408\n",
            "289 1130 loss - 1.2546932697296143\n",
            "289 1140 loss - 1.1918776035308838\n",
            "289 1150 loss - 1.4185571670532227\n",
            "289 1160 loss - 1.4171007871627808\n",
            "289 1170 loss - 1.275819182395935\n",
            "289 1180 loss - 1.3637951612472534\n",
            "289 1190 loss - 1.1093319654464722\n",
            "289 1200 loss - 1.1914430856704712\n",
            "289 1210 loss - 1.3896405696868896\n",
            "289 1220 loss - 1.3248645067214966\n",
            "289 1230 loss - 1.643158197402954\n",
            "289 1240 loss - 1.328131079673767\n",
            "289 1250 loss - 1.320894718170166\n",
            "289 1260 loss - 1.1540247201919556\n",
            "289 1270 loss - 1.2253072261810303\n",
            "289 1280 loss - 1.1820462942123413\n",
            "289 1290 loss - 1.3051282167434692\n",
            "289 1300 loss - 1.0628376007080078\n",
            "289 1310 loss - 1.451046347618103\n",
            "289 1320 loss - 1.385456919670105\n",
            "289 1330 loss - 0.8403397798538208\n",
            "289 1340 loss - 1.5291852951049805\n",
            "289 1350 loss - 0.9547296762466431\n",
            "289 1360 loss - 1.2362948656082153\n",
            "289 1370 loss - 1.5431400537490845\n",
            "289 1380 loss - 1.328549861907959\n",
            "289 1390 loss - 1.0215703248977661\n",
            "289 1400 loss - 1.230599284172058\n",
            "289 1410 loss - 1.185083031654358\n",
            "289 1420 loss - 1.0358761548995972\n",
            "289 1430 loss - 1.0571986436843872\n",
            "289 1440 loss - 1.3505096435546875\n",
            "289 1450 loss - 1.5772156715393066\n",
            "289 1460 loss - 1.4814434051513672\n",
            "289 1470 loss - 1.2445743083953857\n",
            "289 1480 loss - 1.5578478574752808\n",
            "289 1490 loss - 1.3909906148910522\n",
            "289 1500 loss - 1.1355562210083008\n",
            "289 1510 loss - 1.2399858236312866\n",
            "289 1520 loss - 1.3253246545791626\n",
            "289 1530 loss - 0.9454041123390198\n",
            "289 1540 loss - 1.4279453754425049\n",
            "289 1550 loss - 1.2296862602233887\n",
            "289 1560 loss - 1.244638442993164\n",
            "289 1570 loss - 1.3408032655715942\n",
            "289 1580 loss - 1.129423975944519\n",
            "289 1590 loss - 1.3334239721298218\n",
            "289 1600 loss - 1.537630558013916\n",
            "289 1610 loss - 1.4449832439422607\n",
            "289 1620 loss - 1.5218899250030518\n",
            "289 1630 loss - 1.4052619934082031\n",
            "289 1640 loss - 1.3889973163604736\n",
            "289 1650 loss - 1.5078045129776\n",
            "289 1660 loss - 1.307948350906372\n",
            "289 1670 loss - 1.4277069568634033\n",
            "289 1680 loss - 1.1546142101287842\n",
            "289 1690 loss - 1.0463145971298218\n",
            "289 1700 loss - 1.4556736946105957\n",
            "289 1710 loss - 1.1811914443969727\n",
            "289 1720 loss - 1.3927348852157593\n",
            "289 1730 loss - 1.4348299503326416\n",
            "289 1740 loss - 1.107207179069519\n",
            "289 1750 loss - 1.5426265001296997\n",
            "289 1760 loss - 1.1553540229797363\n",
            "289 1770 loss - 1.514838695526123\n",
            "289 1780 loss - 1.1163794994354248\n",
            "289 1790 loss - 1.5217254161834717\n",
            "289 1800 loss - 1.2887928485870361\n",
            "289 1810 loss - 1.3135894536972046\n",
            "289 1820 loss - 1.2659918069839478\n",
            "289 1830 loss - 1.1833361387252808\n",
            "289 1840 loss - 1.7433934211730957\n",
            "289 1850 loss - 1.6164013147354126\n",
            "289 1860 loss - 1.3695144653320312\n",
            "289 1870 loss - 1.2290592193603516\n",
            "289 1880 loss - 1.1861757040023804\n",
            "289 1890 loss - 1.1388887166976929\n",
            "289 1900 loss - 1.0124545097351074\n",
            "289 1910 loss - 1.3668071031570435\n",
            "289 1920 loss - 1.3825067281723022\n",
            "289 1930 loss - 1.0908849239349365\n",
            "289 1940 loss - 1.3367822170257568\n",
            "289 1950 loss - 1.0773309469223022\n",
            "289 1960 loss - 1.1529572010040283\n",
            "289 1970 loss - 1.2036762237548828\n",
            "289 1980 loss - 1.1177606582641602\n",
            "289 1990 loss - 1.594391942024231\n",
            "289 2000 loss - 1.4160270690917969\n",
            "289 2010 loss - 1.3268271684646606\n",
            "289 2020 loss - 1.2758814096450806\n",
            "289 2030 loss - 0.975738525390625\n",
            "289 2040 loss - 1.529706597328186\n",
            "289 2050 loss - 1.4944329261779785\n",
            "289 2060 loss - 1.3562520742416382\n",
            "289 2070 loss - 1.411380648612976\n",
            "289 2080 loss - 1.1035395860671997\n",
            "289 2090 loss - 0.9889155030250549\n",
            "289 2100 loss - 1.2742165327072144\n",
            "289 2110 loss - 0.9688936471939087\n",
            "289 2120 loss - 1.324238657951355\n",
            "289 2130 loss - 1.276976466178894\n",
            "289 2140 loss - 1.3594800233840942\n",
            "289 2150 loss - 1.8302192687988281\n",
            "289 2160 loss - 1.1221022605895996\n",
            "289 2170 loss - 1.6086726188659668\n",
            "289 2180 loss - 1.124611496925354\n",
            "289 2190 loss - 1.6133986711502075\n",
            "289 2200 loss - 1.3239907026290894\n",
            "289 2210 loss - 1.1048651933670044\n",
            "289 2220 loss - 0.9468963146209717\n",
            "289 2230 loss - 1.0383559465408325\n",
            "289 2240 loss - 0.9972231984138489\n",
            "289 2250 loss - 1.680443525314331\n",
            "289 2260 loss - 1.0996274948120117\n",
            "289 2270 loss - 1.179634690284729\n",
            "289 2280 loss - 1.1529109477996826\n",
            "289 2290 loss - 1.1811128854751587\n",
            "289 2300 loss - 1.1857722997665405\n",
            "289 2310 loss - 0.9761461019515991\n",
            "289 2320 loss - 1.0567961931228638\n",
            "289 2330 loss - 1.3185455799102783\n",
            "289 2340 loss - 1.3068947792053223\n",
            "289 2350 loss - 1.3966697454452515\n",
            "289 2360 loss - 1.3758291006088257\n",
            "289 2370 loss - 1.2450145483016968\n",
            "289 2380 loss - 1.2520005702972412\n",
            "289 2390 loss - 1.0834202766418457\n",
            "289 2400 loss - 1.2457494735717773\n",
            "289 2410 loss - 1.2989223003387451\n",
            "289 2420 loss - 1.1679316759109497\n",
            "289 2430 loss - 1.4663784503936768\n",
            "289 2440 loss - 1.38722562789917\n",
            "289 2450 loss - 1.2894043922424316\n",
            "289 2460 loss - 1.194070816040039\n",
            "289 2470 loss - 1.7347393035888672\n",
            "289 2480 loss - 1.4436947107315063\n",
            "289 2490 loss - 1.3880831003189087\n",
            "289 2500 loss - 1.206559181213379\n",
            "289 2510 loss - 1.2322206497192383\n",
            "289 2520 loss - 1.5560773611068726\n",
            "289 2530 loss - 1.5465672016143799\n",
            "289 2540 loss - 1.1338156461715698\n",
            "289 2550 loss - 1.5898741483688354\n",
            "289 2560 loss - 1.4251275062561035\n",
            "289 2570 loss - 1.4176207780838013\n",
            "289 2580 loss - 1.2286314964294434\n",
            "289 2590 loss - 1.8992230892181396\n",
            "289 2600 loss - 1.650326132774353\n",
            "289 2610 loss - 1.208827018737793\n",
            "289 2620 loss - 1.1350022554397583\n",
            "289 2630 loss - 1.4603691101074219\n",
            "289 2640 loss - 1.0748997926712036\n",
            "289 2650 loss - 1.0646733045578003\n",
            "289 2660 loss - 1.3905729055404663\n",
            "289 2670 loss - 1.1265246868133545\n",
            "289 2680 loss - 1.1060261726379395\n",
            "289 2690 loss - 1.632771611213684\n",
            "289 2700 loss - 1.5386382341384888\n",
            "289 2710 loss - 1.6033991575241089\n",
            "289 2720 loss - 1.3459175825119019\n",
            "289 2730 loss - 1.1159733533859253\n",
            "289 2740 loss - 1.368135929107666\n",
            "289 2750 loss - 1.3891183137893677\n",
            "289 2760 loss - 1.107927918434143\n",
            "289 2770 loss - 1.1021671295166016\n",
            "289 2780 loss - 1.5890661478042603\n",
            "289 2790 loss - 1.2276870012283325\n",
            "289 2800 loss - 1.0359455347061157\n",
            "289 2810 loss - 0.9072796702384949\n",
            "289 2820 loss - 1.298254370689392\n",
            "289 2830 loss - 1.1843960285186768\n",
            "289 2840 loss - 1.5755248069763184\n",
            "289 2850 loss - 1.2051981687545776\n",
            "289 2860 loss - 1.353264331817627\n",
            "289 2870 loss - 1.1738346815109253\n",
            "289 2880 loss - 1.3462109565734863\n",
            "289 2890 loss - 1.0605274438858032\n",
            "289 2900 loss - 1.2282519340515137\n",
            "289 2910 loss - 1.1150387525558472\n",
            "289 2920 loss - 1.3820395469665527\n",
            "289 2930 loss - 1.1899477243423462\n",
            "289 2940 loss - 1.3297619819641113\n",
            "289 2950 loss - 0.9761718511581421\n",
            "289 2960 loss - 1.2585304975509644\n",
            "289 2970 loss - 1.5072417259216309\n",
            "289 2980 loss - 1.244087815284729\n",
            "289 2990 loss - 1.2837554216384888\n",
            "289 3000 loss - 1.2801768779754639\n",
            "289 3010 loss - 1.01580011844635\n",
            "289 3020 loss - 1.152397632598877\n",
            "289 3030 loss - 1.5439449548721313\n",
            "289 3040 loss - 1.1286983489990234\n",
            "289 3050 loss - 1.5004947185516357\n",
            "289 3060 loss - 1.1581485271453857\n",
            "289 3070 loss - 1.1434214115142822\n",
            "289 3080 loss - 1.486232876777649\n",
            "289 3090 loss - 1.1610000133514404\n",
            "289 3100 loss - 1.3579086065292358\n",
            "289 3110 loss - 1.0779160261154175\n",
            "289 3120 loss - 1.4430750608444214\n",
            "289 3130 loss - 1.3249777555465698\n",
            "289 3140 loss - 1.060948371887207\n",
            "289 3150 loss - 1.4564435482025146\n",
            "289 3160 loss - 1.2965272665023804\n",
            "289 3170 loss - 1.6406209468841553\n",
            "289 3180 loss - 1.4387778043746948\n",
            "289 3190 loss - 1.3084019422531128\n",
            "289 3200 loss - 1.268720030784607\n",
            "289 3210 loss - 1.4750031232833862\n",
            "289 3220 loss - 1.3897018432617188\n",
            "289 3230 loss - 1.06499183177948\n",
            "289 3240 loss - 1.511939525604248\n",
            "289 3250 loss - 1.6958032846450806\n",
            "289 3260 loss - 1.2180572748184204\n",
            "289 3270 loss - 1.1434029340744019\n",
            "289 3280 loss - 1.7017271518707275\n",
            "289 3290 loss - 1.3655506372451782\n",
            "289 3300 loss - 1.325913429260254\n",
            "289 3310 loss - 1.213753342628479\n",
            "289 3320 loss - 1.3584283590316772\n",
            "289 3330 loss - 1.332223653793335\n",
            "289 3340 loss - 1.1729228496551514\n",
            "289 3350 loss - 1.4187300205230713\n",
            "289 3360 loss - 1.1630898714065552\n",
            "289 3370 loss - 1.4199994802474976\n",
            "289 3380 loss - 1.7000099420547485\n",
            "289 3390 loss - 1.0507588386535645\n",
            "289 3400 loss - 1.7017531394958496\n",
            "289 3410 loss - 1.2644535303115845\n",
            "289 3420 loss - 1.0736294984817505\n",
            "289 3430 loss - 1.0053515434265137\n",
            "289 3440 loss - 1.2616740465164185\n",
            "289 3450 loss - 1.322602391242981\n",
            "289 3460 loss - 1.3142807483673096\n",
            "289 3470 loss - 1.206782341003418\n",
            "289 3480 loss - 0.9270973801612854\n",
            "289 3490 loss - 0.9798813462257385\n",
            "289 3500 loss - 1.1476938724517822\n",
            "289 3510 loss - 1.970664143562317\n",
            "289 3520 loss - 1.1725308895111084\n",
            "289 3530 loss - 1.3708510398864746\n",
            "289 3540 loss - 1.4903595447540283\n",
            "289 3550 loss - 1.614012598991394\n",
            "289 3560 loss - 1.457700490951538\n",
            "289 3570 loss - 1.1533926725387573\n",
            "289 3580 loss - 1.3864716291427612\n",
            "289 3590 loss - 1.435942530632019\n",
            "289 3600 loss - 1.5316309928894043\n",
            "289 3610 loss - 1.2046126127243042\n",
            "290 0 loss - 0.9880046248435974\n",
            "290 10 loss - 0.9768274426460266\n",
            "290 20 loss - 1.2190337181091309\n",
            "290 30 loss - 1.166017770767212\n",
            "290 40 loss - 0.9942846894264221\n",
            "290 50 loss - 1.0419851541519165\n",
            "290 60 loss - 1.123113751411438\n",
            "290 70 loss - 1.3699475526809692\n",
            "290 80 loss - 1.419615626335144\n",
            "290 90 loss - 1.281207799911499\n",
            "290 100 loss - 1.345528483390808\n",
            "290 110 loss - 1.8261103630065918\n",
            "290 120 loss - 1.5580029487609863\n",
            "290 130 loss - 1.1495991945266724\n",
            "290 140 loss - 1.0812861919403076\n",
            "290 150 loss - 1.3087953329086304\n",
            "290 160 loss - 0.8112791776657104\n",
            "290 170 loss - 1.3828542232513428\n",
            "290 180 loss - 1.478941798210144\n",
            "290 190 loss - 1.346645474433899\n",
            "290 200 loss - 1.490537166595459\n",
            "290 210 loss - 1.4041179418563843\n",
            "290 220 loss - 1.6091599464416504\n",
            "290 230 loss - 1.3436230421066284\n",
            "290 240 loss - 1.4930557012557983\n",
            "290 250 loss - 1.5575742721557617\n",
            "290 260 loss - 1.2150354385375977\n",
            "290 270 loss - 1.5503430366516113\n",
            "290 280 loss - 1.4290260076522827\n",
            "290 290 loss - 1.25692880153656\n",
            "290 300 loss - 1.2843923568725586\n",
            "290 310 loss - 1.5053043365478516\n",
            "290 320 loss - 1.4676246643066406\n",
            "290 330 loss - 1.3538129329681396\n",
            "290 340 loss - 0.9736477136611938\n",
            "290 350 loss - 1.7056301832199097\n",
            "290 360 loss - 1.252287745475769\n",
            "290 370 loss - 0.938537061214447\n",
            "290 380 loss - 1.3319578170776367\n",
            "290 390 loss - 0.835763692855835\n",
            "290 400 loss - 1.139866828918457\n",
            "290 410 loss - 1.0467560291290283\n",
            "290 420 loss - 1.3699103593826294\n",
            "290 430 loss - 1.3948148488998413\n",
            "290 440 loss - 1.280957818031311\n",
            "290 450 loss - 1.1932547092437744\n",
            "290 460 loss - 1.407268762588501\n",
            "290 470 loss - 1.0708624124526978\n",
            "290 480 loss - 1.5583786964416504\n",
            "290 490 loss - 1.3115419149398804\n",
            "290 500 loss - 1.6792305707931519\n",
            "290 510 loss - 1.484797716140747\n",
            "290 520 loss - 1.3350958824157715\n",
            "290 530 loss - 1.2900551557540894\n",
            "290 540 loss - 1.1847244501113892\n",
            "290 550 loss - 1.1053708791732788\n",
            "290 560 loss - 1.0505452156066895\n",
            "290 570 loss - 1.1650795936584473\n",
            "290 580 loss - 1.4638694524765015\n",
            "290 590 loss - 1.2326724529266357\n",
            "290 600 loss - 1.5778449773788452\n",
            "290 610 loss - 1.1921690702438354\n",
            "290 620 loss - 1.2712388038635254\n",
            "290 630 loss - 1.1900054216384888\n",
            "290 640 loss - 0.8410820960998535\n",
            "290 650 loss - 1.1735879182815552\n",
            "290 660 loss - 1.2276544570922852\n",
            "290 670 loss - 1.2352491617202759\n",
            "290 680 loss - 1.5688989162445068\n",
            "290 690 loss - 1.1140846014022827\n",
            "290 700 loss - 1.2195616960525513\n",
            "290 710 loss - 1.2086191177368164\n",
            "290 720 loss - 0.983604907989502\n",
            "290 730 loss - 1.3647804260253906\n",
            "290 740 loss - 1.5053783655166626\n",
            "290 750 loss - 1.0502336025238037\n",
            "290 760 loss - 0.8270670771598816\n",
            "290 770 loss - 1.7201924324035645\n",
            "290 780 loss - 1.4512163400650024\n",
            "290 790 loss - 0.7241328954696655\n",
            "290 800 loss - 1.73441481590271\n",
            "290 810 loss - 1.4145605564117432\n",
            "290 820 loss - 1.362554907798767\n",
            "290 830 loss - 1.1918669939041138\n",
            "290 840 loss - 1.1795432567596436\n",
            "290 850 loss - 1.1363214254379272\n",
            "290 860 loss - 0.8425306081771851\n",
            "290 870 loss - 1.3623260259628296\n",
            "290 880 loss - 1.2456467151641846\n",
            "290 890 loss - 1.277938961982727\n",
            "290 900 loss - 1.4798206090927124\n",
            "290 910 loss - 1.0546796321868896\n",
            "290 920 loss - 1.031101107597351\n",
            "290 930 loss - 1.339253544807434\n",
            "290 940 loss - 0.8646774291992188\n",
            "290 950 loss - 1.0367951393127441\n",
            "290 960 loss - 1.1744027137756348\n",
            "290 970 loss - 0.8483750224113464\n",
            "290 980 loss - 1.4065651893615723\n",
            "290 990 loss - 1.4186099767684937\n",
            "290 1000 loss - 1.4892618656158447\n",
            "290 1010 loss - 1.0498955249786377\n",
            "290 1020 loss - 1.4958254098892212\n",
            "290 1030 loss - 1.4401960372924805\n",
            "290 1040 loss - 1.4572911262512207\n",
            "290 1050 loss - 1.3701545000076294\n",
            "290 1060 loss - 1.0712754726409912\n",
            "290 1070 loss - 0.9764813184738159\n",
            "290 1080 loss - 1.2290087938308716\n",
            "290 1090 loss - 1.8271708488464355\n",
            "290 1100 loss - 1.508423924446106\n",
            "290 1110 loss - 1.1429499387741089\n",
            "290 1120 loss - 1.3272738456726074\n",
            "290 1130 loss - 1.3126460313796997\n",
            "290 1140 loss - 1.1366323232650757\n",
            "290 1150 loss - 1.3021793365478516\n",
            "290 1160 loss - 1.0892093181610107\n",
            "290 1170 loss - 1.2293552160263062\n",
            "290 1180 loss - 1.1408779621124268\n",
            "290 1190 loss - 1.2871180772781372\n",
            "290 1200 loss - 1.2610056400299072\n",
            "290 1210 loss - 1.3709685802459717\n",
            "290 1220 loss - 1.4039863348007202\n",
            "290 1230 loss - 1.4051979780197144\n",
            "290 1240 loss - 1.276680827140808\n",
            "290 1250 loss - 1.2248255014419556\n",
            "290 1260 loss - 1.3358242511749268\n",
            "290 1270 loss - 1.3835577964782715\n",
            "290 1280 loss - 1.3200815916061401\n",
            "290 1290 loss - 1.0825306177139282\n",
            "290 1300 loss - 1.7639573812484741\n",
            "290 1310 loss - 1.2460452318191528\n",
            "290 1320 loss - 1.48138427734375\n",
            "290 1330 loss - 1.1857823133468628\n",
            "290 1340 loss - 1.0445261001586914\n",
            "290 1350 loss - 1.204641342163086\n",
            "290 1360 loss - 1.1378624439239502\n",
            "290 1370 loss - 1.3445930480957031\n",
            "290 1380 loss - 1.126067876815796\n",
            "290 1390 loss - 1.354773998260498\n",
            "290 1400 loss - 1.7278821468353271\n",
            "290 1410 loss - 1.1893424987792969\n",
            "290 1420 loss - 1.104221224784851\n",
            "290 1430 loss - 1.1184087991714478\n",
            "290 1440 loss - 1.4682883024215698\n",
            "290 1450 loss - 1.4822356700897217\n",
            "290 1460 loss - 1.0452905893325806\n",
            "290 1470 loss - 1.5792635679244995\n",
            "290 1480 loss - 1.3379526138305664\n",
            "290 1490 loss - 1.119285225868225\n",
            "290 1500 loss - 1.4770760536193848\n",
            "290 1510 loss - 1.8574045896530151\n",
            "290 1520 loss - 1.2410869598388672\n",
            "290 1530 loss - 1.2578041553497314\n",
            "290 1540 loss - 1.3167403936386108\n",
            "290 1550 loss - 1.5657702684402466\n",
            "290 1560 loss - 1.5362613201141357\n",
            "290 1570 loss - 1.230675458908081\n",
            "290 1580 loss - 1.337656021118164\n",
            "290 1590 loss - 1.2233774662017822\n",
            "290 1600 loss - 1.4193543195724487\n",
            "290 1610 loss - 1.8558915853500366\n",
            "290 1620 loss - 1.042855143547058\n",
            "290 1630 loss - 1.3476675748825073\n",
            "290 1640 loss - 0.9817027449607849\n",
            "290 1650 loss - 0.947644054889679\n",
            "290 1660 loss - 1.3958865404129028\n",
            "290 1670 loss - 1.0906864404678345\n",
            "290 1680 loss - 1.4542040824890137\n",
            "290 1690 loss - 1.485146164894104\n",
            "290 1700 loss - 1.2528178691864014\n",
            "290 1710 loss - 1.1964499950408936\n",
            "290 1720 loss - 1.2772526741027832\n",
            "290 1730 loss - 1.6436481475830078\n",
            "290 1740 loss - 1.3889662027359009\n",
            "290 1750 loss - 1.390175461769104\n",
            "290 1760 loss - 1.4272469282150269\n",
            "290 1770 loss - 1.1381431818008423\n",
            "290 1780 loss - 1.1144452095031738\n",
            "290 1790 loss - 1.126137375831604\n",
            "290 1800 loss - 1.363097071647644\n",
            "290 1810 loss - 1.3386402130126953\n",
            "290 1820 loss - 1.0088804960250854\n",
            "290 1830 loss - 1.4066544771194458\n",
            "290 1840 loss - 1.219639778137207\n",
            "290 1850 loss - 1.3324172496795654\n",
            "290 1860 loss - 1.5181076526641846\n",
            "290 1870 loss - 1.6588727235794067\n",
            "290 1880 loss - 1.2859431505203247\n",
            "290 1890 loss - 1.2583658695220947\n",
            "290 1900 loss - 1.2232296466827393\n",
            "290 1910 loss - 1.226656198501587\n",
            "290 1920 loss - 1.2955312728881836\n",
            "290 1930 loss - 1.0021363496780396\n",
            "290 1940 loss - 1.1602647304534912\n",
            "290 1950 loss - 1.4542709589004517\n",
            "290 1960 loss - 1.3178362846374512\n",
            "290 1970 loss - 1.435335636138916\n",
            "290 1980 loss - 1.0899399518966675\n",
            "290 1990 loss - 0.9788566827774048\n",
            "290 2000 loss - 1.5241390466690063\n",
            "290 2010 loss - 1.467023253440857\n",
            "290 2020 loss - 1.7390666007995605\n",
            "290 2030 loss - 1.3638430833816528\n",
            "290 2040 loss - 1.292271375656128\n",
            "290 2050 loss - 1.625036597251892\n",
            "290 2060 loss - 1.362424612045288\n",
            "290 2070 loss - 1.24394953250885\n",
            "290 2080 loss - 0.8694984912872314\n",
            "290 2090 loss - 1.0670177936553955\n",
            "290 2100 loss - 1.2631539106369019\n",
            "290 2110 loss - 1.453502893447876\n",
            "290 2120 loss - 1.4282037019729614\n",
            "290 2130 loss - 1.3810906410217285\n",
            "290 2140 loss - 1.4457980394363403\n",
            "290 2150 loss - 1.3188927173614502\n",
            "290 2160 loss - 1.1851545572280884\n",
            "290 2170 loss - 0.8431857824325562\n",
            "290 2180 loss - 1.4910168647766113\n",
            "290 2190 loss - 1.3595107793807983\n",
            "290 2200 loss - 1.2733076810836792\n",
            "290 2210 loss - 1.4283839464187622\n",
            "290 2220 loss - 1.2416949272155762\n",
            "290 2230 loss - 1.3914210796356201\n",
            "290 2240 loss - 1.609826683998108\n",
            "290 2250 loss - 1.2990403175354004\n",
            "290 2260 loss - 1.331986904144287\n",
            "290 2270 loss - 1.320401668548584\n",
            "290 2280 loss - 1.1930296421051025\n",
            "290 2290 loss - 1.26948881149292\n",
            "290 2300 loss - 1.491620659828186\n",
            "290 2310 loss - 1.610531210899353\n",
            "290 2320 loss - 1.2526183128356934\n",
            "290 2330 loss - 1.3325365781784058\n",
            "290 2340 loss - 1.2536357641220093\n",
            "290 2350 loss - 1.733778476715088\n",
            "290 2360 loss - 1.1128437519073486\n",
            "290 2370 loss - 1.2914724349975586\n",
            "290 2380 loss - 1.1392892599105835\n",
            "290 2390 loss - 1.2736592292785645\n",
            "290 2400 loss - 1.242741584777832\n",
            "290 2410 loss - 1.094351053237915\n",
            "290 2420 loss - 1.4292832612991333\n",
            "290 2430 loss - 1.1458563804626465\n",
            "290 2440 loss - 1.740169644355774\n",
            "290 2450 loss - 1.1495556831359863\n",
            "290 2460 loss - 1.4696837663650513\n",
            "290 2470 loss - 1.5152671337127686\n",
            "290 2480 loss - 1.1789352893829346\n",
            "290 2490 loss - 1.5518773794174194\n",
            "290 2500 loss - 1.684089183807373\n",
            "290 2510 loss - 1.4818328619003296\n",
            "290 2520 loss - 1.2889540195465088\n",
            "290 2530 loss - 1.3066377639770508\n",
            "290 2540 loss - 1.085861325263977\n",
            "290 2550 loss - 1.193042278289795\n",
            "290 2560 loss - 1.168238639831543\n",
            "290 2570 loss - 1.2098430395126343\n",
            "290 2580 loss - 1.1419076919555664\n",
            "290 2590 loss - 1.8982189893722534\n",
            "290 2600 loss - 1.2462384700775146\n",
            "290 2610 loss - 1.155240774154663\n",
            "290 2620 loss - 1.331781268119812\n",
            "290 2630 loss - 1.581322431564331\n",
            "290 2640 loss - 1.6155412197113037\n",
            "290 2650 loss - 1.2548965215682983\n",
            "290 2660 loss - 1.1980324983596802\n",
            "290 2670 loss - 1.8328487873077393\n",
            "290 2680 loss - 1.447167158126831\n",
            "290 2690 loss - 1.1018832921981812\n",
            "290 2700 loss - 1.905814528465271\n",
            "290 2710 loss - 1.5134055614471436\n",
            "290 2720 loss - 1.1401562690734863\n",
            "290 2730 loss - 1.1700955629348755\n",
            "290 2740 loss - 1.412703037261963\n",
            "290 2750 loss - 1.368687629699707\n",
            "290 2760 loss - 1.6217211484909058\n",
            "290 2770 loss - 1.221100091934204\n",
            "290 2780 loss - 1.1957405805587769\n",
            "290 2790 loss - 1.2817811965942383\n",
            "290 2800 loss - 1.2705202102661133\n",
            "290 2810 loss - 1.08342707157135\n",
            "290 2820 loss - 1.3316477537155151\n",
            "290 2830 loss - 1.324542760848999\n",
            "290 2840 loss - 1.0888445377349854\n",
            "290 2850 loss - 0.8756999373435974\n",
            "290 2860 loss - 1.2935123443603516\n",
            "290 2870 loss - 1.3690069913864136\n",
            "290 2880 loss - 1.0703372955322266\n",
            "290 2890 loss - 1.2630680799484253\n",
            "290 2900 loss - 1.236401081085205\n",
            "290 2910 loss - 1.073613166809082\n",
            "290 2920 loss - 1.6607818603515625\n",
            "290 2930 loss - 1.1789617538452148\n",
            "290 2940 loss - 1.2597123384475708\n",
            "290 2950 loss - 1.408886432647705\n",
            "290 2960 loss - 1.230752944946289\n",
            "290 2970 loss - 1.2278858423233032\n",
            "290 2980 loss - 0.9856378436088562\n",
            "290 2990 loss - 1.5043630599975586\n",
            "290 3000 loss - 1.3481351137161255\n",
            "290 3010 loss - 1.4467428922653198\n",
            "290 3020 loss - 1.5731619596481323\n",
            "290 3030 loss - 1.3558685779571533\n",
            "290 3040 loss - 1.1107287406921387\n",
            "290 3050 loss - 1.3813921213150024\n",
            "290 3060 loss - 1.1708842515945435\n",
            "290 3070 loss - 1.515228271484375\n",
            "290 3080 loss - 1.5352954864501953\n",
            "290 3090 loss - 0.9830303192138672\n",
            "290 3100 loss - 1.2376796007156372\n",
            "290 3110 loss - 1.6303539276123047\n",
            "290 3120 loss - 1.0009115934371948\n",
            "290 3130 loss - 1.6377125978469849\n",
            "290 3140 loss - 1.34022855758667\n",
            "290 3150 loss - 1.1302417516708374\n",
            "290 3160 loss - 1.2925893068313599\n",
            "290 3170 loss - 1.8423206806182861\n",
            "290 3180 loss - 1.1162028312683105\n",
            "290 3190 loss - 1.3503782749176025\n",
            "290 3200 loss - 1.1658504009246826\n",
            "290 3210 loss - 1.2579866647720337\n",
            "290 3220 loss - 1.3819758892059326\n",
            "290 3230 loss - 1.4942729473114014\n",
            "290 3240 loss - 1.0763425827026367\n",
            "290 3250 loss - 1.3150982856750488\n",
            "290 3260 loss - 1.0488848686218262\n",
            "290 3270 loss - 1.6823935508728027\n",
            "290 3280 loss - 1.219502568244934\n",
            "290 3290 loss - 1.2467658519744873\n",
            "290 3300 loss - 1.6667141914367676\n",
            "290 3310 loss - 1.2929422855377197\n",
            "290 3320 loss - 1.4825825691223145\n",
            "290 3330 loss - 1.1493613719940186\n",
            "290 3340 loss - 1.0594292879104614\n",
            "290 3350 loss - 1.4036474227905273\n",
            "290 3360 loss - 1.3723578453063965\n",
            "290 3370 loss - 1.485262155532837\n",
            "290 3380 loss - 1.059022068977356\n",
            "290 3390 loss - 1.390630841255188\n",
            "290 3400 loss - 1.5427361726760864\n",
            "290 3410 loss - 1.4935868978500366\n",
            "290 3420 loss - 1.3322886228561401\n",
            "290 3430 loss - 1.524781346321106\n",
            "290 3440 loss - 0.9848377704620361\n",
            "290 3450 loss - 0.9810664653778076\n",
            "290 3460 loss - 1.2928812503814697\n",
            "290 3470 loss - 1.8673896789550781\n",
            "290 3480 loss - 1.6287835836410522\n",
            "290 3490 loss - 1.267440915107727\n",
            "290 3500 loss - 1.3955192565917969\n",
            "290 3510 loss - 1.1755404472351074\n",
            "290 3520 loss - 1.2546466588974\n",
            "290 3530 loss - 1.1298208236694336\n",
            "290 3540 loss - 1.4969455003738403\n",
            "290 3550 loss - 1.406965732574463\n",
            "290 3560 loss - 1.0408183336257935\n",
            "290 3570 loss - 1.0911422967910767\n",
            "290 3580 loss - 1.4398592710494995\n",
            "290 3590 loss - 1.4879177808761597\n",
            "290 3600 loss - 1.1021136045455933\n",
            "290 3610 loss - 1.2513689994812012\n",
            "291 0 loss - 1.2552860975265503\n",
            "291 10 loss - 1.4292974472045898\n",
            "291 20 loss - 1.1019760370254517\n",
            "291 30 loss - 1.337615728378296\n",
            "291 40 loss - 1.2900670766830444\n",
            "291 50 loss - 1.2719537019729614\n",
            "291 60 loss - 1.232172966003418\n",
            "291 70 loss - 1.1909546852111816\n",
            "291 80 loss - 1.4019428491592407\n",
            "291 90 loss - 1.4938291311264038\n",
            "291 100 loss - 1.3034991025924683\n",
            "291 110 loss - 0.853929877281189\n",
            "291 120 loss - 1.2996652126312256\n",
            "291 130 loss - 1.2130587100982666\n",
            "291 140 loss - 1.119067668914795\n",
            "291 150 loss - 1.353910207748413\n",
            "291 160 loss - 1.1162923574447632\n",
            "291 170 loss - 1.847409725189209\n",
            "291 180 loss - 1.0411299467086792\n",
            "291 190 loss - 1.4943093061447144\n",
            "291 200 loss - 1.2791030406951904\n",
            "291 210 loss - 1.0609897375106812\n",
            "291 220 loss - 1.140894889831543\n",
            "291 230 loss - 1.2149654626846313\n",
            "291 240 loss - 1.478168249130249\n",
            "291 250 loss - 1.0834720134735107\n",
            "291 260 loss - 1.28615403175354\n",
            "291 270 loss - 1.9637281894683838\n",
            "291 280 loss - 1.1336426734924316\n",
            "291 290 loss - 1.6702086925506592\n",
            "291 300 loss - 1.6935323476791382\n",
            "291 310 loss - 1.0978273153305054\n",
            "291 320 loss - 1.4185216426849365\n",
            "291 330 loss - 1.3855820894241333\n",
            "291 340 loss - 1.0519698858261108\n",
            "291 350 loss - 1.3555270433425903\n",
            "291 360 loss - 1.5643205642700195\n",
            "291 370 loss - 1.4318106174468994\n",
            "291 380 loss - 1.2309355735778809\n",
            "291 390 loss - 1.3923789262771606\n",
            "291 400 loss - 1.4198412895202637\n",
            "291 410 loss - 1.3708453178405762\n",
            "291 420 loss - 1.204714298248291\n",
            "291 430 loss - 1.1734625101089478\n",
            "291 440 loss - 1.3405011892318726\n",
            "291 450 loss - 1.5125842094421387\n",
            "291 460 loss - 1.4215131998062134\n",
            "291 470 loss - 1.4895429611206055\n",
            "291 480 loss - 1.0008437633514404\n",
            "291 490 loss - 1.3882547616958618\n",
            "291 500 loss - 1.4680126905441284\n",
            "291 510 loss - 1.1835963726043701\n",
            "291 520 loss - 1.4278521537780762\n",
            "291 530 loss - 0.8317076563835144\n",
            "291 540 loss - 1.4637354612350464\n",
            "291 550 loss - 1.3018954992294312\n",
            "291 560 loss - 1.0000249147415161\n",
            "291 570 loss - 1.1859325170516968\n",
            "291 580 loss - 1.0241042375564575\n",
            "291 590 loss - 1.2610058784484863\n",
            "291 600 loss - 1.429931402206421\n",
            "291 610 loss - 1.2649438381195068\n",
            "291 620 loss - 1.025272011756897\n",
            "291 630 loss - 1.4439438581466675\n",
            "291 640 loss - 1.6925629377365112\n",
            "291 650 loss - 1.4506969451904297\n",
            "291 660 loss - 1.1821173429489136\n",
            "291 670 loss - 1.3475431203842163\n",
            "291 680 loss - 1.3137481212615967\n",
            "291 690 loss - 1.1220674514770508\n",
            "291 700 loss - 0.8032578825950623\n",
            "291 710 loss - 1.1314747333526611\n",
            "291 720 loss - 1.4326170682907104\n",
            "291 730 loss - 1.419230580329895\n",
            "291 740 loss - 1.1406720876693726\n",
            "291 750 loss - 1.2485100030899048\n",
            "291 760 loss - 1.267228126525879\n",
            "291 770 loss - 1.1277503967285156\n",
            "291 780 loss - 1.3839223384857178\n",
            "291 790 loss - 1.0258464813232422\n",
            "291 800 loss - 1.3408112525939941\n",
            "291 810 loss - 1.1346185207366943\n",
            "291 820 loss - 1.1928532123565674\n",
            "291 830 loss - 1.3866270780563354\n",
            "291 840 loss - 1.1030274629592896\n",
            "291 850 loss - 1.539239764213562\n",
            "291 860 loss - 1.6142336130142212\n",
            "291 870 loss - 1.604959487915039\n",
            "291 880 loss - 0.8827727437019348\n",
            "291 890 loss - 1.1588984727859497\n",
            "291 900 loss - 1.1111911535263062\n",
            "291 910 loss - 1.420148253440857\n",
            "291 920 loss - 1.3489534854888916\n",
            "291 930 loss - 1.1922693252563477\n",
            "291 940 loss - 1.2942464351654053\n",
            "291 950 loss - 1.2913649082183838\n",
            "291 960 loss - 1.098095178604126\n",
            "291 970 loss - 1.5003143548965454\n",
            "291 980 loss - 1.4348772764205933\n",
            "291 990 loss - 1.2604665756225586\n",
            "291 1000 loss - 1.3842003345489502\n",
            "291 1010 loss - 1.2947901487350464\n",
            "291 1020 loss - 1.3686264753341675\n",
            "291 1030 loss - 1.3302409648895264\n",
            "291 1040 loss - 1.3367127180099487\n",
            "291 1050 loss - 1.1580381393432617\n",
            "291 1060 loss - 1.2963242530822754\n",
            "291 1070 loss - 1.2886252403259277\n",
            "291 1080 loss - 1.2746901512145996\n",
            "291 1090 loss - 1.4152394533157349\n",
            "291 1100 loss - 1.192491888999939\n",
            "291 1110 loss - 1.1417112350463867\n",
            "291 1120 loss - 1.1397453546524048\n",
            "291 1130 loss - 0.9462411403656006\n",
            "291 1140 loss - 1.392240047454834\n",
            "291 1150 loss - 1.0670523643493652\n",
            "291 1160 loss - 1.3375617265701294\n",
            "291 1170 loss - 1.2520962953567505\n",
            "291 1180 loss - 1.4217861890792847\n",
            "291 1190 loss - 1.3340743780136108\n",
            "291 1200 loss - 1.0356569290161133\n",
            "291 1210 loss - 1.1106857061386108\n",
            "291 1220 loss - 1.6361912488937378\n",
            "291 1230 loss - 1.1990058422088623\n",
            "291 1240 loss - 1.6216979026794434\n",
            "291 1250 loss - 1.0667260885238647\n",
            "291 1260 loss - 1.17094886302948\n",
            "291 1270 loss - 0.8679614067077637\n",
            "291 1280 loss - 1.6717134714126587\n",
            "291 1290 loss - 1.1032756567001343\n",
            "291 1300 loss - 1.5200319290161133\n",
            "291 1310 loss - 1.5706913471221924\n",
            "291 1320 loss - 1.2988158464431763\n",
            "291 1330 loss - 1.266641616821289\n",
            "291 1340 loss - 1.458280086517334\n",
            "291 1350 loss - 1.3243554830551147\n",
            "291 1360 loss - 1.6021980047225952\n",
            "291 1370 loss - 1.4066402912139893\n",
            "291 1380 loss - 1.169858455657959\n",
            "291 1390 loss - 1.4348235130310059\n",
            "291 1400 loss - 1.4502004384994507\n",
            "291 1410 loss - 1.3092952966690063\n",
            "291 1420 loss - 1.233970284461975\n",
            "291 1430 loss - 1.1706243753433228\n",
            "291 1440 loss - 1.3599820137023926\n",
            "291 1450 loss - 1.4816218614578247\n",
            "291 1460 loss - 1.3325493335723877\n",
            "291 1470 loss - 1.371448278427124\n",
            "291 1480 loss - 1.5045887231826782\n",
            "291 1490 loss - 1.2982817888259888\n",
            "291 1500 loss - 1.5190998315811157\n",
            "291 1510 loss - 0.9966503977775574\n",
            "291 1520 loss - 1.5211119651794434\n",
            "291 1530 loss - 1.2705992460250854\n",
            "291 1540 loss - 1.4495187997817993\n",
            "291 1550 loss - 1.2932621240615845\n",
            "291 1560 loss - 1.473318099975586\n",
            "291 1570 loss - 1.2114362716674805\n",
            "291 1580 loss - 1.6370997428894043\n",
            "291 1590 loss - 1.1337149143218994\n",
            "291 1600 loss - 1.3699971437454224\n",
            "291 1610 loss - 1.7532557249069214\n",
            "291 1620 loss - 1.261830449104309\n",
            "291 1630 loss - 1.5931873321533203\n",
            "291 1640 loss - 1.2243093252182007\n",
            "291 1650 loss - 1.199133276939392\n",
            "291 1660 loss - 1.1428371667861938\n",
            "291 1670 loss - 1.2843269109725952\n",
            "291 1680 loss - 1.45533287525177\n",
            "291 1690 loss - 1.1065318584442139\n",
            "291 1700 loss - 0.9731471538543701\n",
            "291 1710 loss - 1.3252307176589966\n",
            "291 1720 loss - 1.1281148195266724\n",
            "291 1730 loss - 1.4660401344299316\n",
            "291 1740 loss - 0.9529443383216858\n",
            "291 1750 loss - 1.3567146062850952\n",
            "291 1760 loss - 1.050109624862671\n",
            "291 1770 loss - 1.2379575967788696\n",
            "291 1780 loss - 1.2367615699768066\n",
            "291 1790 loss - 1.0468422174453735\n",
            "291 1800 loss - 1.0367357730865479\n",
            "291 1810 loss - 1.008834719657898\n",
            "291 1820 loss - 1.4088592529296875\n",
            "291 1830 loss - 1.1432677507400513\n",
            "291 1840 loss - 1.333728551864624\n",
            "291 1850 loss - 1.137144684791565\n",
            "291 1860 loss - 1.1790571212768555\n",
            "291 1870 loss - 1.6548365354537964\n",
            "291 1880 loss - 0.7954020500183105\n",
            "291 1890 loss - 1.3885471820831299\n",
            "291 1900 loss - 1.4616707563400269\n",
            "291 1910 loss - 0.8752298951148987\n",
            "291 1920 loss - 1.26210618019104\n",
            "291 1930 loss - 1.617226481437683\n",
            "291 1940 loss - 1.1450462341308594\n",
            "291 1950 loss - 1.6235648393630981\n",
            "291 1960 loss - 1.9194265604019165\n",
            "291 1970 loss - 1.6409022808074951\n",
            "291 1980 loss - 1.065561294555664\n",
            "291 1990 loss - 1.7938014268875122\n",
            "291 2000 loss - 1.7151843309402466\n",
            "291 2010 loss - 1.4844647645950317\n",
            "291 2020 loss - 1.2794592380523682\n",
            "291 2030 loss - 1.2019168138504028\n",
            "291 2040 loss - 1.601025104522705\n",
            "291 2050 loss - 1.2180898189544678\n",
            "291 2060 loss - 1.4739543199539185\n",
            "291 2070 loss - 1.6963489055633545\n",
            "291 2080 loss - 1.1099199056625366\n",
            "291 2090 loss - 1.3162051439285278\n",
            "291 2100 loss - 1.1517701148986816\n",
            "291 2110 loss - 1.5859848260879517\n",
            "291 2120 loss - 1.098199725151062\n",
            "291 2130 loss - 1.1653611660003662\n",
            "291 2140 loss - 1.2485222816467285\n",
            "291 2150 loss - 1.523586630821228\n",
            "291 2160 loss - 1.2600021362304688\n",
            "291 2170 loss - 1.1194636821746826\n",
            "291 2180 loss - 1.1857434511184692\n",
            "291 2190 loss - 1.3100037574768066\n",
            "291 2200 loss - 1.3598747253417969\n",
            "291 2210 loss - 1.436232566833496\n",
            "291 2220 loss - 1.1892169713974\n",
            "291 2230 loss - 1.2046501636505127\n",
            "291 2240 loss - 1.117648959159851\n",
            "291 2250 loss - 1.3858680725097656\n",
            "291 2260 loss - 1.0877561569213867\n",
            "291 2270 loss - 1.1216598749160767\n",
            "291 2280 loss - 1.5078015327453613\n",
            "291 2290 loss - 1.0505847930908203\n",
            "291 2300 loss - 1.4973217248916626\n",
            "291 2310 loss - 1.180883765220642\n",
            "291 2320 loss - 1.6004928350448608\n",
            "291 2330 loss - 1.2114204168319702\n",
            "291 2340 loss - 1.3507384061813354\n",
            "291 2350 loss - 1.051699161529541\n",
            "291 2360 loss - 1.136810302734375\n",
            "291 2370 loss - 1.5003442764282227\n",
            "291 2380 loss - 1.2962346076965332\n",
            "291 2390 loss - 1.6019256114959717\n",
            "291 2400 loss - 1.2923243045806885\n",
            "291 2410 loss - 1.2567962408065796\n",
            "291 2420 loss - 1.2508254051208496\n",
            "291 2430 loss - 1.071248173713684\n",
            "291 2440 loss - 1.2498728036880493\n",
            "291 2450 loss - 1.6062779426574707\n",
            "291 2460 loss - 1.3423413038253784\n",
            "291 2470 loss - 1.6522680521011353\n",
            "291 2480 loss - 1.5653444528579712\n",
            "291 2490 loss - 1.572095513343811\n",
            "291 2500 loss - 1.0933834314346313\n",
            "291 2510 loss - 0.9890164732933044\n",
            "291 2520 loss - 1.069637656211853\n",
            "291 2530 loss - 1.4930908679962158\n",
            "291 2540 loss - 1.0989887714385986\n",
            "291 2550 loss - 1.424131989479065\n",
            "291 2560 loss - 1.6589460372924805\n",
            "291 2570 loss - 1.2580839395523071\n",
            "291 2580 loss - 1.2235546112060547\n",
            "291 2590 loss - 1.0764715671539307\n",
            "291 2600 loss - 1.4509564638137817\n",
            "291 2610 loss - 1.1030017137527466\n",
            "291 2620 loss - 0.9324647188186646\n",
            "291 2630 loss - 1.4407480955123901\n",
            "291 2640 loss - 1.4128217697143555\n",
            "291 2650 loss - 1.359377145767212\n",
            "291 2660 loss - 1.2401435375213623\n",
            "291 2670 loss - 1.686340570449829\n",
            "291 2680 loss - 1.2352893352508545\n",
            "291 2690 loss - 1.1899422407150269\n",
            "291 2700 loss - 1.4228427410125732\n",
            "291 2710 loss - 1.4579453468322754\n",
            "291 2720 loss - 1.2910422086715698\n",
            "291 2730 loss - 1.4860689640045166\n",
            "291 2740 loss - 1.089125633239746\n",
            "291 2750 loss - 1.687544345855713\n",
            "291 2760 loss - 1.2263414859771729\n",
            "291 2770 loss - 1.767528772354126\n",
            "291 2780 loss - 1.102476716041565\n",
            "291 2790 loss - 1.2669605016708374\n",
            "291 2800 loss - 1.4785548448562622\n",
            "291 2810 loss - 1.5068665742874146\n",
            "291 2820 loss - 1.0326064825057983\n",
            "291 2830 loss - 1.1814864873886108\n",
            "291 2840 loss - 1.3856102228164673\n",
            "291 2850 loss - 1.4264341592788696\n",
            "291 2860 loss - 1.2833620309829712\n",
            "291 2870 loss - 1.1015748977661133\n",
            "291 2880 loss - 1.2809090614318848\n",
            "291 2890 loss - 1.556180477142334\n",
            "291 2900 loss - 1.5838901996612549\n",
            "291 2910 loss - 1.2345483303070068\n",
            "291 2920 loss - 1.1364957094192505\n",
            "291 2930 loss - 1.20341956615448\n",
            "291 2940 loss - 1.0648894309997559\n",
            "291 2950 loss - 1.3805022239685059\n",
            "291 2960 loss - 1.1965683698654175\n",
            "291 2970 loss - 1.2087945938110352\n",
            "291 2980 loss - 1.0416680574417114\n",
            "291 2990 loss - 0.9739973545074463\n",
            "291 3000 loss - 1.1319963932037354\n",
            "291 3010 loss - 1.2701457738876343\n",
            "291 3020 loss - 1.039993405342102\n",
            "291 3030 loss - 1.7262952327728271\n",
            "291 3040 loss - 1.4338672161102295\n",
            "291 3050 loss - 1.380678415298462\n",
            "291 3060 loss - 1.27907395362854\n",
            "291 3070 loss - 1.0630229711532593\n",
            "291 3080 loss - 1.2134097814559937\n",
            "291 3090 loss - 1.2356781959533691\n",
            "291 3100 loss - 1.2387628555297852\n",
            "291 3110 loss - 1.4277642965316772\n",
            "291 3120 loss - 1.6211848258972168\n",
            "291 3130 loss - 1.380696177482605\n",
            "291 3140 loss - 1.1964975595474243\n",
            "291 3150 loss - 0.9573966264724731\n",
            "291 3160 loss - 1.4110968112945557\n",
            "291 3170 loss - 1.122505784034729\n",
            "291 3180 loss - 1.2058733701705933\n",
            "291 3190 loss - 1.0957660675048828\n",
            "291 3200 loss - 0.929266095161438\n",
            "291 3210 loss - 1.1272594928741455\n",
            "291 3220 loss - 1.1373493671417236\n",
            "291 3230 loss - 1.0083376169204712\n",
            "291 3240 loss - 1.2372764348983765\n",
            "291 3250 loss - 1.1935595273971558\n",
            "291 3260 loss - 1.359114408493042\n",
            "291 3270 loss - 1.3419415950775146\n",
            "291 3280 loss - 1.3372042179107666\n",
            "291 3290 loss - 1.171783685684204\n",
            "291 3300 loss - 1.4153962135314941\n",
            "291 3310 loss - 1.380898356437683\n",
            "291 3320 loss - 1.4138786792755127\n",
            "291 3330 loss - 1.3635947704315186\n",
            "291 3340 loss - 1.2571510076522827\n",
            "291 3350 loss - 1.411123514175415\n",
            "291 3360 loss - 1.2898519039154053\n",
            "291 3370 loss - 1.2017407417297363\n",
            "291 3380 loss - 1.6997196674346924\n",
            "291 3390 loss - 0.909757137298584\n",
            "291 3400 loss - 1.1506998538970947\n",
            "291 3410 loss - 1.1401233673095703\n",
            "291 3420 loss - 1.3989574909210205\n",
            "291 3430 loss - 1.2334887981414795\n",
            "291 3440 loss - 1.2984563112258911\n",
            "291 3450 loss - 1.3331530094146729\n",
            "291 3460 loss - 0.9642888903617859\n",
            "291 3470 loss - 1.334288239479065\n",
            "291 3480 loss - 1.042209506034851\n",
            "291 3490 loss - 1.0798755884170532\n",
            "291 3500 loss - 1.2019158601760864\n",
            "291 3510 loss - 1.1131619215011597\n",
            "291 3520 loss - 1.4010803699493408\n",
            "291 3530 loss - 1.3843824863433838\n",
            "291 3540 loss - 1.2306301593780518\n",
            "291 3550 loss - 1.2840406894683838\n",
            "291 3560 loss - 1.2729097604751587\n",
            "291 3570 loss - 1.0700509548187256\n",
            "291 3580 loss - 1.5045095682144165\n",
            "291 3590 loss - 1.5261130332946777\n",
            "291 3600 loss - 1.4231514930725098\n",
            "291 3610 loss - 1.0591942071914673\n",
            "292 0 loss - 1.1541450023651123\n",
            "292 10 loss - 1.474439024925232\n",
            "292 20 loss - 1.2665222883224487\n",
            "292 30 loss - 1.1980279684066772\n",
            "292 40 loss - 1.5412240028381348\n",
            "292 50 loss - 1.2344179153442383\n",
            "292 60 loss - 1.3050153255462646\n",
            "292 70 loss - 1.391169786453247\n",
            "292 80 loss - 1.4380193948745728\n",
            "292 90 loss - 0.8604220151901245\n",
            "292 100 loss - 1.76997971534729\n",
            "292 110 loss - 1.6100088357925415\n",
            "292 120 loss - 1.3790194988250732\n",
            "292 130 loss - 1.0483125448226929\n",
            "292 140 loss - 1.1402536630630493\n",
            "292 150 loss - 1.3517853021621704\n",
            "292 160 loss - 1.2692569494247437\n",
            "292 170 loss - 1.3576977252960205\n",
            "292 180 loss - 0.9746535420417786\n",
            "292 190 loss - 1.5174450874328613\n",
            "292 200 loss - 1.6156339645385742\n",
            "292 210 loss - 1.1492975950241089\n",
            "292 220 loss - 1.4188852310180664\n",
            "292 230 loss - 1.244532823562622\n",
            "292 240 loss - 1.5968029499053955\n",
            "292 250 loss - 1.3348164558410645\n",
            "292 260 loss - 1.342292308807373\n",
            "292 270 loss - 1.5035737752914429\n",
            "292 280 loss - 1.2133218050003052\n",
            "292 290 loss - 1.0273164510726929\n",
            "292 300 loss - 1.2267870903015137\n",
            "292 310 loss - 0.9557534456253052\n",
            "292 320 loss - 1.0800011157989502\n",
            "292 330 loss - 1.4525192975997925\n",
            "292 340 loss - 1.5610989332199097\n",
            "292 350 loss - 1.3866676092147827\n",
            "292 360 loss - 1.0879063606262207\n",
            "292 370 loss - 1.2263399362564087\n",
            "292 380 loss - 1.1674755811691284\n",
            "292 390 loss - 1.0001182556152344\n",
            "292 400 loss - 1.096573829650879\n",
            "292 410 loss - 1.1358815431594849\n",
            "292 420 loss - 1.285869836807251\n",
            "292 430 loss - 1.649526834487915\n",
            "292 440 loss - 1.0087876319885254\n",
            "292 450 loss - 1.2669789791107178\n",
            "292 460 loss - 1.295501947402954\n",
            "292 470 loss - 1.3716970682144165\n",
            "292 480 loss - 1.5462942123413086\n",
            "292 490 loss - 1.2755684852600098\n",
            "292 500 loss - 1.4269144535064697\n",
            "292 510 loss - 1.4341824054718018\n",
            "292 520 loss - 1.3066298961639404\n",
            "292 530 loss - 1.0142635107040405\n",
            "292 540 loss - 1.247560977935791\n",
            "292 550 loss - 1.0963364839553833\n",
            "292 560 loss - 1.230789303779602\n",
            "292 570 loss - 1.0045318603515625\n",
            "292 580 loss - 0.9868735671043396\n",
            "292 590 loss - 1.439184546470642\n",
            "292 600 loss - 1.3078638315200806\n",
            "292 610 loss - 1.3050673007965088\n",
            "292 620 loss - 0.9439895153045654\n",
            "292 630 loss - 1.5739145278930664\n",
            "292 640 loss - 1.3860722780227661\n",
            "292 650 loss - 0.8701902031898499\n",
            "292 660 loss - 1.5361589193344116\n",
            "292 670 loss - 1.4597368240356445\n",
            "292 680 loss - 1.329110026359558\n",
            "292 690 loss - 1.2035496234893799\n",
            "292 700 loss - 1.5253241062164307\n",
            "292 710 loss - 1.3534369468688965\n",
            "292 720 loss - 1.4612380266189575\n",
            "292 730 loss - 1.5564390420913696\n",
            "292 740 loss - 1.251912236213684\n",
            "292 750 loss - 1.056209921836853\n",
            "292 760 loss - 1.4072558879852295\n",
            "292 770 loss - 1.2670096158981323\n",
            "292 780 loss - 0.9916272163391113\n",
            "292 790 loss - 1.0987601280212402\n",
            "292 800 loss - 1.306329369544983\n",
            "292 810 loss - 1.3197532892227173\n",
            "292 820 loss - 1.269163727760315\n",
            "292 830 loss - 1.0902011394500732\n",
            "292 840 loss - 1.4705228805541992\n",
            "292 850 loss - 1.467653751373291\n",
            "292 860 loss - 1.110334038734436\n",
            "292 870 loss - 1.2935765981674194\n",
            "292 880 loss - 1.3592461347579956\n",
            "292 890 loss - 0.9802771806716919\n",
            "292 900 loss - 1.2904685735702515\n",
            "292 910 loss - 1.194309115409851\n",
            "292 920 loss - 1.203051209449768\n",
            "292 930 loss - 1.0396699905395508\n",
            "292 940 loss - 1.4697787761688232\n",
            "292 950 loss - 1.529990553855896\n",
            "292 960 loss - 1.104623556137085\n",
            "292 970 loss - 1.425300121307373\n",
            "292 980 loss - 1.006675124168396\n",
            "292 990 loss - 1.4665189981460571\n",
            "292 1000 loss - 1.2140238285064697\n",
            "292 1010 loss - 1.3575763702392578\n",
            "292 1020 loss - 1.6432523727416992\n",
            "292 1030 loss - 0.9669278264045715\n",
            "292 1040 loss - 0.9341821074485779\n",
            "292 1050 loss - 0.8172652125358582\n",
            "292 1060 loss - 1.2627811431884766\n",
            "292 1070 loss - 1.9401109218597412\n",
            "292 1080 loss - 0.9442334771156311\n",
            "292 1090 loss - 1.0588769912719727\n",
            "292 1100 loss - 1.2958452701568604\n",
            "292 1110 loss - 1.4157888889312744\n",
            "292 1120 loss - 1.3396798372268677\n",
            "292 1130 loss - 1.33944833278656\n",
            "292 1140 loss - 0.930385172367096\n",
            "292 1150 loss - 1.4738452434539795\n",
            "292 1160 loss - 1.3143166303634644\n",
            "292 1170 loss - 1.1398937702178955\n",
            "292 1180 loss - 1.1845295429229736\n",
            "292 1190 loss - 1.4106966257095337\n",
            "292 1200 loss - 1.3589177131652832\n",
            "292 1210 loss - 1.2411502599716187\n",
            "292 1220 loss - 1.3980821371078491\n",
            "292 1230 loss - 1.2185732126235962\n",
            "292 1240 loss - 1.2389369010925293\n",
            "292 1250 loss - 1.1758180856704712\n",
            "292 1260 loss - 1.1248259544372559\n",
            "292 1270 loss - 1.4520939588546753\n",
            "292 1280 loss - 1.4172950983047485\n",
            "292 1290 loss - 1.350682258605957\n",
            "292 1300 loss - 1.4090361595153809\n",
            "292 1310 loss - 1.434004783630371\n",
            "292 1320 loss - 1.0332778692245483\n",
            "292 1330 loss - 1.2982581853866577\n",
            "292 1340 loss - 1.3311753273010254\n",
            "292 1350 loss - 1.6401954889297485\n",
            "292 1360 loss - 1.1462336778640747\n",
            "292 1370 loss - 1.1858210563659668\n",
            "292 1380 loss - 1.310051441192627\n",
            "292 1390 loss - 0.9919546842575073\n",
            "292 1400 loss - 1.2478291988372803\n",
            "292 1410 loss - 1.688841462135315\n",
            "292 1420 loss - 1.188204050064087\n",
            "292 1430 loss - 1.0937942266464233\n",
            "292 1440 loss - 1.2758581638336182\n",
            "292 1450 loss - 1.5804460048675537\n",
            "292 1460 loss - 1.2636374235153198\n",
            "292 1470 loss - 0.9098487496376038\n",
            "292 1480 loss - 1.14993155002594\n",
            "292 1490 loss - 1.5020856857299805\n",
            "292 1500 loss - 1.4429090023040771\n",
            "292 1510 loss - 1.1949905157089233\n",
            "292 1520 loss - 1.3438793420791626\n",
            "292 1530 loss - 1.3020273447036743\n",
            "292 1540 loss - 1.7544140815734863\n",
            "292 1550 loss - 0.9479983448982239\n",
            "292 1560 loss - 1.2221364974975586\n",
            "292 1570 loss - 1.6611324548721313\n",
            "292 1580 loss - 1.1908851861953735\n",
            "292 1590 loss - 1.2836869955062866\n",
            "292 1600 loss - 1.2438441514968872\n",
            "292 1610 loss - 1.4705675840377808\n",
            "292 1620 loss - 1.504408836364746\n",
            "292 1630 loss - 1.1299855709075928\n",
            "292 1640 loss - 1.4989887475967407\n",
            "292 1650 loss - 1.1029815673828125\n",
            "292 1660 loss - 1.5026307106018066\n",
            "292 1670 loss - 1.4467079639434814\n",
            "292 1680 loss - 1.275774598121643\n",
            "292 1690 loss - 1.4694300889968872\n",
            "292 1700 loss - 1.2633023262023926\n",
            "292 1710 loss - 1.2100646495819092\n",
            "292 1720 loss - 1.505045771598816\n",
            "292 1730 loss - 2.0095434188842773\n",
            "292 1740 loss - 1.455359697341919\n",
            "292 1750 loss - 1.6038384437561035\n",
            "292 1760 loss - 1.1683197021484375\n",
            "292 1770 loss - 1.4238831996917725\n",
            "292 1780 loss - 1.2850356101989746\n",
            "292 1790 loss - 0.9922495484352112\n",
            "292 1800 loss - 1.1770119667053223\n",
            "292 1810 loss - 1.2112764120101929\n",
            "292 1820 loss - 1.2444950342178345\n",
            "292 1830 loss - 1.2243189811706543\n",
            "292 1840 loss - 1.3575547933578491\n",
            "292 1850 loss - 1.1852110624313354\n",
            "292 1860 loss - 1.5242758989334106\n",
            "292 1870 loss - 1.3201204538345337\n",
            "292 1880 loss - 1.0697040557861328\n",
            "292 1890 loss - 1.3983604907989502\n",
            "292 1900 loss - 1.5478363037109375\n",
            "292 1910 loss - 1.2996045351028442\n",
            "292 1920 loss - 1.327782154083252\n",
            "292 1930 loss - 1.6115357875823975\n",
            "292 1940 loss - 1.5004900693893433\n",
            "292 1950 loss - 1.2395435571670532\n",
            "292 1960 loss - 1.6197137832641602\n",
            "292 1970 loss - 1.046366572380066\n",
            "292 1980 loss - 0.9259893298149109\n",
            "292 1990 loss - 1.4547932147979736\n",
            "292 2000 loss - 0.9468454718589783\n",
            "292 2010 loss - 1.2152239084243774\n",
            "292 2020 loss - 1.4925048351287842\n",
            "292 2030 loss - 1.3921200037002563\n",
            "292 2040 loss - 1.2509620189666748\n",
            "292 2050 loss - 1.2898014783859253\n",
            "292 2060 loss - 1.0635555982589722\n",
            "292 2070 loss - 1.2848973274230957\n",
            "292 2080 loss - 1.3608851432800293\n",
            "292 2090 loss - 1.4687649011611938\n",
            "292 2100 loss - 1.0499083995819092\n",
            "292 2110 loss - 1.0413457155227661\n",
            "292 2120 loss - 1.3504239320755005\n",
            "292 2130 loss - 1.4678393602371216\n",
            "292 2140 loss - 1.3400273323059082\n",
            "292 2150 loss - 1.382462739944458\n",
            "292 2160 loss - 1.0141068696975708\n",
            "292 2170 loss - 1.2290927171707153\n",
            "292 2180 loss - 1.5195857286453247\n",
            "292 2190 loss - 1.389136552810669\n",
            "292 2200 loss - 1.3655394315719604\n",
            "292 2210 loss - 1.294147253036499\n",
            "292 2220 loss - 1.4581564664840698\n",
            "292 2230 loss - 1.3109785318374634\n",
            "292 2240 loss - 1.411073088645935\n",
            "292 2250 loss - 1.613908052444458\n",
            "292 2260 loss - 1.4346864223480225\n",
            "292 2270 loss - 1.3892241716384888\n",
            "292 2280 loss - 1.368672251701355\n",
            "292 2290 loss - 1.1181550025939941\n",
            "292 2300 loss - 1.0083208084106445\n",
            "292 2310 loss - 1.2025861740112305\n",
            "292 2320 loss - 1.5260593891143799\n",
            "292 2330 loss - 1.1561603546142578\n",
            "292 2340 loss - 0.9420179724693298\n",
            "292 2350 loss - 1.3984050750732422\n",
            "292 2360 loss - 1.359697699546814\n",
            "292 2370 loss - 1.3433252573013306\n",
            "292 2380 loss - 1.0962035655975342\n",
            "292 2390 loss - 1.625897765159607\n",
            "292 2400 loss - 1.2876981496810913\n",
            "292 2410 loss - 1.4683148860931396\n",
            "292 2420 loss - 1.274003267288208\n",
            "292 2430 loss - 1.4254223108291626\n",
            "292 2440 loss - 1.3596011400222778\n",
            "292 2450 loss - 1.2522298097610474\n",
            "292 2460 loss - 1.0516327619552612\n",
            "292 2470 loss - 1.3820363283157349\n",
            "292 2480 loss - 1.4336533546447754\n",
            "292 2490 loss - 0.8761390447616577\n",
            "292 2500 loss - 1.6479872465133667\n",
            "292 2510 loss - 1.2210060358047485\n",
            "292 2520 loss - 1.3253283500671387\n",
            "292 2530 loss - 1.5508395433425903\n",
            "292 2540 loss - 1.2295053005218506\n",
            "292 2550 loss - 0.6680498719215393\n",
            "292 2560 loss - 1.4064332246780396\n",
            "292 2570 loss - 1.4249407052993774\n",
            "292 2580 loss - 1.3725138902664185\n",
            "292 2590 loss - 0.8713583946228027\n",
            "292 2600 loss - 0.8619787693023682\n",
            "292 2610 loss - 1.3119806051254272\n",
            "292 2620 loss - 0.940942108631134\n",
            "292 2630 loss - 1.054120659828186\n",
            "292 2640 loss - 1.3675578832626343\n",
            "292 2650 loss - 1.3077276945114136\n",
            "292 2660 loss - 1.749727487564087\n",
            "292 2670 loss - 0.8439773917198181\n",
            "292 2680 loss - 1.2346010208129883\n",
            "292 2690 loss - 1.266822099685669\n",
            "292 2700 loss - 1.3938777446746826\n",
            "292 2710 loss - 1.4332566261291504\n",
            "292 2720 loss - 1.2239909172058105\n",
            "292 2730 loss - 1.4269583225250244\n",
            "292 2740 loss - 1.6509113311767578\n",
            "292 2750 loss - 1.4312057495117188\n",
            "292 2760 loss - 1.0702906847000122\n",
            "292 2770 loss - 1.2085567712783813\n",
            "292 2780 loss - 1.4218577146530151\n",
            "292 2790 loss - 1.2241146564483643\n",
            "292 2800 loss - 1.2665358781814575\n",
            "292 2810 loss - 0.8532553315162659\n",
            "292 2820 loss - 1.2721285820007324\n",
            "292 2830 loss - 1.0328032970428467\n",
            "292 2840 loss - 1.1751534938812256\n",
            "292 2850 loss - 1.6012312173843384\n",
            "292 2860 loss - 1.498380422592163\n",
            "292 2870 loss - 1.2605688571929932\n",
            "292 2880 loss - 1.3317395448684692\n",
            "292 2890 loss - 1.456516981124878\n",
            "292 2900 loss - 1.2276455163955688\n",
            "292 2910 loss - 1.2826955318450928\n",
            "292 2920 loss - 1.5258702039718628\n",
            "292 2930 loss - 1.0671592950820923\n",
            "292 2940 loss - 1.0928153991699219\n",
            "292 2950 loss - 1.2512340545654297\n",
            "292 2960 loss - 1.4245306253433228\n",
            "292 2970 loss - 1.6154614686965942\n",
            "292 2980 loss - 1.4681096076965332\n",
            "292 2990 loss - 1.3703420162200928\n",
            "292 3000 loss - 1.258400559425354\n",
            "292 3010 loss - 1.4853477478027344\n",
            "292 3020 loss - 1.4021008014678955\n",
            "292 3030 loss - 1.421781063079834\n",
            "292 3040 loss - 1.17789626121521\n",
            "292 3050 loss - 1.2582052946090698\n",
            "292 3060 loss - 1.4991954565048218\n",
            "292 3070 loss - 0.9390384554862976\n",
            "292 3080 loss - 1.1894474029541016\n",
            "292 3090 loss - 1.3299405574798584\n",
            "292 3100 loss - 1.1875509023666382\n",
            "292 3110 loss - 1.2885065078735352\n",
            "292 3120 loss - 1.641114354133606\n",
            "292 3130 loss - 1.08232581615448\n",
            "292 3140 loss - 0.9364210367202759\n",
            "292 3150 loss - 1.5079623460769653\n",
            "292 3160 loss - 1.3949002027511597\n",
            "292 3170 loss - 1.2773927450180054\n",
            "292 3180 loss - 1.3095773458480835\n",
            "292 3190 loss - 1.5412962436676025\n",
            "292 3200 loss - 1.0363249778747559\n",
            "292 3210 loss - 1.4683886766433716\n",
            "292 3220 loss - 1.113537073135376\n",
            "292 3230 loss - 1.1788252592086792\n",
            "292 3240 loss - 1.4954947233200073\n",
            "292 3250 loss - 1.3079838752746582\n",
            "292 3260 loss - 1.149579405784607\n",
            "292 3270 loss - 1.2298839092254639\n",
            "292 3280 loss - 1.682970404624939\n",
            "292 3290 loss - 1.2049888372421265\n",
            "292 3300 loss - 1.4647984504699707\n",
            "292 3310 loss - 1.2023602724075317\n",
            "292 3320 loss - 1.4549037218093872\n",
            "292 3330 loss - 1.1741200685501099\n",
            "292 3340 loss - 1.1218221187591553\n",
            "292 3350 loss - 1.4619431495666504\n",
            "292 3360 loss - 1.241352915763855\n",
            "292 3370 loss - 1.2983318567276\n",
            "292 3380 loss - 1.090024471282959\n",
            "292 3390 loss - 1.1408454179763794\n",
            "292 3400 loss - 1.3725496530532837\n",
            "292 3410 loss - 1.2626961469650269\n",
            "292 3420 loss - 1.3179963827133179\n",
            "292 3430 loss - 1.1397618055343628\n",
            "292 3440 loss - 1.3791013956069946\n",
            "292 3450 loss - 1.6042646169662476\n",
            "292 3460 loss - 1.6334670782089233\n",
            "292 3470 loss - 0.9530717730522156\n",
            "292 3480 loss - 1.0909725427627563\n",
            "292 3490 loss - 1.0086416006088257\n",
            "292 3500 loss - 1.2921878099441528\n",
            "292 3510 loss - 1.4539756774902344\n",
            "292 3520 loss - 1.4136426448822021\n",
            "292 3530 loss - 1.6048599481582642\n",
            "292 3540 loss - 1.1914142370224\n",
            "292 3550 loss - 1.3334673643112183\n",
            "292 3560 loss - 1.4540029764175415\n",
            "292 3570 loss - 1.2888778448104858\n",
            "292 3580 loss - 0.8159019947052002\n",
            "292 3590 loss - 1.6356539726257324\n",
            "292 3600 loss - 1.4520364999771118\n",
            "292 3610 loss - 1.1882225275039673\n",
            "293 0 loss - 1.3787251710891724\n",
            "293 10 loss - 1.1024870872497559\n",
            "293 20 loss - 1.5059630870819092\n",
            "293 30 loss - 1.850650429725647\n",
            "293 40 loss - 1.1954939365386963\n",
            "293 50 loss - 1.5344517230987549\n",
            "293 60 loss - 1.393046498298645\n",
            "293 70 loss - 1.0317314863204956\n",
            "293 80 loss - 1.4200928211212158\n",
            "293 90 loss - 1.1303293704986572\n",
            "293 100 loss - 1.2802244424819946\n",
            "293 110 loss - 1.5264984369277954\n",
            "293 120 loss - 1.3954652547836304\n",
            "293 130 loss - 1.329971432685852\n",
            "293 140 loss - 1.4296878576278687\n",
            "293 150 loss - 1.2078529596328735\n",
            "293 160 loss - 1.1793571710586548\n",
            "293 170 loss - 1.2580348253250122\n",
            "293 180 loss - 1.4403818845748901\n",
            "293 190 loss - 1.5202471017837524\n",
            "293 200 loss - 1.1193405389785767\n",
            "293 210 loss - 1.3824249505996704\n",
            "293 220 loss - 1.2505626678466797\n",
            "293 230 loss - 1.4122024774551392\n",
            "293 240 loss - 1.0504940748214722\n",
            "293 250 loss - 1.1064049005508423\n",
            "293 260 loss - 1.212014079093933\n",
            "293 270 loss - 0.8477676510810852\n",
            "293 280 loss - 1.088365077972412\n",
            "293 290 loss - 0.9480927586555481\n",
            "293 300 loss - 0.8438143730163574\n",
            "293 310 loss - 1.2954668998718262\n",
            "293 320 loss - 1.2360745668411255\n",
            "293 330 loss - 0.8945766091346741\n",
            "293 340 loss - 1.11545991897583\n",
            "293 350 loss - 1.1232725381851196\n",
            "293 360 loss - 1.3351866006851196\n",
            "293 370 loss - 0.9769823551177979\n",
            "293 380 loss - 1.381037712097168\n",
            "293 390 loss - 1.280608057975769\n",
            "293 400 loss - 1.43678617477417\n",
            "293 410 loss - 1.0821797847747803\n",
            "293 420 loss - 1.2464687824249268\n",
            "293 430 loss - 1.2269043922424316\n",
            "293 440 loss - 1.3210687637329102\n",
            "293 450 loss - 1.1497011184692383\n",
            "293 460 loss - 1.062617540359497\n",
            "293 470 loss - 1.4049485921859741\n",
            "293 480 loss - 1.1727780103683472\n",
            "293 490 loss - 1.1293442249298096\n",
            "293 500 loss - 1.318901777267456\n",
            "293 510 loss - 1.2006609439849854\n",
            "293 520 loss - 1.0562885999679565\n",
            "293 530 loss - 1.2596684694290161\n",
            "293 540 loss - 1.4515347480773926\n",
            "293 550 loss - 1.4364665746688843\n",
            "293 560 loss - 1.239408254623413\n",
            "293 570 loss - 1.492419958114624\n",
            "293 580 loss - 1.1531909704208374\n",
            "293 590 loss - 1.2709994316101074\n",
            "293 600 loss - 1.1673719882965088\n",
            "293 610 loss - 1.3360952138900757\n",
            "293 620 loss - 0.99042147397995\n",
            "293 630 loss - 1.0604521036148071\n",
            "293 640 loss - 1.3948698043823242\n",
            "293 650 loss - 1.0878711938858032\n",
            "293 660 loss - 1.4790234565734863\n",
            "293 670 loss - 1.0153353214263916\n",
            "293 680 loss - 1.3441660404205322\n",
            "293 690 loss - 1.2065001726150513\n",
            "293 700 loss - 1.4821665287017822\n",
            "293 710 loss - 1.385468602180481\n",
            "293 720 loss - 1.285358190536499\n",
            "293 730 loss - 1.3932104110717773\n",
            "293 740 loss - 1.5571693181991577\n",
            "293 750 loss - 1.1912405490875244\n",
            "293 760 loss - 1.1861686706542969\n",
            "293 770 loss - 1.4056707620620728\n",
            "293 780 loss - 1.2929985523223877\n",
            "293 790 loss - 1.0773805379867554\n",
            "293 800 loss - 1.2405524253845215\n",
            "293 810 loss - 1.2273343801498413\n",
            "293 820 loss - 0.9566590785980225\n",
            "293 830 loss - 1.1763849258422852\n",
            "293 840 loss - 1.3993284702301025\n",
            "293 850 loss - 1.1089776754379272\n",
            "293 860 loss - 1.1521220207214355\n",
            "293 870 loss - 1.229449987411499\n",
            "293 880 loss - 1.433618187904358\n",
            "293 890 loss - 1.01459538936615\n",
            "293 900 loss - 1.295723557472229\n",
            "293 910 loss - 1.090761661529541\n",
            "293 920 loss - 1.1968786716461182\n",
            "293 930 loss - 1.3991841077804565\n",
            "293 940 loss - 1.5140788555145264\n",
            "293 950 loss - 1.422085165977478\n",
            "293 960 loss - 1.2220659255981445\n",
            "293 970 loss - 0.9679957032203674\n",
            "293 980 loss - 1.191804051399231\n",
            "293 990 loss - 1.2244467735290527\n",
            "293 1000 loss - 1.2825943231582642\n",
            "293 1010 loss - 1.5224677324295044\n",
            "293 1020 loss - 1.3116583824157715\n",
            "293 1030 loss - 0.9693304896354675\n",
            "293 1040 loss - 1.2821927070617676\n",
            "293 1050 loss - 0.9004390835762024\n",
            "293 1060 loss - 1.169718861579895\n",
            "293 1070 loss - 1.6513811349868774\n",
            "293 1080 loss - 1.2889081239700317\n",
            "293 1090 loss - 1.4816524982452393\n",
            "293 1100 loss - 0.9780610799789429\n",
            "293 1110 loss - 0.7964845299720764\n",
            "293 1120 loss - 0.9836097955703735\n",
            "293 1130 loss - 1.0716866254806519\n",
            "293 1140 loss - 1.1913549900054932\n",
            "293 1150 loss - 1.5080457925796509\n",
            "293 1160 loss - 1.1087641716003418\n",
            "293 1170 loss - 1.1015625\n",
            "293 1180 loss - 1.3851317167282104\n",
            "293 1190 loss - 1.1398473978042603\n",
            "293 1200 loss - 1.205440640449524\n",
            "293 1210 loss - 1.277536153793335\n",
            "293 1220 loss - 1.798790693283081\n",
            "293 1230 loss - 1.3224000930786133\n",
            "293 1240 loss - 0.8800753355026245\n",
            "293 1250 loss - 1.0846816301345825\n",
            "293 1260 loss - 1.4750339984893799\n",
            "293 1270 loss - 0.8903525471687317\n",
            "293 1280 loss - 1.3039416074752808\n",
            "293 1290 loss - 1.0214020013809204\n",
            "293 1300 loss - 1.0400744676589966\n",
            "293 1310 loss - 1.4800580739974976\n",
            "293 1320 loss - 1.35666024684906\n",
            "293 1330 loss - 0.8407335877418518\n",
            "293 1340 loss - 1.632754921913147\n",
            "293 1350 loss - 1.3878892660140991\n",
            "293 1360 loss - 1.012596607208252\n",
            "293 1370 loss - 1.315640926361084\n",
            "293 1380 loss - 1.3880586624145508\n",
            "293 1390 loss - 1.1305108070373535\n",
            "293 1400 loss - 1.0648728609085083\n",
            "293 1410 loss - 1.4236528873443604\n",
            "293 1420 loss - 1.4892668724060059\n",
            "293 1430 loss - 1.0124424695968628\n",
            "293 1440 loss - 1.26413094997406\n",
            "293 1450 loss - 1.3551161289215088\n",
            "293 1460 loss - 1.6485474109649658\n",
            "293 1470 loss - 1.2001304626464844\n",
            "293 1480 loss - 0.9066659212112427\n",
            "293 1490 loss - 1.3777356147766113\n",
            "293 1500 loss - 1.1274784803390503\n",
            "293 1510 loss - 1.2749197483062744\n",
            "293 1520 loss - 1.171750545501709\n",
            "293 1530 loss - 1.1777900457382202\n",
            "293 1540 loss - 1.2407326698303223\n",
            "293 1550 loss - 1.1865489482879639\n",
            "293 1560 loss - 1.5192919969558716\n",
            "293 1570 loss - 1.099908471107483\n",
            "293 1580 loss - 1.2439289093017578\n",
            "293 1590 loss - 1.5385382175445557\n",
            "293 1600 loss - 1.2268329858779907\n",
            "293 1610 loss - 1.500277042388916\n",
            "293 1620 loss - 1.3583321571350098\n",
            "293 1630 loss - 1.1239935159683228\n",
            "293 1640 loss - 1.1141769886016846\n",
            "293 1650 loss - 1.2557168006896973\n",
            "293 1660 loss - 1.2901382446289062\n",
            "293 1670 loss - 1.4357528686523438\n",
            "293 1680 loss - 0.976223349571228\n",
            "293 1690 loss - 1.0930678844451904\n",
            "293 1700 loss - 1.2905796766281128\n",
            "293 1710 loss - 1.5434812307357788\n",
            "293 1720 loss - 1.6370314359664917\n",
            "293 1730 loss - 1.4719387292861938\n",
            "293 1740 loss - 1.1832118034362793\n",
            "293 1750 loss - 1.0912322998046875\n",
            "293 1760 loss - 1.2457756996154785\n",
            "293 1770 loss - 1.5186649560928345\n",
            "293 1780 loss - 1.5435601472854614\n",
            "293 1790 loss - 1.476144790649414\n",
            "293 1800 loss - 1.333693027496338\n",
            "293 1810 loss - 1.427384853363037\n",
            "293 1820 loss - 1.540244698524475\n",
            "293 1830 loss - 1.2861264944076538\n",
            "293 1840 loss - 1.0488944053649902\n",
            "293 1850 loss - 1.2065526247024536\n",
            "293 1860 loss - 0.8682925701141357\n",
            "293 1870 loss - 1.4878543615341187\n",
            "293 1880 loss - 1.3576982021331787\n",
            "293 1890 loss - 1.3198374509811401\n",
            "293 1900 loss - 0.8594213724136353\n",
            "293 1910 loss - 1.1525002717971802\n",
            "293 1920 loss - 1.3656210899353027\n",
            "293 1930 loss - 1.3602097034454346\n",
            "293 1940 loss - 1.3150345087051392\n",
            "293 1950 loss - 1.1812922954559326\n",
            "293 1960 loss - 1.1416757106781006\n",
            "293 1970 loss - 1.1269265413284302\n",
            "293 1980 loss - 1.2657573223114014\n",
            "293 1990 loss - 1.4138418436050415\n",
            "293 2000 loss - 1.3754982948303223\n",
            "293 2010 loss - 1.3478749990463257\n",
            "293 2020 loss - 1.4212064743041992\n",
            "293 2030 loss - 1.5662882328033447\n",
            "293 2040 loss - 1.0429296493530273\n",
            "293 2050 loss - 1.3984988927841187\n",
            "293 2060 loss - 1.0294369459152222\n",
            "293 2070 loss - 1.336365818977356\n",
            "293 2080 loss - 0.9126137495040894\n",
            "293 2090 loss - 1.1644351482391357\n",
            "293 2100 loss - 1.5799906253814697\n",
            "293 2110 loss - 1.0020869970321655\n",
            "293 2120 loss - 1.3358761072158813\n",
            "293 2130 loss - 1.3403724431991577\n",
            "293 2140 loss - 1.2748533487319946\n",
            "293 2150 loss - 0.8741226196289062\n",
            "293 2160 loss - 1.6544325351715088\n",
            "293 2170 loss - 1.2573904991149902\n",
            "293 2180 loss - 1.1922290325164795\n",
            "293 2190 loss - 1.3379807472229004\n",
            "293 2200 loss - 1.1141844987869263\n",
            "293 2210 loss - 1.2031162977218628\n",
            "293 2220 loss - 1.269084095954895\n",
            "293 2230 loss - 1.3000738620758057\n",
            "293 2240 loss - 1.3140816688537598\n",
            "293 2250 loss - 1.0246338844299316\n",
            "293 2260 loss - 1.0508555173873901\n",
            "293 2270 loss - 1.2238353490829468\n",
            "293 2280 loss - 1.5765676498413086\n",
            "293 2290 loss - 1.2611292600631714\n",
            "293 2300 loss - 1.4139081239700317\n",
            "293 2310 loss - 1.5917619466781616\n",
            "293 2320 loss - 1.084179401397705\n",
            "293 2330 loss - 1.179646372795105\n",
            "293 2340 loss - 1.7344216108322144\n",
            "293 2350 loss - 1.1843082904815674\n",
            "293 2360 loss - 1.3318209648132324\n",
            "293 2370 loss - 1.1635807752609253\n",
            "293 2380 loss - 1.3747022151947021\n",
            "293 2390 loss - 1.5041834115982056\n",
            "293 2400 loss - 1.279080867767334\n",
            "293 2410 loss - 1.4231153726577759\n",
            "293 2420 loss - 1.3565579652786255\n",
            "293 2430 loss - 0.8059986233711243\n",
            "293 2440 loss - 1.3514550924301147\n",
            "293 2450 loss - 1.141757607460022\n",
            "293 2460 loss - 1.2926274538040161\n",
            "293 2470 loss - 1.645031213760376\n",
            "293 2480 loss - 1.479169487953186\n",
            "293 2490 loss - 1.3625359535217285\n",
            "293 2500 loss - 1.2634512186050415\n",
            "293 2510 loss - 1.3602052927017212\n",
            "293 2520 loss - 1.5662033557891846\n",
            "293 2530 loss - 1.5397361516952515\n",
            "293 2540 loss - 0.9465856552124023\n",
            "293 2550 loss - 1.4714523553848267\n",
            "293 2560 loss - 1.1838078498840332\n",
            "293 2570 loss - 1.186773657798767\n",
            "293 2580 loss - 1.4892414808273315\n",
            "293 2590 loss - 1.087051510810852\n",
            "293 2600 loss - 1.4330109357833862\n",
            "293 2610 loss - 1.5356378555297852\n",
            "293 2620 loss - 1.4972175359725952\n",
            "293 2630 loss - 1.1351438760757446\n",
            "293 2640 loss - 1.3561416864395142\n",
            "293 2650 loss - 1.2562283277511597\n",
            "293 2660 loss - 1.5876175165176392\n",
            "293 2670 loss - 1.1179202795028687\n",
            "293 2680 loss - 1.5363858938217163\n",
            "293 2690 loss - 1.1665819883346558\n",
            "293 2700 loss - 1.110582709312439\n",
            "293 2710 loss - 1.3159629106521606\n",
            "293 2720 loss - 1.5640645027160645\n",
            "293 2730 loss - 1.1151808500289917\n",
            "293 2740 loss - 1.4007800817489624\n",
            "293 2750 loss - 1.441196084022522\n",
            "293 2760 loss - 1.4080474376678467\n",
            "293 2770 loss - 1.0120198726654053\n",
            "293 2780 loss - 0.9165006279945374\n",
            "293 2790 loss - 1.047245740890503\n",
            "293 2800 loss - 1.5496093034744263\n",
            "293 2810 loss - 1.1840742826461792\n",
            "293 2820 loss - 0.8588758707046509\n",
            "293 2830 loss - 1.3054360151290894\n",
            "293 2840 loss - 1.2546656131744385\n",
            "293 2850 loss - 1.0548369884490967\n",
            "293 2860 loss - 1.042694091796875\n",
            "293 2870 loss - 1.3621426820755005\n",
            "293 2880 loss - 1.0866038799285889\n",
            "293 2890 loss - 1.3137685060501099\n",
            "293 2900 loss - 1.4149845838546753\n",
            "293 2910 loss - 1.0711294412612915\n",
            "293 2920 loss - 1.2979273796081543\n",
            "293 2930 loss - 1.0108866691589355\n",
            "293 2940 loss - 1.4056615829467773\n",
            "293 2950 loss - 1.3754453659057617\n",
            "293 2960 loss - 1.1586287021636963\n",
            "293 2970 loss - 0.8125020265579224\n",
            "293 2980 loss - 1.5307077169418335\n",
            "293 2990 loss - 1.245566487312317\n",
            "293 3000 loss - 1.389085292816162\n",
            "293 3010 loss - 0.9675192832946777\n",
            "293 3020 loss - 0.9824707508087158\n",
            "293 3030 loss - 1.7359955310821533\n",
            "293 3040 loss - 1.3268438577651978\n",
            "293 3050 loss - 1.117719054222107\n",
            "293 3060 loss - 1.6671009063720703\n",
            "293 3070 loss - 1.6998685598373413\n",
            "293 3080 loss - 1.046386480331421\n",
            "293 3090 loss - 1.3755322694778442\n",
            "293 3100 loss - 1.038974642753601\n",
            "293 3110 loss - 1.2175571918487549\n",
            "293 3120 loss - 1.1896034479141235\n",
            "293 3130 loss - 1.244478464126587\n",
            "293 3140 loss - 1.1823928356170654\n",
            "293 3150 loss - 1.5462548732757568\n",
            "293 3160 loss - 0.8230925798416138\n",
            "293 3170 loss - 1.4502675533294678\n",
            "293 3180 loss - 1.1199427843093872\n",
            "293 3190 loss - 1.2286957502365112\n",
            "293 3200 loss - 1.4009931087493896\n",
            "293 3210 loss - 1.0745311975479126\n",
            "293 3220 loss - 1.116260051727295\n",
            "293 3230 loss - 1.1966968774795532\n",
            "293 3240 loss - 0.8740102648735046\n",
            "293 3250 loss - 1.3440392017364502\n",
            "293 3260 loss - 1.06792414188385\n",
            "293 3270 loss - 1.654497504234314\n",
            "293 3280 loss - 1.1486443281173706\n",
            "293 3290 loss - 1.0105748176574707\n",
            "293 3300 loss - 1.3303742408752441\n",
            "293 3310 loss - 1.4873729944229126\n",
            "293 3320 loss - 1.517000675201416\n",
            "293 3330 loss - 1.3019527196884155\n",
            "293 3340 loss - 1.3969558477401733\n",
            "293 3350 loss - 1.3095723390579224\n",
            "293 3360 loss - 1.0413151979446411\n",
            "293 3370 loss - 1.42776620388031\n",
            "293 3380 loss - 1.0597354173660278\n",
            "293 3390 loss - 1.463889479637146\n",
            "293 3400 loss - 0.9357617497444153\n",
            "293 3410 loss - 1.2167829275131226\n",
            "293 3420 loss - 1.5493183135986328\n",
            "293 3430 loss - 1.297438144683838\n",
            "293 3440 loss - 1.6241711378097534\n",
            "293 3450 loss - 1.5584615468978882\n",
            "293 3460 loss - 1.0766360759735107\n",
            "293 3470 loss - 0.8480488657951355\n",
            "293 3480 loss - 1.344058632850647\n",
            "293 3490 loss - 1.2443304061889648\n",
            "293 3500 loss - 1.387879490852356\n",
            "293 3510 loss - 1.442196249961853\n",
            "293 3520 loss - 1.2175467014312744\n",
            "293 3530 loss - 1.501594066619873\n",
            "293 3540 loss - 1.5034385919570923\n",
            "293 3550 loss - 1.1479188203811646\n",
            "293 3560 loss - 1.151662826538086\n",
            "293 3570 loss - 1.198418140411377\n",
            "293 3580 loss - 1.1178760528564453\n",
            "293 3590 loss - 1.2544705867767334\n",
            "293 3600 loss - 1.0399434566497803\n",
            "293 3610 loss - 1.6285488605499268\n",
            "294 0 loss - 1.3425240516662598\n",
            "294 10 loss - 1.3167510032653809\n",
            "294 20 loss - 1.25089693069458\n",
            "294 30 loss - 1.111651062965393\n",
            "294 40 loss - 1.230438470840454\n",
            "294 50 loss - 1.2461812496185303\n",
            "294 60 loss - 1.2881866693496704\n",
            "294 70 loss - 1.3993844985961914\n",
            "294 80 loss - 1.3043276071548462\n",
            "294 90 loss - 1.262336254119873\n",
            "294 100 loss - 1.9689030647277832\n",
            "294 110 loss - 0.9469359517097473\n",
            "294 120 loss - 1.169273853302002\n",
            "294 130 loss - 1.2296147346496582\n",
            "294 140 loss - 1.345292329788208\n",
            "294 150 loss - 1.5152626037597656\n",
            "294 160 loss - 1.607383131980896\n",
            "294 170 loss - 1.1680203676223755\n",
            "294 180 loss - 1.2475217580795288\n",
            "294 190 loss - 1.2193210124969482\n",
            "294 200 loss - 1.1846199035644531\n",
            "294 210 loss - 1.4587706327438354\n",
            "294 220 loss - 1.4256205558776855\n",
            "294 230 loss - 1.5222927331924438\n",
            "294 240 loss - 1.1182060241699219\n",
            "294 250 loss - 1.4918568134307861\n",
            "294 260 loss - 1.4847571849822998\n",
            "294 270 loss - 1.2384397983551025\n",
            "294 280 loss - 1.1881554126739502\n",
            "294 290 loss - 1.0771944522857666\n",
            "294 300 loss - 1.6994882822036743\n",
            "294 310 loss - 1.5036884546279907\n",
            "294 320 loss - 1.0451288223266602\n",
            "294 330 loss - 1.4071742296218872\n",
            "294 340 loss - 1.4524803161621094\n",
            "294 350 loss - 1.3236349821090698\n",
            "294 360 loss - 1.4673748016357422\n",
            "294 370 loss - 1.1752315759658813\n",
            "294 380 loss - 1.0148966312408447\n",
            "294 390 loss - 1.3275046348571777\n",
            "294 400 loss - 1.358518123626709\n",
            "294 410 loss - 1.1334275007247925\n",
            "294 420 loss - 1.210697889328003\n",
            "294 430 loss - 1.1587272882461548\n",
            "294 440 loss - 0.9990289807319641\n",
            "294 450 loss - 1.2073588371276855\n",
            "294 460 loss - 1.0361820459365845\n",
            "294 470 loss - 0.9116406440734863\n",
            "294 480 loss - 1.194642186164856\n",
            "294 490 loss - 1.3798859119415283\n",
            "294 500 loss - 1.373024821281433\n",
            "294 510 loss - 1.3570969104766846\n",
            "294 520 loss - 0.963822603225708\n",
            "294 530 loss - 1.4554731845855713\n",
            "294 540 loss - 1.2815486192703247\n",
            "294 550 loss - 1.2815454006195068\n",
            "294 560 loss - 1.351560115814209\n",
            "294 570 loss - 1.1556482315063477\n",
            "294 580 loss - 1.486470341682434\n",
            "294 590 loss - 1.1827073097229004\n",
            "294 600 loss - 1.3854916095733643\n",
            "294 610 loss - 1.2938015460968018\n",
            "294 620 loss - 1.419297695159912\n",
            "294 630 loss - 1.1621915102005005\n",
            "294 640 loss - 1.5009874105453491\n",
            "294 650 loss - 1.0401380062103271\n",
            "294 660 loss - 1.4991205930709839\n",
            "294 670 loss - 1.67837393283844\n",
            "294 680 loss - 1.4202880859375\n",
            "294 690 loss - 1.2975118160247803\n",
            "294 700 loss - 1.2016799449920654\n",
            "294 710 loss - 1.2469136714935303\n",
            "294 720 loss - 1.373275876045227\n",
            "294 730 loss - 1.2995350360870361\n",
            "294 740 loss - 1.4134025573730469\n",
            "294 750 loss - 0.9499353170394897\n",
            "294 760 loss - 1.1119740009307861\n",
            "294 770 loss - 1.3172770738601685\n",
            "294 780 loss - 1.0052193403244019\n",
            "294 790 loss - 1.1830211877822876\n",
            "294 800 loss - 1.345831274986267\n",
            "294 810 loss - 1.3703550100326538\n",
            "294 820 loss - 1.0132818222045898\n",
            "294 830 loss - 1.3671555519104004\n",
            "294 840 loss - 1.5015665292739868\n",
            "294 850 loss - 1.3262237310409546\n",
            "294 860 loss - 1.2317882776260376\n",
            "294 870 loss - 1.4869685173034668\n",
            "294 880 loss - 1.445144772529602\n",
            "294 890 loss - 1.1992361545562744\n",
            "294 900 loss - 1.2540485858917236\n",
            "294 910 loss - 1.3389545679092407\n",
            "294 920 loss - 1.6033623218536377\n",
            "294 930 loss - 0.9361793398857117\n",
            "294 940 loss - 1.421378493309021\n",
            "294 950 loss - 0.9450252056121826\n",
            "294 960 loss - 1.2940183877944946\n",
            "294 970 loss - 1.3146851062774658\n",
            "294 980 loss - 1.17661714553833\n",
            "294 990 loss - 1.193159580230713\n",
            "294 1000 loss - 1.372348427772522\n",
            "294 1010 loss - 1.4352635145187378\n",
            "294 1020 loss - 1.215338110923767\n",
            "294 1030 loss - 1.2039941549301147\n",
            "294 1040 loss - 1.0653409957885742\n",
            "294 1050 loss - 0.7882184386253357\n",
            "294 1060 loss - 0.9475429654121399\n",
            "294 1070 loss - 1.64876389503479\n",
            "294 1080 loss - 1.4971085786819458\n",
            "294 1090 loss - 1.5125069618225098\n",
            "294 1100 loss - 1.35988187789917\n",
            "294 1110 loss - 1.1587048768997192\n",
            "294 1120 loss - 1.1896957159042358\n",
            "294 1130 loss - 1.5789573192596436\n",
            "294 1140 loss - 1.380831003189087\n",
            "294 1150 loss - 1.255219578742981\n",
            "294 1160 loss - 1.1827564239501953\n",
            "294 1170 loss - 1.119738221168518\n",
            "294 1180 loss - 1.461922526359558\n",
            "294 1190 loss - 0.9391084313392639\n",
            "294 1200 loss - 1.3601107597351074\n",
            "294 1210 loss - 1.3687092065811157\n",
            "294 1220 loss - 1.3630212545394897\n",
            "294 1230 loss - 1.574448585510254\n",
            "294 1240 loss - 1.1710981130599976\n",
            "294 1250 loss - 1.2260719537734985\n",
            "294 1260 loss - 1.2523726224899292\n",
            "294 1270 loss - 1.603502869606018\n",
            "294 1280 loss - 1.4903769493103027\n",
            "294 1290 loss - 1.2846752405166626\n",
            "294 1300 loss - 1.2996116876602173\n",
            "294 1310 loss - 1.2247847318649292\n",
            "294 1320 loss - 1.0454485416412354\n",
            "294 1330 loss - 1.1975980997085571\n",
            "294 1340 loss - 1.2483519315719604\n",
            "294 1350 loss - 1.564955711364746\n",
            "294 1360 loss - 1.1501582860946655\n",
            "294 1370 loss - 1.5270522832870483\n",
            "294 1380 loss - 1.1089801788330078\n",
            "294 1390 loss - 1.1547918319702148\n",
            "294 1400 loss - 1.2824954986572266\n",
            "294 1410 loss - 1.0408347845077515\n",
            "294 1420 loss - 1.3306399583816528\n",
            "294 1430 loss - 1.6036001443862915\n",
            "294 1440 loss - 1.366362452507019\n",
            "294 1450 loss - 1.2220221757888794\n",
            "294 1460 loss - 1.2856552600860596\n",
            "294 1470 loss - 1.3467521667480469\n",
            "294 1480 loss - 1.1896876096725464\n",
            "294 1490 loss - 1.0811433792114258\n",
            "294 1500 loss - 1.311621904373169\n",
            "294 1510 loss - 1.240806221961975\n",
            "294 1520 loss - 0.8918925523757935\n",
            "294 1530 loss - 1.3014216423034668\n",
            "294 1540 loss - 1.6570271253585815\n",
            "294 1550 loss - 1.1120244264602661\n",
            "294 1560 loss - 1.3242541551589966\n",
            "294 1570 loss - 1.0178041458129883\n",
            "294 1580 loss - 0.9262270331382751\n",
            "294 1590 loss - 1.3792749643325806\n",
            "294 1600 loss - 1.080094337463379\n",
            "294 1610 loss - 1.570009708404541\n",
            "294 1620 loss - 1.2027307748794556\n",
            "294 1630 loss - 1.2906808853149414\n",
            "294 1640 loss - 1.3245162963867188\n",
            "294 1650 loss - 1.213044285774231\n",
            "294 1660 loss - 1.3969439268112183\n",
            "294 1670 loss - 1.6212388277053833\n",
            "294 1680 loss - 0.859436571598053\n",
            "294 1690 loss - 1.3798359632492065\n",
            "294 1700 loss - 1.2754898071289062\n",
            "294 1710 loss - 1.2963230609893799\n",
            "294 1720 loss - 1.348236083984375\n",
            "294 1730 loss - 1.454069972038269\n",
            "294 1740 loss - 1.311777114868164\n",
            "294 1750 loss - 1.2430912256240845\n",
            "294 1760 loss - 1.268078088760376\n",
            "294 1770 loss - 1.307295799255371\n",
            "294 1780 loss - 1.6779812574386597\n",
            "294 1790 loss - 1.5212759971618652\n",
            "294 1800 loss - 1.2164573669433594\n",
            "294 1810 loss - 1.2425537109375\n",
            "294 1820 loss - 1.546088695526123\n",
            "294 1830 loss - 1.3246690034866333\n",
            "294 1840 loss - 1.4883521795272827\n",
            "294 1850 loss - 1.4243279695510864\n",
            "294 1860 loss - 1.5955079793930054\n",
            "294 1870 loss - 1.010918378829956\n",
            "294 1880 loss - 1.1547878980636597\n",
            "294 1890 loss - 1.377052664756775\n",
            "294 1900 loss - 1.293862223625183\n",
            "294 1910 loss - 1.4393428564071655\n",
            "294 1920 loss - 1.1981194019317627\n",
            "294 1930 loss - 1.1639084815979004\n",
            "294 1940 loss - 1.1608141660690308\n",
            "294 1950 loss - 1.543294072151184\n",
            "294 1960 loss - 0.8502552509307861\n",
            "294 1970 loss - 1.5664342641830444\n",
            "294 1980 loss - 1.419022560119629\n",
            "294 1990 loss - 0.8041207194328308\n",
            "294 2000 loss - 1.3652606010437012\n",
            "294 2010 loss - 1.434564471244812\n",
            "294 2020 loss - 1.3809515237808228\n",
            "294 2030 loss - 1.2428373098373413\n",
            "294 2040 loss - 1.1716922521591187\n",
            "294 2050 loss - 1.0191773176193237\n",
            "294 2060 loss - 1.2476272583007812\n",
            "294 2070 loss - 1.0503346920013428\n",
            "294 2080 loss - 1.2209389209747314\n",
            "294 2090 loss - 1.7374424934387207\n",
            "294 2100 loss - 1.3886727094650269\n",
            "294 2110 loss - 1.08133065700531\n",
            "294 2120 loss - 1.1997108459472656\n",
            "294 2130 loss - 1.410243272781372\n",
            "294 2140 loss - 1.2143667936325073\n",
            "294 2150 loss - 1.0888404846191406\n",
            "294 2160 loss - 1.4748343229293823\n",
            "294 2170 loss - 1.2923498153686523\n",
            "294 2180 loss - 1.3391832113265991\n",
            "294 2190 loss - 1.1495054960250854\n",
            "294 2200 loss - 1.4323945045471191\n",
            "294 2210 loss - 1.3930100202560425\n",
            "294 2220 loss - 1.5234899520874023\n",
            "294 2230 loss - 1.522109031677246\n",
            "294 2240 loss - 1.6884217262268066\n",
            "294 2250 loss - 1.2956973314285278\n",
            "294 2260 loss - 1.9267256259918213\n",
            "294 2270 loss - 1.2228032350540161\n",
            "294 2280 loss - 1.1511454582214355\n",
            "294 2290 loss - 1.048379898071289\n",
            "294 2300 loss - 1.219016432762146\n",
            "294 2310 loss - 1.2982237339019775\n",
            "294 2320 loss - 1.451363444328308\n",
            "294 2330 loss - 1.3797787427902222\n",
            "294 2340 loss - 1.3365875482559204\n",
            "294 2350 loss - 1.4724048376083374\n",
            "294 2360 loss - 1.4028393030166626\n",
            "294 2370 loss - 0.9544369578361511\n",
            "294 2380 loss - 1.5060462951660156\n",
            "294 2390 loss - 1.3866978883743286\n",
            "294 2400 loss - 1.148810863494873\n",
            "294 2410 loss - 1.1235383749008179\n",
            "294 2420 loss - 1.1542590856552124\n",
            "294 2430 loss - 1.2032206058502197\n",
            "294 2440 loss - 1.1271564960479736\n",
            "294 2450 loss - 0.9029079079627991\n",
            "294 2460 loss - 1.5634148120880127\n",
            "294 2470 loss - 1.3760424852371216\n",
            "294 2480 loss - 1.3040082454681396\n",
            "294 2490 loss - 1.3613382577896118\n",
            "294 2500 loss - 1.470962405204773\n",
            "294 2510 loss - 1.3298286199569702\n",
            "294 2520 loss - 1.0981090068817139\n",
            "294 2530 loss - 1.391940951347351\n",
            "294 2540 loss - 1.1363352537155151\n",
            "294 2550 loss - 1.2793360948562622\n",
            "294 2560 loss - 1.05216383934021\n",
            "294 2570 loss - 1.440718173980713\n",
            "294 2580 loss - 1.557587742805481\n",
            "294 2590 loss - 1.2943495512008667\n",
            "294 2600 loss - 1.3454173803329468\n",
            "294 2610 loss - 1.41319739818573\n",
            "294 2620 loss - 1.134219765663147\n",
            "294 2630 loss - 1.4142305850982666\n",
            "294 2640 loss - 1.3516521453857422\n",
            "294 2650 loss - 1.2400000095367432\n",
            "294 2660 loss - 1.2857376337051392\n",
            "294 2670 loss - 1.2272875308990479\n",
            "294 2680 loss - 1.1139429807662964\n",
            "294 2690 loss - 1.5640850067138672\n",
            "294 2700 loss - 1.142297625541687\n",
            "294 2710 loss - 1.4684802293777466\n",
            "294 2720 loss - 1.0280524492263794\n",
            "294 2730 loss - 1.1772487163543701\n",
            "294 2740 loss - 1.2593457698822021\n",
            "294 2750 loss - 1.2944287061691284\n",
            "294 2760 loss - 1.3255956172943115\n",
            "294 2770 loss - 1.5913686752319336\n",
            "294 2780 loss - 1.2029507160186768\n",
            "294 2790 loss - 1.4347833395004272\n",
            "294 2800 loss - 1.2911509275436401\n",
            "294 2810 loss - 1.6176666021347046\n",
            "294 2820 loss - 1.6728520393371582\n",
            "294 2830 loss - 1.4018754959106445\n",
            "294 2840 loss - 1.0645936727523804\n",
            "294 2850 loss - 1.150960087776184\n",
            "294 2860 loss - 1.2733876705169678\n",
            "294 2870 loss - 1.6159043312072754\n",
            "294 2880 loss - 1.0277252197265625\n",
            "294 2890 loss - 1.0737875699996948\n",
            "294 2900 loss - 1.1564645767211914\n",
            "294 2910 loss - 1.6542167663574219\n",
            "294 2920 loss - 1.0260324478149414\n",
            "294 2930 loss - 1.6779378652572632\n",
            "294 2940 loss - 1.1100801229476929\n",
            "294 2950 loss - 1.0489225387573242\n",
            "294 2960 loss - 1.4816670417785645\n",
            "294 2970 loss - 1.0506192445755005\n",
            "294 2980 loss - 1.0791977643966675\n",
            "294 2990 loss - 1.3977495431900024\n",
            "294 3000 loss - 1.198042392730713\n",
            "294 3010 loss - 1.469689130783081\n",
            "294 3020 loss - 1.2226065397262573\n",
            "294 3030 loss - 1.3447209596633911\n",
            "294 3040 loss - 1.4766039848327637\n",
            "294 3050 loss - 1.0039141178131104\n",
            "294 3060 loss - 1.1380054950714111\n",
            "294 3070 loss - 1.2971858978271484\n",
            "294 3080 loss - 1.0786690711975098\n",
            "294 3090 loss - 1.34152090549469\n",
            "294 3100 loss - 1.4929842948913574\n",
            "294 3110 loss - 0.9886345863342285\n",
            "294 3120 loss - 1.318278431892395\n",
            "294 3130 loss - 1.1899352073669434\n",
            "294 3140 loss - 1.5079065561294556\n",
            "294 3150 loss - 1.3913434743881226\n",
            "294 3160 loss - 1.5570935010910034\n",
            "294 3170 loss - 1.4524331092834473\n",
            "294 3180 loss - 1.3027492761611938\n",
            "294 3190 loss - 1.3463691473007202\n",
            "294 3200 loss - 0.960869550704956\n",
            "294 3210 loss - 1.3267738819122314\n",
            "294 3220 loss - 1.4087367057800293\n",
            "294 3230 loss - 1.4545507431030273\n",
            "294 3240 loss - 1.1972577571868896\n",
            "294 3250 loss - 1.355129599571228\n",
            "294 3260 loss - 1.4181987047195435\n",
            "294 3270 loss - 1.4597681760787964\n",
            "294 3280 loss - 1.3639848232269287\n",
            "294 3290 loss - 1.1644840240478516\n",
            "294 3300 loss - 1.4109611511230469\n",
            "294 3310 loss - 1.1090117692947388\n",
            "294 3320 loss - 0.9761731028556824\n",
            "294 3330 loss - 1.2871694564819336\n",
            "294 3340 loss - 1.5680177211761475\n",
            "294 3350 loss - 1.3932466506958008\n",
            "294 3360 loss - 1.146605372428894\n",
            "294 3370 loss - 1.3404805660247803\n",
            "294 3380 loss - 1.1465651988983154\n",
            "294 3390 loss - 1.2559020519256592\n",
            "294 3400 loss - 1.3136483430862427\n",
            "294 3410 loss - 1.28013277053833\n",
            "294 3420 loss - 1.1919119358062744\n",
            "294 3430 loss - 1.1697157621383667\n",
            "294 3440 loss - 1.221295714378357\n",
            "294 3450 loss - 1.601805329322815\n",
            "294 3460 loss - 1.1357049942016602\n",
            "294 3470 loss - 1.1054775714874268\n",
            "294 3480 loss - 1.1776690483093262\n",
            "294 3490 loss - 1.3335003852844238\n",
            "294 3500 loss - 1.2986171245574951\n",
            "294 3510 loss - 0.9624813795089722\n",
            "294 3520 loss - 1.5756558179855347\n",
            "294 3530 loss - 1.4876707792282104\n",
            "294 3540 loss - 1.0433363914489746\n",
            "294 3550 loss - 1.6063470840454102\n",
            "294 3560 loss - 1.0625232458114624\n",
            "294 3570 loss - 0.7800734043121338\n",
            "294 3580 loss - 1.353430986404419\n",
            "294 3590 loss - 1.441225528717041\n",
            "294 3600 loss - 1.3420861959457397\n",
            "294 3610 loss - 1.1813995838165283\n",
            "295 0 loss - 1.426733374595642\n",
            "295 10 loss - 1.0825809240341187\n",
            "295 20 loss - 1.4487377405166626\n",
            "295 30 loss - 1.0805727243423462\n",
            "295 40 loss - 0.8466570973396301\n",
            "295 50 loss - 0.955374002456665\n",
            "295 60 loss - 1.4262535572052002\n",
            "295 70 loss - 1.2874476909637451\n",
            "295 80 loss - 1.5171928405761719\n",
            "295 90 loss - 1.6150418519973755\n",
            "295 100 loss - 1.2735072374343872\n",
            "295 110 loss - 1.365295648574829\n",
            "295 120 loss - 1.580001950263977\n",
            "295 130 loss - 1.529573917388916\n",
            "295 140 loss - 1.2951568365097046\n",
            "295 150 loss - 1.3001106977462769\n",
            "295 160 loss - 1.1927525997161865\n",
            "295 170 loss - 1.531762719154358\n",
            "295 180 loss - 1.3585296869277954\n",
            "295 190 loss - 1.334641933441162\n",
            "295 200 loss - 1.4649518728256226\n",
            "295 210 loss - 1.4396898746490479\n",
            "295 220 loss - 1.463144063949585\n",
            "295 230 loss - 1.4679951667785645\n",
            "295 240 loss - 1.4041807651519775\n",
            "295 250 loss - 1.1423856019973755\n",
            "295 260 loss - 1.454282283782959\n",
            "295 270 loss - 1.4130064249038696\n",
            "295 280 loss - 1.0889160633087158\n",
            "295 290 loss - 1.1252431869506836\n",
            "295 300 loss - 1.1519603729248047\n",
            "295 310 loss - 1.191104531288147\n",
            "295 320 loss - 1.285498857498169\n",
            "295 330 loss - 1.6305038928985596\n",
            "295 340 loss - 1.3260124921798706\n",
            "295 350 loss - 0.873164176940918\n",
            "295 360 loss - 1.457251787185669\n",
            "295 370 loss - 0.9815502762794495\n",
            "295 380 loss - 1.1405401229858398\n",
            "295 390 loss - 1.5524791479110718\n",
            "295 400 loss - 1.42283296585083\n",
            "295 410 loss - 1.270504355430603\n",
            "295 420 loss - 1.2590816020965576\n",
            "295 430 loss - 1.3204330205917358\n",
            "295 440 loss - 1.6091569662094116\n",
            "295 450 loss - 1.0863746404647827\n",
            "295 460 loss - 1.6563440561294556\n",
            "295 470 loss - 1.2272059917449951\n",
            "295 480 loss - 1.4525564908981323\n",
            "295 490 loss - 1.145912528038025\n",
            "295 500 loss - 1.0993818044662476\n",
            "295 510 loss - 1.130017876625061\n",
            "295 520 loss - 1.4174312353134155\n",
            "295 530 loss - 1.2752376794815063\n",
            "295 540 loss - 1.1345261335372925\n",
            "295 550 loss - 1.1162700653076172\n",
            "295 560 loss - 1.2110490798950195\n",
            "295 570 loss - 1.293563723564148\n",
            "295 580 loss - 1.4664698839187622\n",
            "295 590 loss - 1.284895420074463\n",
            "295 600 loss - 1.1243935823440552\n",
            "295 610 loss - 1.2458325624465942\n",
            "295 620 loss - 1.146655559539795\n",
            "295 630 loss - 1.071951985359192\n",
            "295 640 loss - 1.2994412183761597\n",
            "295 650 loss - 1.4075497388839722\n",
            "295 660 loss - 1.16095769405365\n",
            "295 670 loss - 1.1606528759002686\n",
            "295 680 loss - 1.7218989133834839\n",
            "295 690 loss - 1.3618181943893433\n",
            "295 700 loss - 1.2193241119384766\n",
            "295 710 loss - 1.1560665369033813\n",
            "295 720 loss - 1.1276710033416748\n",
            "295 730 loss - 1.5075461864471436\n",
            "295 740 loss - 1.6112666130065918\n",
            "295 750 loss - 1.0273429155349731\n",
            "295 760 loss - 1.3869487047195435\n",
            "295 770 loss - 1.2573529481887817\n",
            "295 780 loss - 1.2803748846054077\n",
            "295 790 loss - 1.5227760076522827\n",
            "295 800 loss - 1.31624174118042\n",
            "295 810 loss - 1.5669862031936646\n",
            "295 820 loss - 1.305774450302124\n",
            "295 830 loss - 1.072941541671753\n",
            "295 840 loss - 1.3376085758209229\n",
            "295 850 loss - 1.2779561281204224\n",
            "295 860 loss - 1.512027621269226\n",
            "295 870 loss - 1.4232549667358398\n",
            "295 880 loss - 1.2500277757644653\n",
            "295 890 loss - 1.4371262788772583\n",
            "295 900 loss - 1.2317755222320557\n",
            "295 910 loss - 1.2020251750946045\n",
            "295 920 loss - 1.1318289041519165\n",
            "295 930 loss - 0.9748263955116272\n",
            "295 940 loss - 1.5678337812423706\n",
            "295 950 loss - 1.0047985315322876\n",
            "295 960 loss - 1.4319884777069092\n",
            "295 970 loss - 1.5638411045074463\n",
            "295 980 loss - 0.9592064023017883\n",
            "295 990 loss - 1.31158447265625\n",
            "295 1000 loss - 1.0427837371826172\n",
            "295 1010 loss - 1.7654688358306885\n",
            "295 1020 loss - 1.1629345417022705\n",
            "295 1030 loss - 1.2256455421447754\n",
            "295 1040 loss - 1.024936318397522\n",
            "295 1050 loss - 1.158774971961975\n",
            "295 1060 loss - 1.051806092262268\n",
            "295 1070 loss - 1.374446153640747\n",
            "295 1080 loss - 0.9395143985748291\n",
            "295 1090 loss - 0.9936121702194214\n",
            "295 1100 loss - 1.4295575618743896\n",
            "295 1110 loss - 1.3062444925308228\n",
            "295 1120 loss - 1.4520196914672852\n",
            "295 1130 loss - 1.2351188659667969\n",
            "295 1140 loss - 1.2331727743148804\n",
            "295 1150 loss - 1.321471095085144\n",
            "295 1160 loss - 1.1132640838623047\n",
            "295 1170 loss - 1.1131598949432373\n",
            "295 1180 loss - 1.2375874519348145\n",
            "295 1190 loss - 1.1435825824737549\n",
            "295 1200 loss - 1.5460788011550903\n",
            "295 1210 loss - 1.2024019956588745\n",
            "295 1220 loss - 1.2435238361358643\n",
            "295 1230 loss - 1.1424075365066528\n",
            "295 1240 loss - 1.3254749774932861\n",
            "295 1250 loss - 1.1069587469100952\n",
            "295 1260 loss - 1.3839274644851685\n",
            "295 1270 loss - 1.4654284715652466\n",
            "295 1280 loss - 1.0921549797058105\n",
            "295 1290 loss - 1.2850233316421509\n",
            "295 1300 loss - 1.1848959922790527\n",
            "295 1310 loss - 1.5240161418914795\n",
            "295 1320 loss - 1.3571630716323853\n",
            "295 1330 loss - 1.3462554216384888\n",
            "295 1340 loss - 0.9450216293334961\n",
            "295 1350 loss - 1.333085536956787\n",
            "295 1360 loss - 0.9115634560585022\n",
            "295 1370 loss - 1.215151071548462\n",
            "295 1380 loss - 1.4012795686721802\n",
            "295 1390 loss - 1.5415596961975098\n",
            "295 1400 loss - 1.3874790668487549\n",
            "295 1410 loss - 1.2710379362106323\n",
            "295 1420 loss - 1.1144376993179321\n",
            "295 1430 loss - 1.0333211421966553\n",
            "295 1440 loss - 1.388838291168213\n",
            "295 1450 loss - 1.2397958040237427\n",
            "295 1460 loss - 1.8976953029632568\n",
            "295 1470 loss - 1.2430577278137207\n",
            "295 1480 loss - 0.9795061349868774\n",
            "295 1490 loss - 1.0447794198989868\n",
            "295 1500 loss - 0.9952790141105652\n",
            "295 1510 loss - 1.0932443141937256\n",
            "295 1520 loss - 0.9805669188499451\n",
            "295 1530 loss - 1.227268099784851\n",
            "295 1540 loss - 1.419196367263794\n",
            "295 1550 loss - 1.2511866092681885\n",
            "295 1560 loss - 1.0098267793655396\n",
            "295 1570 loss - 1.2996888160705566\n",
            "295 1580 loss - 0.9987083673477173\n",
            "295 1590 loss - 1.2390904426574707\n",
            "295 1600 loss - 1.1522905826568604\n",
            "295 1610 loss - 1.2197496891021729\n",
            "295 1620 loss - 1.0607068538665771\n",
            "295 1630 loss - 1.0878276824951172\n",
            "295 1640 loss - 1.560863733291626\n",
            "295 1650 loss - 1.6333787441253662\n",
            "295 1660 loss - 1.4661318063735962\n",
            "295 1670 loss - 1.2347567081451416\n",
            "295 1680 loss - 1.1987416744232178\n",
            "295 1690 loss - 1.5118788480758667\n",
            "295 1700 loss - 1.5030251741409302\n",
            "295 1710 loss - 1.4196513891220093\n",
            "295 1720 loss - 1.379011631011963\n",
            "295 1730 loss - 1.1498980522155762\n",
            "295 1740 loss - 1.5408987998962402\n",
            "295 1750 loss - 1.3072218894958496\n",
            "295 1760 loss - 0.920081377029419\n",
            "295 1770 loss - 1.2501816749572754\n",
            "295 1780 loss - 1.3848414421081543\n",
            "295 1790 loss - 1.3119474649429321\n",
            "295 1800 loss - 1.242108941078186\n",
            "295 1810 loss - 1.2647541761398315\n",
            "295 1820 loss - 1.0597021579742432\n",
            "295 1830 loss - 1.1625511646270752\n",
            "295 1840 loss - 1.1899951696395874\n",
            "295 1850 loss - 1.7440358400344849\n",
            "295 1860 loss - 1.2331037521362305\n",
            "295 1870 loss - 1.2410527467727661\n",
            "295 1880 loss - 1.293079137802124\n",
            "295 1890 loss - 1.0617561340332031\n",
            "295 1900 loss - 1.2957019805908203\n",
            "295 1910 loss - 1.1794389486312866\n",
            "295 1920 loss - 1.4028854370117188\n",
            "295 1930 loss - 1.1694204807281494\n",
            "295 1940 loss - 1.2525558471679688\n",
            "295 1950 loss - 1.052078127861023\n",
            "295 1960 loss - 0.8548039197921753\n",
            "295 1970 loss - 1.2874243259429932\n",
            "295 1980 loss - 1.484595537185669\n",
            "295 1990 loss - 1.356154441833496\n",
            "295 2000 loss - 1.1370397806167603\n",
            "295 2010 loss - 1.4837385416030884\n",
            "295 2020 loss - 1.1517512798309326\n",
            "295 2030 loss - 1.2081903219223022\n",
            "295 2040 loss - 1.0441856384277344\n",
            "295 2050 loss - 1.3873264789581299\n",
            "295 2060 loss - 1.5276038646697998\n",
            "295 2070 loss - 1.2766329050064087\n",
            "295 2080 loss - 1.230832815170288\n",
            "295 2090 loss - 1.1171680688858032\n",
            "295 2100 loss - 0.9744668006896973\n",
            "295 2110 loss - 1.3738160133361816\n",
            "295 2120 loss - 1.2012267112731934\n",
            "295 2130 loss - 1.2579859495162964\n",
            "295 2140 loss - 1.1925324201583862\n",
            "295 2150 loss - 1.6878658533096313\n",
            "295 2160 loss - 1.6550372838974\n",
            "295 2170 loss - 1.5736292600631714\n",
            "295 2180 loss - 1.1361486911773682\n",
            "295 2190 loss - 1.2473012208938599\n",
            "295 2200 loss - 1.4924372434616089\n",
            "295 2210 loss - 1.4441423416137695\n",
            "295 2220 loss - 1.2738293409347534\n",
            "295 2230 loss - 1.3921701908111572\n",
            "295 2240 loss - 1.1729131937026978\n",
            "295 2250 loss - 1.099130392074585\n",
            "295 2260 loss - 1.3837498426437378\n",
            "295 2270 loss - 1.0080684423446655\n",
            "295 2280 loss - 1.1204588413238525\n",
            "295 2290 loss - 1.4961397647857666\n",
            "295 2300 loss - 0.9705010652542114\n",
            "295 2310 loss - 1.2652206420898438\n",
            "295 2320 loss - 1.2773586511611938\n",
            "295 2330 loss - 1.082321047782898\n",
            "295 2340 loss - 1.3355339765548706\n",
            "295 2350 loss - 1.0709234476089478\n",
            "295 2360 loss - 0.9937636852264404\n",
            "295 2370 loss - 1.3168448209762573\n",
            "295 2380 loss - 0.9959264993667603\n",
            "295 2390 loss - 1.4123799800872803\n",
            "295 2400 loss - 1.2708908319473267\n",
            "295 2410 loss - 1.3709372282028198\n",
            "295 2420 loss - 1.176823377609253\n",
            "295 2430 loss - 1.0511066913604736\n",
            "295 2440 loss - 1.3372420072555542\n",
            "295 2450 loss - 1.5659328699111938\n",
            "295 2460 loss - 1.2510207891464233\n",
            "295 2470 loss - 1.2812501192092896\n",
            "295 2480 loss - 1.1369894742965698\n",
            "295 2490 loss - 1.2183846235275269\n",
            "295 2500 loss - 0.8841040134429932\n",
            "295 2510 loss - 1.3323479890823364\n",
            "295 2520 loss - 1.0732734203338623\n",
            "295 2530 loss - 1.3822693824768066\n",
            "295 2540 loss - 1.476670265197754\n",
            "295 2550 loss - 1.290868878364563\n",
            "295 2560 loss - 1.4620813131332397\n",
            "295 2570 loss - 1.0850803852081299\n",
            "295 2580 loss - 1.268741250038147\n",
            "295 2590 loss - 1.3050323724746704\n",
            "295 2600 loss - 0.8340933918952942\n",
            "295 2610 loss - 1.5926469564437866\n",
            "295 2620 loss - 1.1448242664337158\n",
            "295 2630 loss - 1.4392694234848022\n",
            "295 2640 loss - 1.4788328409194946\n",
            "295 2650 loss - 1.410327672958374\n",
            "295 2660 loss - 1.3422596454620361\n",
            "295 2670 loss - 1.2315044403076172\n",
            "295 2680 loss - 1.1374146938323975\n",
            "295 2690 loss - 1.2609071731567383\n",
            "295 2700 loss - 0.9777355790138245\n",
            "295 2710 loss - 1.065877914428711\n",
            "295 2720 loss - 0.9679977297782898\n",
            "295 2730 loss - 1.448421597480774\n",
            "295 2740 loss - 1.1580983400344849\n",
            "295 2750 loss - 0.9454629421234131\n",
            "295 2760 loss - 1.289626955986023\n",
            "295 2770 loss - 1.6096086502075195\n",
            "295 2780 loss - 1.0687607526779175\n",
            "295 2790 loss - 1.269697904586792\n",
            "295 2800 loss - 1.2343721389770508\n",
            "295 2810 loss - 1.4566279649734497\n",
            "295 2820 loss - 1.6031051874160767\n",
            "295 2830 loss - 1.411176323890686\n",
            "295 2840 loss - 1.0370702743530273\n",
            "295 2850 loss - 1.1776931285858154\n",
            "295 2860 loss - 1.298221230506897\n",
            "295 2870 loss - 1.1538866758346558\n",
            "295 2880 loss - 1.2810465097427368\n",
            "295 2890 loss - 1.1932315826416016\n",
            "295 2900 loss - 1.1607451438903809\n",
            "295 2910 loss - 0.8314075469970703\n",
            "295 2920 loss - 0.9384128451347351\n",
            "295 2930 loss - 1.59979248046875\n",
            "295 2940 loss - 1.4335194826126099\n",
            "295 2950 loss - 1.0419325828552246\n",
            "295 2960 loss - 1.3391029834747314\n",
            "295 2970 loss - 1.1536524295806885\n",
            "295 2980 loss - 1.2684296369552612\n",
            "295 2990 loss - 1.3255131244659424\n",
            "295 3000 loss - 1.4258317947387695\n",
            "295 3010 loss - 1.1155933141708374\n",
            "295 3020 loss - 1.6954717636108398\n",
            "295 3030 loss - 1.340660810470581\n",
            "295 3040 loss - 1.3526382446289062\n",
            "295 3050 loss - 1.1252893209457397\n",
            "295 3060 loss - 1.5002965927124023\n",
            "295 3070 loss - 1.0010954141616821\n",
            "295 3080 loss - 1.438501238822937\n",
            "295 3090 loss - 1.1632003784179688\n",
            "295 3100 loss - 1.013643741607666\n",
            "295 3110 loss - 1.1099497079849243\n",
            "295 3120 loss - 1.5047187805175781\n",
            "295 3130 loss - 1.2998853921890259\n",
            "295 3140 loss - 1.3395068645477295\n",
            "295 3150 loss - 1.3994641304016113\n",
            "295 3160 loss - 1.3938090801239014\n",
            "295 3170 loss - 1.4703309535980225\n",
            "295 3180 loss - 1.0964727401733398\n",
            "295 3190 loss - 1.6078407764434814\n",
            "295 3200 loss - 1.2956926822662354\n",
            "295 3210 loss - 1.3534122705459595\n",
            "295 3220 loss - 1.5960719585418701\n",
            "295 3230 loss - 1.2307026386260986\n",
            "295 3240 loss - 1.419022560119629\n",
            "295 3250 loss - 1.3395901918411255\n",
            "295 3260 loss - 1.3435614109039307\n",
            "295 3270 loss - 1.6603790521621704\n",
            "295 3280 loss - 1.2328894138336182\n",
            "295 3290 loss - 1.340523600578308\n",
            "295 3300 loss - 1.4001030921936035\n",
            "295 3310 loss - 1.4228273630142212\n",
            "295 3320 loss - 1.5070884227752686\n",
            "295 3330 loss - 1.4022634029388428\n",
            "295 3340 loss - 1.402706503868103\n",
            "295 3350 loss - 1.1915919780731201\n",
            "295 3360 loss - 1.1573572158813477\n",
            "295 3370 loss - 1.3964684009552002\n",
            "295 3380 loss - 1.10683012008667\n",
            "295 3390 loss - 1.4197932481765747\n",
            "295 3400 loss - 1.1786783933639526\n",
            "295 3410 loss - 1.046586275100708\n",
            "295 3420 loss - 1.0694336891174316\n",
            "295 3430 loss - 1.376071810722351\n",
            "295 3440 loss - 1.1291720867156982\n",
            "295 3450 loss - 1.5477994680404663\n",
            "295 3460 loss - 1.1456063985824585\n",
            "295 3470 loss - 0.9542773365974426\n",
            "295 3480 loss - 1.275164008140564\n",
            "295 3490 loss - 1.3882791996002197\n",
            "295 3500 loss - 1.317335844039917\n",
            "295 3510 loss - 1.400597333908081\n",
            "295 3520 loss - 1.0853313207626343\n",
            "295 3530 loss - 1.707071304321289\n",
            "295 3540 loss - 1.2442184686660767\n",
            "295 3550 loss - 1.2436243295669556\n",
            "295 3560 loss - 1.2579742670059204\n",
            "295 3570 loss - 1.2011276483535767\n",
            "295 3580 loss - 1.1561038494110107\n",
            "295 3590 loss - 1.5087025165557861\n",
            "295 3600 loss - 1.624448299407959\n",
            "295 3610 loss - 1.1423742771148682\n",
            "296 0 loss - 1.3674521446228027\n",
            "296 10 loss - 1.3665852546691895\n",
            "296 20 loss - 1.4074392318725586\n",
            "296 30 loss - 1.1766921281814575\n",
            "296 40 loss - 1.1209288835525513\n",
            "296 50 loss - 1.1686019897460938\n",
            "296 60 loss - 1.299710988998413\n",
            "296 70 loss - 1.2726277112960815\n",
            "296 80 loss - 1.0685675144195557\n",
            "296 90 loss - 1.2139595746994019\n",
            "296 100 loss - 1.247214436531067\n",
            "296 110 loss - 1.12014639377594\n",
            "296 120 loss - 1.0537726879119873\n",
            "296 130 loss - 1.0356276035308838\n",
            "296 140 loss - 1.2947267293930054\n",
            "296 150 loss - 1.2882590293884277\n",
            "296 160 loss - 1.1367086172103882\n",
            "296 170 loss - 1.542432188987732\n",
            "296 180 loss - 1.3675994873046875\n",
            "296 190 loss - 1.3923730850219727\n",
            "296 200 loss - 1.3461923599243164\n",
            "296 210 loss - 1.2547953128814697\n",
            "296 220 loss - 1.1330842971801758\n",
            "296 230 loss - 1.6071361303329468\n",
            "296 240 loss - 1.4838075637817383\n",
            "296 250 loss - 1.4042500257492065\n",
            "296 260 loss - 1.3687779903411865\n",
            "296 270 loss - 1.2045453786849976\n",
            "296 280 loss - 1.4417200088500977\n",
            "296 290 loss - 0.8577959537506104\n",
            "296 300 loss - 1.04703950881958\n",
            "296 310 loss - 1.3661249876022339\n",
            "296 320 loss - 1.0506070852279663\n",
            "296 330 loss - 1.2170861959457397\n",
            "296 340 loss - 1.1868164539337158\n",
            "296 350 loss - 1.2107161283493042\n",
            "296 360 loss - 1.1041291952133179\n",
            "296 370 loss - 1.4516836404800415\n",
            "296 380 loss - 1.4669127464294434\n",
            "296 390 loss - 1.204903244972229\n",
            "296 400 loss - 1.437064290046692\n",
            "296 410 loss - 1.4238311052322388\n",
            "296 420 loss - 1.56338369846344\n",
            "296 430 loss - 1.8054710626602173\n",
            "296 440 loss - 1.5713640451431274\n",
            "296 450 loss - 1.2316824197769165\n",
            "296 460 loss - 1.3166667222976685\n",
            "296 470 loss - 1.5167911052703857\n",
            "296 480 loss - 1.1817976236343384\n",
            "296 490 loss - 1.1064757108688354\n",
            "296 500 loss - 1.6932713985443115\n",
            "296 510 loss - 1.219143033027649\n",
            "296 520 loss - 1.5023261308670044\n",
            "296 530 loss - 1.1435219049453735\n",
            "296 540 loss - 1.0557011365890503\n",
            "296 550 loss - 1.1410382986068726\n",
            "296 560 loss - 1.2691797018051147\n",
            "296 570 loss - 0.9186404347419739\n",
            "296 580 loss - 1.28410005569458\n",
            "296 590 loss - 1.3702387809753418\n",
            "296 600 loss - 1.130149483680725\n",
            "296 610 loss - 1.0025235414505005\n",
            "296 620 loss - 1.060825228691101\n",
            "296 630 loss - 1.2093595266342163\n",
            "296 640 loss - 1.1996341943740845\n",
            "296 650 loss - 1.7874574661254883\n",
            "296 660 loss - 1.2496280670166016\n",
            "296 670 loss - 1.0455878973007202\n",
            "296 680 loss - 1.3129634857177734\n",
            "296 690 loss - 1.0614994764328003\n",
            "296 700 loss - 1.5405340194702148\n",
            "296 710 loss - 1.5080723762512207\n",
            "296 720 loss - 1.4001471996307373\n",
            "296 730 loss - 1.195034146308899\n",
            "296 740 loss - 0.9644041061401367\n",
            "296 750 loss - 1.3098399639129639\n",
            "296 760 loss - 1.0244797468185425\n",
            "296 770 loss - 1.2112345695495605\n",
            "296 780 loss - 0.975992739200592\n",
            "296 790 loss - 1.3621447086334229\n",
            "296 800 loss - 1.2285568714141846\n",
            "296 810 loss - 1.1650426387786865\n",
            "296 820 loss - 1.2849297523498535\n",
            "296 830 loss - 1.281325340270996\n",
            "296 840 loss - 1.6140990257263184\n",
            "296 850 loss - 1.1322628259658813\n",
            "296 860 loss - 1.2382007837295532\n",
            "296 870 loss - 0.9227645993232727\n",
            "296 880 loss - 1.095788598060608\n",
            "296 890 loss - 1.2273370027542114\n",
            "296 900 loss - 1.1053688526153564\n",
            "296 910 loss - 1.0889121294021606\n",
            "296 920 loss - 1.126744031906128\n",
            "296 930 loss - 1.3372516632080078\n",
            "296 940 loss - 1.7049295902252197\n",
            "296 950 loss - 1.2362401485443115\n",
            "296 960 loss - 1.3620352745056152\n",
            "296 970 loss - 0.9726435542106628\n",
            "296 980 loss - 1.3468762636184692\n",
            "296 990 loss - 0.8594299554824829\n",
            "296 1000 loss - 1.4433692693710327\n",
            "296 1010 loss - 0.9182223677635193\n",
            "296 1020 loss - 1.0237305164337158\n",
            "296 1030 loss - 1.3846871852874756\n",
            "296 1040 loss - 1.0603010654449463\n",
            "296 1050 loss - 1.2001203298568726\n",
            "296 1060 loss - 1.3010594844818115\n",
            "296 1070 loss - 1.0940014123916626\n",
            "296 1080 loss - 1.354310393333435\n",
            "296 1090 loss - 1.745968222618103\n",
            "296 1100 loss - 1.2893482446670532\n",
            "296 1110 loss - 1.4626233577728271\n",
            "296 1120 loss - 1.4003567695617676\n",
            "296 1130 loss - 1.2790976762771606\n",
            "296 1140 loss - 1.20522940158844\n",
            "296 1150 loss - 1.3037707805633545\n",
            "296 1160 loss - 1.3587214946746826\n",
            "296 1170 loss - 1.1077560186386108\n",
            "296 1180 loss - 1.5320936441421509\n",
            "296 1190 loss - 1.5746759176254272\n",
            "296 1200 loss - 1.180755615234375\n",
            "296 1210 loss - 1.2141127586364746\n",
            "296 1220 loss - 1.2125345468521118\n",
            "296 1230 loss - 1.274970531463623\n",
            "296 1240 loss - 1.115646481513977\n",
            "296 1250 loss - 1.2309526205062866\n",
            "296 1260 loss - 1.4899183511734009\n",
            "296 1270 loss - 1.2603962421417236\n",
            "296 1280 loss - 1.145271897315979\n",
            "296 1290 loss - 1.1593661308288574\n",
            "296 1300 loss - 1.3411364555358887\n",
            "296 1310 loss - 1.2446575164794922\n",
            "296 1320 loss - 1.44882333278656\n",
            "296 1330 loss - 1.4509419202804565\n",
            "296 1340 loss - 1.313685655593872\n",
            "296 1350 loss - 1.4060659408569336\n",
            "296 1360 loss - 1.1755338907241821\n",
            "296 1370 loss - 1.9388837814331055\n",
            "296 1380 loss - 1.5444660186767578\n",
            "296 1390 loss - 1.072095513343811\n",
            "296 1400 loss - 1.2930529117584229\n",
            "296 1410 loss - 1.4773366451263428\n",
            "296 1420 loss - 1.0652687549591064\n",
            "296 1430 loss - 1.3443193435668945\n",
            "296 1440 loss - 1.136069893836975\n",
            "296 1450 loss - 1.6344724893569946\n",
            "296 1460 loss - 1.4988279342651367\n",
            "296 1470 loss - 1.195612907409668\n",
            "296 1480 loss - 1.3230830430984497\n",
            "296 1490 loss - 1.1582996845245361\n",
            "296 1500 loss - 1.2761932611465454\n",
            "296 1510 loss - 1.3075428009033203\n",
            "296 1520 loss - 1.3491560220718384\n",
            "296 1530 loss - 1.3423819541931152\n",
            "296 1540 loss - 1.3966972827911377\n",
            "296 1550 loss - 1.4845396280288696\n",
            "296 1560 loss - 1.1856144666671753\n",
            "296 1570 loss - 1.6550507545471191\n",
            "296 1580 loss - 1.297574758529663\n",
            "296 1590 loss - 0.9178773760795593\n",
            "296 1600 loss - 1.4279769659042358\n",
            "296 1610 loss - 1.7523930072784424\n",
            "296 1620 loss - 1.1434842348098755\n",
            "296 1630 loss - 1.1589105129241943\n",
            "296 1640 loss - 1.2812445163726807\n",
            "296 1650 loss - 1.3947068452835083\n",
            "296 1660 loss - 1.1599630117416382\n",
            "296 1670 loss - 0.9998033046722412\n",
            "296 1680 loss - 1.4077296257019043\n",
            "296 1690 loss - 1.3977874517440796\n",
            "296 1700 loss - 1.099316120147705\n",
            "296 1710 loss - 1.1586503982543945\n",
            "296 1720 loss - 1.303017497062683\n",
            "296 1730 loss - 1.0505192279815674\n",
            "296 1740 loss - 1.2464991807937622\n",
            "296 1750 loss - 1.4057756662368774\n",
            "296 1760 loss - 0.8139734268188477\n",
            "296 1770 loss - 1.2921236753463745\n",
            "296 1780 loss - 1.287533164024353\n",
            "296 1790 loss - 1.6756055355072021\n",
            "296 1800 loss - 1.2489674091339111\n",
            "296 1810 loss - 1.2206878662109375\n",
            "296 1820 loss - 1.3236637115478516\n",
            "296 1830 loss - 1.152055025100708\n",
            "296 1840 loss - 1.3145251274108887\n",
            "296 1850 loss - 1.1852116584777832\n",
            "296 1860 loss - 1.221185564994812\n",
            "296 1870 loss - 1.273282766342163\n",
            "296 1880 loss - 1.1832239627838135\n",
            "296 1890 loss - 1.6156487464904785\n",
            "296 1900 loss - 1.5885802507400513\n",
            "296 1910 loss - 0.9423320293426514\n",
            "296 1920 loss - 1.126450538635254\n",
            "296 1930 loss - 0.8125234842300415\n",
            "296 1940 loss - 1.2524758577346802\n",
            "296 1950 loss - 1.526555061340332\n",
            "296 1960 loss - 1.1761939525604248\n",
            "296 1970 loss - 1.2909568548202515\n",
            "296 1980 loss - 0.9824656248092651\n",
            "296 1990 loss - 1.6753329038619995\n",
            "296 2000 loss - 1.2121943235397339\n",
            "296 2010 loss - 1.425840973854065\n",
            "296 2020 loss - 1.430493950843811\n",
            "296 2030 loss - 1.3028769493103027\n",
            "296 2040 loss - 1.1111445426940918\n",
            "296 2050 loss - 1.1437304019927979\n",
            "296 2060 loss - 1.6516834497451782\n",
            "296 2070 loss - 1.3428188562393188\n",
            "296 2080 loss - 1.1274528503417969\n",
            "296 2090 loss - 1.1492305994033813\n",
            "296 2100 loss - 1.2305463552474976\n",
            "296 2110 loss - 1.2916312217712402\n",
            "296 2120 loss - 1.3314927816390991\n",
            "296 2130 loss - 1.186771035194397\n",
            "296 2140 loss - 1.5911074876785278\n",
            "296 2150 loss - 1.0464388132095337\n",
            "296 2160 loss - 1.3436524868011475\n",
            "296 2170 loss - 1.342355489730835\n",
            "296 2180 loss - 1.5257291793823242\n",
            "296 2190 loss - 0.8416455388069153\n",
            "296 2200 loss - 1.0438311100006104\n",
            "296 2210 loss - 1.167752742767334\n",
            "296 2220 loss - 1.607677936553955\n",
            "296 2230 loss - 0.9883156418800354\n",
            "296 2240 loss - 1.4500172138214111\n",
            "296 2250 loss - 1.2088797092437744\n",
            "296 2260 loss - 1.2632994651794434\n",
            "296 2270 loss - 1.2062277793884277\n",
            "296 2280 loss - 1.00789475440979\n",
            "296 2290 loss - 1.0138055086135864\n",
            "296 2300 loss - 1.1226726770401\n",
            "296 2310 loss - 1.101105809211731\n",
            "296 2320 loss - 1.3611618280410767\n",
            "296 2330 loss - 1.5114681720733643\n",
            "296 2340 loss - 1.18154776096344\n",
            "296 2350 loss - 1.5783640146255493\n",
            "296 2360 loss - 1.2578233480453491\n",
            "296 2370 loss - 1.054652452468872\n",
            "296 2380 loss - 1.323749303817749\n",
            "296 2390 loss - 1.2353335618972778\n",
            "296 2400 loss - 1.3079817295074463\n",
            "296 2410 loss - 1.3598239421844482\n",
            "296 2420 loss - 1.5786164999008179\n",
            "296 2430 loss - 1.170575499534607\n",
            "296 2440 loss - 1.3531278371810913\n",
            "296 2450 loss - 1.4864554405212402\n",
            "296 2460 loss - 1.3156344890594482\n",
            "296 2470 loss - 1.0968554019927979\n",
            "296 2480 loss - 1.0074098110198975\n",
            "296 2490 loss - 1.335349678993225\n",
            "296 2500 loss - 0.8757635354995728\n",
            "296 2510 loss - 1.139496922492981\n",
            "296 2520 loss - 1.3193367719650269\n",
            "296 2530 loss - 1.0791972875595093\n",
            "296 2540 loss - 1.4810080528259277\n",
            "296 2550 loss - 1.482883095741272\n",
            "296 2560 loss - 1.3401819467544556\n",
            "296 2570 loss - 1.1258798837661743\n",
            "296 2580 loss - 1.1998523473739624\n",
            "296 2590 loss - 1.0798313617706299\n",
            "296 2600 loss - 1.420862078666687\n",
            "296 2610 loss - 1.3652126789093018\n",
            "296 2620 loss - 1.2816226482391357\n",
            "296 2630 loss - 1.4804656505584717\n",
            "296 2640 loss - 1.7890194654464722\n",
            "296 2650 loss - 1.4011223316192627\n",
            "296 2660 loss - 1.2244505882263184\n",
            "296 2670 loss - 1.2953630685806274\n",
            "296 2680 loss - 1.3439339399337769\n",
            "296 2690 loss - 0.9848577976226807\n",
            "296 2700 loss - 1.087722897529602\n",
            "296 2710 loss - 1.4780110120773315\n",
            "296 2720 loss - 1.0812593698501587\n",
            "296 2730 loss - 1.0642712116241455\n",
            "296 2740 loss - 1.2110261917114258\n",
            "296 2750 loss - 1.190913438796997\n",
            "296 2760 loss - 1.295196533203125\n",
            "296 2770 loss - 1.0621564388275146\n",
            "296 2780 loss - 1.302225112915039\n",
            "296 2790 loss - 1.2364012002944946\n",
            "296 2800 loss - 1.5509449243545532\n",
            "296 2810 loss - 1.4249309301376343\n",
            "296 2820 loss - 1.2499226331710815\n",
            "296 2830 loss - 1.1478197574615479\n",
            "296 2840 loss - 1.306531310081482\n",
            "296 2850 loss - 1.1349745988845825\n",
            "296 2860 loss - 1.107591986656189\n",
            "296 2870 loss - 1.3352282047271729\n",
            "296 2880 loss - 1.713220238685608\n",
            "296 2890 loss - 1.4500796794891357\n",
            "296 2900 loss - 1.1991263628005981\n",
            "296 2910 loss - 1.1794170141220093\n",
            "296 2920 loss - 1.167454719543457\n",
            "296 2930 loss - 1.430130958557129\n",
            "296 2940 loss - 1.1735666990280151\n",
            "296 2950 loss - 1.0377883911132812\n",
            "296 2960 loss - 1.2443183660507202\n",
            "296 2970 loss - 1.2356585264205933\n",
            "296 2980 loss - 1.2547473907470703\n",
            "296 2990 loss - 1.1995022296905518\n",
            "296 3000 loss - 0.8516381978988647\n",
            "296 3010 loss - 1.3580580949783325\n",
            "296 3020 loss - 1.1783812046051025\n",
            "296 3030 loss - 1.3492552042007446\n",
            "296 3040 loss - 1.1764582395553589\n",
            "296 3050 loss - 1.3796348571777344\n",
            "296 3060 loss - 1.2251625061035156\n",
            "296 3070 loss - 1.4885468482971191\n",
            "296 3080 loss - 1.3012832403182983\n",
            "296 3090 loss - 1.3142216205596924\n",
            "296 3100 loss - 1.2330598831176758\n",
            "296 3110 loss - 1.2459160089492798\n",
            "296 3120 loss - 1.199753999710083\n",
            "296 3130 loss - 1.200883388519287\n",
            "296 3140 loss - 1.081430435180664\n",
            "296 3150 loss - 1.512026309967041\n",
            "296 3160 loss - 0.663541853427887\n",
            "296 3170 loss - 1.0899068117141724\n",
            "296 3180 loss - 1.5434179306030273\n",
            "296 3190 loss - 1.4504401683807373\n",
            "296 3200 loss - 1.6072593927383423\n",
            "296 3210 loss - 1.2636163234710693\n",
            "296 3220 loss - 1.3871663808822632\n",
            "296 3230 loss - 1.30478835105896\n",
            "296 3240 loss - 1.2654175758361816\n",
            "296 3250 loss - 1.0425316095352173\n",
            "296 3260 loss - 1.327657699584961\n",
            "296 3270 loss - 1.398868441581726\n",
            "296 3280 loss - 1.0013147592544556\n",
            "296 3290 loss - 1.8859529495239258\n",
            "296 3300 loss - 1.086940050125122\n",
            "296 3310 loss - 1.2877705097198486\n",
            "296 3320 loss - 1.1788601875305176\n",
            "296 3330 loss - 1.1646928787231445\n",
            "296 3340 loss - 1.407435655593872\n",
            "296 3350 loss - 1.3148062229156494\n",
            "296 3360 loss - 1.241593360900879\n",
            "296 3370 loss - 1.3118181228637695\n",
            "296 3380 loss - 1.152807593345642\n",
            "296 3390 loss - 1.2950115203857422\n",
            "296 3400 loss - 1.0494046211242676\n",
            "296 3410 loss - 1.3619660139083862\n",
            "296 3420 loss - 1.4398882389068604\n",
            "296 3430 loss - 1.3405503034591675\n",
            "296 3440 loss - 1.0872777700424194\n",
            "296 3450 loss - 1.2704068422317505\n",
            "296 3460 loss - 1.1610395908355713\n",
            "296 3470 loss - 1.5328233242034912\n",
            "296 3480 loss - 1.3607110977172852\n",
            "296 3490 loss - 1.2369370460510254\n",
            "296 3500 loss - 1.3652665615081787\n",
            "296 3510 loss - 0.997539222240448\n",
            "296 3520 loss - 1.2654147148132324\n",
            "296 3530 loss - 1.7756894826889038\n",
            "296 3540 loss - 1.4805673360824585\n",
            "296 3550 loss - 1.2309556007385254\n",
            "296 3560 loss - 0.8795437812805176\n",
            "296 3570 loss - 1.5640912055969238\n",
            "296 3580 loss - 1.4895637035369873\n",
            "296 3590 loss - 1.33354914188385\n",
            "296 3600 loss - 1.7903562784194946\n",
            "296 3610 loss - 1.5276529788970947\n",
            "297 0 loss - 1.6698623895645142\n",
            "297 10 loss - 1.171406626701355\n",
            "297 20 loss - 1.0485446453094482\n",
            "297 30 loss - 1.5700311660766602\n",
            "297 40 loss - 1.4892380237579346\n",
            "297 50 loss - 1.3540031909942627\n",
            "297 60 loss - 1.304460048675537\n",
            "297 70 loss - 1.133242130279541\n",
            "297 80 loss - 1.4335471391677856\n",
            "297 90 loss - 1.2992513179779053\n",
            "297 100 loss - 0.937038242816925\n",
            "297 110 loss - 1.0229960680007935\n",
            "297 120 loss - 1.538156509399414\n",
            "297 130 loss - 1.0730950832366943\n",
            "297 140 loss - 1.2315030097961426\n",
            "297 150 loss - 1.2459150552749634\n",
            "297 160 loss - 1.480308175086975\n",
            "297 170 loss - 1.8635398149490356\n",
            "297 180 loss - 1.4564248323440552\n",
            "297 190 loss - 1.1387618780136108\n",
            "297 200 loss - 1.2381067276000977\n",
            "297 210 loss - 1.536665678024292\n",
            "297 220 loss - 1.5969074964523315\n",
            "297 230 loss - 1.4801026582717896\n",
            "297 240 loss - 1.2987143993377686\n",
            "297 250 loss - 1.3176686763763428\n",
            "297 260 loss - 1.0896042585372925\n",
            "297 270 loss - 1.204107403755188\n",
            "297 280 loss - 0.9756299257278442\n",
            "297 290 loss - 1.6571377515792847\n",
            "297 300 loss - 1.323946475982666\n",
            "297 310 loss - 1.3546702861785889\n",
            "297 320 loss - 1.0894403457641602\n",
            "297 330 loss - 1.2852979898452759\n",
            "297 340 loss - 1.687327265739441\n",
            "297 350 loss - 1.3205012083053589\n",
            "297 360 loss - 1.5093506574630737\n",
            "297 370 loss - 1.5820955038070679\n",
            "297 380 loss - 1.0451632738113403\n",
            "297 390 loss - 1.2299526929855347\n",
            "297 400 loss - 1.2792446613311768\n",
            "297 410 loss - 1.0313184261322021\n",
            "297 420 loss - 1.073585033416748\n",
            "297 430 loss - 1.2184906005859375\n",
            "297 440 loss - 1.1676907539367676\n",
            "297 450 loss - 1.8543590307235718\n",
            "297 460 loss - 1.2913275957107544\n",
            "297 470 loss - 0.9654715657234192\n",
            "297 480 loss - 1.0977239608764648\n",
            "297 490 loss - 1.2849395275115967\n",
            "297 500 loss - 1.4019349813461304\n",
            "297 510 loss - 1.6564011573791504\n",
            "297 520 loss - 1.4355484247207642\n",
            "297 530 loss - 1.480486512184143\n",
            "297 540 loss - 1.448102355003357\n",
            "297 550 loss - 1.4656482934951782\n",
            "297 560 loss - 1.5080969333648682\n",
            "297 570 loss - 1.425133466720581\n",
            "297 580 loss - 1.115871787071228\n",
            "297 590 loss - 1.4259964227676392\n",
            "297 600 loss - 1.1630069017410278\n",
            "297 610 loss - 1.3494372367858887\n",
            "297 620 loss - 1.5666518211364746\n",
            "297 630 loss - 1.164005994796753\n",
            "297 640 loss - 1.1600744724273682\n",
            "297 650 loss - 1.1454800367355347\n",
            "297 660 loss - 1.4002435207366943\n",
            "297 670 loss - 1.3813027143478394\n",
            "297 680 loss - 1.351908802986145\n",
            "297 690 loss - 1.1918585300445557\n",
            "297 700 loss - 1.5280617475509644\n",
            "297 710 loss - 1.3472453355789185\n",
            "297 720 loss - 1.618862509727478\n",
            "297 730 loss - 1.4229387044906616\n",
            "297 740 loss - 1.5706442594528198\n",
            "297 750 loss - 1.7717509269714355\n",
            "297 760 loss - 1.1586462259292603\n",
            "297 770 loss - 0.9870971441268921\n",
            "297 780 loss - 1.529295563697815\n",
            "297 790 loss - 1.373648762702942\n",
            "297 800 loss - 1.3964364528656006\n",
            "297 810 loss - 1.2783044576644897\n",
            "297 820 loss - 1.0992069244384766\n",
            "297 830 loss - 0.8083070516586304\n",
            "297 840 loss - 1.2994798421859741\n",
            "297 850 loss - 1.2234938144683838\n",
            "297 860 loss - 1.2496439218521118\n",
            "297 870 loss - 1.5056947469711304\n",
            "297 880 loss - 1.323274850845337\n",
            "297 890 loss - 1.4698727130889893\n",
            "297 900 loss - 1.6096186637878418\n",
            "297 910 loss - 1.5382215976715088\n",
            "297 920 loss - 1.4088613986968994\n",
            "297 930 loss - 0.9999860525131226\n",
            "297 940 loss - 1.4715540409088135\n",
            "297 950 loss - 1.0743141174316406\n",
            "297 960 loss - 1.3337334394454956\n",
            "297 970 loss - 1.2156027555465698\n",
            "297 980 loss - 1.050964593887329\n",
            "297 990 loss - 1.0238651037216187\n",
            "297 1000 loss - 1.284282922744751\n",
            "297 1010 loss - 1.2476351261138916\n",
            "297 1020 loss - 1.2245041131973267\n",
            "297 1030 loss - 1.4137852191925049\n",
            "297 1040 loss - 1.263017177581787\n",
            "297 1050 loss - 1.326002597808838\n",
            "297 1060 loss - 1.4361984729766846\n",
            "297 1070 loss - 1.1006815433502197\n",
            "297 1080 loss - 1.335516095161438\n",
            "297 1090 loss - 1.2177921533584595\n",
            "297 1100 loss - 0.9945924878120422\n",
            "297 1110 loss - 1.48952054977417\n",
            "297 1120 loss - 1.5920497179031372\n",
            "297 1130 loss - 1.0450994968414307\n",
            "297 1140 loss - 1.2567967176437378\n",
            "297 1150 loss - 1.263838768005371\n",
            "297 1160 loss - 1.4335225820541382\n",
            "297 1170 loss - 1.4170434474945068\n",
            "297 1180 loss - 1.3389405012130737\n",
            "297 1190 loss - 1.4819997549057007\n",
            "297 1200 loss - 1.3455332517623901\n",
            "297 1210 loss - 1.4385768175125122\n",
            "297 1220 loss - 1.2712692022323608\n",
            "297 1230 loss - 1.003925085067749\n",
            "297 1240 loss - 1.584640383720398\n",
            "297 1250 loss - 1.1593111753463745\n",
            "297 1260 loss - 1.4414538145065308\n",
            "297 1270 loss - 1.392226219177246\n",
            "297 1280 loss - 1.3841739892959595\n",
            "297 1290 loss - 1.3581914901733398\n",
            "297 1300 loss - 1.3038946390151978\n",
            "297 1310 loss - 1.3621512651443481\n",
            "297 1320 loss - 1.1527032852172852\n",
            "297 1330 loss - 0.9048089981079102\n",
            "297 1340 loss - 1.2172185182571411\n",
            "297 1350 loss - 1.2378355264663696\n",
            "297 1360 loss - 1.4523502588272095\n",
            "297 1370 loss - 1.212989330291748\n",
            "297 1380 loss - 1.4250164031982422\n",
            "297 1390 loss - 1.1770397424697876\n",
            "297 1400 loss - 1.2194920778274536\n",
            "297 1410 loss - 1.3672325611114502\n",
            "297 1420 loss - 1.3794660568237305\n",
            "297 1430 loss - 1.2682758569717407\n",
            "297 1440 loss - 1.162340760231018\n",
            "297 1450 loss - 1.41950261592865\n",
            "297 1460 loss - 1.531615972518921\n",
            "297 1470 loss - 1.170597791671753\n",
            "297 1480 loss - 1.2943618297576904\n",
            "297 1490 loss - 1.2858787775039673\n",
            "297 1500 loss - 1.306254267692566\n",
            "297 1510 loss - 1.1106772422790527\n",
            "297 1520 loss - 0.9947739839553833\n",
            "297 1530 loss - 1.2456108331680298\n",
            "297 1540 loss - 1.0858488082885742\n",
            "297 1550 loss - 1.1649391651153564\n",
            "297 1560 loss - 1.1220306158065796\n",
            "297 1570 loss - 1.3486278057098389\n",
            "297 1580 loss - 1.227101445198059\n",
            "297 1590 loss - 1.3024778366088867\n",
            "297 1600 loss - 1.2212289571762085\n",
            "297 1610 loss - 1.0643552541732788\n",
            "297 1620 loss - 1.1952069997787476\n",
            "297 1630 loss - 1.1565639972686768\n",
            "297 1640 loss - 1.3915348052978516\n",
            "297 1650 loss - 1.4135093688964844\n",
            "297 1660 loss - 1.0765182971954346\n",
            "297 1670 loss - 1.3083269596099854\n",
            "297 1680 loss - 1.0416783094406128\n",
            "297 1690 loss - 1.607897162437439\n",
            "297 1700 loss - 1.0488884449005127\n",
            "297 1710 loss - 1.0362112522125244\n",
            "297 1720 loss - 1.3870705366134644\n",
            "297 1730 loss - 1.32844078540802\n",
            "297 1740 loss - 1.3624615669250488\n",
            "297 1750 loss - 1.4388633966445923\n",
            "297 1760 loss - 1.5473984479904175\n",
            "297 1770 loss - 1.523282766342163\n",
            "297 1780 loss - 1.286190390586853\n",
            "297 1790 loss - 1.2015913724899292\n",
            "297 1800 loss - 1.2652614116668701\n",
            "297 1810 loss - 1.3623387813568115\n",
            "297 1820 loss - 1.3000032901763916\n",
            "297 1830 loss - 1.0365294218063354\n",
            "297 1840 loss - 0.8219098448753357\n",
            "297 1850 loss - 1.5849997997283936\n",
            "297 1860 loss - 1.3869798183441162\n",
            "297 1870 loss - 1.0212739706039429\n",
            "297 1880 loss - 1.0835237503051758\n",
            "297 1890 loss - 1.09870183467865\n",
            "297 1900 loss - 1.118186354637146\n",
            "297 1910 loss - 1.5143485069274902\n",
            "297 1920 loss - 1.1339292526245117\n",
            "297 1930 loss - 1.0978507995605469\n",
            "297 1940 loss - 1.5562347173690796\n",
            "297 1950 loss - 1.3366848230361938\n",
            "297 1960 loss - 1.5244454145431519\n",
            "297 1970 loss - 1.2151687145233154\n",
            "297 1980 loss - 1.4393900632858276\n",
            "297 1990 loss - 1.2763978242874146\n",
            "297 2000 loss - 1.4381235837936401\n",
            "297 2010 loss - 1.0506782531738281\n",
            "297 2020 loss - 1.1187639236450195\n",
            "297 2030 loss - 1.2623555660247803\n",
            "297 2040 loss - 1.3747813701629639\n",
            "297 2050 loss - 1.257355809211731\n",
            "297 2060 loss - 1.1437996625900269\n",
            "297 2070 loss - 1.6171637773513794\n",
            "297 2080 loss - 1.4766743183135986\n",
            "297 2090 loss - 0.9869940280914307\n",
            "297 2100 loss - 1.2266730070114136\n",
            "297 2110 loss - 1.4552810192108154\n",
            "297 2120 loss - 1.1876449584960938\n",
            "297 2130 loss - 1.3258033990859985\n",
            "297 2140 loss - 1.4516456127166748\n",
            "297 2150 loss - 1.4743293523788452\n",
            "297 2160 loss - 1.4621727466583252\n",
            "297 2170 loss - 1.064495325088501\n",
            "297 2180 loss - 0.9801467061042786\n",
            "297 2190 loss - 1.4431737661361694\n",
            "297 2200 loss - 1.3454177379608154\n",
            "297 2210 loss - 1.2695739269256592\n",
            "297 2220 loss - 1.784769058227539\n",
            "297 2230 loss - 1.5741117000579834\n",
            "297 2240 loss - 1.1630277633666992\n",
            "297 2250 loss - 1.5972845554351807\n",
            "297 2260 loss - 1.3073811531066895\n",
            "297 2270 loss - 1.21867036819458\n",
            "297 2280 loss - 1.3113598823547363\n",
            "297 2290 loss - 1.0553871393203735\n",
            "297 2300 loss - 1.5259029865264893\n",
            "297 2310 loss - 1.251510500907898\n",
            "297 2320 loss - 1.4027361869812012\n",
            "297 2330 loss - 1.4369124174118042\n",
            "297 2340 loss - 1.3113772869110107\n",
            "297 2350 loss - 1.5745265483856201\n",
            "297 2360 loss - 1.318467617034912\n",
            "297 2370 loss - 1.3843226432800293\n",
            "297 2380 loss - 1.2468681335449219\n",
            "297 2390 loss - 1.4616020917892456\n",
            "297 2400 loss - 1.47147798538208\n",
            "297 2410 loss - 1.2284271717071533\n",
            "297 2420 loss - 1.4149733781814575\n",
            "297 2430 loss - 1.5366921424865723\n",
            "297 2440 loss - 1.247153401374817\n",
            "297 2450 loss - 1.527969479560852\n",
            "297 2460 loss - 1.235437273979187\n",
            "297 2470 loss - 1.387711763381958\n",
            "297 2480 loss - 1.2046763896942139\n",
            "297 2490 loss - 1.518837809562683\n",
            "297 2500 loss - 1.5024727582931519\n",
            "297 2510 loss - 1.3965107202529907\n",
            "297 2520 loss - 1.5291640758514404\n",
            "297 2530 loss - 1.2530380487442017\n",
            "297 2540 loss - 1.5765577554702759\n",
            "297 2550 loss - 1.4500484466552734\n",
            "297 2560 loss - 1.5408859252929688\n",
            "297 2570 loss - 1.899374008178711\n",
            "297 2580 loss - 1.3232898712158203\n",
            "297 2590 loss - 1.3103556632995605\n",
            "297 2600 loss - 1.3017452955245972\n",
            "297 2610 loss - 0.9931290149688721\n",
            "297 2620 loss - 1.1202754974365234\n",
            "297 2630 loss - 1.3432927131652832\n",
            "297 2640 loss - 1.1291816234588623\n",
            "297 2650 loss - 1.0152174234390259\n",
            "297 2660 loss - 1.2805225849151611\n",
            "297 2670 loss - 1.395480990409851\n",
            "297 2680 loss - 1.2105830907821655\n",
            "297 2690 loss - 1.3039040565490723\n",
            "297 2700 loss - 1.0482951402664185\n",
            "297 2710 loss - 1.1942962408065796\n",
            "297 2720 loss - 1.3341197967529297\n",
            "297 2730 loss - 1.431483507156372\n",
            "297 2740 loss - 1.0246570110321045\n",
            "297 2750 loss - 1.4006922245025635\n",
            "297 2760 loss - 1.4534965753555298\n",
            "297 2770 loss - 1.2182247638702393\n",
            "297 2780 loss - 1.1618326902389526\n",
            "297 2790 loss - 1.1349706649780273\n",
            "297 2800 loss - 1.1994305849075317\n",
            "297 2810 loss - 1.0294382572174072\n",
            "297 2820 loss - 1.2482364177703857\n",
            "297 2830 loss - 1.4216649532318115\n",
            "297 2840 loss - 1.1167813539505005\n",
            "297 2850 loss - 1.3411633968353271\n",
            "297 2860 loss - 1.2864233255386353\n",
            "297 2870 loss - 1.5139182806015015\n",
            "297 2880 loss - 1.523507833480835\n",
            "297 2890 loss - 1.0722068548202515\n",
            "297 2900 loss - 1.1751354932785034\n",
            "297 2910 loss - 1.3742116689682007\n",
            "297 2920 loss - 1.290099859237671\n",
            "297 2930 loss - 1.447796106338501\n",
            "297 2940 loss - 1.203297734260559\n",
            "297 2950 loss - 1.1394110918045044\n",
            "297 2960 loss - 1.257646083831787\n",
            "297 2970 loss - 1.3102303743362427\n",
            "297 2980 loss - 1.279945969581604\n",
            "297 2990 loss - 1.6771396398544312\n",
            "297 3000 loss - 1.393999457359314\n",
            "297 3010 loss - 1.1183640956878662\n",
            "297 3020 loss - 1.2347332239151\n",
            "297 3030 loss - 1.2320014238357544\n",
            "297 3040 loss - 1.534247636795044\n",
            "297 3050 loss - 1.4064019918441772\n",
            "297 3060 loss - 1.1939973831176758\n",
            "297 3070 loss - 1.3213552236557007\n",
            "297 3080 loss - 1.4048593044281006\n",
            "297 3090 loss - 0.9349200129508972\n",
            "297 3100 loss - 1.1476473808288574\n",
            "297 3110 loss - 1.1003130674362183\n",
            "297 3120 loss - 1.1709150075912476\n",
            "297 3130 loss - 1.2363390922546387\n",
            "297 3140 loss - 1.4290927648544312\n",
            "297 3150 loss - 1.053839921951294\n",
            "297 3160 loss - 1.503982663154602\n",
            "297 3170 loss - 0.9978055357933044\n",
            "297 3180 loss - 0.8686256408691406\n",
            "297 3190 loss - 1.0412033796310425\n",
            "297 3200 loss - 1.3410385847091675\n",
            "297 3210 loss - 1.5899043083190918\n",
            "297 3220 loss - 1.3244450092315674\n",
            "297 3230 loss - 1.1920455694198608\n",
            "297 3240 loss - 0.8567143678665161\n",
            "297 3250 loss - 1.4262415170669556\n",
            "297 3260 loss - 1.2920562028884888\n",
            "297 3270 loss - 1.3694939613342285\n",
            "297 3280 loss - 1.2195789813995361\n",
            "297 3290 loss - 1.3722635507583618\n",
            "297 3300 loss - 1.2040599584579468\n",
            "297 3310 loss - 1.3972208499908447\n",
            "297 3320 loss - 1.3080198764801025\n",
            "297 3330 loss - 1.0483291149139404\n",
            "297 3340 loss - 1.2964744567871094\n",
            "297 3350 loss - 1.2701016664505005\n",
            "297 3360 loss - 1.3942697048187256\n",
            "297 3370 loss - 1.0458401441574097\n",
            "297 3380 loss - 1.2926846742630005\n",
            "297 3390 loss - 1.2744193077087402\n",
            "297 3400 loss - 0.9012703895568848\n",
            "297 3410 loss - 1.188939094543457\n",
            "297 3420 loss - 1.0125861167907715\n",
            "297 3430 loss - 1.4966262578964233\n",
            "297 3440 loss - 1.3082448244094849\n",
            "297 3450 loss - 1.084313988685608\n",
            "297 3460 loss - 1.1125608682632446\n",
            "297 3470 loss - 1.3939050436019897\n",
            "297 3480 loss - 1.2776141166687012\n",
            "297 3490 loss - 1.1087018251419067\n",
            "297 3500 loss - 1.4635140895843506\n",
            "297 3510 loss - 1.1431490182876587\n",
            "297 3520 loss - 1.0791409015655518\n",
            "297 3530 loss - 0.8891265392303467\n",
            "297 3540 loss - 1.5850777626037598\n",
            "297 3550 loss - 0.8539712429046631\n",
            "297 3560 loss - 1.3335262537002563\n",
            "297 3570 loss - 1.2507984638214111\n",
            "297 3580 loss - 1.0626447200775146\n",
            "297 3590 loss - 1.5253592729568481\n",
            "297 3600 loss - 1.2858028411865234\n",
            "297 3610 loss - 1.1768437623977661\n",
            "298 0 loss - 1.466640830039978\n",
            "298 10 loss - 1.1076453924179077\n",
            "298 20 loss - 1.7975443601608276\n",
            "298 30 loss - 1.153327226638794\n",
            "298 40 loss - 1.297155737876892\n",
            "298 50 loss - 1.5187537670135498\n",
            "298 60 loss - 1.059375524520874\n",
            "298 70 loss - 1.3515533208847046\n",
            "298 80 loss - 1.4254542589187622\n",
            "298 90 loss - 1.6850879192352295\n",
            "298 100 loss - 1.2978845834732056\n",
            "298 110 loss - 1.292840838432312\n",
            "298 120 loss - 1.1274793148040771\n",
            "298 130 loss - 1.8291834592819214\n",
            "298 140 loss - 1.5418773889541626\n",
            "298 150 loss - 1.4815585613250732\n",
            "298 160 loss - 1.2801122665405273\n",
            "298 170 loss - 1.3881301879882812\n",
            "298 180 loss - 1.6501471996307373\n",
            "298 190 loss - 0.8018649220466614\n",
            "298 200 loss - 1.4356151819229126\n",
            "298 210 loss - 1.3072404861450195\n",
            "298 220 loss - 0.9413583874702454\n",
            "298 230 loss - 1.2890310287475586\n",
            "298 240 loss - 1.2022355794906616\n",
            "298 250 loss - 1.0989930629730225\n",
            "298 260 loss - 1.5955638885498047\n",
            "298 270 loss - 1.2234300374984741\n",
            "298 280 loss - 1.421096920967102\n",
            "298 290 loss - 1.388049602508545\n",
            "298 300 loss - 1.239844560623169\n",
            "298 310 loss - 1.51876962184906\n",
            "298 320 loss - 1.294835090637207\n",
            "298 330 loss - 1.1050527095794678\n",
            "298 340 loss - 1.491407036781311\n",
            "298 350 loss - 1.5578500032424927\n",
            "298 360 loss - 1.231245517730713\n",
            "298 370 loss - 0.9975203275680542\n",
            "298 380 loss - 1.568780779838562\n",
            "298 390 loss - 1.8125863075256348\n",
            "298 400 loss - 1.3491376638412476\n",
            "298 410 loss - 1.2768690586090088\n",
            "298 420 loss - 1.2666434049606323\n",
            "298 430 loss - 1.2216728925704956\n",
            "298 440 loss - 1.2013243436813354\n",
            "298 450 loss - 1.3897879123687744\n",
            "298 460 loss - 1.2965892553329468\n",
            "298 470 loss - 1.7209415435791016\n",
            "298 480 loss - 1.6349167823791504\n",
            "298 490 loss - 1.8663253784179688\n",
            "298 500 loss - 1.498562216758728\n",
            "298 510 loss - 1.143203616142273\n",
            "298 520 loss - 1.0979365110397339\n",
            "298 530 loss - 0.9409768581390381\n",
            "298 540 loss - 1.1311407089233398\n",
            "298 550 loss - 1.199806809425354\n",
            "298 560 loss - 1.518824815750122\n",
            "298 570 loss - 1.140997052192688\n",
            "298 580 loss - 1.5502431392669678\n",
            "298 590 loss - 1.248795509338379\n",
            "298 600 loss - 1.2623133659362793\n",
            "298 610 loss - 1.0166559219360352\n",
            "298 620 loss - 1.8743597269058228\n",
            "298 630 loss - 1.0749895572662354\n",
            "298 640 loss - 1.051146149635315\n",
            "298 650 loss - 1.4438276290893555\n",
            "298 660 loss - 1.3883171081542969\n",
            "298 670 loss - 1.3390458822250366\n",
            "298 680 loss - 1.3673352003097534\n",
            "298 690 loss - 1.4985876083374023\n",
            "298 700 loss - 1.2153149843215942\n",
            "298 710 loss - 1.4856131076812744\n",
            "298 720 loss - 1.3293306827545166\n",
            "298 730 loss - 1.340396761894226\n",
            "298 740 loss - 1.2667664289474487\n",
            "298 750 loss - 1.3388159275054932\n",
            "298 760 loss - 1.4210158586502075\n",
            "298 770 loss - 1.471265435218811\n",
            "298 780 loss - 1.2328139543533325\n",
            "298 790 loss - 1.5759233236312866\n",
            "298 800 loss - 1.7247806787490845\n",
            "298 810 loss - 1.4200738668441772\n",
            "298 820 loss - 1.1816304922103882\n",
            "298 830 loss - 1.211564540863037\n",
            "298 840 loss - 1.385380506515503\n",
            "298 850 loss - 1.5976659059524536\n",
            "298 860 loss - 1.4273333549499512\n",
            "298 870 loss - 1.4583293199539185\n",
            "298 880 loss - 1.0978935956954956\n",
            "298 890 loss - 1.3318349123001099\n",
            "298 900 loss - 1.2110652923583984\n",
            "298 910 loss - 1.7696090936660767\n",
            "298 920 loss - 1.3777246475219727\n",
            "298 930 loss - 1.2804220914840698\n",
            "298 940 loss - 1.6584441661834717\n",
            "298 950 loss - 1.4874194860458374\n",
            "298 960 loss - 1.29824697971344\n",
            "298 970 loss - 1.5322949886322021\n",
            "298 980 loss - 1.1908009052276611\n",
            "298 990 loss - 1.1678224802017212\n",
            "298 1000 loss - 1.2766976356506348\n",
            "298 1010 loss - 1.1968683004379272\n",
            "298 1020 loss - 1.3132591247558594\n",
            "298 1030 loss - 1.6160006523132324\n",
            "298 1040 loss - 1.239012598991394\n",
            "298 1050 loss - 1.3138970136642456\n",
            "298 1060 loss - 1.3333975076675415\n",
            "298 1070 loss - 1.3930000066757202\n",
            "298 1080 loss - 1.5938113927841187\n",
            "298 1090 loss - 1.199326515197754\n",
            "298 1100 loss - 1.7260152101516724\n",
            "298 1110 loss - 1.1447341442108154\n",
            "298 1120 loss - 1.274268388748169\n",
            "298 1130 loss - 1.358364224433899\n",
            "298 1140 loss - 1.2305023670196533\n",
            "298 1150 loss - 1.1919617652893066\n",
            "298 1160 loss - 1.0107667446136475\n",
            "298 1170 loss - 1.2830227613449097\n",
            "298 1180 loss - 1.229108452796936\n",
            "298 1190 loss - 1.3877134323120117\n",
            "298 1200 loss - 1.3298795223236084\n",
            "298 1210 loss - 1.2637059688568115\n",
            "298 1220 loss - 1.081281304359436\n",
            "298 1230 loss - 1.0764427185058594\n",
            "298 1240 loss - 1.3400977849960327\n",
            "298 1250 loss - 1.2072826623916626\n",
            "298 1260 loss - 0.8580840229988098\n",
            "298 1270 loss - 1.0585074424743652\n",
            "298 1280 loss - 1.2048789262771606\n",
            "298 1290 loss - 1.3768694400787354\n",
            "298 1300 loss - 1.399122953414917\n",
            "298 1310 loss - 1.1814411878585815\n",
            "298 1320 loss - 1.355070948600769\n",
            "298 1330 loss - 1.7281455993652344\n",
            "298 1340 loss - 0.9375702142715454\n",
            "298 1350 loss - 1.2234288454055786\n",
            "298 1360 loss - 1.439482569694519\n",
            "298 1370 loss - 1.3679922819137573\n",
            "298 1380 loss - 1.3453508615493774\n",
            "298 1390 loss - 0.9241006970405579\n",
            "298 1400 loss - 1.0778549909591675\n",
            "298 1410 loss - 1.26259446144104\n",
            "298 1420 loss - 1.2483583688735962\n",
            "298 1430 loss - 1.0408132076263428\n",
            "298 1440 loss - 1.073729157447815\n",
            "298 1450 loss - 1.4627972841262817\n",
            "298 1460 loss - 1.6690067052841187\n",
            "298 1470 loss - 1.199953556060791\n",
            "298 1480 loss - 1.2854890823364258\n",
            "298 1490 loss - 1.3940876722335815\n",
            "298 1500 loss - 0.9757625460624695\n",
            "298 1510 loss - 1.1605920791625977\n",
            "298 1520 loss - 1.306886076927185\n",
            "298 1530 loss - 1.3593652248382568\n",
            "298 1540 loss - 1.2855638265609741\n",
            "298 1550 loss - 1.1717454195022583\n",
            "298 1560 loss - 0.812084436416626\n",
            "298 1570 loss - 1.318657636642456\n",
            "298 1580 loss - 1.292820930480957\n",
            "298 1590 loss - 1.0180119276046753\n",
            "298 1600 loss - 1.4223079681396484\n",
            "298 1610 loss - 1.143505334854126\n",
            "298 1620 loss - 1.1983789205551147\n",
            "298 1630 loss - 1.500775933265686\n",
            "298 1640 loss - 1.2377305030822754\n",
            "298 1650 loss - 1.1920981407165527\n",
            "298 1660 loss - 1.3246692419052124\n",
            "298 1670 loss - 1.3967405557632446\n",
            "298 1680 loss - 1.391090750694275\n",
            "298 1690 loss - 1.2225539684295654\n",
            "298 1700 loss - 1.6325629949569702\n",
            "298 1710 loss - 1.0981031656265259\n",
            "298 1720 loss - 1.6084415912628174\n",
            "298 1730 loss - 1.0426833629608154\n",
            "298 1740 loss - 1.7817301750183105\n",
            "298 1750 loss - 1.0703508853912354\n",
            "298 1760 loss - 1.2374190092086792\n",
            "298 1770 loss - 1.3217347860336304\n",
            "298 1780 loss - 1.577539086341858\n",
            "298 1790 loss - 1.4585824012756348\n",
            "298 1800 loss - 1.444382905960083\n",
            "298 1810 loss - 1.121097445487976\n",
            "298 1820 loss - 0.9932670593261719\n",
            "298 1830 loss - 1.0859239101409912\n",
            "298 1840 loss - 1.142667531967163\n",
            "298 1850 loss - 1.2970523834228516\n",
            "298 1860 loss - 1.1192706823349\n",
            "298 1870 loss - 1.266491413116455\n",
            "298 1880 loss - 1.3943384885787964\n",
            "298 1890 loss - 0.7984699606895447\n",
            "298 1900 loss - 0.9668208956718445\n",
            "298 1910 loss - 1.403974175453186\n",
            "298 1920 loss - 1.3230137825012207\n",
            "298 1930 loss - 1.189269781112671\n",
            "298 1940 loss - 1.3473447561264038\n",
            "298 1950 loss - 1.3900319337844849\n",
            "298 1960 loss - 1.0733530521392822\n",
            "298 1970 loss - 1.3805832862854004\n",
            "298 1980 loss - 1.200385332107544\n",
            "298 1990 loss - 1.567699670791626\n",
            "298 2000 loss - 1.1964167356491089\n",
            "298 2010 loss - 1.1131936311721802\n",
            "298 2020 loss - 1.4462864398956299\n",
            "298 2030 loss - 1.6327458620071411\n",
            "298 2040 loss - 1.7795010805130005\n",
            "298 2050 loss - 1.710239052772522\n",
            "298 2060 loss - 1.2579677104949951\n",
            "298 2070 loss - 1.4482033252716064\n",
            "298 2080 loss - 1.6577677726745605\n",
            "298 2090 loss - 1.4033427238464355\n",
            "298 2100 loss - 1.4315035343170166\n",
            "298 2110 loss - 1.055311918258667\n",
            "298 2120 loss - 1.0602257251739502\n",
            "298 2130 loss - 1.3552247285842896\n",
            "298 2140 loss - 0.945465624332428\n",
            "298 2150 loss - 1.1823140382766724\n",
            "298 2160 loss - 1.5184879302978516\n",
            "298 2170 loss - 1.1404324769973755\n",
            "298 2180 loss - 1.3252477645874023\n",
            "298 2190 loss - 1.3102498054504395\n",
            "298 2200 loss - 1.4007874727249146\n",
            "298 2210 loss - 1.332184910774231\n",
            "298 2220 loss - 1.1470602750778198\n",
            "298 2230 loss - 1.4680509567260742\n",
            "298 2240 loss - 1.2545170783996582\n",
            "298 2250 loss - 1.1798889636993408\n",
            "298 2260 loss - 1.3672852516174316\n",
            "298 2270 loss - 1.6116204261779785\n",
            "298 2280 loss - 1.2865206003189087\n",
            "298 2290 loss - 1.517656922340393\n",
            "298 2300 loss - 1.1985080242156982\n",
            "298 2310 loss - 1.355887770652771\n",
            "298 2320 loss - 1.2032772302627563\n",
            "298 2330 loss - 1.0740578174591064\n",
            "298 2340 loss - 1.5984164476394653\n",
            "298 2350 loss - 1.276617407798767\n",
            "298 2360 loss - 1.339956283569336\n",
            "298 2370 loss - 1.39474618434906\n",
            "298 2380 loss - 1.334342360496521\n",
            "298 2390 loss - 0.9261481761932373\n",
            "298 2400 loss - 1.3858652114868164\n",
            "298 2410 loss - 1.1198999881744385\n",
            "298 2420 loss - 1.259145975112915\n",
            "298 2430 loss - 1.3774875402450562\n",
            "298 2440 loss - 1.2427126169204712\n",
            "298 2450 loss - 1.5412315130233765\n",
            "298 2460 loss - 1.3349651098251343\n",
            "298 2470 loss - 1.2329553365707397\n",
            "298 2480 loss - 0.9102996587753296\n",
            "298 2490 loss - 1.0148756504058838\n",
            "298 2500 loss - 1.5956801176071167\n",
            "298 2510 loss - 1.1798417568206787\n",
            "298 2520 loss - 1.3802080154418945\n",
            "298 2530 loss - 1.0542197227478027\n",
            "298 2540 loss - 1.332075834274292\n",
            "298 2550 loss - 1.4190402030944824\n",
            "298 2560 loss - 1.520869493484497\n",
            "298 2570 loss - 1.9253599643707275\n",
            "298 2580 loss - 1.165148377418518\n",
            "298 2590 loss - 1.1823233366012573\n",
            "298 2600 loss - 1.43170166015625\n",
            "298 2610 loss - 1.2639106512069702\n",
            "298 2620 loss - 1.4463043212890625\n",
            "298 2630 loss - 1.4422205686569214\n",
            "298 2640 loss - 1.8229596614837646\n",
            "298 2650 loss - 1.37520170211792\n",
            "298 2660 loss - 1.1076300144195557\n",
            "298 2670 loss - 1.6777104139328003\n",
            "298 2680 loss - 1.0712019205093384\n",
            "298 2690 loss - 1.0547603368759155\n",
            "298 2700 loss - 0.9913182258605957\n",
            "298 2710 loss - 0.9093210697174072\n",
            "298 2720 loss - 1.1344428062438965\n",
            "298 2730 loss - 1.0579814910888672\n",
            "298 2740 loss - 1.2609156370162964\n",
            "298 2750 loss - 1.2363438606262207\n",
            "298 2760 loss - 1.3219983577728271\n",
            "298 2770 loss - 1.3454533815383911\n",
            "298 2780 loss - 1.3594317436218262\n",
            "298 2790 loss - 1.241609811782837\n",
            "298 2800 loss - 1.3272136449813843\n",
            "298 2810 loss - 1.1457267999649048\n",
            "298 2820 loss - 1.4823471307754517\n",
            "298 2830 loss - 1.475134253501892\n",
            "298 2840 loss - 1.8410112857818604\n",
            "298 2850 loss - 1.5413914918899536\n",
            "298 2860 loss - 1.5404777526855469\n",
            "298 2870 loss - 1.4724082946777344\n",
            "298 2880 loss - 1.195393681526184\n",
            "298 2890 loss - 1.657546043395996\n",
            "298 2900 loss - 1.3004319667816162\n",
            "298 2910 loss - 1.1438658237457275\n",
            "298 2920 loss - 1.3342487812042236\n",
            "298 2930 loss - 1.239011287689209\n",
            "298 2940 loss - 1.0464037656784058\n",
            "298 2950 loss - 1.3077232837677002\n",
            "298 2960 loss - 1.9269869327545166\n",
            "298 2970 loss - 1.4613901376724243\n",
            "298 2980 loss - 1.445267915725708\n",
            "298 2990 loss - 1.272434949874878\n",
            "298 3000 loss - 1.467545509338379\n",
            "298 3010 loss - 1.2498879432678223\n",
            "298 3020 loss - 1.3610484600067139\n",
            "298 3030 loss - 1.7760274410247803\n",
            "298 3040 loss - 1.6342401504516602\n",
            "298 3050 loss - 1.645498275756836\n",
            "298 3060 loss - 1.0184651613235474\n",
            "298 3070 loss - 1.1406855583190918\n",
            "298 3080 loss - 1.5519946813583374\n",
            "298 3090 loss - 1.3131613731384277\n",
            "298 3100 loss - 1.131844401359558\n",
            "298 3110 loss - 1.2873417139053345\n",
            "298 3120 loss - 1.23006010055542\n",
            "298 3130 loss - 0.922511100769043\n",
            "298 3140 loss - 1.2105093002319336\n",
            "298 3150 loss - 1.0809606313705444\n",
            "298 3160 loss - 1.2652119398117065\n",
            "298 3170 loss - 1.1937824487686157\n",
            "298 3180 loss - 1.3493930101394653\n",
            "298 3190 loss - 1.3929024934768677\n",
            "298 3200 loss - 1.3545013666152954\n",
            "298 3210 loss - 0.9658933281898499\n",
            "298 3220 loss - 1.0809651613235474\n",
            "298 3230 loss - 1.6911799907684326\n",
            "298 3240 loss - 1.2321487665176392\n",
            "298 3250 loss - 1.0824508666992188\n",
            "298 3260 loss - 1.1333624124526978\n",
            "298 3270 loss - 1.3438150882720947\n",
            "298 3280 loss - 1.006903886795044\n",
            "298 3290 loss - 1.4313843250274658\n",
            "298 3300 loss - 1.2862907648086548\n",
            "298 3310 loss - 1.162196159362793\n",
            "298 3320 loss - 1.6119186878204346\n",
            "298 3330 loss - 1.1699317693710327\n",
            "298 3340 loss - 1.0989899635314941\n",
            "298 3350 loss - 1.4390347003936768\n",
            "298 3360 loss - 1.1113752126693726\n",
            "298 3370 loss - 1.409195899963379\n",
            "298 3380 loss - 1.387617588043213\n",
            "298 3390 loss - 1.061476230621338\n",
            "298 3400 loss - 1.753921627998352\n",
            "298 3410 loss - 1.3396848440170288\n",
            "298 3420 loss - 1.3983843326568604\n",
            "298 3430 loss - 0.9422995448112488\n",
            "298 3440 loss - 1.0696160793304443\n",
            "298 3450 loss - 1.4623408317565918\n",
            "298 3460 loss - 1.4120763540267944\n",
            "298 3470 loss - 1.441341757774353\n",
            "298 3480 loss - 1.2135329246520996\n",
            "298 3490 loss - 0.9481469988822937\n",
            "298 3500 loss - 1.5289701223373413\n",
            "298 3510 loss - 1.1474140882492065\n",
            "298 3520 loss - 1.3578529357910156\n",
            "298 3530 loss - 1.4471067190170288\n",
            "298 3540 loss - 1.2320808172225952\n",
            "298 3550 loss - 1.0798416137695312\n",
            "298 3560 loss - 1.134952425956726\n",
            "298 3570 loss - 1.3842720985412598\n",
            "298 3580 loss - 1.5020629167556763\n",
            "298 3590 loss - 1.0315754413604736\n",
            "298 3600 loss - 1.3198963403701782\n",
            "298 3610 loss - 1.0752754211425781\n",
            "299 0 loss - 1.380433440208435\n",
            "299 10 loss - 1.171302080154419\n",
            "299 20 loss - 1.120835781097412\n",
            "299 30 loss - 1.3867812156677246\n",
            "299 40 loss - 1.4157911539077759\n",
            "299 50 loss - 1.394160270690918\n",
            "299 60 loss - 1.1396173238754272\n",
            "299 70 loss - 1.331883192062378\n",
            "299 80 loss - 1.1500393152236938\n",
            "299 90 loss - 1.1032993793487549\n",
            "299 100 loss - 1.2816904783248901\n",
            "299 110 loss - 1.3117330074310303\n",
            "299 120 loss - 1.108064889907837\n",
            "299 130 loss - 1.6536260843276978\n",
            "299 140 loss - 1.4361786842346191\n",
            "299 150 loss - 1.3618797063827515\n",
            "299 160 loss - 1.58262038230896\n",
            "299 170 loss - 1.0134795904159546\n",
            "299 180 loss - 1.1292390823364258\n",
            "299 190 loss - 1.6628886461257935\n",
            "299 200 loss - 1.598960041999817\n",
            "299 210 loss - 1.25252103805542\n",
            "299 220 loss - 1.1694248914718628\n",
            "299 230 loss - 1.2014367580413818\n",
            "299 240 loss - 1.2284880876541138\n",
            "299 250 loss - 1.3838541507720947\n",
            "299 260 loss - 1.4890427589416504\n",
            "299 270 loss - 1.3763480186462402\n",
            "299 280 loss - 0.9230675101280212\n",
            "299 290 loss - 1.2228273153305054\n",
            "299 300 loss - 1.3352766036987305\n",
            "299 310 loss - 1.5099210739135742\n",
            "299 320 loss - 0.9197391271591187\n",
            "299 330 loss - 1.3512885570526123\n",
            "299 340 loss - 1.2253155708312988\n",
            "299 350 loss - 1.5510185956954956\n",
            "299 360 loss - 1.0277674198150635\n",
            "299 370 loss - 1.4179123640060425\n",
            "299 380 loss - 1.4474551677703857\n",
            "299 390 loss - 1.6499282121658325\n",
            "299 400 loss - 1.0098857879638672\n",
            "299 410 loss - 0.8321254253387451\n",
            "299 420 loss - 1.1035683155059814\n",
            "299 430 loss - 1.1754531860351562\n",
            "299 440 loss - 0.9286350607872009\n",
            "299 450 loss - 1.4057310819625854\n",
            "299 460 loss - 1.1916447877883911\n",
            "299 470 loss - 1.1500269174575806\n",
            "299 480 loss - 1.3367304801940918\n",
            "299 490 loss - 1.4694079160690308\n",
            "299 500 loss - 1.2334529161453247\n",
            "299 510 loss - 1.4155199527740479\n",
            "299 520 loss - 1.663616418838501\n",
            "299 530 loss - 1.2792675495147705\n",
            "299 540 loss - 1.0936857461929321\n",
            "299 550 loss - 1.0562595129013062\n",
            "299 560 loss - 1.3636012077331543\n",
            "299 570 loss - 1.143697738647461\n",
            "299 580 loss - 1.655430555343628\n",
            "299 590 loss - 1.353995680809021\n",
            "299 600 loss - 1.3793262243270874\n",
            "299 610 loss - 1.1944563388824463\n",
            "299 620 loss - 1.1253902912139893\n",
            "299 630 loss - 1.3425706624984741\n",
            "299 640 loss - 1.0731167793273926\n",
            "299 650 loss - 1.3780083656311035\n",
            "299 660 loss - 1.0081424713134766\n",
            "299 670 loss - 1.5341696739196777\n",
            "299 680 loss - 1.4169485569000244\n",
            "299 690 loss - 1.4653195142745972\n",
            "299 700 loss - 1.0069762468338013\n",
            "299 710 loss - 1.1106911897659302\n",
            "299 720 loss - 1.222896695137024\n",
            "299 730 loss - 1.3503142595291138\n",
            "299 740 loss - 1.47625732421875\n",
            "299 750 loss - 1.1938265562057495\n",
            "299 760 loss - 1.2454657554626465\n",
            "299 770 loss - 1.298577070236206\n",
            "299 780 loss - 1.2005187273025513\n",
            "299 790 loss - 1.2833890914916992\n",
            "299 800 loss - 1.3985764980316162\n",
            "299 810 loss - 1.3979554176330566\n",
            "299 820 loss - 1.1932131052017212\n",
            "299 830 loss - 1.3565231561660767\n",
            "299 840 loss - 1.3901904821395874\n",
            "299 850 loss - 1.1505874395370483\n",
            "299 860 loss - 1.6340460777282715\n",
            "299 870 loss - 1.3128787279129028\n",
            "299 880 loss - 1.3516379594802856\n",
            "299 890 loss - 0.9815367460250854\n",
            "299 900 loss - 0.9533637762069702\n",
            "299 910 loss - 1.4565774202346802\n",
            "299 920 loss - 1.4800158739089966\n",
            "299 930 loss - 1.3081320524215698\n",
            "299 940 loss - 1.2096258401870728\n",
            "299 950 loss - 1.312551498413086\n",
            "299 960 loss - 1.9468854665756226\n",
            "299 970 loss - 1.3510465621948242\n",
            "299 980 loss - 1.016106128692627\n",
            "299 990 loss - 1.163291573524475\n",
            "299 1000 loss - 1.423917293548584\n",
            "299 1010 loss - 1.3484017848968506\n",
            "299 1020 loss - 1.369158148765564\n",
            "299 1030 loss - 1.250715970993042\n",
            "299 1040 loss - 1.314646601676941\n",
            "299 1050 loss - 1.3703478574752808\n",
            "299 1060 loss - 1.4062317609786987\n",
            "299 1070 loss - 1.475557565689087\n",
            "299 1080 loss - 1.4028334617614746\n",
            "299 1090 loss - 1.5249361991882324\n",
            "299 1100 loss - 1.1436079740524292\n",
            "299 1110 loss - 1.2973077297210693\n",
            "299 1120 loss - 1.221670389175415\n",
            "299 1130 loss - 1.1764265298843384\n",
            "299 1140 loss - 0.942162811756134\n",
            "299 1150 loss - 1.2649943828582764\n",
            "299 1160 loss - 1.2690259218215942\n",
            "299 1170 loss - 1.089609980583191\n",
            "299 1180 loss - 1.3000534772872925\n",
            "299 1190 loss - 1.2861121892929077\n",
            "299 1200 loss - 1.4074827432632446\n",
            "299 1210 loss - 1.190442681312561\n",
            "299 1220 loss - 1.401078462600708\n",
            "299 1230 loss - 1.1551350355148315\n",
            "299 1240 loss - 1.3549259901046753\n",
            "299 1250 loss - 1.802153468132019\n",
            "299 1260 loss - 1.4579604864120483\n",
            "299 1270 loss - 0.9705716371536255\n",
            "299 1280 loss - 1.2462537288665771\n",
            "299 1290 loss - 1.3563015460968018\n",
            "299 1300 loss - 1.5476614236831665\n",
            "299 1310 loss - 1.3996376991271973\n",
            "299 1320 loss - 1.2601473331451416\n",
            "299 1330 loss - 1.3965518474578857\n",
            "299 1340 loss - 1.6589064598083496\n",
            "299 1350 loss - 0.8421388268470764\n",
            "299 1360 loss - 1.1070482730865479\n",
            "299 1370 loss - 1.126688838005066\n",
            "299 1380 loss - 1.2706382274627686\n",
            "299 1390 loss - 1.3463160991668701\n",
            "299 1400 loss - 1.4099925756454468\n",
            "299 1410 loss - 1.0613845586776733\n",
            "299 1420 loss - 1.474656581878662\n",
            "299 1430 loss - 1.4234111309051514\n",
            "299 1440 loss - 1.3243385553359985\n",
            "299 1450 loss - 1.4656095504760742\n",
            "299 1460 loss - 1.1184852123260498\n",
            "299 1470 loss - 1.2299318313598633\n",
            "299 1480 loss - 1.3917944431304932\n",
            "299 1490 loss - 1.558029055595398\n",
            "299 1500 loss - 1.2063512802124023\n",
            "299 1510 loss - 1.2655614614486694\n",
            "299 1520 loss - 1.411530613899231\n",
            "299 1530 loss - 0.8567381501197815\n",
            "299 1540 loss - 1.1989282369613647\n",
            "299 1550 loss - 1.8536642789840698\n",
            "299 1560 loss - 1.3503177165985107\n",
            "299 1570 loss - 1.340326189994812\n",
            "299 1580 loss - 1.0534449815750122\n",
            "299 1590 loss - 1.5202385187149048\n",
            "299 1600 loss - 1.2909581661224365\n",
            "299 1610 loss - 1.0963555574417114\n",
            "299 1620 loss - 1.7150663137435913\n",
            "299 1630 loss - 1.2508318424224854\n",
            "299 1640 loss - 1.0217911005020142\n",
            "299 1650 loss - 1.5935797691345215\n",
            "299 1660 loss - 0.9219536185264587\n",
            "299 1670 loss - 1.0332674980163574\n",
            "299 1680 loss - 0.8365405201911926\n",
            "299 1690 loss - 1.3835772275924683\n",
            "299 1700 loss - 1.3463865518569946\n",
            "299 1710 loss - 1.4286749362945557\n",
            "299 1720 loss - 1.1667869091033936\n",
            "299 1730 loss - 1.38027024269104\n",
            "299 1740 loss - 1.4669817686080933\n",
            "299 1750 loss - 1.0839970111846924\n",
            "299 1760 loss - 1.5783088207244873\n",
            "299 1770 loss - 1.2199382781982422\n",
            "299 1780 loss - 1.2038652896881104\n",
            "299 1790 loss - 1.668587565422058\n",
            "299 1800 loss - 1.3375146389007568\n",
            "299 1810 loss - 1.428877353668213\n",
            "299 1820 loss - 1.4682695865631104\n",
            "299 1830 loss - 1.0890915393829346\n",
            "299 1840 loss - 1.1911050081253052\n",
            "299 1850 loss - 1.5871275663375854\n",
            "299 1860 loss - 1.0980902910232544\n",
            "299 1870 loss - 1.4575326442718506\n",
            "299 1880 loss - 1.263152003288269\n",
            "299 1890 loss - 1.1503589153289795\n",
            "299 1900 loss - 1.4212015867233276\n",
            "299 1910 loss - 1.4898589849472046\n",
            "299 1920 loss - 1.5129034519195557\n",
            "299 1930 loss - 1.1260974407196045\n",
            "299 1940 loss - 1.1092256307601929\n",
            "299 1950 loss - 1.1546897888183594\n",
            "299 1960 loss - 1.367697834968567\n",
            "299 1970 loss - 1.0550646781921387\n",
            "299 1980 loss - 1.4844015836715698\n",
            "299 1990 loss - 0.9853435158729553\n",
            "299 2000 loss - 1.1391085386276245\n",
            "299 2010 loss - 1.64375901222229\n",
            "299 2020 loss - 1.584484577178955\n",
            "299 2030 loss - 1.3048732280731201\n",
            "299 2040 loss - 1.4497976303100586\n",
            "299 2050 loss - 1.5584806203842163\n",
            "299 2060 loss - 1.320430874824524\n",
            "299 2070 loss - 1.4033740758895874\n",
            "299 2080 loss - 1.5090233087539673\n",
            "299 2090 loss - 1.7833224534988403\n",
            "299 2100 loss - 1.2985435724258423\n",
            "299 2110 loss - 1.585140585899353\n",
            "299 2120 loss - 1.2624998092651367\n",
            "299 2130 loss - 0.9176632761955261\n",
            "299 2140 loss - 1.484386682510376\n",
            "299 2150 loss - 1.3350223302841187\n",
            "299 2160 loss - 1.2671326398849487\n",
            "299 2170 loss - 0.986418604850769\n",
            "299 2180 loss - 1.5386494398117065\n",
            "299 2190 loss - 1.559815764427185\n",
            "299 2200 loss - 1.1345547437667847\n",
            "299 2210 loss - 0.8909997344017029\n",
            "299 2220 loss - 1.257753610610962\n",
            "299 2230 loss - 1.2637237310409546\n",
            "299 2240 loss - 1.3357378244400024\n",
            "299 2250 loss - 1.579215407371521\n",
            "299 2260 loss - 1.4870176315307617\n",
            "299 2270 loss - 1.3757601976394653\n",
            "299 2280 loss - 0.9232288599014282\n",
            "299 2290 loss - 1.0216708183288574\n",
            "299 2300 loss - 1.5091915130615234\n",
            "299 2310 loss - 1.1452386379241943\n",
            "299 2320 loss - 1.2451499700546265\n",
            "299 2330 loss - 1.5953048467636108\n",
            "299 2340 loss - 1.6050175428390503\n",
            "299 2350 loss - 1.2221226692199707\n",
            "299 2360 loss - 1.6114054918289185\n",
            "299 2370 loss - 1.3484083414077759\n",
            "299 2380 loss - 1.168728232383728\n",
            "299 2390 loss - 1.2627205848693848\n",
            "299 2400 loss - 1.3639814853668213\n",
            "299 2410 loss - 1.2242276668548584\n",
            "299 2420 loss - 1.3379567861557007\n",
            "299 2430 loss - 1.0735769271850586\n",
            "299 2440 loss - 1.2824256420135498\n",
            "299 2450 loss - 1.2994085550308228\n",
            "299 2460 loss - 1.269168496131897\n",
            "299 2470 loss - 0.9806466698646545\n",
            "299 2480 loss - 1.0305782556533813\n",
            "299 2490 loss - 1.0986369848251343\n",
            "299 2500 loss - 1.5531938076019287\n",
            "299 2510 loss - 1.6349231004714966\n",
            "299 2520 loss - 1.3184527158737183\n",
            "299 2530 loss - 1.5030596256256104\n",
            "299 2540 loss - 1.7209242582321167\n",
            "299 2550 loss - 1.3002041578292847\n",
            "299 2560 loss - 1.196699619293213\n",
            "299 2570 loss - 1.2147197723388672\n",
            "299 2580 loss - 1.1336842775344849\n",
            "299 2590 loss - 1.4668712615966797\n",
            "299 2600 loss - 1.352837324142456\n",
            "299 2610 loss - 1.4035090208053589\n",
            "299 2620 loss - 1.358359932899475\n",
            "299 2630 loss - 1.2745521068572998\n",
            "299 2640 loss - 1.2242802381515503\n",
            "299 2650 loss - 1.094529390335083\n",
            "299 2660 loss - 0.9448348879814148\n",
            "299 2670 loss - 1.191161036491394\n",
            "299 2680 loss - 1.2291946411132812\n",
            "299 2690 loss - 1.354465365409851\n",
            "299 2700 loss - 1.1231746673583984\n",
            "299 2710 loss - 1.1762880086898804\n",
            "299 2720 loss - 0.9635148644447327\n",
            "299 2730 loss - 1.128143072128296\n",
            "299 2740 loss - 1.2338920831680298\n",
            "299 2750 loss - 0.9747606515884399\n",
            "299 2760 loss - 1.2068758010864258\n",
            "299 2770 loss - 0.9867186546325684\n",
            "299 2780 loss - 1.4020212888717651\n",
            "299 2790 loss - 1.571714997291565\n",
            "299 2800 loss - 1.5139175653457642\n",
            "299 2810 loss - 1.2910627126693726\n",
            "299 2820 loss - 1.6790971755981445\n",
            "299 2830 loss - 0.9950920939445496\n",
            "299 2840 loss - 1.4177004098892212\n",
            "299 2850 loss - 1.162106990814209\n",
            "299 2860 loss - 1.1381741762161255\n",
            "299 2870 loss - 1.4250503778457642\n",
            "299 2880 loss - 1.1389402151107788\n",
            "299 2890 loss - 0.9245058298110962\n",
            "299 2900 loss - 1.573603868484497\n",
            "299 2910 loss - 1.3154845237731934\n",
            "299 2920 loss - 1.3317631483078003\n",
            "299 2930 loss - 1.0566470623016357\n",
            "299 2940 loss - 1.5694741010665894\n",
            "299 2950 loss - 1.0029187202453613\n",
            "299 2960 loss - 1.4034284353256226\n",
            "299 2970 loss - 1.0283751487731934\n",
            "299 2980 loss - 1.9724013805389404\n",
            "299 2990 loss - 1.767969012260437\n",
            "299 3000 loss - 0.7936051487922668\n",
            "299 3010 loss - 1.3822922706604004\n",
            "299 3020 loss - 1.4205317497253418\n",
            "299 3030 loss - 1.697934865951538\n",
            "299 3040 loss - 1.5959186553955078\n",
            "299 3050 loss - 1.3041350841522217\n",
            "299 3060 loss - 1.5292295217514038\n",
            "299 3070 loss - 1.3215349912643433\n",
            "299 3080 loss - 1.410801887512207\n",
            "299 3090 loss - 1.3928329944610596\n",
            "299 3100 loss - 1.6668095588684082\n",
            "299 3110 loss - 1.3908355236053467\n",
            "299 3120 loss - 1.1200443506240845\n",
            "299 3130 loss - 1.4245190620422363\n",
            "299 3140 loss - 1.357029914855957\n",
            "299 3150 loss - 1.224678874015808\n",
            "299 3160 loss - 1.1814684867858887\n",
            "299 3170 loss - 1.2865811586380005\n",
            "299 3180 loss - 0.9772365093231201\n",
            "299 3190 loss - 1.5914188623428345\n",
            "299 3200 loss - 1.6074457168579102\n",
            "299 3210 loss - 1.2778425216674805\n",
            "299 3220 loss - 1.1774499416351318\n",
            "299 3230 loss - 0.9870502948760986\n",
            "299 3240 loss - 1.1465779542922974\n",
            "299 3250 loss - 1.3768149614334106\n",
            "299 3260 loss - 1.110076665878296\n",
            "299 3270 loss - 1.5542747974395752\n",
            "299 3280 loss - 1.092064380645752\n",
            "299 3290 loss - 1.247411847114563\n",
            "299 3300 loss - 1.2196465730667114\n",
            "299 3310 loss - 1.5967532396316528\n",
            "299 3320 loss - 1.2294334173202515\n",
            "299 3330 loss - 1.3032760620117188\n",
            "299 3340 loss - 1.2432703971862793\n",
            "299 3350 loss - 1.3543857336044312\n",
            "299 3360 loss - 1.2950868606567383\n",
            "299 3370 loss - 1.1849279403686523\n",
            "299 3380 loss - 1.390206217765808\n",
            "299 3390 loss - 1.1903496980667114\n",
            "299 3400 loss - 1.6752291917800903\n",
            "299 3410 loss - 1.1174664497375488\n",
            "299 3420 loss - 1.2645599842071533\n",
            "299 3430 loss - 1.2882986068725586\n",
            "299 3440 loss - 1.392980694770813\n",
            "299 3450 loss - 1.195620059967041\n",
            "299 3460 loss - 1.1387689113616943\n",
            "299 3470 loss - 1.1605709791183472\n",
            "299 3480 loss - 1.3675967454910278\n",
            "299 3490 loss - 1.1266251802444458\n",
            "299 3500 loss - 1.5249459743499756\n",
            "299 3510 loss - 1.4805748462677002\n",
            "299 3520 loss - 0.8328745365142822\n",
            "299 3530 loss - 1.35496985912323\n",
            "299 3540 loss - 1.1876461505889893\n",
            "299 3550 loss - 1.1452264785766602\n",
            "299 3560 loss - 0.9926167130470276\n",
            "299 3570 loss - 1.3550724983215332\n",
            "299 3580 loss - 1.619830846786499\n",
            "299 3590 loss - 1.3891441822052002\n",
            "299 3600 loss - 0.8278661966323853\n",
            "299 3610 loss - 1.6010698080062866\n"
          ],
          "name": "stdout"
        },
        {
          "output_type": "display_data",
          "data": {
            "text/plain": [
              "<IPython.core.display.HTML object>"
            ],
            "text/html": [
              "<br/>Waiting for W&B process to finish, PID 57823<br/>Program ended successfully."
            ]
          },
          "metadata": {}
        },
        {
          "output_type": "display_data",
          "data": {
            "text/plain": [
              "<IPython.core.display.HTML object>"
            ],
            "text/html": [
              "Find user logs for this run at: <code>/workspace/home/jesandov/Code/Tesis/dalle-pytorch/wandb/offline-run-20210829_230431-3lb8ck9t/logs/debug.log</code>"
            ]
          },
          "metadata": {}
        },
        {
          "output_type": "display_data",
          "data": {
            "text/plain": [
              "<IPython.core.display.HTML object>"
            ],
            "text/html": [
              "Find internal logs for this run at: <code>/workspace/home/jesandov/Code/Tesis/dalle-pytorch/wandb/offline-run-20210829_230431-3lb8ck9t/logs/debug-internal.log</code>"
            ]
          },
          "metadata": {}
        },
        {
          "output_type": "display_data",
          "data": {
            "text/plain": [
              "<IPython.core.display.HTML object>"
            ],
            "text/html": [
              "<h3>Run summary:</h3><br/><style>\n",
              "    table.wandb td:nth-child(1) { padding: 0 10px; text-align: right }\n",
              "    </style><table class=\"wandb\">\n",
              "<tr><td>epoch</td><td>299</td></tr><tr><td>iter</td><td>3610</td></tr><tr><td>loss</td><td>1.60107</td></tr><tr><td>_runtime</td><td>712145</td></tr><tr><td>_timestamp</td><td>1631008417</td></tr><tr><td>_step</td><td>1083897</td></tr></table>"
            ]
          },
          "metadata": {}
        },
        {
          "output_type": "display_data",
          "data": {
            "text/plain": [
              "<IPython.core.display.HTML object>"
            ],
            "text/html": [
              "<h3>Run history:</h3><br/><style>\n",
              "    table.wandb td:nth-child(1) { padding: 0 10px; text-align: right }\n",
              "    </style><table class=\"wandb\">\n",
              "<tr><td>epoch</td><td>▁▁▁▂▂▂▂▂▂▃▃▃▃▃▃▄▄▄▄▄▅▅▅▅▅▅▆▆▆▆▆▇▇▇▇▇▇███</td></tr><tr><td>iter</td><td>▇▄█▄▁▅▁▆▂▆▃▇▃▇▄█▄▁▅▁▆▂▆▃▇▃▇▄█▄▁▅▁▆▂▆▃▇▃▇</td></tr><tr><td>loss</td><td>▄▅▆▄▃▄▂▃▄▃▅▄▃▅▃▂▂▅▃▂▅▃▅▅▅▆▃▃█▃▂▅▄▂▄▁▃▂▂▄</td></tr><tr><td>_runtime</td><td>▁▁▁▂▂▂▂▂▂▃▃▃▃▃▃▄▄▄▄▄▅▅▅▅▅▅▆▆▆▆▆▇▇▇▇▇▇███</td></tr><tr><td>_timestamp</td><td>▁▁▁▂▂▂▂▂▂▃▃▃▃▃▃▄▄▄▄▄▅▅▅▅▅▅▆▆▆▆▆▇▇▇▇▇▇███</td></tr><tr><td>_step</td><td>▁▁▁▂▂▂▂▂▂▃▃▃▃▃▃▄▄▄▄▄▅▅▅▅▅▅▆▆▆▆▆▇▇▇▇▇▇███</td></tr></table><br/>"
            ]
          },
          "metadata": {}
        },
        {
          "output_type": "stream",
          "text": [
            "\u001b[34m\u001b[1mwandb\u001b[0m: You can sync this run to the cloud by running:\n",
            "\u001b[34m\u001b[1mwandb\u001b[0m: \u001b[33mwandb sync /workspace/home/jesandov/Code/Tesis/dalle-pytorch/wandb/offline-run-20210829_230431-3lb8ck9t\u001b[0m\n"
          ],
          "name": "stderr"
        }
      ]
    },
    {
      "cell_type": "markdown",
      "metadata": {
        "id": "QqLYdDCP826v"
      },
      "source": [
        "# Sample"
      ]
    },
    {
      "cell_type": "code",
      "metadata": {
        "id": "s2VehzokRGwr"
      },
      "source": [
        "import time\n",
        "import wandb\n",
        "import torch\n",
        "import matplotlib.pyplot as plt\n",
        "\n",
        "from random import choice\n",
        "from pathlib import Path\n",
        "import os\n",
        "\n",
        "import torch\n",
        "from torch.optim import Adam\n",
        "from torch.nn.utils import clip_grad_norm_\n",
        "\n",
        "from PIL import Image\n",
        "from torchvision import transforms as T\n",
        "from torch.utils.data import DataLoader, Dataset\n",
        "from torchvision.datasets import ImageFolder\n",
        "from torchvision.utils import make_grid, save_image\n",
        "\n",
        "from dalle_pytorch import OpenAIDiscreteVAE, DiscreteVAE, DALLE\n",
        "\n",
        "def load_dalle(prefix=\".\"):\n",
        "\n",
        "    VAE_PATH = os.path.realpath(f'{prefix}/vae.pt')\n",
        "    DALLE_PATH = os.path.realpath(f'{prefix}/dalle.pt')\n",
        "\n",
        "    # reconstitute vae\n",
        "    dalle_path = Path(DALLE_PATH)\n",
        "    assert dalle_path.exists(), f'DALL-E model file \"{dalle_path}\" does not exist'\n",
        "\n",
        "    loaded_obj = torch.load(str(dalle_path))\n",
        "\n",
        "    dalle_params, vae_params, weights = loaded_obj['hparams'], loaded_obj['vae_params'], loaded_obj['weights']\n",
        "\n",
        "    if vae_params is not None:\n",
        "        vae = DiscreteVAE(**vae_params)\n",
        "    else:\n",
        "        vae = OpenAIDiscreteVAE()\n",
        "\n",
        "    dalle_params = dict(        \n",
        "        **dalle_params\n",
        "    )\n",
        "\n",
        "    dalle = DALLE(vae = vae, **dalle_params).cuda()\n",
        "    dalle.load_state_dict(weights)\n",
        "\n",
        "    return dalle\n",
        "\n",
        "\n",
        "def pretty_time(sec):\n",
        "\n",
        "    if sec < 60:\n",
        "        return \"{0} sec\".format(sec)\n",
        "\n",
        "    elif sec < (60 * 60):\n",
        "\n",
        "        module = sec % (60)\n",
        "        divide = int(sec / (60))\n",
        "        return \"{0} min {1}\".format(divide, pretty_time(module))\n",
        "\n",
        "    else:\n",
        "\n",
        "        module = sec % (60 * 60)\n",
        "        divide = int(sec / (60 * 60))\n",
        "        return \"{0} hrs {1}\".format(divide, pretty_time(module))\n",
        "\n",
        "def time_decorator(func):\n",
        "    def wrapper(*args, **kwargs):\n",
        "\n",
        "        print(\"*\"*50)\n",
        "\n",
        "        start_time = time.time()\n",
        "\n",
        "        res = func(*args, **kwargs)\n",
        "\n",
        "        end_time = time.time()\n",
        "        total_time = end_time - start_time\n",
        "\n",
        "        print(\"{0} executed in {1}\".format(func, pretty_time(total_time)))\n",
        "        print(\"*\"*50)\n",
        "        return res\n",
        "    return wrapper\n",
        "\n",
        "\n",
        "@time_decorator\n",
        "def sample_image(text, prefix, text_size):\n",
        "\n",
        "    run = wandb.init(project = 'dalle_train_transformer')\n",
        "\n",
        "    try:\n",
        "        text_example = my_tokenize(text, pad=text_size)\n",
        "        mask_example = text_example != 0\n",
        "\n",
        "        text_example = torch.from_numpy(np.array([text_example])).cuda()\n",
        "        mask_example = torch.from_numpy(np.array([mask_example])).cuda()\n",
        "\n",
        "        dalle = load_dalle(prefix)\n",
        "\n",
        "        image = dalle.generate_images(\n",
        "            text_example,\n",
        "            mask = mask_example,\n",
        "            filter_thres = 0.9    # topk sampling at 0.9\n",
        "        )\n",
        "\n",
        "        wand_image = wandb.Image(image)\n",
        "        return wandb.Image(image)._image\n",
        "    \n",
        "    finally:\n",
        "        wandb.finish()\n",
        "    "
      ],
      "execution_count": null,
      "outputs": []
    },
    {
      "cell_type": "code",
      "metadata": {
        "colab": {
          "base_uri": "https://localhost:8080/",
          "height": 1000
        },
        "id": "dukxDKFuMdHV",
        "outputId": "e02de248-5739-4b12-96e0-2502a37910ad"
      },
      "source": [
        "from keras.preprocessing.image import ImageDataGenerator, array_to_img, img_to_array, load_img\n",
        "import keras.backend as K\n",
        "\n",
        "#import tensorflow.compat.v1.keras.backend as K\n",
        "#import tensorflow as tf\n",
        "#tf.compat.v1.disable_eager_execution()\n",
        "\n",
        "@time_decorator\n",
        "def generate_images_samples():\n",
        "\n",
        "    opt = {\n",
        "        #\"anime_wb_40_ep_50\": 40,\n",
        "        #\"anime_wb_40_ep_100\": 40,\n",
        "        #\"anime_wb_50\": 50,\n",
        "        #\"anime_wb_100_ep_200\": 100,\n",
        "        #\"anime_wb_100_ep_220\": 100,\n",
        "        #\"anime_wb_100_ep_300\": 100,\n",
        "        #\"anime_wb_sep_200\": 256\n",
        "        \"anime_wb_100_ep_300_v2\": 100\n",
        "    }\n",
        "\n",
        "    # Generate graph\n",
        "    font_size = 15\n",
        "    plt.rcParams['axes.facecolor']='gray'\n",
        "    plt.rcParams['savefig.facecolor']='gray'\n",
        "    plt.rcParams.update({'font.size': font_size})\n",
        "\n",
        "    originals = os.listdir(\"original_wb\")\n",
        "\n",
        "    for i in range(0, 10):\n",
        "\n",
        "        os.system(f\"mkdir -p sample{i}\")\n",
        "\n",
        "        for original in originals:\n",
        "\n",
        "            if original.endswith(\".txt\"):\n",
        "\n",
        "                orig = original.replace(\".txt\", \"\")\n",
        "\n",
        "                text = \"\"\n",
        "                with open(f\"original_wb/{orig}.txt\", \"r\") as _f:\n",
        "                    text = _f.readlines()[0].strip()\n",
        "                    \n",
        "                orig_img = load_img(f\"original_wb/{orig}.jpg\")\n",
        "                images_array = [{\"prefix\": \"original\", \"image\": orig_img}]\n",
        "\n",
        "                for prefix, text_size in opt.items():\n",
        "                    image = sample_image(text, prefix, text_size)\n",
        "                    images_array.append({\"prefix\": prefix, \"image\": image})\n",
        "                    image.save(f\"sample{i}/{orig}.png\")\n",
        "\n",
        "                continue\n",
        "                r, c = 2, int(len(images_array)/2)\n",
        "\n",
        "                plt.rcParams[\"figure.figsize\"] = (c*4,r*4)\n",
        "                fig, axs = plt.subplots(r, c)\n",
        "                fig.suptitle(original, fontsize=font_size*1.5)\n",
        "\n",
        "                cnt = 0\n",
        "                for i in range(r):\n",
        "                    for j in range(c):\n",
        "\n",
        "                        img = images_array[cnt][\"image\"]\n",
        "                        axs[i,j].imshow(img)\n",
        "                        axs[i,j].set_title(images_array[cnt][\"prefix\"])\n",
        "\n",
        "                        axs[i,j].axis('off')\n",
        "                        cnt += 1\n",
        "\n",
        "                os.system(\"mkdir -p result\")\n",
        "                fig.savefig(\"{0}.png\".format(os.path.join(\"result\", orig)))\n",
        "                plt.show()\n",
        "\n",
        "\n",
        "generate_images_samples()"
      ],
      "execution_count": null,
      "outputs": [
        {
          "output_type": "stream",
          "text": [
            "**************************************************\n",
            "**************************************************\n"
          ],
          "name": "stdout"
        },
        {
          "output_type": "stream",
          "text": [
            "\u001b[34m\u001b[1mwandb\u001b[0m: W&B syncing is set to `offline` in this directory.  Run `wandb online` or set WANDB_MODE=online to enable cloud syncing.\n"
          ],
          "name": "stderr"
        },
        {
          "output_type": "display_data",
          "data": {
            "text/plain": [
              "<IPython.core.display.HTML object>"
            ],
            "text/html": [
              "<br/>Waiting for W&B process to finish, PID 55707<br/>Program ended successfully."
            ]
          },
          "metadata": {}
        },
        {
          "output_type": "display_data",
          "data": {
            "text/plain": [
              "<IPython.core.display.HTML object>"
            ],
            "text/html": [
              "Find user logs for this run at: <code>/workspace/home/jesandov/Code/Tesis/dalle-pytorch/wandb/offline-run-20210907_184903-7qb0epcg/logs/debug.log</code>"
            ]
          },
          "metadata": {}
        },
        {
          "output_type": "display_data",
          "data": {
            "text/plain": [
              "<IPython.core.display.HTML object>"
            ],
            "text/html": [
              "Find internal logs for this run at: <code>/workspace/home/jesandov/Code/Tesis/dalle-pytorch/wandb/offline-run-20210907_184903-7qb0epcg/logs/debug-internal.log</code>"
            ]
          },
          "metadata": {}
        },
        {
          "output_type": "stream",
          "text": [
            "\u001b[34m\u001b[1mwandb\u001b[0m: You can sync this run to the cloud by running:\n",
            "\u001b[34m\u001b[1mwandb\u001b[0m: \u001b[33mwandb sync /workspace/home/jesandov/Code/Tesis/dalle-pytorch/wandb/offline-run-20210907_184903-7qb0epcg\u001b[0m\n"
          ],
          "name": "stderr"
        },
        {
          "output_type": "stream",
          "text": [
            "<function sample_image at 0x7f5a16f95d08> executed in 1 min 13.994925498962402 sec\n",
            "**************************************************\n",
            "**************************************************\n"
          ],
          "name": "stdout"
        },
        {
          "output_type": "stream",
          "text": [
            "\u001b[34m\u001b[1mwandb\u001b[0m: W&B syncing is set to `offline` in this directory.  Run `wandb online` or set WANDB_MODE=online to enable cloud syncing.\n"
          ],
          "name": "stderr"
        },
        {
          "output_type": "display_data",
          "data": {
            "text/plain": [
              "<IPython.core.display.HTML object>"
            ],
            "text/html": [
              "<br/>Waiting for W&B process to finish, PID 55933<br/>Program ended successfully."
            ]
          },
          "metadata": {}
        },
        {
          "output_type": "display_data",
          "data": {
            "text/plain": [
              "<IPython.core.display.HTML object>"
            ],
            "text/html": [
              "Find user logs for this run at: <code>/workspace/home/jesandov/Code/Tesis/dalle-pytorch/wandb/offline-run-20210907_185017-3ssc5ka3/logs/debug.log</code>"
            ]
          },
          "metadata": {}
        },
        {
          "output_type": "display_data",
          "data": {
            "text/plain": [
              "<IPython.core.display.HTML object>"
            ],
            "text/html": [
              "Find internal logs for this run at: <code>/workspace/home/jesandov/Code/Tesis/dalle-pytorch/wandb/offline-run-20210907_185017-3ssc5ka3/logs/debug-internal.log</code>"
            ]
          },
          "metadata": {}
        },
        {
          "output_type": "stream",
          "text": [
            "\u001b[34m\u001b[1mwandb\u001b[0m: You can sync this run to the cloud by running:\n",
            "\u001b[34m\u001b[1mwandb\u001b[0m: \u001b[33mwandb sync /workspace/home/jesandov/Code/Tesis/dalle-pytorch/wandb/offline-run-20210907_185017-3ssc5ka3\u001b[0m\n"
          ],
          "name": "stderr"
        },
        {
          "output_type": "stream",
          "text": [
            "<function sample_image at 0x7f5a16f95d08> executed in 1 min 15.10210394859314 sec\n",
            "**************************************************\n",
            "**************************************************\n"
          ],
          "name": "stdout"
        },
        {
          "output_type": "stream",
          "text": [
            "\u001b[34m\u001b[1mwandb\u001b[0m: W&B syncing is set to `offline` in this directory.  Run `wandb online` or set WANDB_MODE=online to enable cloud syncing.\n"
          ],
          "name": "stderr"
        },
        {
          "output_type": "display_data",
          "data": {
            "text/plain": [
              "<IPython.core.display.HTML object>"
            ],
            "text/html": [
              "<br/>Waiting for W&B process to finish, PID 56152<br/>Program ended successfully."
            ]
          },
          "metadata": {}
        },
        {
          "output_type": "display_data",
          "data": {
            "text/plain": [
              "<IPython.core.display.HTML object>"
            ],
            "text/html": [
              "Find user logs for this run at: <code>/workspace/home/jesandov/Code/Tesis/dalle-pytorch/wandb/offline-run-20210907_185132-1wfiorp1/logs/debug.log</code>"
            ]
          },
          "metadata": {}
        },
        {
          "output_type": "display_data",
          "data": {
            "text/plain": [
              "<IPython.core.display.HTML object>"
            ],
            "text/html": [
              "Find internal logs for this run at: <code>/workspace/home/jesandov/Code/Tesis/dalle-pytorch/wandb/offline-run-20210907_185132-1wfiorp1/logs/debug-internal.log</code>"
            ]
          },
          "metadata": {}
        },
        {
          "output_type": "stream",
          "text": [
            "\u001b[34m\u001b[1mwandb\u001b[0m: You can sync this run to the cloud by running:\n",
            "\u001b[34m\u001b[1mwandb\u001b[0m: \u001b[33mwandb sync /workspace/home/jesandov/Code/Tesis/dalle-pytorch/wandb/offline-run-20210907_185132-1wfiorp1\u001b[0m\n"
          ],
          "name": "stderr"
        },
        {
          "output_type": "stream",
          "text": [
            "<function sample_image at 0x7f5a16f95d08> executed in 1 min 14.419000625610352 sec\n",
            "**************************************************\n",
            "**************************************************\n"
          ],
          "name": "stdout"
        },
        {
          "output_type": "stream",
          "text": [
            "\u001b[34m\u001b[1mwandb\u001b[0m: W&B syncing is set to `offline` in this directory.  Run `wandb online` or set WANDB_MODE=online to enable cloud syncing.\n"
          ],
          "name": "stderr"
        },
        {
          "output_type": "display_data",
          "data": {
            "text/plain": [
              "<IPython.core.display.HTML object>"
            ],
            "text/html": [
              "<br/>Waiting for W&B process to finish, PID 56373<br/>Program ended successfully."
            ]
          },
          "metadata": {}
        },
        {
          "output_type": "display_data",
          "data": {
            "text/plain": [
              "<IPython.core.display.HTML object>"
            ],
            "text/html": [
              "Find user logs for this run at: <code>/workspace/home/jesandov/Code/Tesis/dalle-pytorch/wandb/offline-run-20210907_185247-1k5kahna/logs/debug.log</code>"
            ]
          },
          "metadata": {}
        },
        {
          "output_type": "display_data",
          "data": {
            "text/plain": [
              "<IPython.core.display.HTML object>"
            ],
            "text/html": [
              "Find internal logs for this run at: <code>/workspace/home/jesandov/Code/Tesis/dalle-pytorch/wandb/offline-run-20210907_185247-1k5kahna/logs/debug-internal.log</code>"
            ]
          },
          "metadata": {}
        },
        {
          "output_type": "stream",
          "text": [
            "\u001b[34m\u001b[1mwandb\u001b[0m: You can sync this run to the cloud by running:\n",
            "\u001b[34m\u001b[1mwandb\u001b[0m: \u001b[33mwandb sync /workspace/home/jesandov/Code/Tesis/dalle-pytorch/wandb/offline-run-20210907_185247-1k5kahna\u001b[0m\n"
          ],
          "name": "stderr"
        },
        {
          "output_type": "stream",
          "text": [
            "<function sample_image at 0x7f5a16f95d08> executed in 1 min 13.987481355667114 sec\n",
            "**************************************************\n",
            "**************************************************\n"
          ],
          "name": "stdout"
        },
        {
          "output_type": "stream",
          "text": [
            "\u001b[34m\u001b[1mwandb\u001b[0m: W&B syncing is set to `offline` in this directory.  Run `wandb online` or set WANDB_MODE=online to enable cloud syncing.\n"
          ],
          "name": "stderr"
        },
        {
          "output_type": "display_data",
          "data": {
            "text/plain": [
              "<IPython.core.display.HTML object>"
            ],
            "text/html": [
              "<br/>Waiting for W&B process to finish, PID 56615<br/>Program ended successfully."
            ]
          },
          "metadata": {}
        },
        {
          "output_type": "display_data",
          "data": {
            "text/plain": [
              "<IPython.core.display.HTML object>"
            ],
            "text/html": [
              "Find user logs for this run at: <code>/workspace/home/jesandov/Code/Tesis/dalle-pytorch/wandb/offline-run-20210907_185401-ail9br77/logs/debug.log</code>"
            ]
          },
          "metadata": {}
        },
        {
          "output_type": "display_data",
          "data": {
            "text/plain": [
              "<IPython.core.display.HTML object>"
            ],
            "text/html": [
              "Find internal logs for this run at: <code>/workspace/home/jesandov/Code/Tesis/dalle-pytorch/wandb/offline-run-20210907_185401-ail9br77/logs/debug-internal.log</code>"
            ]
          },
          "metadata": {}
        },
        {
          "output_type": "stream",
          "text": [
            "\u001b[34m\u001b[1mwandb\u001b[0m: You can sync this run to the cloud by running:\n",
            "\u001b[34m\u001b[1mwandb\u001b[0m: \u001b[33mwandb sync /workspace/home/jesandov/Code/Tesis/dalle-pytorch/wandb/offline-run-20210907_185401-ail9br77\u001b[0m\n"
          ],
          "name": "stderr"
        },
        {
          "output_type": "stream",
          "text": [
            "<function sample_image at 0x7f5a16f95d08> executed in 1 min 13.40345311164856 sec\n",
            "**************************************************\n",
            "**************************************************\n"
          ],
          "name": "stdout"
        },
        {
          "output_type": "stream",
          "text": [
            "\u001b[34m\u001b[1mwandb\u001b[0m: W&B syncing is set to `offline` in this directory.  Run `wandb online` or set WANDB_MODE=online to enable cloud syncing.\n"
          ],
          "name": "stderr"
        },
        {
          "output_type": "display_data",
          "data": {
            "text/plain": [
              "<IPython.core.display.HTML object>"
            ],
            "text/html": [
              "<br/>Waiting for W&B process to finish, PID 56847<br/>Program ended successfully."
            ]
          },
          "metadata": {}
        },
        {
          "output_type": "display_data",
          "data": {
            "text/plain": [
              "<IPython.core.display.HTML object>"
            ],
            "text/html": [
              "Find user logs for this run at: <code>/workspace/home/jesandov/Code/Tesis/dalle-pytorch/wandb/offline-run-20210907_185514-2u8iyfts/logs/debug.log</code>"
            ]
          },
          "metadata": {}
        },
        {
          "output_type": "display_data",
          "data": {
            "text/plain": [
              "<IPython.core.display.HTML object>"
            ],
            "text/html": [
              "Find internal logs for this run at: <code>/workspace/home/jesandov/Code/Tesis/dalle-pytorch/wandb/offline-run-20210907_185514-2u8iyfts/logs/debug-internal.log</code>"
            ]
          },
          "metadata": {}
        },
        {
          "output_type": "stream",
          "text": [
            "\u001b[34m\u001b[1mwandb\u001b[0m: You can sync this run to the cloud by running:\n",
            "\u001b[34m\u001b[1mwandb\u001b[0m: \u001b[33mwandb sync /workspace/home/jesandov/Code/Tesis/dalle-pytorch/wandb/offline-run-20210907_185514-2u8iyfts\u001b[0m\n"
          ],
          "name": "stderr"
        },
        {
          "output_type": "stream",
          "text": [
            "<function sample_image at 0x7f5a16f95d08> executed in 1 min 13.380042791366577 sec\n",
            "**************************************************\n",
            "**************************************************\n"
          ],
          "name": "stdout"
        },
        {
          "output_type": "stream",
          "text": [
            "\u001b[34m\u001b[1mwandb\u001b[0m: W&B syncing is set to `offline` in this directory.  Run `wandb online` or set WANDB_MODE=online to enable cloud syncing.\n"
          ],
          "name": "stderr"
        },
        {
          "output_type": "display_data",
          "data": {
            "text/plain": [
              "<IPython.core.display.HTML object>"
            ],
            "text/html": [
              "<br/>Waiting for W&B process to finish, PID 57107<br/>Program ended successfully."
            ]
          },
          "metadata": {}
        },
        {
          "output_type": "display_data",
          "data": {
            "text/plain": [
              "<IPython.core.display.HTML object>"
            ],
            "text/html": [
              "Find user logs for this run at: <code>/workspace/home/jesandov/Code/Tesis/dalle-pytorch/wandb/offline-run-20210907_185628-2gouyoiq/logs/debug.log</code>"
            ]
          },
          "metadata": {}
        },
        {
          "output_type": "display_data",
          "data": {
            "text/plain": [
              "<IPython.core.display.HTML object>"
            ],
            "text/html": [
              "Find internal logs for this run at: <code>/workspace/home/jesandov/Code/Tesis/dalle-pytorch/wandb/offline-run-20210907_185628-2gouyoiq/logs/debug-internal.log</code>"
            ]
          },
          "metadata": {}
        },
        {
          "output_type": "stream",
          "text": [
            "\u001b[34m\u001b[1mwandb\u001b[0m: You can sync this run to the cloud by running:\n",
            "\u001b[34m\u001b[1mwandb\u001b[0m: \u001b[33mwandb sync /workspace/home/jesandov/Code/Tesis/dalle-pytorch/wandb/offline-run-20210907_185628-2gouyoiq\u001b[0m\n"
          ],
          "name": "stderr"
        },
        {
          "output_type": "stream",
          "text": [
            "<function sample_image at 0x7f5a16f95d08> executed in 1 min 13.8895583152771 sec\n",
            "**************************************************\n",
            "**************************************************\n"
          ],
          "name": "stdout"
        },
        {
          "output_type": "stream",
          "text": [
            "\u001b[34m\u001b[1mwandb\u001b[0m: W&B syncing is set to `offline` in this directory.  Run `wandb online` or set WANDB_MODE=online to enable cloud syncing.\n"
          ],
          "name": "stderr"
        },
        {
          "output_type": "display_data",
          "data": {
            "text/plain": [
              "<IPython.core.display.HTML object>"
            ],
            "text/html": [
              "<br/>Waiting for W&B process to finish, PID 57326<br/>Program ended successfully."
            ]
          },
          "metadata": {}
        },
        {
          "output_type": "display_data",
          "data": {
            "text/plain": [
              "<IPython.core.display.HTML object>"
            ],
            "text/html": [
              "Find user logs for this run at: <code>/workspace/home/jesandov/Code/Tesis/dalle-pytorch/wandb/offline-run-20210907_185741-3f4lrh6v/logs/debug.log</code>"
            ]
          },
          "metadata": {}
        },
        {
          "output_type": "display_data",
          "data": {
            "text/plain": [
              "<IPython.core.display.HTML object>"
            ],
            "text/html": [
              "Find internal logs for this run at: <code>/workspace/home/jesandov/Code/Tesis/dalle-pytorch/wandb/offline-run-20210907_185741-3f4lrh6v/logs/debug-internal.log</code>"
            ]
          },
          "metadata": {}
        },
        {
          "output_type": "stream",
          "text": [
            "\u001b[34m\u001b[1mwandb\u001b[0m: You can sync this run to the cloud by running:\n",
            "\u001b[34m\u001b[1mwandb\u001b[0m: \u001b[33mwandb sync /workspace/home/jesandov/Code/Tesis/dalle-pytorch/wandb/offline-run-20210907_185741-3f4lrh6v\u001b[0m\n"
          ],
          "name": "stderr"
        },
        {
          "output_type": "stream",
          "text": [
            "<function sample_image at 0x7f5a16f95d08> executed in 1 min 13.410194396972656 sec\n",
            "**************************************************\n",
            "**************************************************\n"
          ],
          "name": "stdout"
        },
        {
          "output_type": "stream",
          "text": [
            "\u001b[34m\u001b[1mwandb\u001b[0m: W&B syncing is set to `offline` in this directory.  Run `wandb online` or set WANDB_MODE=online to enable cloud syncing.\n"
          ],
          "name": "stderr"
        },
        {
          "output_type": "display_data",
          "data": {
            "text/plain": [
              "<IPython.core.display.HTML object>"
            ],
            "text/html": [
              "<br/>Waiting for W&B process to finish, PID 57545<br/>Program ended successfully."
            ]
          },
          "metadata": {}
        },
        {
          "output_type": "display_data",
          "data": {
            "text/plain": [
              "<IPython.core.display.HTML object>"
            ],
            "text/html": [
              "Find user logs for this run at: <code>/workspace/home/jesandov/Code/Tesis/dalle-pytorch/wandb/offline-run-20210907_185855-1wn8espr/logs/debug.log</code>"
            ]
          },
          "metadata": {}
        },
        {
          "output_type": "display_data",
          "data": {
            "text/plain": [
              "<IPython.core.display.HTML object>"
            ],
            "text/html": [
              "Find internal logs for this run at: <code>/workspace/home/jesandov/Code/Tesis/dalle-pytorch/wandb/offline-run-20210907_185855-1wn8espr/logs/debug-internal.log</code>"
            ]
          },
          "metadata": {}
        },
        {
          "output_type": "stream",
          "text": [
            "\u001b[34m\u001b[1mwandb\u001b[0m: You can sync this run to the cloud by running:\n",
            "\u001b[34m\u001b[1mwandb\u001b[0m: \u001b[33mwandb sync /workspace/home/jesandov/Code/Tesis/dalle-pytorch/wandb/offline-run-20210907_185855-1wn8espr\u001b[0m\n"
          ],
          "name": "stderr"
        },
        {
          "output_type": "stream",
          "text": [
            "<function sample_image at 0x7f5a16f95d08> executed in 1 min 13.430967092514038 sec\n",
            "**************************************************\n",
            "**************************************************\n"
          ],
          "name": "stdout"
        },
        {
          "output_type": "stream",
          "text": [
            "\u001b[34m\u001b[1mwandb\u001b[0m: W&B syncing is set to `offline` in this directory.  Run `wandb online` or set WANDB_MODE=online to enable cloud syncing.\n"
          ],
          "name": "stderr"
        },
        {
          "output_type": "display_data",
          "data": {
            "text/plain": [
              "<IPython.core.display.HTML object>"
            ],
            "text/html": [
              "<br/>Waiting for W&B process to finish, PID 57767<br/>Program ended successfully."
            ]
          },
          "metadata": {}
        },
        {
          "output_type": "display_data",
          "data": {
            "text/plain": [
              "<IPython.core.display.HTML object>"
            ],
            "text/html": [
              "Find user logs for this run at: <code>/workspace/home/jesandov/Code/Tesis/dalle-pytorch/wandb/offline-run-20210907_190008-23zshfhu/logs/debug.log</code>"
            ]
          },
          "metadata": {}
        },
        {
          "output_type": "display_data",
          "data": {
            "text/plain": [
              "<IPython.core.display.HTML object>"
            ],
            "text/html": [
              "Find internal logs for this run at: <code>/workspace/home/jesandov/Code/Tesis/dalle-pytorch/wandb/offline-run-20210907_190008-23zshfhu/logs/debug-internal.log</code>"
            ]
          },
          "metadata": {}
        },
        {
          "output_type": "stream",
          "text": [
            "\u001b[34m\u001b[1mwandb\u001b[0m: You can sync this run to the cloud by running:\n",
            "\u001b[34m\u001b[1mwandb\u001b[0m: \u001b[33mwandb sync /workspace/home/jesandov/Code/Tesis/dalle-pytorch/wandb/offline-run-20210907_190008-23zshfhu\u001b[0m\n"
          ],
          "name": "stderr"
        },
        {
          "output_type": "stream",
          "text": [
            "<function sample_image at 0x7f5a16f95d08> executed in 1 min 13.913154125213623 sec\n",
            "**************************************************\n",
            "**************************************************\n"
          ],
          "name": "stdout"
        },
        {
          "output_type": "stream",
          "text": [
            "\u001b[34m\u001b[1mwandb\u001b[0m: W&B syncing is set to `offline` in this directory.  Run `wandb online` or set WANDB_MODE=online to enable cloud syncing.\n"
          ],
          "name": "stderr"
        },
        {
          "output_type": "display_data",
          "data": {
            "text/plain": [
              "<IPython.core.display.HTML object>"
            ],
            "text/html": [
              "<br/>Waiting for W&B process to finish, PID 57988<br/>Program ended successfully."
            ]
          },
          "metadata": {}
        },
        {
          "output_type": "display_data",
          "data": {
            "text/plain": [
              "<IPython.core.display.HTML object>"
            ],
            "text/html": [
              "Find user logs for this run at: <code>/workspace/home/jesandov/Code/Tesis/dalle-pytorch/wandb/offline-run-20210907_190122-cya059ln/logs/debug.log</code>"
            ]
          },
          "metadata": {}
        },
        {
          "output_type": "display_data",
          "data": {
            "text/plain": [
              "<IPython.core.display.HTML object>"
            ],
            "text/html": [
              "Find internal logs for this run at: <code>/workspace/home/jesandov/Code/Tesis/dalle-pytorch/wandb/offline-run-20210907_190122-cya059ln/logs/debug-internal.log</code>"
            ]
          },
          "metadata": {}
        },
        {
          "output_type": "stream",
          "text": [
            "\u001b[34m\u001b[1mwandb\u001b[0m: You can sync this run to the cloud by running:\n",
            "\u001b[34m\u001b[1mwandb\u001b[0m: \u001b[33mwandb sync /workspace/home/jesandov/Code/Tesis/dalle-pytorch/wandb/offline-run-20210907_190122-cya059ln\u001b[0m\n"
          ],
          "name": "stderr"
        },
        {
          "output_type": "stream",
          "text": [
            "<function sample_image at 0x7f5a16f95d08> executed in 1 min 13.912476778030396 sec\n",
            "**************************************************\n",
            "**************************************************\n"
          ],
          "name": "stdout"
        },
        {
          "output_type": "stream",
          "text": [
            "\u001b[34m\u001b[1mwandb\u001b[0m: W&B syncing is set to `offline` in this directory.  Run `wandb online` or set WANDB_MODE=online to enable cloud syncing.\n"
          ],
          "name": "stderr"
        },
        {
          "output_type": "display_data",
          "data": {
            "text/plain": [
              "<IPython.core.display.HTML object>"
            ],
            "text/html": [
              "<br/>Waiting for W&B process to finish, PID 58212<br/>Program ended successfully."
            ]
          },
          "metadata": {}
        },
        {
          "output_type": "display_data",
          "data": {
            "text/plain": [
              "<IPython.core.display.HTML object>"
            ],
            "text/html": [
              "Find user logs for this run at: <code>/workspace/home/jesandov/Code/Tesis/dalle-pytorch/wandb/offline-run-20210907_190236-240lu75c/logs/debug.log</code>"
            ]
          },
          "metadata": {}
        },
        {
          "output_type": "display_data",
          "data": {
            "text/plain": [
              "<IPython.core.display.HTML object>"
            ],
            "text/html": [
              "Find internal logs for this run at: <code>/workspace/home/jesandov/Code/Tesis/dalle-pytorch/wandb/offline-run-20210907_190236-240lu75c/logs/debug-internal.log</code>"
            ]
          },
          "metadata": {}
        },
        {
          "output_type": "stream",
          "text": [
            "\u001b[34m\u001b[1mwandb\u001b[0m: You can sync this run to the cloud by running:\n",
            "\u001b[34m\u001b[1mwandb\u001b[0m: \u001b[33mwandb sync /workspace/home/jesandov/Code/Tesis/dalle-pytorch/wandb/offline-run-20210907_190236-240lu75c\u001b[0m\n"
          ],
          "name": "stderr"
        },
        {
          "output_type": "stream",
          "text": [
            "<function sample_image at 0x7f5a16f95d08> executed in 1 min 14.00830364227295 sec\n",
            "**************************************************\n",
            "**************************************************\n"
          ],
          "name": "stdout"
        },
        {
          "output_type": "stream",
          "text": [
            "\u001b[34m\u001b[1mwandb\u001b[0m: W&B syncing is set to `offline` in this directory.  Run `wandb online` or set WANDB_MODE=online to enable cloud syncing.\n"
          ],
          "name": "stderr"
        },
        {
          "output_type": "display_data",
          "data": {
            "text/plain": [
              "<IPython.core.display.HTML object>"
            ],
            "text/html": [
              "<br/>Waiting for W&B process to finish, PID 58435<br/>Program ended successfully."
            ]
          },
          "metadata": {}
        },
        {
          "output_type": "display_data",
          "data": {
            "text/plain": [
              "<IPython.core.display.HTML object>"
            ],
            "text/html": [
              "Find user logs for this run at: <code>/workspace/home/jesandov/Code/Tesis/dalle-pytorch/wandb/offline-run-20210907_190350-1di89x8q/logs/debug.log</code>"
            ]
          },
          "metadata": {}
        },
        {
          "output_type": "display_data",
          "data": {
            "text/plain": [
              "<IPython.core.display.HTML object>"
            ],
            "text/html": [
              "Find internal logs for this run at: <code>/workspace/home/jesandov/Code/Tesis/dalle-pytorch/wandb/offline-run-20210907_190350-1di89x8q/logs/debug-internal.log</code>"
            ]
          },
          "metadata": {}
        },
        {
          "output_type": "stream",
          "text": [
            "\u001b[34m\u001b[1mwandb\u001b[0m: You can sync this run to the cloud by running:\n",
            "\u001b[34m\u001b[1mwandb\u001b[0m: \u001b[33mwandb sync /workspace/home/jesandov/Code/Tesis/dalle-pytorch/wandb/offline-run-20210907_190350-1di89x8q\u001b[0m\n"
          ],
          "name": "stderr"
        },
        {
          "output_type": "stream",
          "text": [
            "<function sample_image at 0x7f5a16f95d08> executed in 1 min 13.444147825241089 sec\n",
            "**************************************************\n",
            "**************************************************\n"
          ],
          "name": "stdout"
        },
        {
          "output_type": "stream",
          "text": [
            "\u001b[34m\u001b[1mwandb\u001b[0m: W&B syncing is set to `offline` in this directory.  Run `wandb online` or set WANDB_MODE=online to enable cloud syncing.\n"
          ],
          "name": "stderr"
        },
        {
          "output_type": "display_data",
          "data": {
            "text/plain": [
              "<IPython.core.display.HTML object>"
            ],
            "text/html": [
              "<br/>Waiting for W&B process to finish, PID 58660<br/>Program ended successfully."
            ]
          },
          "metadata": {}
        },
        {
          "output_type": "display_data",
          "data": {
            "text/plain": [
              "<IPython.core.display.HTML object>"
            ],
            "text/html": [
              "Find user logs for this run at: <code>/workspace/home/jesandov/Code/Tesis/dalle-pytorch/wandb/offline-run-20210907_190504-2sf062ez/logs/debug.log</code>"
            ]
          },
          "metadata": {}
        },
        {
          "output_type": "display_data",
          "data": {
            "text/plain": [
              "<IPython.core.display.HTML object>"
            ],
            "text/html": [
              "Find internal logs for this run at: <code>/workspace/home/jesandov/Code/Tesis/dalle-pytorch/wandb/offline-run-20210907_190504-2sf062ez/logs/debug-internal.log</code>"
            ]
          },
          "metadata": {}
        },
        {
          "output_type": "stream",
          "text": [
            "\u001b[34m\u001b[1mwandb\u001b[0m: You can sync this run to the cloud by running:\n",
            "\u001b[34m\u001b[1mwandb\u001b[0m: \u001b[33mwandb sync /workspace/home/jesandov/Code/Tesis/dalle-pytorch/wandb/offline-run-20210907_190504-2sf062ez\u001b[0m\n"
          ],
          "name": "stderr"
        },
        {
          "output_type": "stream",
          "text": [
            "<function sample_image at 0x7f5a16f95d08> executed in 1 min 14.050763130187988 sec\n",
            "**************************************************\n",
            "**************************************************\n"
          ],
          "name": "stdout"
        },
        {
          "output_type": "stream",
          "text": [
            "\u001b[34m\u001b[1mwandb\u001b[0m: W&B syncing is set to `offline` in this directory.  Run `wandb online` or set WANDB_MODE=online to enable cloud syncing.\n"
          ],
          "name": "stderr"
        },
        {
          "output_type": "display_data",
          "data": {
            "text/plain": [
              "<IPython.core.display.HTML object>"
            ],
            "text/html": [
              "<br/>Waiting for W&B process to finish, PID 58882<br/>Program ended successfully."
            ]
          },
          "metadata": {}
        },
        {
          "output_type": "display_data",
          "data": {
            "text/plain": [
              "<IPython.core.display.HTML object>"
            ],
            "text/html": [
              "Find user logs for this run at: <code>/workspace/home/jesandov/Code/Tesis/dalle-pytorch/wandb/offline-run-20210907_190618-7ucmuh1i/logs/debug.log</code>"
            ]
          },
          "metadata": {}
        },
        {
          "output_type": "display_data",
          "data": {
            "text/plain": [
              "<IPython.core.display.HTML object>"
            ],
            "text/html": [
              "Find internal logs for this run at: <code>/workspace/home/jesandov/Code/Tesis/dalle-pytorch/wandb/offline-run-20210907_190618-7ucmuh1i/logs/debug-internal.log</code>"
            ]
          },
          "metadata": {}
        },
        {
          "output_type": "stream",
          "text": [
            "\u001b[34m\u001b[1mwandb\u001b[0m: You can sync this run to the cloud by running:\n",
            "\u001b[34m\u001b[1mwandb\u001b[0m: \u001b[33mwandb sync /workspace/home/jesandov/Code/Tesis/dalle-pytorch/wandb/offline-run-20210907_190618-7ucmuh1i\u001b[0m\n"
          ],
          "name": "stderr"
        },
        {
          "output_type": "stream",
          "text": [
            "<function sample_image at 0x7f5a16f95d08> executed in 1 min 13.962286472320557 sec\n",
            "**************************************************\n",
            "**************************************************\n"
          ],
          "name": "stdout"
        },
        {
          "output_type": "stream",
          "text": [
            "\u001b[34m\u001b[1mwandb\u001b[0m: W&B syncing is set to `offline` in this directory.  Run `wandb online` or set WANDB_MODE=online to enable cloud syncing.\n"
          ],
          "name": "stderr"
        },
        {
          "output_type": "display_data",
          "data": {
            "text/plain": [
              "<IPython.core.display.HTML object>"
            ],
            "text/html": [
              "<br/>Waiting for W&B process to finish, PID 59102<br/>Program ended successfully."
            ]
          },
          "metadata": {}
        },
        {
          "output_type": "display_data",
          "data": {
            "text/plain": [
              "<IPython.core.display.HTML object>"
            ],
            "text/html": [
              "Find user logs for this run at: <code>/workspace/home/jesandov/Code/Tesis/dalle-pytorch/wandb/offline-run-20210907_190732-2tqmrtwp/logs/debug.log</code>"
            ]
          },
          "metadata": {}
        },
        {
          "output_type": "display_data",
          "data": {
            "text/plain": [
              "<IPython.core.display.HTML object>"
            ],
            "text/html": [
              "Find internal logs for this run at: <code>/workspace/home/jesandov/Code/Tesis/dalle-pytorch/wandb/offline-run-20210907_190732-2tqmrtwp/logs/debug-internal.log</code>"
            ]
          },
          "metadata": {}
        },
        {
          "output_type": "stream",
          "text": [
            "\u001b[34m\u001b[1mwandb\u001b[0m: You can sync this run to the cloud by running:\n",
            "\u001b[34m\u001b[1mwandb\u001b[0m: \u001b[33mwandb sync /workspace/home/jesandov/Code/Tesis/dalle-pytorch/wandb/offline-run-20210907_190732-2tqmrtwp\u001b[0m\n"
          ],
          "name": "stderr"
        },
        {
          "output_type": "stream",
          "text": [
            "<function sample_image at 0x7f5a16f95d08> executed in 1 min 13.891975164413452 sec\n",
            "**************************************************\n",
            "**************************************************\n"
          ],
          "name": "stdout"
        },
        {
          "output_type": "stream",
          "text": [
            "\u001b[34m\u001b[1mwandb\u001b[0m: W&B syncing is set to `offline` in this directory.  Run `wandb online` or set WANDB_MODE=online to enable cloud syncing.\n"
          ],
          "name": "stderr"
        },
        {
          "output_type": "display_data",
          "data": {
            "text/plain": [
              "<IPython.core.display.HTML object>"
            ],
            "text/html": [
              "<br/>Waiting for W&B process to finish, PID 59322<br/>Program ended successfully."
            ]
          },
          "metadata": {}
        },
        {
          "output_type": "display_data",
          "data": {
            "text/plain": [
              "<IPython.core.display.HTML object>"
            ],
            "text/html": [
              "Find user logs for this run at: <code>/workspace/home/jesandov/Code/Tesis/dalle-pytorch/wandb/offline-run-20210907_190846-2ikgnh9s/logs/debug.log</code>"
            ]
          },
          "metadata": {}
        },
        {
          "output_type": "display_data",
          "data": {
            "text/plain": [
              "<IPython.core.display.HTML object>"
            ],
            "text/html": [
              "Find internal logs for this run at: <code>/workspace/home/jesandov/Code/Tesis/dalle-pytorch/wandb/offline-run-20210907_190846-2ikgnh9s/logs/debug-internal.log</code>"
            ]
          },
          "metadata": {}
        },
        {
          "output_type": "stream",
          "text": [
            "\u001b[34m\u001b[1mwandb\u001b[0m: You can sync this run to the cloud by running:\n",
            "\u001b[34m\u001b[1mwandb\u001b[0m: \u001b[33mwandb sync /workspace/home/jesandov/Code/Tesis/dalle-pytorch/wandb/offline-run-20210907_190846-2ikgnh9s\u001b[0m\n"
          ],
          "name": "stderr"
        },
        {
          "output_type": "stream",
          "text": [
            "<function sample_image at 0x7f5a16f95d08> executed in 1 min 13.930914163589478 sec\n",
            "**************************************************\n",
            "**************************************************\n"
          ],
          "name": "stdout"
        },
        {
          "output_type": "stream",
          "text": [
            "\u001b[34m\u001b[1mwandb\u001b[0m: W&B syncing is set to `offline` in this directory.  Run `wandb online` or set WANDB_MODE=online to enable cloud syncing.\n"
          ],
          "name": "stderr"
        },
        {
          "output_type": "display_data",
          "data": {
            "text/plain": [
              "<IPython.core.display.HTML object>"
            ],
            "text/html": [
              "<br/>Waiting for W&B process to finish, PID 59543<br/>Program ended successfully."
            ]
          },
          "metadata": {}
        },
        {
          "output_type": "display_data",
          "data": {
            "text/plain": [
              "<IPython.core.display.HTML object>"
            ],
            "text/html": [
              "Find user logs for this run at: <code>/workspace/home/jesandov/Code/Tesis/dalle-pytorch/wandb/offline-run-20210907_191000-13x6nkx3/logs/debug.log</code>"
            ]
          },
          "metadata": {}
        },
        {
          "output_type": "display_data",
          "data": {
            "text/plain": [
              "<IPython.core.display.HTML object>"
            ],
            "text/html": [
              "Find internal logs for this run at: <code>/workspace/home/jesandov/Code/Tesis/dalle-pytorch/wandb/offline-run-20210907_191000-13x6nkx3/logs/debug-internal.log</code>"
            ]
          },
          "metadata": {}
        },
        {
          "output_type": "stream",
          "text": [
            "\u001b[34m\u001b[1mwandb\u001b[0m: You can sync this run to the cloud by running:\n",
            "\u001b[34m\u001b[1mwandb\u001b[0m: \u001b[33mwandb sync /workspace/home/jesandov/Code/Tesis/dalle-pytorch/wandb/offline-run-20210907_191000-13x6nkx3\u001b[0m\n"
          ],
          "name": "stderr"
        },
        {
          "output_type": "stream",
          "text": [
            "<function sample_image at 0x7f5a16f95d08> executed in 1 min 13.4787757396698 sec\n",
            "**************************************************\n",
            "**************************************************\n"
          ],
          "name": "stdout"
        },
        {
          "output_type": "stream",
          "text": [
            "\u001b[34m\u001b[1mwandb\u001b[0m: W&B syncing is set to `offline` in this directory.  Run `wandb online` or set WANDB_MODE=online to enable cloud syncing.\n"
          ],
          "name": "stderr"
        },
        {
          "output_type": "display_data",
          "data": {
            "text/plain": [
              "<IPython.core.display.HTML object>"
            ],
            "text/html": [
              "<br/>Waiting for W&B process to finish, PID 59766<br/>Program ended successfully."
            ]
          },
          "metadata": {}
        },
        {
          "output_type": "display_data",
          "data": {
            "text/plain": [
              "<IPython.core.display.HTML object>"
            ],
            "text/html": [
              "Find user logs for this run at: <code>/workspace/home/jesandov/Code/Tesis/dalle-pytorch/wandb/offline-run-20210907_191113-37chnvtl/logs/debug.log</code>"
            ]
          },
          "metadata": {}
        },
        {
          "output_type": "display_data",
          "data": {
            "text/plain": [
              "<IPython.core.display.HTML object>"
            ],
            "text/html": [
              "Find internal logs for this run at: <code>/workspace/home/jesandov/Code/Tesis/dalle-pytorch/wandb/offline-run-20210907_191113-37chnvtl/logs/debug-internal.log</code>"
            ]
          },
          "metadata": {}
        },
        {
          "output_type": "stream",
          "text": [
            "\u001b[34m\u001b[1mwandb\u001b[0m: You can sync this run to the cloud by running:\n",
            "\u001b[34m\u001b[1mwandb\u001b[0m: \u001b[33mwandb sync /workspace/home/jesandov/Code/Tesis/dalle-pytorch/wandb/offline-run-20210907_191113-37chnvtl\u001b[0m\n"
          ],
          "name": "stderr"
        },
        {
          "output_type": "stream",
          "text": [
            "<function sample_image at 0x7f5a16f95d08> executed in 1 min 13.393794059753418 sec\n",
            "**************************************************\n",
            "**************************************************\n"
          ],
          "name": "stdout"
        },
        {
          "output_type": "stream",
          "text": [
            "\u001b[34m\u001b[1mwandb\u001b[0m: W&B syncing is set to `offline` in this directory.  Run `wandb online` or set WANDB_MODE=online to enable cloud syncing.\n"
          ],
          "name": "stderr"
        },
        {
          "output_type": "display_data",
          "data": {
            "text/plain": [
              "<IPython.core.display.HTML object>"
            ],
            "text/html": [
              "<br/>Waiting for W&B process to finish, PID 59988<br/>Program ended successfully."
            ]
          },
          "metadata": {}
        },
        {
          "output_type": "display_data",
          "data": {
            "text/plain": [
              "<IPython.core.display.HTML object>"
            ],
            "text/html": [
              "Find user logs for this run at: <code>/workspace/home/jesandov/Code/Tesis/dalle-pytorch/wandb/offline-run-20210907_191227-kfi87ayq/logs/debug.log</code>"
            ]
          },
          "metadata": {}
        },
        {
          "output_type": "display_data",
          "data": {
            "text/plain": [
              "<IPython.core.display.HTML object>"
            ],
            "text/html": [
              "Find internal logs for this run at: <code>/workspace/home/jesandov/Code/Tesis/dalle-pytorch/wandb/offline-run-20210907_191227-kfi87ayq/logs/debug-internal.log</code>"
            ]
          },
          "metadata": {}
        },
        {
          "output_type": "stream",
          "text": [
            "\u001b[34m\u001b[1mwandb\u001b[0m: You can sync this run to the cloud by running:\n",
            "\u001b[34m\u001b[1mwandb\u001b[0m: \u001b[33mwandb sync /workspace/home/jesandov/Code/Tesis/dalle-pytorch/wandb/offline-run-20210907_191227-kfi87ayq\u001b[0m\n"
          ],
          "name": "stderr"
        },
        {
          "output_type": "stream",
          "text": [
            "<function sample_image at 0x7f5a16f95d08> executed in 1 min 13.917170763015747 sec\n",
            "**************************************************\n",
            "**************************************************\n"
          ],
          "name": "stdout"
        },
        {
          "output_type": "stream",
          "text": [
            "\u001b[34m\u001b[1mwandb\u001b[0m: W&B syncing is set to `offline` in this directory.  Run `wandb online` or set WANDB_MODE=online to enable cloud syncing.\n"
          ],
          "name": "stderr"
        },
        {
          "output_type": "display_data",
          "data": {
            "text/plain": [
              "<IPython.core.display.HTML object>"
            ],
            "text/html": [
              "<br/>Waiting for W&B process to finish, PID 60214<br/>Program ended successfully."
            ]
          },
          "metadata": {}
        },
        {
          "output_type": "display_data",
          "data": {
            "text/plain": [
              "<IPython.core.display.HTML object>"
            ],
            "text/html": [
              "Find user logs for this run at: <code>/workspace/home/jesandov/Code/Tesis/dalle-pytorch/wandb/offline-run-20210907_191341-1rrm36zu/logs/debug.log</code>"
            ]
          },
          "metadata": {}
        },
        {
          "output_type": "display_data",
          "data": {
            "text/plain": [
              "<IPython.core.display.HTML object>"
            ],
            "text/html": [
              "Find internal logs for this run at: <code>/workspace/home/jesandov/Code/Tesis/dalle-pytorch/wandb/offline-run-20210907_191341-1rrm36zu/logs/debug-internal.log</code>"
            ]
          },
          "metadata": {}
        },
        {
          "output_type": "stream",
          "text": [
            "\u001b[34m\u001b[1mwandb\u001b[0m: You can sync this run to the cloud by running:\n",
            "\u001b[34m\u001b[1mwandb\u001b[0m: \u001b[33mwandb sync /workspace/home/jesandov/Code/Tesis/dalle-pytorch/wandb/offline-run-20210907_191341-1rrm36zu\u001b[0m\n"
          ],
          "name": "stderr"
        },
        {
          "output_type": "stream",
          "text": [
            "<function sample_image at 0x7f5a16f95d08> executed in 1 min 13.998746156692505 sec\n",
            "**************************************************\n",
            "**************************************************\n"
          ],
          "name": "stdout"
        },
        {
          "output_type": "stream",
          "text": [
            "\u001b[34m\u001b[1mwandb\u001b[0m: W&B syncing is set to `offline` in this directory.  Run `wandb online` or set WANDB_MODE=online to enable cloud syncing.\n"
          ],
          "name": "stderr"
        },
        {
          "output_type": "display_data",
          "data": {
            "text/plain": [
              "<IPython.core.display.HTML object>"
            ],
            "text/html": [
              "<br/>Waiting for W&B process to finish, PID 60437<br/>Program ended successfully."
            ]
          },
          "metadata": {}
        },
        {
          "output_type": "display_data",
          "data": {
            "text/plain": [
              "<IPython.core.display.HTML object>"
            ],
            "text/html": [
              "Find user logs for this run at: <code>/workspace/home/jesandov/Code/Tesis/dalle-pytorch/wandb/offline-run-20210907_191455-15ixo5h9/logs/debug.log</code>"
            ]
          },
          "metadata": {}
        },
        {
          "output_type": "display_data",
          "data": {
            "text/plain": [
              "<IPython.core.display.HTML object>"
            ],
            "text/html": [
              "Find internal logs for this run at: <code>/workspace/home/jesandov/Code/Tesis/dalle-pytorch/wandb/offline-run-20210907_191455-15ixo5h9/logs/debug-internal.log</code>"
            ]
          },
          "metadata": {}
        },
        {
          "output_type": "stream",
          "text": [
            "\u001b[34m\u001b[1mwandb\u001b[0m: You can sync this run to the cloud by running:\n",
            "\u001b[34m\u001b[1mwandb\u001b[0m: \u001b[33mwandb sync /workspace/home/jesandov/Code/Tesis/dalle-pytorch/wandb/offline-run-20210907_191455-15ixo5h9\u001b[0m\n"
          ],
          "name": "stderr"
        },
        {
          "output_type": "stream",
          "text": [
            "<function sample_image at 0x7f5a16f95d08> executed in 1 min 14.461776971817017 sec\n",
            "**************************************************\n",
            "**************************************************\n"
          ],
          "name": "stdout"
        },
        {
          "output_type": "stream",
          "text": [
            "\u001b[34m\u001b[1mwandb\u001b[0m: W&B syncing is set to `offline` in this directory.  Run `wandb online` or set WANDB_MODE=online to enable cloud syncing.\n"
          ],
          "name": "stderr"
        },
        {
          "output_type": "display_data",
          "data": {
            "text/plain": [
              "<IPython.core.display.HTML object>"
            ],
            "text/html": [
              "<br/>Waiting for W&B process to finish, PID 60658<br/>Program ended successfully."
            ]
          },
          "metadata": {}
        },
        {
          "output_type": "display_data",
          "data": {
            "text/plain": [
              "<IPython.core.display.HTML object>"
            ],
            "text/html": [
              "Find user logs for this run at: <code>/workspace/home/jesandov/Code/Tesis/dalle-pytorch/wandb/offline-run-20210907_191609-1b8gxrc1/logs/debug.log</code>"
            ]
          },
          "metadata": {}
        },
        {
          "output_type": "display_data",
          "data": {
            "text/plain": [
              "<IPython.core.display.HTML object>"
            ],
            "text/html": [
              "Find internal logs for this run at: <code>/workspace/home/jesandov/Code/Tesis/dalle-pytorch/wandb/offline-run-20210907_191609-1b8gxrc1/logs/debug-internal.log</code>"
            ]
          },
          "metadata": {}
        },
        {
          "output_type": "stream",
          "text": [
            "\u001b[34m\u001b[1mwandb\u001b[0m: You can sync this run to the cloud by running:\n",
            "\u001b[34m\u001b[1mwandb\u001b[0m: \u001b[33mwandb sync /workspace/home/jesandov/Code/Tesis/dalle-pytorch/wandb/offline-run-20210907_191609-1b8gxrc1\u001b[0m\n"
          ],
          "name": "stderr"
        },
        {
          "output_type": "stream",
          "text": [
            "<function sample_image at 0x7f5a16f95d08> executed in 1 min 12.918569326400757 sec\n",
            "**************************************************\n",
            "**************************************************\n"
          ],
          "name": "stdout"
        },
        {
          "output_type": "stream",
          "text": [
            "\u001b[34m\u001b[1mwandb\u001b[0m: W&B syncing is set to `offline` in this directory.  Run `wandb online` or set WANDB_MODE=online to enable cloud syncing.\n"
          ],
          "name": "stderr"
        },
        {
          "output_type": "display_data",
          "data": {
            "text/plain": [
              "<IPython.core.display.HTML object>"
            ],
            "text/html": [
              "<br/>Waiting for W&B process to finish, PID 60875<br/>Program ended successfully."
            ]
          },
          "metadata": {}
        },
        {
          "output_type": "display_data",
          "data": {
            "text/plain": [
              "<IPython.core.display.HTML object>"
            ],
            "text/html": [
              "Find user logs for this run at: <code>/workspace/home/jesandov/Code/Tesis/dalle-pytorch/wandb/offline-run-20210907_191722-2emlfzs5/logs/debug.log</code>"
            ]
          },
          "metadata": {}
        },
        {
          "output_type": "display_data",
          "data": {
            "text/plain": [
              "<IPython.core.display.HTML object>"
            ],
            "text/html": [
              "Find internal logs for this run at: <code>/workspace/home/jesandov/Code/Tesis/dalle-pytorch/wandb/offline-run-20210907_191722-2emlfzs5/logs/debug-internal.log</code>"
            ]
          },
          "metadata": {}
        },
        {
          "output_type": "stream",
          "text": [
            "\u001b[34m\u001b[1mwandb\u001b[0m: You can sync this run to the cloud by running:\n",
            "\u001b[34m\u001b[1mwandb\u001b[0m: \u001b[33mwandb sync /workspace/home/jesandov/Code/Tesis/dalle-pytorch/wandb/offline-run-20210907_191722-2emlfzs5\u001b[0m\n"
          ],
          "name": "stderr"
        },
        {
          "output_type": "stream",
          "text": [
            "<function sample_image at 0x7f5a16f95d08> executed in 1 min 14.465829133987427 sec\n",
            "**************************************************\n",
            "**************************************************\n"
          ],
          "name": "stdout"
        },
        {
          "output_type": "stream",
          "text": [
            "\u001b[34m\u001b[1mwandb\u001b[0m: W&B syncing is set to `offline` in this directory.  Run `wandb online` or set WANDB_MODE=online to enable cloud syncing.\n"
          ],
          "name": "stderr"
        },
        {
          "output_type": "display_data",
          "data": {
            "text/plain": [
              "<IPython.core.display.HTML object>"
            ],
            "text/html": [
              "<br/>Waiting for W&B process to finish, PID 61096<br/>Program ended successfully."
            ]
          },
          "metadata": {}
        },
        {
          "output_type": "display_data",
          "data": {
            "text/plain": [
              "<IPython.core.display.HTML object>"
            ],
            "text/html": [
              "Find user logs for this run at: <code>/workspace/home/jesandov/Code/Tesis/dalle-pytorch/wandb/offline-run-20210907_191837-30us7ah6/logs/debug.log</code>"
            ]
          },
          "metadata": {}
        },
        {
          "output_type": "display_data",
          "data": {
            "text/plain": [
              "<IPython.core.display.HTML object>"
            ],
            "text/html": [
              "Find internal logs for this run at: <code>/workspace/home/jesandov/Code/Tesis/dalle-pytorch/wandb/offline-run-20210907_191837-30us7ah6/logs/debug-internal.log</code>"
            ]
          },
          "metadata": {}
        },
        {
          "output_type": "stream",
          "text": [
            "\u001b[34m\u001b[1mwandb\u001b[0m: You can sync this run to the cloud by running:\n",
            "\u001b[34m\u001b[1mwandb\u001b[0m: \u001b[33mwandb sync /workspace/home/jesandov/Code/Tesis/dalle-pytorch/wandb/offline-run-20210907_191837-30us7ah6\u001b[0m\n"
          ],
          "name": "stderr"
        },
        {
          "output_type": "stream",
          "text": [
            "<function sample_image at 0x7f5a16f95d08> executed in 1 min 14.410558462142944 sec\n",
            "**************************************************\n",
            "**************************************************\n"
          ],
          "name": "stdout"
        },
        {
          "output_type": "stream",
          "text": [
            "\u001b[34m\u001b[1mwandb\u001b[0m: W&B syncing is set to `offline` in this directory.  Run `wandb online` or set WANDB_MODE=online to enable cloud syncing.\n"
          ],
          "name": "stderr"
        },
        {
          "output_type": "display_data",
          "data": {
            "text/plain": [
              "<IPython.core.display.HTML object>"
            ],
            "text/html": [
              "<br/>Waiting for W&B process to finish, PID 61320<br/>Program ended successfully."
            ]
          },
          "metadata": {}
        },
        {
          "output_type": "display_data",
          "data": {
            "text/plain": [
              "<IPython.core.display.HTML object>"
            ],
            "text/html": [
              "Find user logs for this run at: <code>/workspace/home/jesandov/Code/Tesis/dalle-pytorch/wandb/offline-run-20210907_191951-m3ykwsbs/logs/debug.log</code>"
            ]
          },
          "metadata": {}
        },
        {
          "output_type": "display_data",
          "data": {
            "text/plain": [
              "<IPython.core.display.HTML object>"
            ],
            "text/html": [
              "Find internal logs for this run at: <code>/workspace/home/jesandov/Code/Tesis/dalle-pytorch/wandb/offline-run-20210907_191951-m3ykwsbs/logs/debug-internal.log</code>"
            ]
          },
          "metadata": {}
        },
        {
          "output_type": "stream",
          "text": [
            "\u001b[34m\u001b[1mwandb\u001b[0m: You can sync this run to the cloud by running:\n",
            "\u001b[34m\u001b[1mwandb\u001b[0m: \u001b[33mwandb sync /workspace/home/jesandov/Code/Tesis/dalle-pytorch/wandb/offline-run-20210907_191951-m3ykwsbs\u001b[0m\n"
          ],
          "name": "stderr"
        },
        {
          "output_type": "stream",
          "text": [
            "<function sample_image at 0x7f5a16f95d08> executed in 1 min 13.387707948684692 sec\n",
            "**************************************************\n",
            "**************************************************\n"
          ],
          "name": "stdout"
        },
        {
          "output_type": "stream",
          "text": [
            "\u001b[34m\u001b[1mwandb\u001b[0m: W&B syncing is set to `offline` in this directory.  Run `wandb online` or set WANDB_MODE=online to enable cloud syncing.\n"
          ],
          "name": "stderr"
        },
        {
          "output_type": "display_data",
          "data": {
            "text/plain": [
              "<IPython.core.display.HTML object>"
            ],
            "text/html": [
              "<br/>Waiting for W&B process to finish, PID 61537<br/>Program ended successfully."
            ]
          },
          "metadata": {}
        },
        {
          "output_type": "display_data",
          "data": {
            "text/plain": [
              "<IPython.core.display.HTML object>"
            ],
            "text/html": [
              "Find user logs for this run at: <code>/workspace/home/jesandov/Code/Tesis/dalle-pytorch/wandb/offline-run-20210907_192104-3w09478r/logs/debug.log</code>"
            ]
          },
          "metadata": {}
        },
        {
          "output_type": "display_data",
          "data": {
            "text/plain": [
              "<IPython.core.display.HTML object>"
            ],
            "text/html": [
              "Find internal logs for this run at: <code>/workspace/home/jesandov/Code/Tesis/dalle-pytorch/wandb/offline-run-20210907_192104-3w09478r/logs/debug-internal.log</code>"
            ]
          },
          "metadata": {}
        },
        {
          "output_type": "stream",
          "text": [
            "\u001b[34m\u001b[1mwandb\u001b[0m: You can sync this run to the cloud by running:\n",
            "\u001b[34m\u001b[1mwandb\u001b[0m: \u001b[33mwandb sync /workspace/home/jesandov/Code/Tesis/dalle-pytorch/wandb/offline-run-20210907_192104-3w09478r\u001b[0m\n"
          ],
          "name": "stderr"
        },
        {
          "output_type": "stream",
          "text": [
            "<function sample_image at 0x7f5a16f95d08> executed in 1 min 13.605436325073242 sec\n",
            "**************************************************\n",
            "**************************************************\n"
          ],
          "name": "stdout"
        },
        {
          "output_type": "stream",
          "text": [
            "\u001b[34m\u001b[1mwandb\u001b[0m: W&B syncing is set to `offline` in this directory.  Run `wandb online` or set WANDB_MODE=online to enable cloud syncing.\n"
          ],
          "name": "stderr"
        },
        {
          "output_type": "display_data",
          "data": {
            "text/plain": [
              "<IPython.core.display.HTML object>"
            ],
            "text/html": [
              "<br/>Waiting for W&B process to finish, PID 61757<br/>Program ended successfully."
            ]
          },
          "metadata": {}
        },
        {
          "output_type": "display_data",
          "data": {
            "text/plain": [
              "<IPython.core.display.HTML object>"
            ],
            "text/html": [
              "Find user logs for this run at: <code>/workspace/home/jesandov/Code/Tesis/dalle-pytorch/wandb/offline-run-20210907_192218-3ngsjrqf/logs/debug.log</code>"
            ]
          },
          "metadata": {}
        },
        {
          "output_type": "display_data",
          "data": {
            "text/plain": [
              "<IPython.core.display.HTML object>"
            ],
            "text/html": [
              "Find internal logs for this run at: <code>/workspace/home/jesandov/Code/Tesis/dalle-pytorch/wandb/offline-run-20210907_192218-3ngsjrqf/logs/debug-internal.log</code>"
            ]
          },
          "metadata": {}
        },
        {
          "output_type": "stream",
          "text": [
            "\u001b[34m\u001b[1mwandb\u001b[0m: You can sync this run to the cloud by running:\n",
            "\u001b[34m\u001b[1mwandb\u001b[0m: \u001b[33mwandb sync /workspace/home/jesandov/Code/Tesis/dalle-pytorch/wandb/offline-run-20210907_192218-3ngsjrqf\u001b[0m\n"
          ],
          "name": "stderr"
        },
        {
          "output_type": "stream",
          "text": [
            "<function sample_image at 0x7f5a16f95d08> executed in 1 min 13.886284351348877 sec\n",
            "**************************************************\n",
            "**************************************************\n"
          ],
          "name": "stdout"
        },
        {
          "output_type": "stream",
          "text": [
            "\u001b[34m\u001b[1mwandb\u001b[0m: W&B syncing is set to `offline` in this directory.  Run `wandb online` or set WANDB_MODE=online to enable cloud syncing.\n"
          ],
          "name": "stderr"
        },
        {
          "output_type": "display_data",
          "data": {
            "text/plain": [
              "<IPython.core.display.HTML object>"
            ],
            "text/html": [
              "<br/>Waiting for W&B process to finish, PID 61980<br/>Program ended successfully."
            ]
          },
          "metadata": {}
        },
        {
          "output_type": "display_data",
          "data": {
            "text/plain": [
              "<IPython.core.display.HTML object>"
            ],
            "text/html": [
              "Find user logs for this run at: <code>/workspace/home/jesandov/Code/Tesis/dalle-pytorch/wandb/offline-run-20210907_192332-1lq2rk3d/logs/debug.log</code>"
            ]
          },
          "metadata": {}
        },
        {
          "output_type": "display_data",
          "data": {
            "text/plain": [
              "<IPython.core.display.HTML object>"
            ],
            "text/html": [
              "Find internal logs for this run at: <code>/workspace/home/jesandov/Code/Tesis/dalle-pytorch/wandb/offline-run-20210907_192332-1lq2rk3d/logs/debug-internal.log</code>"
            ]
          },
          "metadata": {}
        },
        {
          "output_type": "stream",
          "text": [
            "\u001b[34m\u001b[1mwandb\u001b[0m: You can sync this run to the cloud by running:\n",
            "\u001b[34m\u001b[1mwandb\u001b[0m: \u001b[33mwandb sync /workspace/home/jesandov/Code/Tesis/dalle-pytorch/wandb/offline-run-20210907_192332-1lq2rk3d\u001b[0m\n"
          ],
          "name": "stderr"
        },
        {
          "output_type": "stream",
          "text": [
            "<function sample_image at 0x7f5a16f95d08> executed in 1 min 13.542684555053711 sec\n",
            "**************************************************\n",
            "**************************************************\n"
          ],
          "name": "stdout"
        },
        {
          "output_type": "stream",
          "text": [
            "\u001b[34m\u001b[1mwandb\u001b[0m: W&B syncing is set to `offline` in this directory.  Run `wandb online` or set WANDB_MODE=online to enable cloud syncing.\n"
          ],
          "name": "stderr"
        },
        {
          "output_type": "display_data",
          "data": {
            "text/plain": [
              "<IPython.core.display.HTML object>"
            ],
            "text/html": [
              "<br/>Waiting for W&B process to finish, PID 62203<br/>Program ended successfully."
            ]
          },
          "metadata": {}
        },
        {
          "output_type": "display_data",
          "data": {
            "text/plain": [
              "<IPython.core.display.HTML object>"
            ],
            "text/html": [
              "Find user logs for this run at: <code>/workspace/home/jesandov/Code/Tesis/dalle-pytorch/wandb/offline-run-20210907_192446-1njaa4gz/logs/debug.log</code>"
            ]
          },
          "metadata": {}
        },
        {
          "output_type": "display_data",
          "data": {
            "text/plain": [
              "<IPython.core.display.HTML object>"
            ],
            "text/html": [
              "Find internal logs for this run at: <code>/workspace/home/jesandov/Code/Tesis/dalle-pytorch/wandb/offline-run-20210907_192446-1njaa4gz/logs/debug-internal.log</code>"
            ]
          },
          "metadata": {}
        },
        {
          "output_type": "stream",
          "text": [
            "\u001b[34m\u001b[1mwandb\u001b[0m: You can sync this run to the cloud by running:\n",
            "\u001b[34m\u001b[1mwandb\u001b[0m: \u001b[33mwandb sync /workspace/home/jesandov/Code/Tesis/dalle-pytorch/wandb/offline-run-20210907_192446-1njaa4gz\u001b[0m\n"
          ],
          "name": "stderr"
        },
        {
          "output_type": "stream",
          "text": [
            "<function sample_image at 0x7f5a16f95d08> executed in 1 min 14.102503538131714 sec\n",
            "**************************************************\n",
            "**************************************************\n"
          ],
          "name": "stdout"
        },
        {
          "output_type": "stream",
          "text": [
            "\u001b[34m\u001b[1mwandb\u001b[0m: W&B syncing is set to `offline` in this directory.  Run `wandb online` or set WANDB_MODE=online to enable cloud syncing.\n"
          ],
          "name": "stderr"
        },
        {
          "output_type": "display_data",
          "data": {
            "text/plain": [
              "<IPython.core.display.HTML object>"
            ],
            "text/html": [
              "<br/>Waiting for W&B process to finish, PID 62423<br/>Program ended successfully."
            ]
          },
          "metadata": {}
        },
        {
          "output_type": "display_data",
          "data": {
            "text/plain": [
              "<IPython.core.display.HTML object>"
            ],
            "text/html": [
              "Find user logs for this run at: <code>/workspace/home/jesandov/Code/Tesis/dalle-pytorch/wandb/offline-run-20210907_192600-3dvgqog2/logs/debug.log</code>"
            ]
          },
          "metadata": {}
        },
        {
          "output_type": "display_data",
          "data": {
            "text/plain": [
              "<IPython.core.display.HTML object>"
            ],
            "text/html": [
              "Find internal logs for this run at: <code>/workspace/home/jesandov/Code/Tesis/dalle-pytorch/wandb/offline-run-20210907_192600-3dvgqog2/logs/debug-internal.log</code>"
            ]
          },
          "metadata": {}
        },
        {
          "output_type": "stream",
          "text": [
            "\u001b[34m\u001b[1mwandb\u001b[0m: You can sync this run to the cloud by running:\n",
            "\u001b[34m\u001b[1mwandb\u001b[0m: \u001b[33mwandb sync /workspace/home/jesandov/Code/Tesis/dalle-pytorch/wandb/offline-run-20210907_192600-3dvgqog2\u001b[0m\n"
          ],
          "name": "stderr"
        },
        {
          "output_type": "stream",
          "text": [
            "<function sample_image at 0x7f5a16f95d08> executed in 1 min 14.438110828399658 sec\n",
            "**************************************************\n",
            "**************************************************\n"
          ],
          "name": "stdout"
        },
        {
          "output_type": "stream",
          "text": [
            "\u001b[34m\u001b[1mwandb\u001b[0m: W&B syncing is set to `offline` in this directory.  Run `wandb online` or set WANDB_MODE=online to enable cloud syncing.\n"
          ],
          "name": "stderr"
        },
        {
          "output_type": "display_data",
          "data": {
            "text/plain": [
              "<IPython.core.display.HTML object>"
            ],
            "text/html": [
              "<br/>Waiting for W&B process to finish, PID 62645<br/>Program ended successfully."
            ]
          },
          "metadata": {}
        },
        {
          "output_type": "display_data",
          "data": {
            "text/plain": [
              "<IPython.core.display.HTML object>"
            ],
            "text/html": [
              "Find user logs for this run at: <code>/workspace/home/jesandov/Code/Tesis/dalle-pytorch/wandb/offline-run-20210907_192714-1na30wd8/logs/debug.log</code>"
            ]
          },
          "metadata": {}
        },
        {
          "output_type": "display_data",
          "data": {
            "text/plain": [
              "<IPython.core.display.HTML object>"
            ],
            "text/html": [
              "Find internal logs for this run at: <code>/workspace/home/jesandov/Code/Tesis/dalle-pytorch/wandb/offline-run-20210907_192714-1na30wd8/logs/debug-internal.log</code>"
            ]
          },
          "metadata": {}
        },
        {
          "output_type": "stream",
          "text": [
            "\u001b[34m\u001b[1mwandb\u001b[0m: You can sync this run to the cloud by running:\n",
            "\u001b[34m\u001b[1mwandb\u001b[0m: \u001b[33mwandb sync /workspace/home/jesandov/Code/Tesis/dalle-pytorch/wandb/offline-run-20210907_192714-1na30wd8\u001b[0m\n"
          ],
          "name": "stderr"
        },
        {
          "output_type": "stream",
          "text": [
            "<function sample_image at 0x7f5a16f95d08> executed in 1 min 14.11239242553711 sec\n",
            "**************************************************\n",
            "**************************************************\n"
          ],
          "name": "stdout"
        },
        {
          "output_type": "stream",
          "text": [
            "\u001b[34m\u001b[1mwandb\u001b[0m: W&B syncing is set to `offline` in this directory.  Run `wandb online` or set WANDB_MODE=online to enable cloud syncing.\n"
          ],
          "name": "stderr"
        },
        {
          "output_type": "display_data",
          "data": {
            "text/plain": [
              "<IPython.core.display.HTML object>"
            ],
            "text/html": [
              "<br/>Waiting for W&B process to finish, PID 62864<br/>Program ended successfully."
            ]
          },
          "metadata": {}
        },
        {
          "output_type": "display_data",
          "data": {
            "text/plain": [
              "<IPython.core.display.HTML object>"
            ],
            "text/html": [
              "Find user logs for this run at: <code>/workspace/home/jesandov/Code/Tesis/dalle-pytorch/wandb/offline-run-20210907_192828-1axyj4y1/logs/debug.log</code>"
            ]
          },
          "metadata": {}
        },
        {
          "output_type": "display_data",
          "data": {
            "text/plain": [
              "<IPython.core.display.HTML object>"
            ],
            "text/html": [
              "Find internal logs for this run at: <code>/workspace/home/jesandov/Code/Tesis/dalle-pytorch/wandb/offline-run-20210907_192828-1axyj4y1/logs/debug-internal.log</code>"
            ]
          },
          "metadata": {}
        },
        {
          "output_type": "stream",
          "text": [
            "\u001b[34m\u001b[1mwandb\u001b[0m: You can sync this run to the cloud by running:\n",
            "\u001b[34m\u001b[1mwandb\u001b[0m: \u001b[33mwandb sync /workspace/home/jesandov/Code/Tesis/dalle-pytorch/wandb/offline-run-20210907_192828-1axyj4y1\u001b[0m\n"
          ],
          "name": "stderr"
        },
        {
          "output_type": "stream",
          "text": [
            "<function sample_image at 0x7f5a16f95d08> executed in 1 min 13.401657104492188 sec\n",
            "**************************************************\n",
            "**************************************************\n"
          ],
          "name": "stdout"
        },
        {
          "output_type": "stream",
          "text": [
            "\u001b[34m\u001b[1mwandb\u001b[0m: W&B syncing is set to `offline` in this directory.  Run `wandb online` or set WANDB_MODE=online to enable cloud syncing.\n"
          ],
          "name": "stderr"
        },
        {
          "output_type": "display_data",
          "data": {
            "text/plain": [
              "<IPython.core.display.HTML object>"
            ],
            "text/html": [
              "<br/>Waiting for W&B process to finish, PID 63084<br/>Program ended successfully."
            ]
          },
          "metadata": {}
        },
        {
          "output_type": "display_data",
          "data": {
            "text/plain": [
              "<IPython.core.display.HTML object>"
            ],
            "text/html": [
              "Find user logs for this run at: <code>/workspace/home/jesandov/Code/Tesis/dalle-pytorch/wandb/offline-run-20210907_192942-24qmaxxd/logs/debug.log</code>"
            ]
          },
          "metadata": {}
        },
        {
          "output_type": "display_data",
          "data": {
            "text/plain": [
              "<IPython.core.display.HTML object>"
            ],
            "text/html": [
              "Find internal logs for this run at: <code>/workspace/home/jesandov/Code/Tesis/dalle-pytorch/wandb/offline-run-20210907_192942-24qmaxxd/logs/debug-internal.log</code>"
            ]
          },
          "metadata": {}
        },
        {
          "output_type": "stream",
          "text": [
            "\u001b[34m\u001b[1mwandb\u001b[0m: You can sync this run to the cloud by running:\n",
            "\u001b[34m\u001b[1mwandb\u001b[0m: \u001b[33mwandb sync /workspace/home/jesandov/Code/Tesis/dalle-pytorch/wandb/offline-run-20210907_192942-24qmaxxd\u001b[0m\n"
          ],
          "name": "stderr"
        },
        {
          "output_type": "stream",
          "text": [
            "<function sample_image at 0x7f5a16f95d08> executed in 1 min 13.929139852523804 sec\n",
            "**************************************************\n",
            "**************************************************\n"
          ],
          "name": "stdout"
        },
        {
          "output_type": "stream",
          "text": [
            "\u001b[34m\u001b[1mwandb\u001b[0m: W&B syncing is set to `offline` in this directory.  Run `wandb online` or set WANDB_MODE=online to enable cloud syncing.\n"
          ],
          "name": "stderr"
        },
        {
          "output_type": "display_data",
          "data": {
            "text/plain": [
              "<IPython.core.display.HTML object>"
            ],
            "text/html": [
              "<br/>Waiting for W&B process to finish, PID 63306<br/>Program ended successfully."
            ]
          },
          "metadata": {}
        },
        {
          "output_type": "display_data",
          "data": {
            "text/plain": [
              "<IPython.core.display.HTML object>"
            ],
            "text/html": [
              "Find user logs for this run at: <code>/workspace/home/jesandov/Code/Tesis/dalle-pytorch/wandb/offline-run-20210907_193056-to3xoebr/logs/debug.log</code>"
            ]
          },
          "metadata": {}
        },
        {
          "output_type": "display_data",
          "data": {
            "text/plain": [
              "<IPython.core.display.HTML object>"
            ],
            "text/html": [
              "Find internal logs for this run at: <code>/workspace/home/jesandov/Code/Tesis/dalle-pytorch/wandb/offline-run-20210907_193056-to3xoebr/logs/debug-internal.log</code>"
            ]
          },
          "metadata": {}
        },
        {
          "output_type": "stream",
          "text": [
            "\u001b[34m\u001b[1mwandb\u001b[0m: You can sync this run to the cloud by running:\n",
            "\u001b[34m\u001b[1mwandb\u001b[0m: \u001b[33mwandb sync /workspace/home/jesandov/Code/Tesis/dalle-pytorch/wandb/offline-run-20210907_193056-to3xoebr\u001b[0m\n"
          ],
          "name": "stderr"
        },
        {
          "output_type": "stream",
          "text": [
            "<function sample_image at 0x7f5a16f95d08> executed in 1 min 13.405396461486816 sec\n",
            "**************************************************\n",
            "**************************************************\n"
          ],
          "name": "stdout"
        },
        {
          "output_type": "stream",
          "text": [
            "\u001b[34m\u001b[1mwandb\u001b[0m: W&B syncing is set to `offline` in this directory.  Run `wandb online` or set WANDB_MODE=online to enable cloud syncing.\n"
          ],
          "name": "stderr"
        },
        {
          "output_type": "display_data",
          "data": {
            "text/plain": [
              "<IPython.core.display.HTML object>"
            ],
            "text/html": [
              "<br/>Waiting for W&B process to finish, PID 63526<br/>Program ended successfully."
            ]
          },
          "metadata": {}
        },
        {
          "output_type": "display_data",
          "data": {
            "text/plain": [
              "<IPython.core.display.HTML object>"
            ],
            "text/html": [
              "Find user logs for this run at: <code>/workspace/home/jesandov/Code/Tesis/dalle-pytorch/wandb/offline-run-20210907_193209-t7azqk4v/logs/debug.log</code>"
            ]
          },
          "metadata": {}
        },
        {
          "output_type": "display_data",
          "data": {
            "text/plain": [
              "<IPython.core.display.HTML object>"
            ],
            "text/html": [
              "Find internal logs for this run at: <code>/workspace/home/jesandov/Code/Tesis/dalle-pytorch/wandb/offline-run-20210907_193209-t7azqk4v/logs/debug-internal.log</code>"
            ]
          },
          "metadata": {}
        },
        {
          "output_type": "stream",
          "text": [
            "\u001b[34m\u001b[1mwandb\u001b[0m: You can sync this run to the cloud by running:\n",
            "\u001b[34m\u001b[1mwandb\u001b[0m: \u001b[33mwandb sync /workspace/home/jesandov/Code/Tesis/dalle-pytorch/wandb/offline-run-20210907_193209-t7azqk4v\u001b[0m\n"
          ],
          "name": "stderr"
        },
        {
          "output_type": "stream",
          "text": [
            "<function sample_image at 0x7f5a16f95d08> executed in 1 min 13.406702756881714 sec\n",
            "**************************************************\n",
            "**************************************************\n"
          ],
          "name": "stdout"
        },
        {
          "output_type": "stream",
          "text": [
            "\u001b[34m\u001b[1mwandb\u001b[0m: W&B syncing is set to `offline` in this directory.  Run `wandb online` or set WANDB_MODE=online to enable cloud syncing.\n"
          ],
          "name": "stderr"
        },
        {
          "output_type": "display_data",
          "data": {
            "text/plain": [
              "<IPython.core.display.HTML object>"
            ],
            "text/html": [
              "<br/>Waiting for W&B process to finish, PID 63747<br/>Program ended successfully."
            ]
          },
          "metadata": {}
        },
        {
          "output_type": "display_data",
          "data": {
            "text/plain": [
              "<IPython.core.display.HTML object>"
            ],
            "text/html": [
              "Find user logs for this run at: <code>/workspace/home/jesandov/Code/Tesis/dalle-pytorch/wandb/offline-run-20210907_193323-3emo8m9a/logs/debug.log</code>"
            ]
          },
          "metadata": {}
        },
        {
          "output_type": "display_data",
          "data": {
            "text/plain": [
              "<IPython.core.display.HTML object>"
            ],
            "text/html": [
              "Find internal logs for this run at: <code>/workspace/home/jesandov/Code/Tesis/dalle-pytorch/wandb/offline-run-20210907_193323-3emo8m9a/logs/debug-internal.log</code>"
            ]
          },
          "metadata": {}
        },
        {
          "output_type": "stream",
          "text": [
            "\u001b[34m\u001b[1mwandb\u001b[0m: You can sync this run to the cloud by running:\n",
            "\u001b[34m\u001b[1mwandb\u001b[0m: \u001b[33mwandb sync /workspace/home/jesandov/Code/Tesis/dalle-pytorch/wandb/offline-run-20210907_193323-3emo8m9a\u001b[0m\n"
          ],
          "name": "stderr"
        },
        {
          "output_type": "stream",
          "text": [
            "<function sample_image at 0x7f5a16f95d08> executed in 1 min 14.476075887680054 sec\n",
            "**************************************************\n",
            "**************************************************\n"
          ],
          "name": "stdout"
        },
        {
          "output_type": "stream",
          "text": [
            "\u001b[34m\u001b[1mwandb\u001b[0m: W&B syncing is set to `offline` in this directory.  Run `wandb online` or set WANDB_MODE=online to enable cloud syncing.\n"
          ],
          "name": "stderr"
        },
        {
          "output_type": "display_data",
          "data": {
            "text/plain": [
              "<IPython.core.display.HTML object>"
            ],
            "text/html": [
              "<br/>Waiting for W&B process to finish, PID 63973<br/>Program ended successfully."
            ]
          },
          "metadata": {}
        },
        {
          "output_type": "display_data",
          "data": {
            "text/plain": [
              "<IPython.core.display.HTML object>"
            ],
            "text/html": [
              "Find user logs for this run at: <code>/workspace/home/jesandov/Code/Tesis/dalle-pytorch/wandb/offline-run-20210907_193437-1tym2gxa/logs/debug.log</code>"
            ]
          },
          "metadata": {}
        },
        {
          "output_type": "display_data",
          "data": {
            "text/plain": [
              "<IPython.core.display.HTML object>"
            ],
            "text/html": [
              "Find internal logs for this run at: <code>/workspace/home/jesandov/Code/Tesis/dalle-pytorch/wandb/offline-run-20210907_193437-1tym2gxa/logs/debug-internal.log</code>"
            ]
          },
          "metadata": {}
        },
        {
          "output_type": "stream",
          "text": [
            "\u001b[34m\u001b[1mwandb\u001b[0m: You can sync this run to the cloud by running:\n",
            "\u001b[34m\u001b[1mwandb\u001b[0m: \u001b[33mwandb sync /workspace/home/jesandov/Code/Tesis/dalle-pytorch/wandb/offline-run-20210907_193437-1tym2gxa\u001b[0m\n"
          ],
          "name": "stderr"
        },
        {
          "output_type": "stream",
          "text": [
            "<function sample_image at 0x7f5a16f95d08> executed in 1 min 12.889222621917725 sec\n",
            "**************************************************\n",
            "**************************************************\n"
          ],
          "name": "stdout"
        },
        {
          "output_type": "stream",
          "text": [
            "\u001b[34m\u001b[1mwandb\u001b[0m: W&B syncing is set to `offline` in this directory.  Run `wandb online` or set WANDB_MODE=online to enable cloud syncing.\n"
          ],
          "name": "stderr"
        },
        {
          "output_type": "display_data",
          "data": {
            "text/plain": [
              "<IPython.core.display.HTML object>"
            ],
            "text/html": [
              "<br/>Waiting for W&B process to finish, PID 64192<br/>Program ended successfully."
            ]
          },
          "metadata": {}
        },
        {
          "output_type": "display_data",
          "data": {
            "text/plain": [
              "<IPython.core.display.HTML object>"
            ],
            "text/html": [
              "Find user logs for this run at: <code>/workspace/home/jesandov/Code/Tesis/dalle-pytorch/wandb/offline-run-20210907_193550-1nqj4san/logs/debug.log</code>"
            ]
          },
          "metadata": {}
        },
        {
          "output_type": "display_data",
          "data": {
            "text/plain": [
              "<IPython.core.display.HTML object>"
            ],
            "text/html": [
              "Find internal logs for this run at: <code>/workspace/home/jesandov/Code/Tesis/dalle-pytorch/wandb/offline-run-20210907_193550-1nqj4san/logs/debug-internal.log</code>"
            ]
          },
          "metadata": {}
        },
        {
          "output_type": "stream",
          "text": [
            "\u001b[34m\u001b[1mwandb\u001b[0m: You can sync this run to the cloud by running:\n",
            "\u001b[34m\u001b[1mwandb\u001b[0m: \u001b[33mwandb sync /workspace/home/jesandov/Code/Tesis/dalle-pytorch/wandb/offline-run-20210907_193550-1nqj4san\u001b[0m\n"
          ],
          "name": "stderr"
        },
        {
          "output_type": "stream",
          "text": [
            "<function sample_image at 0x7f5a16f95d08> executed in 1 min 14.175403594970703 sec\n",
            "**************************************************\n",
            "**************************************************\n"
          ],
          "name": "stdout"
        },
        {
          "output_type": "stream",
          "text": [
            "\u001b[34m\u001b[1mwandb\u001b[0m: W&B syncing is set to `offline` in this directory.  Run `wandb online` or set WANDB_MODE=online to enable cloud syncing.\n"
          ],
          "name": "stderr"
        },
        {
          "output_type": "display_data",
          "data": {
            "text/plain": [
              "<IPython.core.display.HTML object>"
            ],
            "text/html": [
              "<br/>Waiting for W&B process to finish, PID 64411<br/>Program ended successfully."
            ]
          },
          "metadata": {}
        },
        {
          "output_type": "display_data",
          "data": {
            "text/plain": [
              "<IPython.core.display.HTML object>"
            ],
            "text/html": [
              "Find user logs for this run at: <code>/workspace/home/jesandov/Code/Tesis/dalle-pytorch/wandb/offline-run-20210907_193704-259qlaic/logs/debug.log</code>"
            ]
          },
          "metadata": {}
        },
        {
          "output_type": "display_data",
          "data": {
            "text/plain": [
              "<IPython.core.display.HTML object>"
            ],
            "text/html": [
              "Find internal logs for this run at: <code>/workspace/home/jesandov/Code/Tesis/dalle-pytorch/wandb/offline-run-20210907_193704-259qlaic/logs/debug-internal.log</code>"
            ]
          },
          "metadata": {}
        },
        {
          "output_type": "stream",
          "text": [
            "\u001b[34m\u001b[1mwandb\u001b[0m: You can sync this run to the cloud by running:\n",
            "\u001b[34m\u001b[1mwandb\u001b[0m: \u001b[33mwandb sync /workspace/home/jesandov/Code/Tesis/dalle-pytorch/wandb/offline-run-20210907_193704-259qlaic\u001b[0m\n"
          ],
          "name": "stderr"
        },
        {
          "output_type": "stream",
          "text": [
            "<function sample_image at 0x7f5a16f95d08> executed in 1 min 13.91042685508728 sec\n",
            "**************************************************\n",
            "**************************************************\n"
          ],
          "name": "stdout"
        },
        {
          "output_type": "stream",
          "text": [
            "\u001b[34m\u001b[1mwandb\u001b[0m: W&B syncing is set to `offline` in this directory.  Run `wandb online` or set WANDB_MODE=online to enable cloud syncing.\n"
          ],
          "name": "stderr"
        },
        {
          "output_type": "display_data",
          "data": {
            "text/plain": [
              "<IPython.core.display.HTML object>"
            ],
            "text/html": [
              "<br/>Waiting for W&B process to finish, PID 64631<br/>Program ended successfully."
            ]
          },
          "metadata": {}
        },
        {
          "output_type": "display_data",
          "data": {
            "text/plain": [
              "<IPython.core.display.HTML object>"
            ],
            "text/html": [
              "Find user logs for this run at: <code>/workspace/home/jesandov/Code/Tesis/dalle-pytorch/wandb/offline-run-20210907_193818-1wr0zhdp/logs/debug.log</code>"
            ]
          },
          "metadata": {}
        },
        {
          "output_type": "display_data",
          "data": {
            "text/plain": [
              "<IPython.core.display.HTML object>"
            ],
            "text/html": [
              "Find internal logs for this run at: <code>/workspace/home/jesandov/Code/Tesis/dalle-pytorch/wandb/offline-run-20210907_193818-1wr0zhdp/logs/debug-internal.log</code>"
            ]
          },
          "metadata": {}
        },
        {
          "output_type": "stream",
          "text": [
            "\u001b[34m\u001b[1mwandb\u001b[0m: You can sync this run to the cloud by running:\n",
            "\u001b[34m\u001b[1mwandb\u001b[0m: \u001b[33mwandb sync /workspace/home/jesandov/Code/Tesis/dalle-pytorch/wandb/offline-run-20210907_193818-1wr0zhdp\u001b[0m\n"
          ],
          "name": "stderr"
        },
        {
          "output_type": "stream",
          "text": [
            "<function sample_image at 0x7f5a16f95d08> executed in 1 min 13.969310283660889 sec\n",
            "**************************************************\n",
            "**************************************************\n"
          ],
          "name": "stdout"
        },
        {
          "output_type": "stream",
          "text": [
            "\u001b[34m\u001b[1mwandb\u001b[0m: W&B syncing is set to `offline` in this directory.  Run `wandb online` or set WANDB_MODE=online to enable cloud syncing.\n"
          ],
          "name": "stderr"
        },
        {
          "output_type": "display_data",
          "data": {
            "text/plain": [
              "<IPython.core.display.HTML object>"
            ],
            "text/html": [
              "<br/>Waiting for W&B process to finish, PID 64853<br/>Program ended successfully."
            ]
          },
          "metadata": {}
        },
        {
          "output_type": "display_data",
          "data": {
            "text/plain": [
              "<IPython.core.display.HTML object>"
            ],
            "text/html": [
              "Find user logs for this run at: <code>/workspace/home/jesandov/Code/Tesis/dalle-pytorch/wandb/offline-run-20210907_193932-3lwg3z2w/logs/debug.log</code>"
            ]
          },
          "metadata": {}
        },
        {
          "output_type": "display_data",
          "data": {
            "text/plain": [
              "<IPython.core.display.HTML object>"
            ],
            "text/html": [
              "Find internal logs for this run at: <code>/workspace/home/jesandov/Code/Tesis/dalle-pytorch/wandb/offline-run-20210907_193932-3lwg3z2w/logs/debug-internal.log</code>"
            ]
          },
          "metadata": {}
        },
        {
          "output_type": "stream",
          "text": [
            "\u001b[34m\u001b[1mwandb\u001b[0m: You can sync this run to the cloud by running:\n",
            "\u001b[34m\u001b[1mwandb\u001b[0m: \u001b[33mwandb sync /workspace/home/jesandov/Code/Tesis/dalle-pytorch/wandb/offline-run-20210907_193932-3lwg3z2w\u001b[0m\n"
          ],
          "name": "stderr"
        },
        {
          "output_type": "stream",
          "text": [
            "<function sample_image at 0x7f5a16f95d08> executed in 1 min 13.422694683074951 sec\n",
            "**************************************************\n",
            "**************************************************\n"
          ],
          "name": "stdout"
        },
        {
          "output_type": "stream",
          "text": [
            "\u001b[34m\u001b[1mwandb\u001b[0m: W&B syncing is set to `offline` in this directory.  Run `wandb online` or set WANDB_MODE=online to enable cloud syncing.\n"
          ],
          "name": "stderr"
        },
        {
          "output_type": "display_data",
          "data": {
            "text/plain": [
              "<IPython.core.display.HTML object>"
            ],
            "text/html": [
              "<br/>Waiting for W&B process to finish, PID 65072<br/>Program ended successfully."
            ]
          },
          "metadata": {}
        },
        {
          "output_type": "display_data",
          "data": {
            "text/plain": [
              "<IPython.core.display.HTML object>"
            ],
            "text/html": [
              "Find user logs for this run at: <code>/workspace/home/jesandov/Code/Tesis/dalle-pytorch/wandb/offline-run-20210907_194046-2rpz249w/logs/debug.log</code>"
            ]
          },
          "metadata": {}
        },
        {
          "output_type": "display_data",
          "data": {
            "text/plain": [
              "<IPython.core.display.HTML object>"
            ],
            "text/html": [
              "Find internal logs for this run at: <code>/workspace/home/jesandov/Code/Tesis/dalle-pytorch/wandb/offline-run-20210907_194046-2rpz249w/logs/debug-internal.log</code>"
            ]
          },
          "metadata": {}
        },
        {
          "output_type": "stream",
          "text": [
            "\u001b[34m\u001b[1mwandb\u001b[0m: You can sync this run to the cloud by running:\n",
            "\u001b[34m\u001b[1mwandb\u001b[0m: \u001b[33mwandb sync /workspace/home/jesandov/Code/Tesis/dalle-pytorch/wandb/offline-run-20210907_194046-2rpz249w\u001b[0m\n"
          ],
          "name": "stderr"
        },
        {
          "output_type": "stream",
          "text": [
            "<function sample_image at 0x7f5a16f95d08> executed in 1 min 12.96961760520935 sec\n",
            "**************************************************\n",
            "**************************************************\n"
          ],
          "name": "stdout"
        },
        {
          "output_type": "stream",
          "text": [
            "\u001b[34m\u001b[1mwandb\u001b[0m: W&B syncing is set to `offline` in this directory.  Run `wandb online` or set WANDB_MODE=online to enable cloud syncing.\n"
          ],
          "name": "stderr"
        },
        {
          "output_type": "display_data",
          "data": {
            "text/plain": [
              "<IPython.core.display.HTML object>"
            ],
            "text/html": [
              "<br/>Waiting for W&B process to finish, PID 65289<br/>Program ended successfully."
            ]
          },
          "metadata": {}
        },
        {
          "output_type": "display_data",
          "data": {
            "text/plain": [
              "<IPython.core.display.HTML object>"
            ],
            "text/html": [
              "Find user logs for this run at: <code>/workspace/home/jesandov/Code/Tesis/dalle-pytorch/wandb/offline-run-20210907_194159-2yqeye3x/logs/debug.log</code>"
            ]
          },
          "metadata": {}
        },
        {
          "output_type": "display_data",
          "data": {
            "text/plain": [
              "<IPython.core.display.HTML object>"
            ],
            "text/html": [
              "Find internal logs for this run at: <code>/workspace/home/jesandov/Code/Tesis/dalle-pytorch/wandb/offline-run-20210907_194159-2yqeye3x/logs/debug-internal.log</code>"
            ]
          },
          "metadata": {}
        },
        {
          "output_type": "stream",
          "text": [
            "\u001b[34m\u001b[1mwandb\u001b[0m: You can sync this run to the cloud by running:\n",
            "\u001b[34m\u001b[1mwandb\u001b[0m: \u001b[33mwandb sync /workspace/home/jesandov/Code/Tesis/dalle-pytorch/wandb/offline-run-20210907_194159-2yqeye3x\u001b[0m\n"
          ],
          "name": "stderr"
        },
        {
          "output_type": "stream",
          "text": [
            "<function sample_image at 0x7f5a16f95d08> executed in 1 min 14.033435583114624 sec\n",
            "**************************************************\n",
            "**************************************************\n"
          ],
          "name": "stdout"
        },
        {
          "output_type": "stream",
          "text": [
            "\u001b[34m\u001b[1mwandb\u001b[0m: W&B syncing is set to `offline` in this directory.  Run `wandb online` or set WANDB_MODE=online to enable cloud syncing.\n"
          ],
          "name": "stderr"
        },
        {
          "output_type": "display_data",
          "data": {
            "text/plain": [
              "<IPython.core.display.HTML object>"
            ],
            "text/html": [
              "<br/>Waiting for W&B process to finish, PID 65519<br/>Program ended successfully."
            ]
          },
          "metadata": {}
        },
        {
          "output_type": "display_data",
          "data": {
            "text/plain": [
              "<IPython.core.display.HTML object>"
            ],
            "text/html": [
              "Find user logs for this run at: <code>/workspace/home/jesandov/Code/Tesis/dalle-pytorch/wandb/offline-run-20210907_194313-36fi6dj8/logs/debug.log</code>"
            ]
          },
          "metadata": {}
        },
        {
          "output_type": "display_data",
          "data": {
            "text/plain": [
              "<IPython.core.display.HTML object>"
            ],
            "text/html": [
              "Find internal logs for this run at: <code>/workspace/home/jesandov/Code/Tesis/dalle-pytorch/wandb/offline-run-20210907_194313-36fi6dj8/logs/debug-internal.log</code>"
            ]
          },
          "metadata": {}
        },
        {
          "output_type": "stream",
          "text": [
            "\u001b[34m\u001b[1mwandb\u001b[0m: You can sync this run to the cloud by running:\n",
            "\u001b[34m\u001b[1mwandb\u001b[0m: \u001b[33mwandb sync /workspace/home/jesandov/Code/Tesis/dalle-pytorch/wandb/offline-run-20210907_194313-36fi6dj8\u001b[0m\n"
          ],
          "name": "stderr"
        },
        {
          "output_type": "stream",
          "text": [
            "<function sample_image at 0x7f5a16f95d08> executed in 1 min 13.904471397399902 sec\n",
            "**************************************************\n",
            "**************************************************\n"
          ],
          "name": "stdout"
        },
        {
          "output_type": "stream",
          "text": [
            "\u001b[34m\u001b[1mwandb\u001b[0m: W&B syncing is set to `offline` in this directory.  Run `wandb online` or set WANDB_MODE=online to enable cloud syncing.\n"
          ],
          "name": "stderr"
        },
        {
          "output_type": "display_data",
          "data": {
            "text/plain": [
              "<IPython.core.display.HTML object>"
            ],
            "text/html": [
              "<br/>Waiting for W&B process to finish, PID 65745<br/>Program ended successfully."
            ]
          },
          "metadata": {}
        },
        {
          "output_type": "display_data",
          "data": {
            "text/plain": [
              "<IPython.core.display.HTML object>"
            ],
            "text/html": [
              "Find user logs for this run at: <code>/workspace/home/jesandov/Code/Tesis/dalle-pytorch/wandb/offline-run-20210907_194427-179x715l/logs/debug.log</code>"
            ]
          },
          "metadata": {}
        },
        {
          "output_type": "display_data",
          "data": {
            "text/plain": [
              "<IPython.core.display.HTML object>"
            ],
            "text/html": [
              "Find internal logs for this run at: <code>/workspace/home/jesandov/Code/Tesis/dalle-pytorch/wandb/offline-run-20210907_194427-179x715l/logs/debug-internal.log</code>"
            ]
          },
          "metadata": {}
        },
        {
          "output_type": "stream",
          "text": [
            "\u001b[34m\u001b[1mwandb\u001b[0m: You can sync this run to the cloud by running:\n",
            "\u001b[34m\u001b[1mwandb\u001b[0m: \u001b[33mwandb sync /workspace/home/jesandov/Code/Tesis/dalle-pytorch/wandb/offline-run-20210907_194427-179x715l\u001b[0m\n"
          ],
          "name": "stderr"
        },
        {
          "output_type": "stream",
          "text": [
            "<function sample_image at 0x7f5a16f95d08> executed in 1 min 13.915170431137085 sec\n",
            "**************************************************\n",
            "**************************************************\n"
          ],
          "name": "stdout"
        },
        {
          "output_type": "stream",
          "text": [
            "\u001b[34m\u001b[1mwandb\u001b[0m: W&B syncing is set to `offline` in this directory.  Run `wandb online` or set WANDB_MODE=online to enable cloud syncing.\n"
          ],
          "name": "stderr"
        },
        {
          "output_type": "display_data",
          "data": {
            "text/plain": [
              "<IPython.core.display.HTML object>"
            ],
            "text/html": [
              "<br/>Waiting for W&B process to finish, PID 65964<br/>Program ended successfully."
            ]
          },
          "metadata": {}
        },
        {
          "output_type": "display_data",
          "data": {
            "text/plain": [
              "<IPython.core.display.HTML object>"
            ],
            "text/html": [
              "Find user logs for this run at: <code>/workspace/home/jesandov/Code/Tesis/dalle-pytorch/wandb/offline-run-20210907_194541-1iri9v33/logs/debug.log</code>"
            ]
          },
          "metadata": {}
        },
        {
          "output_type": "display_data",
          "data": {
            "text/plain": [
              "<IPython.core.display.HTML object>"
            ],
            "text/html": [
              "Find internal logs for this run at: <code>/workspace/home/jesandov/Code/Tesis/dalle-pytorch/wandb/offline-run-20210907_194541-1iri9v33/logs/debug-internal.log</code>"
            ]
          },
          "metadata": {}
        },
        {
          "output_type": "stream",
          "text": [
            "\u001b[34m\u001b[1mwandb\u001b[0m: You can sync this run to the cloud by running:\n",
            "\u001b[34m\u001b[1mwandb\u001b[0m: \u001b[33mwandb sync /workspace/home/jesandov/Code/Tesis/dalle-pytorch/wandb/offline-run-20210907_194541-1iri9v33\u001b[0m\n"
          ],
          "name": "stderr"
        },
        {
          "output_type": "stream",
          "text": [
            "<function sample_image at 0x7f5a16f95d08> executed in 1 min 13.389085531234741 sec\n",
            "**************************************************\n",
            "**************************************************\n"
          ],
          "name": "stdout"
        },
        {
          "output_type": "stream",
          "text": [
            "\u001b[34m\u001b[1mwandb\u001b[0m: W&B syncing is set to `offline` in this directory.  Run `wandb online` or set WANDB_MODE=online to enable cloud syncing.\n"
          ],
          "name": "stderr"
        },
        {
          "output_type": "display_data",
          "data": {
            "text/plain": [
              "<IPython.core.display.HTML object>"
            ],
            "text/html": [
              "<br/>Waiting for W&B process to finish, PID 66181<br/>Program ended successfully."
            ]
          },
          "metadata": {}
        },
        {
          "output_type": "display_data",
          "data": {
            "text/plain": [
              "<IPython.core.display.HTML object>"
            ],
            "text/html": [
              "Find user logs for this run at: <code>/workspace/home/jesandov/Code/Tesis/dalle-pytorch/wandb/offline-run-20210907_194654-224vcs7c/logs/debug.log</code>"
            ]
          },
          "metadata": {}
        },
        {
          "output_type": "display_data",
          "data": {
            "text/plain": [
              "<IPython.core.display.HTML object>"
            ],
            "text/html": [
              "Find internal logs for this run at: <code>/workspace/home/jesandov/Code/Tesis/dalle-pytorch/wandb/offline-run-20210907_194654-224vcs7c/logs/debug-internal.log</code>"
            ]
          },
          "metadata": {}
        },
        {
          "output_type": "stream",
          "text": [
            "\u001b[34m\u001b[1mwandb\u001b[0m: You can sync this run to the cloud by running:\n",
            "\u001b[34m\u001b[1mwandb\u001b[0m: \u001b[33mwandb sync /workspace/home/jesandov/Code/Tesis/dalle-pytorch/wandb/offline-run-20210907_194654-224vcs7c\u001b[0m\n"
          ],
          "name": "stderr"
        },
        {
          "output_type": "stream",
          "text": [
            "<function sample_image at 0x7f5a16f95d08> executed in 1 min 13.478617668151855 sec\n",
            "**************************************************\n",
            "**************************************************\n"
          ],
          "name": "stdout"
        },
        {
          "output_type": "stream",
          "text": [
            "\u001b[34m\u001b[1mwandb\u001b[0m: W&B syncing is set to `offline` in this directory.  Run `wandb online` or set WANDB_MODE=online to enable cloud syncing.\n"
          ],
          "name": "stderr"
        },
        {
          "output_type": "display_data",
          "data": {
            "text/plain": [
              "<IPython.core.display.HTML object>"
            ],
            "text/html": [
              "<br/>Waiting for W&B process to finish, PID 66401<br/>Program ended successfully."
            ]
          },
          "metadata": {}
        },
        {
          "output_type": "display_data",
          "data": {
            "text/plain": [
              "<IPython.core.display.HTML object>"
            ],
            "text/html": [
              "Find user logs for this run at: <code>/workspace/home/jesandov/Code/Tesis/dalle-pytorch/wandb/offline-run-20210907_194807-6ruh5gfc/logs/debug.log</code>"
            ]
          },
          "metadata": {}
        },
        {
          "output_type": "display_data",
          "data": {
            "text/plain": [
              "<IPython.core.display.HTML object>"
            ],
            "text/html": [
              "Find internal logs for this run at: <code>/workspace/home/jesandov/Code/Tesis/dalle-pytorch/wandb/offline-run-20210907_194807-6ruh5gfc/logs/debug-internal.log</code>"
            ]
          },
          "metadata": {}
        },
        {
          "output_type": "stream",
          "text": [
            "\u001b[34m\u001b[1mwandb\u001b[0m: You can sync this run to the cloud by running:\n",
            "\u001b[34m\u001b[1mwandb\u001b[0m: \u001b[33mwandb sync /workspace/home/jesandov/Code/Tesis/dalle-pytorch/wandb/offline-run-20210907_194807-6ruh5gfc\u001b[0m\n"
          ],
          "name": "stderr"
        },
        {
          "output_type": "stream",
          "text": [
            "<function sample_image at 0x7f5a16f95d08> executed in 1 min 14.586870431900024 sec\n",
            "**************************************************\n",
            "**************************************************\n"
          ],
          "name": "stdout"
        },
        {
          "output_type": "stream",
          "text": [
            "\u001b[34m\u001b[1mwandb\u001b[0m: W&B syncing is set to `offline` in this directory.  Run `wandb online` or set WANDB_MODE=online to enable cloud syncing.\n"
          ],
          "name": "stderr"
        },
        {
          "output_type": "display_data",
          "data": {
            "text/plain": [
              "<IPython.core.display.HTML object>"
            ],
            "text/html": [
              "<br/>Waiting for W&B process to finish, PID 66623<br/>Program ended successfully."
            ]
          },
          "metadata": {}
        },
        {
          "output_type": "display_data",
          "data": {
            "text/plain": [
              "<IPython.core.display.HTML object>"
            ],
            "text/html": [
              "Find user logs for this run at: <code>/workspace/home/jesandov/Code/Tesis/dalle-pytorch/wandb/offline-run-20210907_194922-1f2r5ypb/logs/debug.log</code>"
            ]
          },
          "metadata": {}
        },
        {
          "output_type": "display_data",
          "data": {
            "text/plain": [
              "<IPython.core.display.HTML object>"
            ],
            "text/html": [
              "Find internal logs for this run at: <code>/workspace/home/jesandov/Code/Tesis/dalle-pytorch/wandb/offline-run-20210907_194922-1f2r5ypb/logs/debug-internal.log</code>"
            ]
          },
          "metadata": {}
        },
        {
          "output_type": "stream",
          "text": [
            "\u001b[34m\u001b[1mwandb\u001b[0m: You can sync this run to the cloud by running:\n",
            "\u001b[34m\u001b[1mwandb\u001b[0m: \u001b[33mwandb sync /workspace/home/jesandov/Code/Tesis/dalle-pytorch/wandb/offline-run-20210907_194922-1f2r5ypb\u001b[0m\n"
          ],
          "name": "stderr"
        },
        {
          "output_type": "stream",
          "text": [
            "<function sample_image at 0x7f5a16f95d08> executed in 1 min 13.531580686569214 sec\n",
            "**************************************************\n",
            "**************************************************\n"
          ],
          "name": "stdout"
        },
        {
          "output_type": "stream",
          "text": [
            "\u001b[34m\u001b[1mwandb\u001b[0m: W&B syncing is set to `offline` in this directory.  Run `wandb online` or set WANDB_MODE=online to enable cloud syncing.\n"
          ],
          "name": "stderr"
        },
        {
          "output_type": "display_data",
          "data": {
            "text/plain": [
              "<IPython.core.display.HTML object>"
            ],
            "text/html": [
              "<br/>Waiting for W&B process to finish, PID 66843<br/>Program ended successfully."
            ]
          },
          "metadata": {}
        },
        {
          "output_type": "display_data",
          "data": {
            "text/plain": [
              "<IPython.core.display.HTML object>"
            ],
            "text/html": [
              "Find user logs for this run at: <code>/workspace/home/jesandov/Code/Tesis/dalle-pytorch/wandb/offline-run-20210907_195036-1xnog0ua/logs/debug.log</code>"
            ]
          },
          "metadata": {}
        },
        {
          "output_type": "display_data",
          "data": {
            "text/plain": [
              "<IPython.core.display.HTML object>"
            ],
            "text/html": [
              "Find internal logs for this run at: <code>/workspace/home/jesandov/Code/Tesis/dalle-pytorch/wandb/offline-run-20210907_195036-1xnog0ua/logs/debug-internal.log</code>"
            ]
          },
          "metadata": {}
        },
        {
          "output_type": "stream",
          "text": [
            "\u001b[34m\u001b[1mwandb\u001b[0m: You can sync this run to the cloud by running:\n",
            "\u001b[34m\u001b[1mwandb\u001b[0m: \u001b[33mwandb sync /workspace/home/jesandov/Code/Tesis/dalle-pytorch/wandb/offline-run-20210907_195036-1xnog0ua\u001b[0m\n"
          ],
          "name": "stderr"
        },
        {
          "output_type": "stream",
          "text": [
            "<function sample_image at 0x7f5a16f95d08> executed in 1 min 13.398010492324829 sec\n",
            "**************************************************\n",
            "**************************************************\n"
          ],
          "name": "stdout"
        },
        {
          "output_type": "stream",
          "text": [
            "\u001b[34m\u001b[1mwandb\u001b[0m: W&B syncing is set to `offline` in this directory.  Run `wandb online` or set WANDB_MODE=online to enable cloud syncing.\n"
          ],
          "name": "stderr"
        },
        {
          "output_type": "display_data",
          "data": {
            "text/plain": [
              "<IPython.core.display.HTML object>"
            ],
            "text/html": [
              "<br/>Waiting for W&B process to finish, PID 67070<br/>Program ended successfully."
            ]
          },
          "metadata": {}
        },
        {
          "output_type": "display_data",
          "data": {
            "text/plain": [
              "<IPython.core.display.HTML object>"
            ],
            "text/html": [
              "Find user logs for this run at: <code>/workspace/home/jesandov/Code/Tesis/dalle-pytorch/wandb/offline-run-20210907_195149-1omxgjmb/logs/debug.log</code>"
            ]
          },
          "metadata": {}
        },
        {
          "output_type": "display_data",
          "data": {
            "text/plain": [
              "<IPython.core.display.HTML object>"
            ],
            "text/html": [
              "Find internal logs for this run at: <code>/workspace/home/jesandov/Code/Tesis/dalle-pytorch/wandb/offline-run-20210907_195149-1omxgjmb/logs/debug-internal.log</code>"
            ]
          },
          "metadata": {}
        },
        {
          "output_type": "stream",
          "text": [
            "\u001b[34m\u001b[1mwandb\u001b[0m: You can sync this run to the cloud by running:\n",
            "\u001b[34m\u001b[1mwandb\u001b[0m: \u001b[33mwandb sync /workspace/home/jesandov/Code/Tesis/dalle-pytorch/wandb/offline-run-20210907_195149-1omxgjmb\u001b[0m\n"
          ],
          "name": "stderr"
        },
        {
          "output_type": "stream",
          "text": [
            "<function sample_image at 0x7f5a16f95d08> executed in 1 min 13.470396041870117 sec\n",
            "**************************************************\n",
            "**************************************************\n"
          ],
          "name": "stdout"
        },
        {
          "output_type": "stream",
          "text": [
            "\u001b[34m\u001b[1mwandb\u001b[0m: W&B syncing is set to `offline` in this directory.  Run `wandb online` or set WANDB_MODE=online to enable cloud syncing.\n"
          ],
          "name": "stderr"
        },
        {
          "output_type": "display_data",
          "data": {
            "text/plain": [
              "<IPython.core.display.HTML object>"
            ],
            "text/html": [
              "<br/>Waiting for W&B process to finish, PID 67289<br/>Program ended successfully."
            ]
          },
          "metadata": {}
        },
        {
          "output_type": "display_data",
          "data": {
            "text/plain": [
              "<IPython.core.display.HTML object>"
            ],
            "text/html": [
              "Find user logs for this run at: <code>/workspace/home/jesandov/Code/Tesis/dalle-pytorch/wandb/offline-run-20210907_195303-187jjs6l/logs/debug.log</code>"
            ]
          },
          "metadata": {}
        },
        {
          "output_type": "display_data",
          "data": {
            "text/plain": [
              "<IPython.core.display.HTML object>"
            ],
            "text/html": [
              "Find internal logs for this run at: <code>/workspace/home/jesandov/Code/Tesis/dalle-pytorch/wandb/offline-run-20210907_195303-187jjs6l/logs/debug-internal.log</code>"
            ]
          },
          "metadata": {}
        },
        {
          "output_type": "stream",
          "text": [
            "\u001b[34m\u001b[1mwandb\u001b[0m: You can sync this run to the cloud by running:\n",
            "\u001b[34m\u001b[1mwandb\u001b[0m: \u001b[33mwandb sync /workspace/home/jesandov/Code/Tesis/dalle-pytorch/wandb/offline-run-20210907_195303-187jjs6l\u001b[0m\n"
          ],
          "name": "stderr"
        },
        {
          "output_type": "stream",
          "text": [
            "<function sample_image at 0x7f5a16f95d08> executed in 1 min 13.624489545822144 sec\n",
            "**************************************************\n",
            "**************************************************\n"
          ],
          "name": "stdout"
        },
        {
          "output_type": "stream",
          "text": [
            "\u001b[34m\u001b[1mwandb\u001b[0m: W&B syncing is set to `offline` in this directory.  Run `wandb online` or set WANDB_MODE=online to enable cloud syncing.\n"
          ],
          "name": "stderr"
        },
        {
          "output_type": "display_data",
          "data": {
            "text/plain": [
              "<IPython.core.display.HTML object>"
            ],
            "text/html": [
              "<br/>Waiting for W&B process to finish, PID 67513<br/>Program ended successfully."
            ]
          },
          "metadata": {}
        },
        {
          "output_type": "display_data",
          "data": {
            "text/plain": [
              "<IPython.core.display.HTML object>"
            ],
            "text/html": [
              "Find user logs for this run at: <code>/workspace/home/jesandov/Code/Tesis/dalle-pytorch/wandb/offline-run-20210907_195416-1vg0ifz5/logs/debug.log</code>"
            ]
          },
          "metadata": {}
        },
        {
          "output_type": "display_data",
          "data": {
            "text/plain": [
              "<IPython.core.display.HTML object>"
            ],
            "text/html": [
              "Find internal logs for this run at: <code>/workspace/home/jesandov/Code/Tesis/dalle-pytorch/wandb/offline-run-20210907_195416-1vg0ifz5/logs/debug-internal.log</code>"
            ]
          },
          "metadata": {}
        },
        {
          "output_type": "stream",
          "text": [
            "\u001b[34m\u001b[1mwandb\u001b[0m: You can sync this run to the cloud by running:\n",
            "\u001b[34m\u001b[1mwandb\u001b[0m: \u001b[33mwandb sync /workspace/home/jesandov/Code/Tesis/dalle-pytorch/wandb/offline-run-20210907_195416-1vg0ifz5\u001b[0m\n"
          ],
          "name": "stderr"
        },
        {
          "output_type": "stream",
          "text": [
            "<function sample_image at 0x7f5a16f95d08> executed in 1 min 14.456995725631714 sec\n",
            "**************************************************\n",
            "**************************************************\n"
          ],
          "name": "stdout"
        },
        {
          "output_type": "stream",
          "text": [
            "\u001b[34m\u001b[1mwandb\u001b[0m: W&B syncing is set to `offline` in this directory.  Run `wandb online` or set WANDB_MODE=online to enable cloud syncing.\n"
          ],
          "name": "stderr"
        },
        {
          "output_type": "display_data",
          "data": {
            "text/plain": [
              "<IPython.core.display.HTML object>"
            ],
            "text/html": [
              "<br/>Waiting for W&B process to finish, PID 67737<br/>Program ended successfully."
            ]
          },
          "metadata": {}
        },
        {
          "output_type": "display_data",
          "data": {
            "text/plain": [
              "<IPython.core.display.HTML object>"
            ],
            "text/html": [
              "Find user logs for this run at: <code>/workspace/home/jesandov/Code/Tesis/dalle-pytorch/wandb/offline-run-20210907_195531-1zfsaa5r/logs/debug.log</code>"
            ]
          },
          "metadata": {}
        },
        {
          "output_type": "display_data",
          "data": {
            "text/plain": [
              "<IPython.core.display.HTML object>"
            ],
            "text/html": [
              "Find internal logs for this run at: <code>/workspace/home/jesandov/Code/Tesis/dalle-pytorch/wandb/offline-run-20210907_195531-1zfsaa5r/logs/debug-internal.log</code>"
            ]
          },
          "metadata": {}
        },
        {
          "output_type": "stream",
          "text": [
            "\u001b[34m\u001b[1mwandb\u001b[0m: You can sync this run to the cloud by running:\n",
            "\u001b[34m\u001b[1mwandb\u001b[0m: \u001b[33mwandb sync /workspace/home/jesandov/Code/Tesis/dalle-pytorch/wandb/offline-run-20210907_195531-1zfsaa5r\u001b[0m\n"
          ],
          "name": "stderr"
        },
        {
          "output_type": "stream",
          "text": [
            "<function sample_image at 0x7f5a16f95d08> executed in 1 min 13.43353819847107 sec\n",
            "**************************************************\n",
            "**************************************************\n"
          ],
          "name": "stdout"
        },
        {
          "output_type": "stream",
          "text": [
            "\u001b[34m\u001b[1mwandb\u001b[0m: W&B syncing is set to `offline` in this directory.  Run `wandb online` or set WANDB_MODE=online to enable cloud syncing.\n"
          ],
          "name": "stderr"
        },
        {
          "output_type": "display_data",
          "data": {
            "text/plain": [
              "<IPython.core.display.HTML object>"
            ],
            "text/html": [
              "<br/>Waiting for W&B process to finish, PID 67956<br/>Program ended successfully."
            ]
          },
          "metadata": {}
        },
        {
          "output_type": "display_data",
          "data": {
            "text/plain": [
              "<IPython.core.display.HTML object>"
            ],
            "text/html": [
              "Find user logs for this run at: <code>/workspace/home/jesandov/Code/Tesis/dalle-pytorch/wandb/offline-run-20210907_195644-2mh2bubf/logs/debug.log</code>"
            ]
          },
          "metadata": {}
        },
        {
          "output_type": "display_data",
          "data": {
            "text/plain": [
              "<IPython.core.display.HTML object>"
            ],
            "text/html": [
              "Find internal logs for this run at: <code>/workspace/home/jesandov/Code/Tesis/dalle-pytorch/wandb/offline-run-20210907_195644-2mh2bubf/logs/debug-internal.log</code>"
            ]
          },
          "metadata": {}
        },
        {
          "output_type": "stream",
          "text": [
            "\u001b[34m\u001b[1mwandb\u001b[0m: You can sync this run to the cloud by running:\n",
            "\u001b[34m\u001b[1mwandb\u001b[0m: \u001b[33mwandb sync /workspace/home/jesandov/Code/Tesis/dalle-pytorch/wandb/offline-run-20210907_195644-2mh2bubf\u001b[0m\n"
          ],
          "name": "stderr"
        },
        {
          "output_type": "stream",
          "text": [
            "<function sample_image at 0x7f5a16f95d08> executed in 1 min 13.934890031814575 sec\n",
            "**************************************************\n",
            "**************************************************\n"
          ],
          "name": "stdout"
        },
        {
          "output_type": "stream",
          "text": [
            "\u001b[34m\u001b[1mwandb\u001b[0m: W&B syncing is set to `offline` in this directory.  Run `wandb online` or set WANDB_MODE=online to enable cloud syncing.\n"
          ],
          "name": "stderr"
        },
        {
          "output_type": "display_data",
          "data": {
            "text/plain": [
              "<IPython.core.display.HTML object>"
            ],
            "text/html": [
              "<br/>Waiting for W&B process to finish, PID 68174<br/>Program ended successfully."
            ]
          },
          "metadata": {}
        },
        {
          "output_type": "display_data",
          "data": {
            "text/plain": [
              "<IPython.core.display.HTML object>"
            ],
            "text/html": [
              "Find user logs for this run at: <code>/workspace/home/jesandov/Code/Tesis/dalle-pytorch/wandb/offline-run-20210907_195758-3aw742t9/logs/debug.log</code>"
            ]
          },
          "metadata": {}
        },
        {
          "output_type": "display_data",
          "data": {
            "text/plain": [
              "<IPython.core.display.HTML object>"
            ],
            "text/html": [
              "Find internal logs for this run at: <code>/workspace/home/jesandov/Code/Tesis/dalle-pytorch/wandb/offline-run-20210907_195758-3aw742t9/logs/debug-internal.log</code>"
            ]
          },
          "metadata": {}
        },
        {
          "output_type": "stream",
          "text": [
            "\u001b[34m\u001b[1mwandb\u001b[0m: You can sync this run to the cloud by running:\n",
            "\u001b[34m\u001b[1mwandb\u001b[0m: \u001b[33mwandb sync /workspace/home/jesandov/Code/Tesis/dalle-pytorch/wandb/offline-run-20210907_195758-3aw742t9\u001b[0m\n"
          ],
          "name": "stderr"
        },
        {
          "output_type": "stream",
          "text": [
            "<function sample_image at 0x7f5a16f95d08> executed in 1 min 13.968457221984863 sec\n",
            "**************************************************\n",
            "**************************************************\n"
          ],
          "name": "stdout"
        },
        {
          "output_type": "stream",
          "text": [
            "\u001b[34m\u001b[1mwandb\u001b[0m: W&B syncing is set to `offline` in this directory.  Run `wandb online` or set WANDB_MODE=online to enable cloud syncing.\n"
          ],
          "name": "stderr"
        },
        {
          "output_type": "display_data",
          "data": {
            "text/plain": [
              "<IPython.core.display.HTML object>"
            ],
            "text/html": [
              "<br/>Waiting for W&B process to finish, PID 68394<br/>Program ended successfully."
            ]
          },
          "metadata": {}
        },
        {
          "output_type": "display_data",
          "data": {
            "text/plain": [
              "<IPython.core.display.HTML object>"
            ],
            "text/html": [
              "Find user logs for this run at: <code>/workspace/home/jesandov/Code/Tesis/dalle-pytorch/wandb/offline-run-20210907_195912-l68r0a1v/logs/debug.log</code>"
            ]
          },
          "metadata": {}
        },
        {
          "output_type": "display_data",
          "data": {
            "text/plain": [
              "<IPython.core.display.HTML object>"
            ],
            "text/html": [
              "Find internal logs for this run at: <code>/workspace/home/jesandov/Code/Tesis/dalle-pytorch/wandb/offline-run-20210907_195912-l68r0a1v/logs/debug-internal.log</code>"
            ]
          },
          "metadata": {}
        },
        {
          "output_type": "stream",
          "text": [
            "\u001b[34m\u001b[1mwandb\u001b[0m: You can sync this run to the cloud by running:\n",
            "\u001b[34m\u001b[1mwandb\u001b[0m: \u001b[33mwandb sync /workspace/home/jesandov/Code/Tesis/dalle-pytorch/wandb/offline-run-20210907_195912-l68r0a1v\u001b[0m\n"
          ],
          "name": "stderr"
        },
        {
          "output_type": "stream",
          "text": [
            "<function sample_image at 0x7f5a16f95d08> executed in 1 min 12.944723129272461 sec\n",
            "**************************************************\n",
            "**************************************************\n"
          ],
          "name": "stdout"
        },
        {
          "output_type": "stream",
          "text": [
            "\u001b[34m\u001b[1mwandb\u001b[0m: W&B syncing is set to `offline` in this directory.  Run `wandb online` or set WANDB_MODE=online to enable cloud syncing.\n"
          ],
          "name": "stderr"
        },
        {
          "output_type": "display_data",
          "data": {
            "text/plain": [
              "<IPython.core.display.HTML object>"
            ],
            "text/html": [
              "<br/>Waiting for W&B process to finish, PID 68615<br/>Program ended successfully."
            ]
          },
          "metadata": {}
        },
        {
          "output_type": "display_data",
          "data": {
            "text/plain": [
              "<IPython.core.display.HTML object>"
            ],
            "text/html": [
              "Find user logs for this run at: <code>/workspace/home/jesandov/Code/Tesis/dalle-pytorch/wandb/offline-run-20210907_200025-3bhiixt9/logs/debug.log</code>"
            ]
          },
          "metadata": {}
        },
        {
          "output_type": "display_data",
          "data": {
            "text/plain": [
              "<IPython.core.display.HTML object>"
            ],
            "text/html": [
              "Find internal logs for this run at: <code>/workspace/home/jesandov/Code/Tesis/dalle-pytorch/wandb/offline-run-20210907_200025-3bhiixt9/logs/debug-internal.log</code>"
            ]
          },
          "metadata": {}
        },
        {
          "output_type": "stream",
          "text": [
            "\u001b[34m\u001b[1mwandb\u001b[0m: You can sync this run to the cloud by running:\n",
            "\u001b[34m\u001b[1mwandb\u001b[0m: \u001b[33mwandb sync /workspace/home/jesandov/Code/Tesis/dalle-pytorch/wandb/offline-run-20210907_200025-3bhiixt9\u001b[0m\n"
          ],
          "name": "stderr"
        },
        {
          "output_type": "stream",
          "text": [
            "<function sample_image at 0x7f5a16f95d08> executed in 1 min 13.599259376525879 sec\n",
            "**************************************************\n",
            "**************************************************\n"
          ],
          "name": "stdout"
        },
        {
          "output_type": "stream",
          "text": [
            "\u001b[34m\u001b[1mwandb\u001b[0m: W&B syncing is set to `offline` in this directory.  Run `wandb online` or set WANDB_MODE=online to enable cloud syncing.\n"
          ],
          "name": "stderr"
        },
        {
          "output_type": "display_data",
          "data": {
            "text/plain": [
              "<IPython.core.display.HTML object>"
            ],
            "text/html": [
              "<br/>Waiting for W&B process to finish, PID 68844<br/>Program ended successfully."
            ]
          },
          "metadata": {}
        },
        {
          "output_type": "display_data",
          "data": {
            "text/plain": [
              "<IPython.core.display.HTML object>"
            ],
            "text/html": [
              "Find user logs for this run at: <code>/workspace/home/jesandov/Code/Tesis/dalle-pytorch/wandb/offline-run-20210907_200139-ew1zuxfi/logs/debug.log</code>"
            ]
          },
          "metadata": {}
        },
        {
          "output_type": "display_data",
          "data": {
            "text/plain": [
              "<IPython.core.display.HTML object>"
            ],
            "text/html": [
              "Find internal logs for this run at: <code>/workspace/home/jesandov/Code/Tesis/dalle-pytorch/wandb/offline-run-20210907_200139-ew1zuxfi/logs/debug-internal.log</code>"
            ]
          },
          "metadata": {}
        },
        {
          "output_type": "stream",
          "text": [
            "\u001b[34m\u001b[1mwandb\u001b[0m: You can sync this run to the cloud by running:\n",
            "\u001b[34m\u001b[1mwandb\u001b[0m: \u001b[33mwandb sync /workspace/home/jesandov/Code/Tesis/dalle-pytorch/wandb/offline-run-20210907_200139-ew1zuxfi\u001b[0m\n"
          ],
          "name": "stderr"
        },
        {
          "output_type": "stream",
          "text": [
            "<function sample_image at 0x7f5a16f95d08> executed in 1 min 14.046844005584717 sec\n",
            "**************************************************\n",
            "**************************************************\n"
          ],
          "name": "stdout"
        },
        {
          "output_type": "stream",
          "text": [
            "\u001b[34m\u001b[1mwandb\u001b[0m: W&B syncing is set to `offline` in this directory.  Run `wandb online` or set WANDB_MODE=online to enable cloud syncing.\n"
          ],
          "name": "stderr"
        },
        {
          "output_type": "display_data",
          "data": {
            "text/plain": [
              "<IPython.core.display.HTML object>"
            ],
            "text/html": [
              "<br/>Waiting for W&B process to finish, PID 69064<br/>Program ended successfully."
            ]
          },
          "metadata": {}
        },
        {
          "output_type": "display_data",
          "data": {
            "text/plain": [
              "<IPython.core.display.HTML object>"
            ],
            "text/html": [
              "Find user logs for this run at: <code>/workspace/home/jesandov/Code/Tesis/dalle-pytorch/wandb/offline-run-20210907_200253-1lzglx2q/logs/debug.log</code>"
            ]
          },
          "metadata": {}
        },
        {
          "output_type": "display_data",
          "data": {
            "text/plain": [
              "<IPython.core.display.HTML object>"
            ],
            "text/html": [
              "Find internal logs for this run at: <code>/workspace/home/jesandov/Code/Tesis/dalle-pytorch/wandb/offline-run-20210907_200253-1lzglx2q/logs/debug-internal.log</code>"
            ]
          },
          "metadata": {}
        },
        {
          "output_type": "stream",
          "text": [
            "\u001b[34m\u001b[1mwandb\u001b[0m: You can sync this run to the cloud by running:\n",
            "\u001b[34m\u001b[1mwandb\u001b[0m: \u001b[33mwandb sync /workspace/home/jesandov/Code/Tesis/dalle-pytorch/wandb/offline-run-20210907_200253-1lzglx2q\u001b[0m\n"
          ],
          "name": "stderr"
        },
        {
          "output_type": "stream",
          "text": [
            "<function sample_image at 0x7f5a16f95d08> executed in 1 min 13.556193828582764 sec\n",
            "**************************************************\n",
            "**************************************************\n"
          ],
          "name": "stdout"
        },
        {
          "output_type": "stream",
          "text": [
            "\u001b[34m\u001b[1mwandb\u001b[0m: W&B syncing is set to `offline` in this directory.  Run `wandb online` or set WANDB_MODE=online to enable cloud syncing.\n"
          ],
          "name": "stderr"
        },
        {
          "output_type": "display_data",
          "data": {
            "text/plain": [
              "<IPython.core.display.HTML object>"
            ],
            "text/html": [
              "<br/>Waiting for W&B process to finish, PID 69287<br/>Program ended successfully."
            ]
          },
          "metadata": {}
        },
        {
          "output_type": "display_data",
          "data": {
            "text/plain": [
              "<IPython.core.display.HTML object>"
            ],
            "text/html": [
              "Find user logs for this run at: <code>/workspace/home/jesandov/Code/Tesis/dalle-pytorch/wandb/offline-run-20210907_200406-3bgvcz5o/logs/debug.log</code>"
            ]
          },
          "metadata": {}
        },
        {
          "output_type": "display_data",
          "data": {
            "text/plain": [
              "<IPython.core.display.HTML object>"
            ],
            "text/html": [
              "Find internal logs for this run at: <code>/workspace/home/jesandov/Code/Tesis/dalle-pytorch/wandb/offline-run-20210907_200406-3bgvcz5o/logs/debug-internal.log</code>"
            ]
          },
          "metadata": {}
        },
        {
          "output_type": "stream",
          "text": [
            "\u001b[34m\u001b[1mwandb\u001b[0m: You can sync this run to the cloud by running:\n",
            "\u001b[34m\u001b[1mwandb\u001b[0m: \u001b[33mwandb sync /workspace/home/jesandov/Code/Tesis/dalle-pytorch/wandb/offline-run-20210907_200406-3bgvcz5o\u001b[0m\n"
          ],
          "name": "stderr"
        },
        {
          "output_type": "stream",
          "text": [
            "<function sample_image at 0x7f5a16f95d08> executed in 1 min 14.053740739822388 sec\n",
            "**************************************************\n",
            "**************************************************\n"
          ],
          "name": "stdout"
        },
        {
          "output_type": "stream",
          "text": [
            "\u001b[34m\u001b[1mwandb\u001b[0m: W&B syncing is set to `offline` in this directory.  Run `wandb online` or set WANDB_MODE=online to enable cloud syncing.\n"
          ],
          "name": "stderr"
        },
        {
          "output_type": "display_data",
          "data": {
            "text/plain": [
              "<IPython.core.display.HTML object>"
            ],
            "text/html": [
              "<br/>Waiting for W&B process to finish, PID 69513<br/>Program ended successfully."
            ]
          },
          "metadata": {}
        },
        {
          "output_type": "display_data",
          "data": {
            "text/plain": [
              "<IPython.core.display.HTML object>"
            ],
            "text/html": [
              "Find user logs for this run at: <code>/workspace/home/jesandov/Code/Tesis/dalle-pytorch/wandb/offline-run-20210907_200520-wyxezvpv/logs/debug.log</code>"
            ]
          },
          "metadata": {}
        },
        {
          "output_type": "display_data",
          "data": {
            "text/plain": [
              "<IPython.core.display.HTML object>"
            ],
            "text/html": [
              "Find internal logs for this run at: <code>/workspace/home/jesandov/Code/Tesis/dalle-pytorch/wandb/offline-run-20210907_200520-wyxezvpv/logs/debug-internal.log</code>"
            ]
          },
          "metadata": {}
        },
        {
          "output_type": "stream",
          "text": [
            "\u001b[34m\u001b[1mwandb\u001b[0m: You can sync this run to the cloud by running:\n",
            "\u001b[34m\u001b[1mwandb\u001b[0m: \u001b[33mwandb sync /workspace/home/jesandov/Code/Tesis/dalle-pytorch/wandb/offline-run-20210907_200520-wyxezvpv\u001b[0m\n"
          ],
          "name": "stderr"
        },
        {
          "output_type": "stream",
          "text": [
            "<function sample_image at 0x7f5a16f95d08> executed in 1 min 13.520798921585083 sec\n",
            "**************************************************\n",
            "**************************************************\n"
          ],
          "name": "stdout"
        },
        {
          "output_type": "stream",
          "text": [
            "\u001b[34m\u001b[1mwandb\u001b[0m: W&B syncing is set to `offline` in this directory.  Run `wandb online` or set WANDB_MODE=online to enable cloud syncing.\n"
          ],
          "name": "stderr"
        },
        {
          "output_type": "display_data",
          "data": {
            "text/plain": [
              "<IPython.core.display.HTML object>"
            ],
            "text/html": [
              "<br/>Waiting for W&B process to finish, PID 69735<br/>Program ended successfully."
            ]
          },
          "metadata": {}
        },
        {
          "output_type": "display_data",
          "data": {
            "text/plain": [
              "<IPython.core.display.HTML object>"
            ],
            "text/html": [
              "Find user logs for this run at: <code>/workspace/home/jesandov/Code/Tesis/dalle-pytorch/wandb/offline-run-20210907_200634-1bzpurdz/logs/debug.log</code>"
            ]
          },
          "metadata": {}
        },
        {
          "output_type": "display_data",
          "data": {
            "text/plain": [
              "<IPython.core.display.HTML object>"
            ],
            "text/html": [
              "Find internal logs for this run at: <code>/workspace/home/jesandov/Code/Tesis/dalle-pytorch/wandb/offline-run-20210907_200634-1bzpurdz/logs/debug-internal.log</code>"
            ]
          },
          "metadata": {}
        },
        {
          "output_type": "stream",
          "text": [
            "\u001b[34m\u001b[1mwandb\u001b[0m: You can sync this run to the cloud by running:\n",
            "\u001b[34m\u001b[1mwandb\u001b[0m: \u001b[33mwandb sync /workspace/home/jesandov/Code/Tesis/dalle-pytorch/wandb/offline-run-20210907_200634-1bzpurdz\u001b[0m\n"
          ],
          "name": "stderr"
        },
        {
          "output_type": "stream",
          "text": [
            "<function sample_image at 0x7f5a16f95d08> executed in 1 min 14.002684116363525 sec\n",
            "**************************************************\n",
            "**************************************************\n"
          ],
          "name": "stdout"
        },
        {
          "output_type": "stream",
          "text": [
            "\u001b[34m\u001b[1mwandb\u001b[0m: W&B syncing is set to `offline` in this directory.  Run `wandb online` or set WANDB_MODE=online to enable cloud syncing.\n"
          ],
          "name": "stderr"
        },
        {
          "output_type": "display_data",
          "data": {
            "text/plain": [
              "<IPython.core.display.HTML object>"
            ],
            "text/html": [
              "<br/>Waiting for W&B process to finish, PID 69959<br/>Program ended successfully."
            ]
          },
          "metadata": {}
        },
        {
          "output_type": "display_data",
          "data": {
            "text/plain": [
              "<IPython.core.display.HTML object>"
            ],
            "text/html": [
              "Find user logs for this run at: <code>/workspace/home/jesandov/Code/Tesis/dalle-pytorch/wandb/offline-run-20210907_200748-3fubz305/logs/debug.log</code>"
            ]
          },
          "metadata": {}
        },
        {
          "output_type": "display_data",
          "data": {
            "text/plain": [
              "<IPython.core.display.HTML object>"
            ],
            "text/html": [
              "Find internal logs for this run at: <code>/workspace/home/jesandov/Code/Tesis/dalle-pytorch/wandb/offline-run-20210907_200748-3fubz305/logs/debug-internal.log</code>"
            ]
          },
          "metadata": {}
        },
        {
          "output_type": "stream",
          "text": [
            "\u001b[34m\u001b[1mwandb\u001b[0m: You can sync this run to the cloud by running:\n",
            "\u001b[34m\u001b[1mwandb\u001b[0m: \u001b[33mwandb sync /workspace/home/jesandov/Code/Tesis/dalle-pytorch/wandb/offline-run-20210907_200748-3fubz305\u001b[0m\n"
          ],
          "name": "stderr"
        },
        {
          "output_type": "stream",
          "text": [
            "<function sample_image at 0x7f5a16f95d08> executed in 1 min 13.949174165725708 sec\n",
            "**************************************************\n",
            "**************************************************\n"
          ],
          "name": "stdout"
        },
        {
          "output_type": "stream",
          "text": [
            "\u001b[34m\u001b[1mwandb\u001b[0m: W&B syncing is set to `offline` in this directory.  Run `wandb online` or set WANDB_MODE=online to enable cloud syncing.\n"
          ],
          "name": "stderr"
        },
        {
          "output_type": "display_data",
          "data": {
            "text/plain": [
              "<IPython.core.display.HTML object>"
            ],
            "text/html": [
              "<br/>Waiting for W&B process to finish, PID 70178<br/>Program ended successfully."
            ]
          },
          "metadata": {}
        },
        {
          "output_type": "display_data",
          "data": {
            "text/plain": [
              "<IPython.core.display.HTML object>"
            ],
            "text/html": [
              "Find user logs for this run at: <code>/workspace/home/jesandov/Code/Tesis/dalle-pytorch/wandb/offline-run-20210907_200902-2b4i53x9/logs/debug.log</code>"
            ]
          },
          "metadata": {}
        },
        {
          "output_type": "display_data",
          "data": {
            "text/plain": [
              "<IPython.core.display.HTML object>"
            ],
            "text/html": [
              "Find internal logs for this run at: <code>/workspace/home/jesandov/Code/Tesis/dalle-pytorch/wandb/offline-run-20210907_200902-2b4i53x9/logs/debug-internal.log</code>"
            ]
          },
          "metadata": {}
        },
        {
          "output_type": "stream",
          "text": [
            "\u001b[34m\u001b[1mwandb\u001b[0m: You can sync this run to the cloud by running:\n",
            "\u001b[34m\u001b[1mwandb\u001b[0m: \u001b[33mwandb sync /workspace/home/jesandov/Code/Tesis/dalle-pytorch/wandb/offline-run-20210907_200902-2b4i53x9\u001b[0m\n"
          ],
          "name": "stderr"
        },
        {
          "output_type": "stream",
          "text": [
            "<function sample_image at 0x7f5a16f95d08> executed in 1 min 14.556991338729858 sec\n",
            "**************************************************\n",
            "**************************************************\n"
          ],
          "name": "stdout"
        },
        {
          "output_type": "stream",
          "text": [
            "\u001b[34m\u001b[1mwandb\u001b[0m: W&B syncing is set to `offline` in this directory.  Run `wandb online` or set WANDB_MODE=online to enable cloud syncing.\n"
          ],
          "name": "stderr"
        },
        {
          "output_type": "display_data",
          "data": {
            "text/plain": [
              "<IPython.core.display.HTML object>"
            ],
            "text/html": [
              "<br/>Waiting for W&B process to finish, PID 70402<br/>Program ended successfully."
            ]
          },
          "metadata": {}
        },
        {
          "output_type": "display_data",
          "data": {
            "text/plain": [
              "<IPython.core.display.HTML object>"
            ],
            "text/html": [
              "Find user logs for this run at: <code>/workspace/home/jesandov/Code/Tesis/dalle-pytorch/wandb/offline-run-20210907_201017-rs8llbat/logs/debug.log</code>"
            ]
          },
          "metadata": {}
        },
        {
          "output_type": "display_data",
          "data": {
            "text/plain": [
              "<IPython.core.display.HTML object>"
            ],
            "text/html": [
              "Find internal logs for this run at: <code>/workspace/home/jesandov/Code/Tesis/dalle-pytorch/wandb/offline-run-20210907_201017-rs8llbat/logs/debug-internal.log</code>"
            ]
          },
          "metadata": {}
        },
        {
          "output_type": "stream",
          "text": [
            "\u001b[34m\u001b[1mwandb\u001b[0m: You can sync this run to the cloud by running:\n",
            "\u001b[34m\u001b[1mwandb\u001b[0m: \u001b[33mwandb sync /workspace/home/jesandov/Code/Tesis/dalle-pytorch/wandb/offline-run-20210907_201017-rs8llbat\u001b[0m\n"
          ],
          "name": "stderr"
        },
        {
          "output_type": "stream",
          "text": [
            "<function sample_image at 0x7f5a16f95d08> executed in 1 min 13.88899564743042 sec\n",
            "**************************************************\n",
            "**************************************************\n"
          ],
          "name": "stdout"
        },
        {
          "output_type": "stream",
          "text": [
            "\u001b[34m\u001b[1mwandb\u001b[0m: W&B syncing is set to `offline` in this directory.  Run `wandb online` or set WANDB_MODE=online to enable cloud syncing.\n"
          ],
          "name": "stderr"
        },
        {
          "output_type": "display_data",
          "data": {
            "text/plain": [
              "<IPython.core.display.HTML object>"
            ],
            "text/html": [
              "<br/>Waiting for W&B process to finish, PID 70621<br/>Program ended successfully."
            ]
          },
          "metadata": {}
        },
        {
          "output_type": "display_data",
          "data": {
            "text/plain": [
              "<IPython.core.display.HTML object>"
            ],
            "text/html": [
              "Find user logs for this run at: <code>/workspace/home/jesandov/Code/Tesis/dalle-pytorch/wandb/offline-run-20210907_201130-21p7u6e1/logs/debug.log</code>"
            ]
          },
          "metadata": {}
        },
        {
          "output_type": "display_data",
          "data": {
            "text/plain": [
              "<IPython.core.display.HTML object>"
            ],
            "text/html": [
              "Find internal logs for this run at: <code>/workspace/home/jesandov/Code/Tesis/dalle-pytorch/wandb/offline-run-20210907_201130-21p7u6e1/logs/debug-internal.log</code>"
            ]
          },
          "metadata": {}
        },
        {
          "output_type": "stream",
          "text": [
            "\u001b[34m\u001b[1mwandb\u001b[0m: You can sync this run to the cloud by running:\n",
            "\u001b[34m\u001b[1mwandb\u001b[0m: \u001b[33mwandb sync /workspace/home/jesandov/Code/Tesis/dalle-pytorch/wandb/offline-run-20210907_201130-21p7u6e1\u001b[0m\n"
          ],
          "name": "stderr"
        },
        {
          "output_type": "stream",
          "text": [
            "<function sample_image at 0x7f5a16f95d08> executed in 1 min 13.962714195251465 sec\n",
            "**************************************************\n",
            "**************************************************\n"
          ],
          "name": "stdout"
        },
        {
          "output_type": "stream",
          "text": [
            "\u001b[34m\u001b[1mwandb\u001b[0m: W&B syncing is set to `offline` in this directory.  Run `wandb online` or set WANDB_MODE=online to enable cloud syncing.\n"
          ],
          "name": "stderr"
        },
        {
          "output_type": "display_data",
          "data": {
            "text/plain": [
              "<IPython.core.display.HTML object>"
            ],
            "text/html": [
              "<br/>Waiting for W&B process to finish, PID 70842<br/>Program ended successfully."
            ]
          },
          "metadata": {}
        },
        {
          "output_type": "display_data",
          "data": {
            "text/plain": [
              "<IPython.core.display.HTML object>"
            ],
            "text/html": [
              "Find user logs for this run at: <code>/workspace/home/jesandov/Code/Tesis/dalle-pytorch/wandb/offline-run-20210907_201244-2ig9cgeb/logs/debug.log</code>"
            ]
          },
          "metadata": {}
        },
        {
          "output_type": "display_data",
          "data": {
            "text/plain": [
              "<IPython.core.display.HTML object>"
            ],
            "text/html": [
              "Find internal logs for this run at: <code>/workspace/home/jesandov/Code/Tesis/dalle-pytorch/wandb/offline-run-20210907_201244-2ig9cgeb/logs/debug-internal.log</code>"
            ]
          },
          "metadata": {}
        },
        {
          "output_type": "stream",
          "text": [
            "\u001b[34m\u001b[1mwandb\u001b[0m: You can sync this run to the cloud by running:\n",
            "\u001b[34m\u001b[1mwandb\u001b[0m: \u001b[33mwandb sync /workspace/home/jesandov/Code/Tesis/dalle-pytorch/wandb/offline-run-20210907_201244-2ig9cgeb\u001b[0m\n"
          ],
          "name": "stderr"
        },
        {
          "output_type": "stream",
          "text": [
            "<function sample_image at 0x7f5a16f95d08> executed in 1 min 14.03313398361206 sec\n",
            "**************************************************\n",
            "**************************************************\n"
          ],
          "name": "stdout"
        },
        {
          "output_type": "stream",
          "text": [
            "\u001b[34m\u001b[1mwandb\u001b[0m: W&B syncing is set to `offline` in this directory.  Run `wandb online` or set WANDB_MODE=online to enable cloud syncing.\n"
          ],
          "name": "stderr"
        },
        {
          "output_type": "display_data",
          "data": {
            "text/plain": [
              "<IPython.core.display.HTML object>"
            ],
            "text/html": [
              "<br/>Waiting for W&B process to finish, PID 71066<br/>Program ended successfully."
            ]
          },
          "metadata": {}
        },
        {
          "output_type": "display_data",
          "data": {
            "text/plain": [
              "<IPython.core.display.HTML object>"
            ],
            "text/html": [
              "Find user logs for this run at: <code>/workspace/home/jesandov/Code/Tesis/dalle-pytorch/wandb/offline-run-20210907_201359-uy6noz5v/logs/debug.log</code>"
            ]
          },
          "metadata": {}
        },
        {
          "output_type": "display_data",
          "data": {
            "text/plain": [
              "<IPython.core.display.HTML object>"
            ],
            "text/html": [
              "Find internal logs for this run at: <code>/workspace/home/jesandov/Code/Tesis/dalle-pytorch/wandb/offline-run-20210907_201359-uy6noz5v/logs/debug-internal.log</code>"
            ]
          },
          "metadata": {}
        },
        {
          "output_type": "stream",
          "text": [
            "\u001b[34m\u001b[1mwandb\u001b[0m: You can sync this run to the cloud by running:\n",
            "\u001b[34m\u001b[1mwandb\u001b[0m: \u001b[33mwandb sync /workspace/home/jesandov/Code/Tesis/dalle-pytorch/wandb/offline-run-20210907_201359-uy6noz5v\u001b[0m\n"
          ],
          "name": "stderr"
        },
        {
          "output_type": "stream",
          "text": [
            "<function sample_image at 0x7f5a16f95d08> executed in 1 min 13.973231554031372 sec\n",
            "**************************************************\n",
            "**************************************************\n"
          ],
          "name": "stdout"
        },
        {
          "output_type": "stream",
          "text": [
            "\u001b[34m\u001b[1mwandb\u001b[0m: W&B syncing is set to `offline` in this directory.  Run `wandb online` or set WANDB_MODE=online to enable cloud syncing.\n"
          ],
          "name": "stderr"
        },
        {
          "output_type": "display_data",
          "data": {
            "text/plain": [
              "<IPython.core.display.HTML object>"
            ],
            "text/html": [
              "<br/>Waiting for W&B process to finish, PID 71290<br/>Program ended successfully."
            ]
          },
          "metadata": {}
        },
        {
          "output_type": "display_data",
          "data": {
            "text/plain": [
              "<IPython.core.display.HTML object>"
            ],
            "text/html": [
              "Find user logs for this run at: <code>/workspace/home/jesandov/Code/Tesis/dalle-pytorch/wandb/offline-run-20210907_201513-3qvd79ev/logs/debug.log</code>"
            ]
          },
          "metadata": {}
        },
        {
          "output_type": "display_data",
          "data": {
            "text/plain": [
              "<IPython.core.display.HTML object>"
            ],
            "text/html": [
              "Find internal logs for this run at: <code>/workspace/home/jesandov/Code/Tesis/dalle-pytorch/wandb/offline-run-20210907_201513-3qvd79ev/logs/debug-internal.log</code>"
            ]
          },
          "metadata": {}
        },
        {
          "output_type": "stream",
          "text": [
            "\u001b[34m\u001b[1mwandb\u001b[0m: You can sync this run to the cloud by running:\n",
            "\u001b[34m\u001b[1mwandb\u001b[0m: \u001b[33mwandb sync /workspace/home/jesandov/Code/Tesis/dalle-pytorch/wandb/offline-run-20210907_201513-3qvd79ev\u001b[0m\n"
          ],
          "name": "stderr"
        },
        {
          "output_type": "stream",
          "text": [
            "<function sample_image at 0x7f5a16f95d08> executed in 1 min 13.96797227859497 sec\n",
            "**************************************************\n",
            "**************************************************\n"
          ],
          "name": "stdout"
        },
        {
          "output_type": "stream",
          "text": [
            "\u001b[34m\u001b[1mwandb\u001b[0m: W&B syncing is set to `offline` in this directory.  Run `wandb online` or set WANDB_MODE=online to enable cloud syncing.\n"
          ],
          "name": "stderr"
        },
        {
          "output_type": "display_data",
          "data": {
            "text/plain": [
              "<IPython.core.display.HTML object>"
            ],
            "text/html": [
              "<br/>Waiting for W&B process to finish, PID 71509<br/>Program ended successfully."
            ]
          },
          "metadata": {}
        },
        {
          "output_type": "display_data",
          "data": {
            "text/plain": [
              "<IPython.core.display.HTML object>"
            ],
            "text/html": [
              "Find user logs for this run at: <code>/workspace/home/jesandov/Code/Tesis/dalle-pytorch/wandb/offline-run-20210907_201627-16hihl8m/logs/debug.log</code>"
            ]
          },
          "metadata": {}
        },
        {
          "output_type": "display_data",
          "data": {
            "text/plain": [
              "<IPython.core.display.HTML object>"
            ],
            "text/html": [
              "Find internal logs for this run at: <code>/workspace/home/jesandov/Code/Tesis/dalle-pytorch/wandb/offline-run-20210907_201627-16hihl8m/logs/debug-internal.log</code>"
            ]
          },
          "metadata": {}
        },
        {
          "output_type": "stream",
          "text": [
            "\u001b[34m\u001b[1mwandb\u001b[0m: You can sync this run to the cloud by running:\n",
            "\u001b[34m\u001b[1mwandb\u001b[0m: \u001b[33mwandb sync /workspace/home/jesandov/Code/Tesis/dalle-pytorch/wandb/offline-run-20210907_201627-16hihl8m\u001b[0m\n"
          ],
          "name": "stderr"
        },
        {
          "output_type": "stream",
          "text": [
            "<function sample_image at 0x7f5a16f95d08> executed in 1 min 14.018018960952759 sec\n",
            "**************************************************\n",
            "**************************************************\n"
          ],
          "name": "stdout"
        },
        {
          "output_type": "stream",
          "text": [
            "\u001b[34m\u001b[1mwandb\u001b[0m: W&B syncing is set to `offline` in this directory.  Run `wandb online` or set WANDB_MODE=online to enable cloud syncing.\n"
          ],
          "name": "stderr"
        },
        {
          "output_type": "display_data",
          "data": {
            "text/plain": [
              "<IPython.core.display.HTML object>"
            ],
            "text/html": [
              "<br/>Waiting for W&B process to finish, PID 71728<br/>Program ended successfully."
            ]
          },
          "metadata": {}
        },
        {
          "output_type": "display_data",
          "data": {
            "text/plain": [
              "<IPython.core.display.HTML object>"
            ],
            "text/html": [
              "Find user logs for this run at: <code>/workspace/home/jesandov/Code/Tesis/dalle-pytorch/wandb/offline-run-20210907_201741-2evyolpa/logs/debug.log</code>"
            ]
          },
          "metadata": {}
        },
        {
          "output_type": "display_data",
          "data": {
            "text/plain": [
              "<IPython.core.display.HTML object>"
            ],
            "text/html": [
              "Find internal logs for this run at: <code>/workspace/home/jesandov/Code/Tesis/dalle-pytorch/wandb/offline-run-20210907_201741-2evyolpa/logs/debug-internal.log</code>"
            ]
          },
          "metadata": {}
        },
        {
          "output_type": "stream",
          "text": [
            "\u001b[34m\u001b[1mwandb\u001b[0m: You can sync this run to the cloud by running:\n",
            "\u001b[34m\u001b[1mwandb\u001b[0m: \u001b[33mwandb sync /workspace/home/jesandov/Code/Tesis/dalle-pytorch/wandb/offline-run-20210907_201741-2evyolpa\u001b[0m\n"
          ],
          "name": "stderr"
        },
        {
          "output_type": "stream",
          "text": [
            "<function sample_image at 0x7f5a16f95d08> executed in 1 min 13.562247514724731 sec\n",
            "**************************************************\n",
            "**************************************************\n"
          ],
          "name": "stdout"
        },
        {
          "output_type": "stream",
          "text": [
            "\u001b[34m\u001b[1mwandb\u001b[0m: W&B syncing is set to `offline` in this directory.  Run `wandb online` or set WANDB_MODE=online to enable cloud syncing.\n"
          ],
          "name": "stderr"
        },
        {
          "output_type": "display_data",
          "data": {
            "text/plain": [
              "<IPython.core.display.HTML object>"
            ],
            "text/html": [
              "<br/>Waiting for W&B process to finish, PID 71950<br/>Program ended successfully."
            ]
          },
          "metadata": {}
        },
        {
          "output_type": "display_data",
          "data": {
            "text/plain": [
              "<IPython.core.display.HTML object>"
            ],
            "text/html": [
              "Find user logs for this run at: <code>/workspace/home/jesandov/Code/Tesis/dalle-pytorch/wandb/offline-run-20210907_201854-libg4zhl/logs/debug.log</code>"
            ]
          },
          "metadata": {}
        },
        {
          "output_type": "display_data",
          "data": {
            "text/plain": [
              "<IPython.core.display.HTML object>"
            ],
            "text/html": [
              "Find internal logs for this run at: <code>/workspace/home/jesandov/Code/Tesis/dalle-pytorch/wandb/offline-run-20210907_201854-libg4zhl/logs/debug-internal.log</code>"
            ]
          },
          "metadata": {}
        },
        {
          "output_type": "stream",
          "text": [
            "\u001b[34m\u001b[1mwandb\u001b[0m: You can sync this run to the cloud by running:\n",
            "\u001b[34m\u001b[1mwandb\u001b[0m: \u001b[33mwandb sync /workspace/home/jesandov/Code/Tesis/dalle-pytorch/wandb/offline-run-20210907_201854-libg4zhl\u001b[0m\n"
          ],
          "name": "stderr"
        },
        {
          "output_type": "stream",
          "text": [
            "<function sample_image at 0x7f5a16f95d08> executed in 1 min 13.406906843185425 sec\n",
            "**************************************************\n",
            "**************************************************\n"
          ],
          "name": "stdout"
        },
        {
          "output_type": "stream",
          "text": [
            "\u001b[34m\u001b[1mwandb\u001b[0m: W&B syncing is set to `offline` in this directory.  Run `wandb online` or set WANDB_MODE=online to enable cloud syncing.\n"
          ],
          "name": "stderr"
        },
        {
          "output_type": "display_data",
          "data": {
            "text/plain": [
              "<IPython.core.display.HTML object>"
            ],
            "text/html": [
              "<br/>Waiting for W&B process to finish, PID 72172<br/>Program ended successfully."
            ]
          },
          "metadata": {}
        },
        {
          "output_type": "display_data",
          "data": {
            "text/plain": [
              "<IPython.core.display.HTML object>"
            ],
            "text/html": [
              "Find user logs for this run at: <code>/workspace/home/jesandov/Code/Tesis/dalle-pytorch/wandb/offline-run-20210907_202008-3qqe5bjg/logs/debug.log</code>"
            ]
          },
          "metadata": {}
        },
        {
          "output_type": "display_data",
          "data": {
            "text/plain": [
              "<IPython.core.display.HTML object>"
            ],
            "text/html": [
              "Find internal logs for this run at: <code>/workspace/home/jesandov/Code/Tesis/dalle-pytorch/wandb/offline-run-20210907_202008-3qqe5bjg/logs/debug-internal.log</code>"
            ]
          },
          "metadata": {}
        },
        {
          "output_type": "stream",
          "text": [
            "\u001b[34m\u001b[1mwandb\u001b[0m: You can sync this run to the cloud by running:\n",
            "\u001b[34m\u001b[1mwandb\u001b[0m: \u001b[33mwandb sync /workspace/home/jesandov/Code/Tesis/dalle-pytorch/wandb/offline-run-20210907_202008-3qqe5bjg\u001b[0m\n"
          ],
          "name": "stderr"
        },
        {
          "output_type": "stream",
          "text": [
            "<function sample_image at 0x7f5a16f95d08> executed in 1 min 13.423532009124756 sec\n",
            "**************************************************\n",
            "**************************************************\n"
          ],
          "name": "stdout"
        },
        {
          "output_type": "stream",
          "text": [
            "\u001b[34m\u001b[1mwandb\u001b[0m: W&B syncing is set to `offline` in this directory.  Run `wandb online` or set WANDB_MODE=online to enable cloud syncing.\n"
          ],
          "name": "stderr"
        },
        {
          "output_type": "display_data",
          "data": {
            "text/plain": [
              "<IPython.core.display.HTML object>"
            ],
            "text/html": [
              "<br/>Waiting for W&B process to finish, PID 72389<br/>Program ended successfully."
            ]
          },
          "metadata": {}
        },
        {
          "output_type": "display_data",
          "data": {
            "text/plain": [
              "<IPython.core.display.HTML object>"
            ],
            "text/html": [
              "Find user logs for this run at: <code>/workspace/home/jesandov/Code/Tesis/dalle-pytorch/wandb/offline-run-20210907_202121-3klnm095/logs/debug.log</code>"
            ]
          },
          "metadata": {}
        },
        {
          "output_type": "display_data",
          "data": {
            "text/plain": [
              "<IPython.core.display.HTML object>"
            ],
            "text/html": [
              "Find internal logs for this run at: <code>/workspace/home/jesandov/Code/Tesis/dalle-pytorch/wandb/offline-run-20210907_202121-3klnm095/logs/debug-internal.log</code>"
            ]
          },
          "metadata": {}
        },
        {
          "output_type": "stream",
          "text": [
            "\u001b[34m\u001b[1mwandb\u001b[0m: You can sync this run to the cloud by running:\n",
            "\u001b[34m\u001b[1mwandb\u001b[0m: \u001b[33mwandb sync /workspace/home/jesandov/Code/Tesis/dalle-pytorch/wandb/offline-run-20210907_202121-3klnm095\u001b[0m\n"
          ],
          "name": "stderr"
        },
        {
          "output_type": "stream",
          "text": [
            "<function sample_image at 0x7f5a16f95d08> executed in 1 min 12.937844514846802 sec\n",
            "**************************************************\n",
            "**************************************************\n"
          ],
          "name": "stdout"
        },
        {
          "output_type": "stream",
          "text": [
            "\u001b[34m\u001b[1mwandb\u001b[0m: W&B syncing is set to `offline` in this directory.  Run `wandb online` or set WANDB_MODE=online to enable cloud syncing.\n"
          ],
          "name": "stderr"
        },
        {
          "output_type": "display_data",
          "data": {
            "text/plain": [
              "<IPython.core.display.HTML object>"
            ],
            "text/html": [
              "<br/>Waiting for W&B process to finish, PID 72609<br/>Program ended successfully."
            ]
          },
          "metadata": {}
        },
        {
          "output_type": "display_data",
          "data": {
            "text/plain": [
              "<IPython.core.display.HTML object>"
            ],
            "text/html": [
              "Find user logs for this run at: <code>/workspace/home/jesandov/Code/Tesis/dalle-pytorch/wandb/offline-run-20210907_202234-1cpdk3o2/logs/debug.log</code>"
            ]
          },
          "metadata": {}
        },
        {
          "output_type": "display_data",
          "data": {
            "text/plain": [
              "<IPython.core.display.HTML object>"
            ],
            "text/html": [
              "Find internal logs for this run at: <code>/workspace/home/jesandov/Code/Tesis/dalle-pytorch/wandb/offline-run-20210907_202234-1cpdk3o2/logs/debug-internal.log</code>"
            ]
          },
          "metadata": {}
        },
        {
          "output_type": "stream",
          "text": [
            "\u001b[34m\u001b[1mwandb\u001b[0m: You can sync this run to the cloud by running:\n",
            "\u001b[34m\u001b[1mwandb\u001b[0m: \u001b[33mwandb sync /workspace/home/jesandov/Code/Tesis/dalle-pytorch/wandb/offline-run-20210907_202234-1cpdk3o2\u001b[0m\n"
          ],
          "name": "stderr"
        },
        {
          "output_type": "stream",
          "text": [
            "<function sample_image at 0x7f5a16f95d08> executed in 1 min 13.552796125411987 sec\n",
            "**************************************************\n",
            "**************************************************\n"
          ],
          "name": "stdout"
        },
        {
          "output_type": "stream",
          "text": [
            "\u001b[34m\u001b[1mwandb\u001b[0m: W&B syncing is set to `offline` in this directory.  Run `wandb online` or set WANDB_MODE=online to enable cloud syncing.\n"
          ],
          "name": "stderr"
        },
        {
          "output_type": "display_data",
          "data": {
            "text/plain": [
              "<IPython.core.display.HTML object>"
            ],
            "text/html": [
              "<br/>Waiting for W&B process to finish, PID 72832<br/>Program ended successfully."
            ]
          },
          "metadata": {}
        },
        {
          "output_type": "display_data",
          "data": {
            "text/plain": [
              "<IPython.core.display.HTML object>"
            ],
            "text/html": [
              "Find user logs for this run at: <code>/workspace/home/jesandov/Code/Tesis/dalle-pytorch/wandb/offline-run-20210907_202348-2r3yxn9z/logs/debug.log</code>"
            ]
          },
          "metadata": {}
        },
        {
          "output_type": "display_data",
          "data": {
            "text/plain": [
              "<IPython.core.display.HTML object>"
            ],
            "text/html": [
              "Find internal logs for this run at: <code>/workspace/home/jesandov/Code/Tesis/dalle-pytorch/wandb/offline-run-20210907_202348-2r3yxn9z/logs/debug-internal.log</code>"
            ]
          },
          "metadata": {}
        },
        {
          "output_type": "stream",
          "text": [
            "\u001b[34m\u001b[1mwandb\u001b[0m: You can sync this run to the cloud by running:\n",
            "\u001b[34m\u001b[1mwandb\u001b[0m: \u001b[33mwandb sync /workspace/home/jesandov/Code/Tesis/dalle-pytorch/wandb/offline-run-20210907_202348-2r3yxn9z\u001b[0m\n"
          ],
          "name": "stderr"
        },
        {
          "output_type": "stream",
          "text": [
            "<function sample_image at 0x7f5a16f95d08> executed in 1 min 14.067135334014893 sec\n",
            "**************************************************\n",
            "**************************************************\n"
          ],
          "name": "stdout"
        },
        {
          "output_type": "stream",
          "text": [
            "\u001b[34m\u001b[1mwandb\u001b[0m: W&B syncing is set to `offline` in this directory.  Run `wandb online` or set WANDB_MODE=online to enable cloud syncing.\n"
          ],
          "name": "stderr"
        },
        {
          "output_type": "display_data",
          "data": {
            "text/plain": [
              "<IPython.core.display.HTML object>"
            ],
            "text/html": [
              "<br/>Waiting for W&B process to finish, PID 73054<br/>Program ended successfully."
            ]
          },
          "metadata": {}
        },
        {
          "output_type": "display_data",
          "data": {
            "text/plain": [
              "<IPython.core.display.HTML object>"
            ],
            "text/html": [
              "Find user logs for this run at: <code>/workspace/home/jesandov/Code/Tesis/dalle-pytorch/wandb/offline-run-20210907_202502-214og6hg/logs/debug.log</code>"
            ]
          },
          "metadata": {}
        },
        {
          "output_type": "display_data",
          "data": {
            "text/plain": [
              "<IPython.core.display.HTML object>"
            ],
            "text/html": [
              "Find internal logs for this run at: <code>/workspace/home/jesandov/Code/Tesis/dalle-pytorch/wandb/offline-run-20210907_202502-214og6hg/logs/debug-internal.log</code>"
            ]
          },
          "metadata": {}
        },
        {
          "output_type": "stream",
          "text": [
            "\u001b[34m\u001b[1mwandb\u001b[0m: You can sync this run to the cloud by running:\n",
            "\u001b[34m\u001b[1mwandb\u001b[0m: \u001b[33mwandb sync /workspace/home/jesandov/Code/Tesis/dalle-pytorch/wandb/offline-run-20210907_202502-214og6hg\u001b[0m\n"
          ],
          "name": "stderr"
        },
        {
          "output_type": "stream",
          "text": [
            "<function sample_image at 0x7f5a16f95d08> executed in 1 min 13.99200987815857 sec\n",
            "**************************************************\n",
            "**************************************************\n"
          ],
          "name": "stdout"
        },
        {
          "output_type": "stream",
          "text": [
            "\u001b[34m\u001b[1mwandb\u001b[0m: W&B syncing is set to `offline` in this directory.  Run `wandb online` or set WANDB_MODE=online to enable cloud syncing.\n"
          ],
          "name": "stderr"
        },
        {
          "output_type": "display_data",
          "data": {
            "text/plain": [
              "<IPython.core.display.HTML object>"
            ],
            "text/html": [
              "<br/>Waiting for W&B process to finish, PID 73278<br/>Program ended successfully."
            ]
          },
          "metadata": {}
        },
        {
          "output_type": "display_data",
          "data": {
            "text/plain": [
              "<IPython.core.display.HTML object>"
            ],
            "text/html": [
              "Find user logs for this run at: <code>/workspace/home/jesandov/Code/Tesis/dalle-pytorch/wandb/offline-run-20210907_202616-1qx5ho66/logs/debug.log</code>"
            ]
          },
          "metadata": {}
        },
        {
          "output_type": "display_data",
          "data": {
            "text/plain": [
              "<IPython.core.display.HTML object>"
            ],
            "text/html": [
              "Find internal logs for this run at: <code>/workspace/home/jesandov/Code/Tesis/dalle-pytorch/wandb/offline-run-20210907_202616-1qx5ho66/logs/debug-internal.log</code>"
            ]
          },
          "metadata": {}
        },
        {
          "output_type": "stream",
          "text": [
            "\u001b[34m\u001b[1mwandb\u001b[0m: You can sync this run to the cloud by running:\n",
            "\u001b[34m\u001b[1mwandb\u001b[0m: \u001b[33mwandb sync /workspace/home/jesandov/Code/Tesis/dalle-pytorch/wandb/offline-run-20210907_202616-1qx5ho66\u001b[0m\n"
          ],
          "name": "stderr"
        },
        {
          "output_type": "stream",
          "text": [
            "<function sample_image at 0x7f5a16f95d08> executed in 1 min 13.429994106292725 sec\n",
            "**************************************************\n",
            "**************************************************\n"
          ],
          "name": "stdout"
        },
        {
          "output_type": "stream",
          "text": [
            "\u001b[34m\u001b[1mwandb\u001b[0m: W&B syncing is set to `offline` in this directory.  Run `wandb online` or set WANDB_MODE=online to enable cloud syncing.\n"
          ],
          "name": "stderr"
        },
        {
          "output_type": "display_data",
          "data": {
            "text/plain": [
              "<IPython.core.display.HTML object>"
            ],
            "text/html": [
              "<br/>Waiting for W&B process to finish, PID 73498<br/>Program ended successfully."
            ]
          },
          "metadata": {}
        },
        {
          "output_type": "display_data",
          "data": {
            "text/plain": [
              "<IPython.core.display.HTML object>"
            ],
            "text/html": [
              "Find user logs for this run at: <code>/workspace/home/jesandov/Code/Tesis/dalle-pytorch/wandb/offline-run-20210907_202729-axzh9tuw/logs/debug.log</code>"
            ]
          },
          "metadata": {}
        },
        {
          "output_type": "display_data",
          "data": {
            "text/plain": [
              "<IPython.core.display.HTML object>"
            ],
            "text/html": [
              "Find internal logs for this run at: <code>/workspace/home/jesandov/Code/Tesis/dalle-pytorch/wandb/offline-run-20210907_202729-axzh9tuw/logs/debug-internal.log</code>"
            ]
          },
          "metadata": {}
        },
        {
          "output_type": "stream",
          "text": [
            "\u001b[34m\u001b[1mwandb\u001b[0m: You can sync this run to the cloud by running:\n",
            "\u001b[34m\u001b[1mwandb\u001b[0m: \u001b[33mwandb sync /workspace/home/jesandov/Code/Tesis/dalle-pytorch/wandb/offline-run-20210907_202729-axzh9tuw\u001b[0m\n"
          ],
          "name": "stderr"
        },
        {
          "output_type": "stream",
          "text": [
            "<function sample_image at 0x7f5a16f95d08> executed in 1 min 13.447045803070068 sec\n",
            "**************************************************\n",
            "**************************************************\n"
          ],
          "name": "stdout"
        },
        {
          "output_type": "stream",
          "text": [
            "\u001b[34m\u001b[1mwandb\u001b[0m: W&B syncing is set to `offline` in this directory.  Run `wandb online` or set WANDB_MODE=online to enable cloud syncing.\n"
          ],
          "name": "stderr"
        },
        {
          "output_type": "display_data",
          "data": {
            "text/plain": [
              "<IPython.core.display.HTML object>"
            ],
            "text/html": [
              "<br/>Waiting for W&B process to finish, PID 73717<br/>Program ended successfully."
            ]
          },
          "metadata": {}
        },
        {
          "output_type": "display_data",
          "data": {
            "text/plain": [
              "<IPython.core.display.HTML object>"
            ],
            "text/html": [
              "Find user logs for this run at: <code>/workspace/home/jesandov/Code/Tesis/dalle-pytorch/wandb/offline-run-20210907_202843-jw41j5vc/logs/debug.log</code>"
            ]
          },
          "metadata": {}
        },
        {
          "output_type": "display_data",
          "data": {
            "text/plain": [
              "<IPython.core.display.HTML object>"
            ],
            "text/html": [
              "Find internal logs for this run at: <code>/workspace/home/jesandov/Code/Tesis/dalle-pytorch/wandb/offline-run-20210907_202843-jw41j5vc/logs/debug-internal.log</code>"
            ]
          },
          "metadata": {}
        },
        {
          "output_type": "stream",
          "text": [
            "\u001b[34m\u001b[1mwandb\u001b[0m: You can sync this run to the cloud by running:\n",
            "\u001b[34m\u001b[1mwandb\u001b[0m: \u001b[33mwandb sync /workspace/home/jesandov/Code/Tesis/dalle-pytorch/wandb/offline-run-20210907_202843-jw41j5vc\u001b[0m\n"
          ],
          "name": "stderr"
        },
        {
          "output_type": "stream",
          "text": [
            "<function sample_image at 0x7f5a16f95d08> executed in 1 min 13.555042743682861 sec\n",
            "**************************************************\n",
            "**************************************************\n"
          ],
          "name": "stdout"
        },
        {
          "output_type": "stream",
          "text": [
            "\u001b[34m\u001b[1mwandb\u001b[0m: W&B syncing is set to `offline` in this directory.  Run `wandb online` or set WANDB_MODE=online to enable cloud syncing.\n"
          ],
          "name": "stderr"
        },
        {
          "output_type": "display_data",
          "data": {
            "text/plain": [
              "<IPython.core.display.HTML object>"
            ],
            "text/html": [
              "<br/>Waiting for W&B process to finish, PID 73937<br/>Program ended successfully."
            ]
          },
          "metadata": {}
        },
        {
          "output_type": "display_data",
          "data": {
            "text/plain": [
              "<IPython.core.display.HTML object>"
            ],
            "text/html": [
              "Find user logs for this run at: <code>/workspace/home/jesandov/Code/Tesis/dalle-pytorch/wandb/offline-run-20210907_202956-yt7bfc30/logs/debug.log</code>"
            ]
          },
          "metadata": {}
        },
        {
          "output_type": "display_data",
          "data": {
            "text/plain": [
              "<IPython.core.display.HTML object>"
            ],
            "text/html": [
              "Find internal logs for this run at: <code>/workspace/home/jesandov/Code/Tesis/dalle-pytorch/wandb/offline-run-20210907_202956-yt7bfc30/logs/debug-internal.log</code>"
            ]
          },
          "metadata": {}
        },
        {
          "output_type": "stream",
          "text": [
            "\u001b[34m\u001b[1mwandb\u001b[0m: You can sync this run to the cloud by running:\n",
            "\u001b[34m\u001b[1mwandb\u001b[0m: \u001b[33mwandb sync /workspace/home/jesandov/Code/Tesis/dalle-pytorch/wandb/offline-run-20210907_202956-yt7bfc30\u001b[0m\n"
          ],
          "name": "stderr"
        },
        {
          "output_type": "stream",
          "text": [
            "<function sample_image at 0x7f5a16f95d08> executed in 1 min 12.89858627319336 sec\n",
            "**************************************************\n",
            "**************************************************\n"
          ],
          "name": "stdout"
        },
        {
          "output_type": "stream",
          "text": [
            "\u001b[34m\u001b[1mwandb\u001b[0m: W&B syncing is set to `offline` in this directory.  Run `wandb online` or set WANDB_MODE=online to enable cloud syncing.\n"
          ],
          "name": "stderr"
        },
        {
          "output_type": "display_data",
          "data": {
            "text/plain": [
              "<IPython.core.display.HTML object>"
            ],
            "text/html": [
              "<br/>Waiting for W&B process to finish, PID 74157<br/>Program ended successfully."
            ]
          },
          "metadata": {}
        },
        {
          "output_type": "display_data",
          "data": {
            "text/plain": [
              "<IPython.core.display.HTML object>"
            ],
            "text/html": [
              "Find user logs for this run at: <code>/workspace/home/jesandov/Code/Tesis/dalle-pytorch/wandb/offline-run-20210907_203109-xk8d4655/logs/debug.log</code>"
            ]
          },
          "metadata": {}
        },
        {
          "output_type": "display_data",
          "data": {
            "text/plain": [
              "<IPython.core.display.HTML object>"
            ],
            "text/html": [
              "Find internal logs for this run at: <code>/workspace/home/jesandov/Code/Tesis/dalle-pytorch/wandb/offline-run-20210907_203109-xk8d4655/logs/debug-internal.log</code>"
            ]
          },
          "metadata": {}
        },
        {
          "output_type": "stream",
          "text": [
            "\u001b[34m\u001b[1mwandb\u001b[0m: You can sync this run to the cloud by running:\n",
            "\u001b[34m\u001b[1mwandb\u001b[0m: \u001b[33mwandb sync /workspace/home/jesandov/Code/Tesis/dalle-pytorch/wandb/offline-run-20210907_203109-xk8d4655\u001b[0m\n"
          ],
          "name": "stderr"
        },
        {
          "output_type": "stream",
          "text": [
            "<function sample_image at 0x7f5a16f95d08> executed in 1 min 12.935919046401978 sec\n",
            "**************************************************\n",
            "**************************************************\n"
          ],
          "name": "stdout"
        },
        {
          "output_type": "stream",
          "text": [
            "\u001b[34m\u001b[1mwandb\u001b[0m: W&B syncing is set to `offline` in this directory.  Run `wandb online` or set WANDB_MODE=online to enable cloud syncing.\n"
          ],
          "name": "stderr"
        },
        {
          "output_type": "display_data",
          "data": {
            "text/plain": [
              "<IPython.core.display.HTML object>"
            ],
            "text/html": [
              "<br/>Waiting for W&B process to finish, PID 74374<br/>Program ended successfully."
            ]
          },
          "metadata": {}
        },
        {
          "output_type": "display_data",
          "data": {
            "text/plain": [
              "<IPython.core.display.HTML object>"
            ],
            "text/html": [
              "Find user logs for this run at: <code>/workspace/home/jesandov/Code/Tesis/dalle-pytorch/wandb/offline-run-20210907_203222-1cr2krbv/logs/debug.log</code>"
            ]
          },
          "metadata": {}
        },
        {
          "output_type": "display_data",
          "data": {
            "text/plain": [
              "<IPython.core.display.HTML object>"
            ],
            "text/html": [
              "Find internal logs for this run at: <code>/workspace/home/jesandov/Code/Tesis/dalle-pytorch/wandb/offline-run-20210907_203222-1cr2krbv/logs/debug-internal.log</code>"
            ]
          },
          "metadata": {}
        },
        {
          "output_type": "stream",
          "text": [
            "\u001b[34m\u001b[1mwandb\u001b[0m: You can sync this run to the cloud by running:\n",
            "\u001b[34m\u001b[1mwandb\u001b[0m: \u001b[33mwandb sync /workspace/home/jesandov/Code/Tesis/dalle-pytorch/wandb/offline-run-20210907_203222-1cr2krbv\u001b[0m\n"
          ],
          "name": "stderr"
        },
        {
          "output_type": "stream",
          "text": [
            "<function sample_image at 0x7f5a16f95d08> executed in 1 min 13.555241584777832 sec\n",
            "**************************************************\n",
            "**************************************************\n"
          ],
          "name": "stdout"
        },
        {
          "output_type": "stream",
          "text": [
            "\u001b[34m\u001b[1mwandb\u001b[0m: W&B syncing is set to `offline` in this directory.  Run `wandb online` or set WANDB_MODE=online to enable cloud syncing.\n"
          ],
          "name": "stderr"
        },
        {
          "output_type": "display_data",
          "data": {
            "text/plain": [
              "<IPython.core.display.HTML object>"
            ],
            "text/html": [
              "<br/>Waiting for W&B process to finish, PID 74597<br/>Program ended successfully."
            ]
          },
          "metadata": {}
        },
        {
          "output_type": "display_data",
          "data": {
            "text/plain": [
              "<IPython.core.display.HTML object>"
            ],
            "text/html": [
              "Find user logs for this run at: <code>/workspace/home/jesandov/Code/Tesis/dalle-pytorch/wandb/offline-run-20210907_203336-iqooh5d0/logs/debug.log</code>"
            ]
          },
          "metadata": {}
        },
        {
          "output_type": "display_data",
          "data": {
            "text/plain": [
              "<IPython.core.display.HTML object>"
            ],
            "text/html": [
              "Find internal logs for this run at: <code>/workspace/home/jesandov/Code/Tesis/dalle-pytorch/wandb/offline-run-20210907_203336-iqooh5d0/logs/debug-internal.log</code>"
            ]
          },
          "metadata": {}
        },
        {
          "output_type": "stream",
          "text": [
            "\u001b[34m\u001b[1mwandb\u001b[0m: You can sync this run to the cloud by running:\n",
            "\u001b[34m\u001b[1mwandb\u001b[0m: \u001b[33mwandb sync /workspace/home/jesandov/Code/Tesis/dalle-pytorch/wandb/offline-run-20210907_203336-iqooh5d0\u001b[0m\n"
          ],
          "name": "stderr"
        },
        {
          "output_type": "stream",
          "text": [
            "<function sample_image at 0x7f5a16f95d08> executed in 1 min 13.489166021347046 sec\n",
            "**************************************************\n",
            "**************************************************\n"
          ],
          "name": "stdout"
        },
        {
          "output_type": "stream",
          "text": [
            "\u001b[34m\u001b[1mwandb\u001b[0m: W&B syncing is set to `offline` in this directory.  Run `wandb online` or set WANDB_MODE=online to enable cloud syncing.\n"
          ],
          "name": "stderr"
        },
        {
          "output_type": "display_data",
          "data": {
            "text/plain": [
              "<IPython.core.display.HTML object>"
            ],
            "text/html": [
              "<br/>Waiting for W&B process to finish, PID 74819<br/>Program ended successfully."
            ]
          },
          "metadata": {}
        },
        {
          "output_type": "display_data",
          "data": {
            "text/plain": [
              "<IPython.core.display.HTML object>"
            ],
            "text/html": [
              "Find user logs for this run at: <code>/workspace/home/jesandov/Code/Tesis/dalle-pytorch/wandb/offline-run-20210907_203449-3sgkfve6/logs/debug.log</code>"
            ]
          },
          "metadata": {}
        },
        {
          "output_type": "display_data",
          "data": {
            "text/plain": [
              "<IPython.core.display.HTML object>"
            ],
            "text/html": [
              "Find internal logs for this run at: <code>/workspace/home/jesandov/Code/Tesis/dalle-pytorch/wandb/offline-run-20210907_203449-3sgkfve6/logs/debug-internal.log</code>"
            ]
          },
          "metadata": {}
        },
        {
          "output_type": "stream",
          "text": [
            "\u001b[34m\u001b[1mwandb\u001b[0m: You can sync this run to the cloud by running:\n",
            "\u001b[34m\u001b[1mwandb\u001b[0m: \u001b[33mwandb sync /workspace/home/jesandov/Code/Tesis/dalle-pytorch/wandb/offline-run-20210907_203449-3sgkfve6\u001b[0m\n"
          ],
          "name": "stderr"
        },
        {
          "output_type": "stream",
          "text": [
            "<function sample_image at 0x7f5a16f95d08> executed in 1 min 13.498602390289307 sec\n",
            "**************************************************\n",
            "**************************************************\n"
          ],
          "name": "stdout"
        },
        {
          "output_type": "stream",
          "text": [
            "\u001b[34m\u001b[1mwandb\u001b[0m: W&B syncing is set to `offline` in this directory.  Run `wandb online` or set WANDB_MODE=online to enable cloud syncing.\n"
          ],
          "name": "stderr"
        },
        {
          "output_type": "display_data",
          "data": {
            "text/plain": [
              "<IPython.core.display.HTML object>"
            ],
            "text/html": [
              "<br/>Waiting for W&B process to finish, PID 75038<br/>Program ended successfully."
            ]
          },
          "metadata": {}
        },
        {
          "output_type": "display_data",
          "data": {
            "text/plain": [
              "<IPython.core.display.HTML object>"
            ],
            "text/html": [
              "Find user logs for this run at: <code>/workspace/home/jesandov/Code/Tesis/dalle-pytorch/wandb/offline-run-20210907_203603-2u6dfl3q/logs/debug.log</code>"
            ]
          },
          "metadata": {}
        },
        {
          "output_type": "display_data",
          "data": {
            "text/plain": [
              "<IPython.core.display.HTML object>"
            ],
            "text/html": [
              "Find internal logs for this run at: <code>/workspace/home/jesandov/Code/Tesis/dalle-pytorch/wandb/offline-run-20210907_203603-2u6dfl3q/logs/debug-internal.log</code>"
            ]
          },
          "metadata": {}
        },
        {
          "output_type": "stream",
          "text": [
            "\u001b[34m\u001b[1mwandb\u001b[0m: You can sync this run to the cloud by running:\n",
            "\u001b[34m\u001b[1mwandb\u001b[0m: \u001b[33mwandb sync /workspace/home/jesandov/Code/Tesis/dalle-pytorch/wandb/offline-run-20210907_203603-2u6dfl3q\u001b[0m\n"
          ],
          "name": "stderr"
        },
        {
          "output_type": "stream",
          "text": [
            "<function sample_image at 0x7f5a16f95d08> executed in 1 min 14.084429502487183 sec\n",
            "**************************************************\n",
            "**************************************************\n"
          ],
          "name": "stdout"
        },
        {
          "output_type": "stream",
          "text": [
            "\u001b[34m\u001b[1mwandb\u001b[0m: W&B syncing is set to `offline` in this directory.  Run `wandb online` or set WANDB_MODE=online to enable cloud syncing.\n"
          ],
          "name": "stderr"
        },
        {
          "output_type": "display_data",
          "data": {
            "text/plain": [
              "<IPython.core.display.HTML object>"
            ],
            "text/html": [
              "<br/>Waiting for W&B process to finish, PID 75257<br/>Program ended successfully."
            ]
          },
          "metadata": {}
        },
        {
          "output_type": "display_data",
          "data": {
            "text/plain": [
              "<IPython.core.display.HTML object>"
            ],
            "text/html": [
              "Find user logs for this run at: <code>/workspace/home/jesandov/Code/Tesis/dalle-pytorch/wandb/offline-run-20210907_203717-i9lbgjka/logs/debug.log</code>"
            ]
          },
          "metadata": {}
        },
        {
          "output_type": "display_data",
          "data": {
            "text/plain": [
              "<IPython.core.display.HTML object>"
            ],
            "text/html": [
              "Find internal logs for this run at: <code>/workspace/home/jesandov/Code/Tesis/dalle-pytorch/wandb/offline-run-20210907_203717-i9lbgjka/logs/debug-internal.log</code>"
            ]
          },
          "metadata": {}
        },
        {
          "output_type": "stream",
          "text": [
            "\u001b[34m\u001b[1mwandb\u001b[0m: You can sync this run to the cloud by running:\n",
            "\u001b[34m\u001b[1mwandb\u001b[0m: \u001b[33mwandb sync /workspace/home/jesandov/Code/Tesis/dalle-pytorch/wandb/offline-run-20210907_203717-i9lbgjka\u001b[0m\n"
          ],
          "name": "stderr"
        },
        {
          "output_type": "stream",
          "text": [
            "<function sample_image at 0x7f5a16f95d08> executed in 1 min 13.966188430786133 sec\n",
            "**************************************************\n",
            "**************************************************\n"
          ],
          "name": "stdout"
        },
        {
          "output_type": "stream",
          "text": [
            "\u001b[34m\u001b[1mwandb\u001b[0m: W&B syncing is set to `offline` in this directory.  Run `wandb online` or set WANDB_MODE=online to enable cloud syncing.\n"
          ],
          "name": "stderr"
        },
        {
          "output_type": "display_data",
          "data": {
            "text/plain": [
              "<IPython.core.display.HTML object>"
            ],
            "text/html": [
              "<br/>Waiting for W&B process to finish, PID 75476<br/>Program ended successfully."
            ]
          },
          "metadata": {}
        },
        {
          "output_type": "display_data",
          "data": {
            "text/plain": [
              "<IPython.core.display.HTML object>"
            ],
            "text/html": [
              "Find user logs for this run at: <code>/workspace/home/jesandov/Code/Tesis/dalle-pytorch/wandb/offline-run-20210907_203831-19rwkof9/logs/debug.log</code>"
            ]
          },
          "metadata": {}
        },
        {
          "output_type": "display_data",
          "data": {
            "text/plain": [
              "<IPython.core.display.HTML object>"
            ],
            "text/html": [
              "Find internal logs for this run at: <code>/workspace/home/jesandov/Code/Tesis/dalle-pytorch/wandb/offline-run-20210907_203831-19rwkof9/logs/debug-internal.log</code>"
            ]
          },
          "metadata": {}
        },
        {
          "output_type": "stream",
          "text": [
            "\u001b[34m\u001b[1mwandb\u001b[0m: You can sync this run to the cloud by running:\n",
            "\u001b[34m\u001b[1mwandb\u001b[0m: \u001b[33mwandb sync /workspace/home/jesandov/Code/Tesis/dalle-pytorch/wandb/offline-run-20210907_203831-19rwkof9\u001b[0m\n"
          ],
          "name": "stderr"
        },
        {
          "output_type": "stream",
          "text": [
            "<function sample_image at 0x7f5a16f95d08> executed in 1 min 14.504528760910034 sec\n",
            "**************************************************\n",
            "**************************************************\n"
          ],
          "name": "stdout"
        },
        {
          "output_type": "stream",
          "text": [
            "\u001b[34m\u001b[1mwandb\u001b[0m: W&B syncing is set to `offline` in this directory.  Run `wandb online` or set WANDB_MODE=online to enable cloud syncing.\n"
          ],
          "name": "stderr"
        },
        {
          "output_type": "display_data",
          "data": {
            "text/plain": [
              "<IPython.core.display.HTML object>"
            ],
            "text/html": [
              "<br/>Waiting for W&B process to finish, PID 75700<br/>Program ended successfully."
            ]
          },
          "metadata": {}
        },
        {
          "output_type": "display_data",
          "data": {
            "text/plain": [
              "<IPython.core.display.HTML object>"
            ],
            "text/html": [
              "Find user logs for this run at: <code>/workspace/home/jesandov/Code/Tesis/dalle-pytorch/wandb/offline-run-20210907_203945-bx5rzyas/logs/debug.log</code>"
            ]
          },
          "metadata": {}
        },
        {
          "output_type": "display_data",
          "data": {
            "text/plain": [
              "<IPython.core.display.HTML object>"
            ],
            "text/html": [
              "Find internal logs for this run at: <code>/workspace/home/jesandov/Code/Tesis/dalle-pytorch/wandb/offline-run-20210907_203945-bx5rzyas/logs/debug-internal.log</code>"
            ]
          },
          "metadata": {}
        },
        {
          "output_type": "stream",
          "text": [
            "\u001b[34m\u001b[1mwandb\u001b[0m: You can sync this run to the cloud by running:\n",
            "\u001b[34m\u001b[1mwandb\u001b[0m: \u001b[33mwandb sync /workspace/home/jesandov/Code/Tesis/dalle-pytorch/wandb/offline-run-20210907_203945-bx5rzyas\u001b[0m\n"
          ],
          "name": "stderr"
        },
        {
          "output_type": "stream",
          "text": [
            "<function sample_image at 0x7f5a16f95d08> executed in 1 min 13.514855861663818 sec\n",
            "**************************************************\n",
            "**************************************************\n"
          ],
          "name": "stdout"
        },
        {
          "output_type": "stream",
          "text": [
            "\u001b[34m\u001b[1mwandb\u001b[0m: W&B syncing is set to `offline` in this directory.  Run `wandb online` or set WANDB_MODE=online to enable cloud syncing.\n"
          ],
          "name": "stderr"
        },
        {
          "output_type": "display_data",
          "data": {
            "text/plain": [
              "<IPython.core.display.HTML object>"
            ],
            "text/html": [
              "<br/>Waiting for W&B process to finish, PID 75919<br/>Program ended successfully."
            ]
          },
          "metadata": {}
        },
        {
          "output_type": "display_data",
          "data": {
            "text/plain": [
              "<IPython.core.display.HTML object>"
            ],
            "text/html": [
              "Find user logs for this run at: <code>/workspace/home/jesandov/Code/Tesis/dalle-pytorch/wandb/offline-run-20210907_204059-1dvi6yu0/logs/debug.log</code>"
            ]
          },
          "metadata": {}
        },
        {
          "output_type": "display_data",
          "data": {
            "text/plain": [
              "<IPython.core.display.HTML object>"
            ],
            "text/html": [
              "Find internal logs for this run at: <code>/workspace/home/jesandov/Code/Tesis/dalle-pytorch/wandb/offline-run-20210907_204059-1dvi6yu0/logs/debug-internal.log</code>"
            ]
          },
          "metadata": {}
        },
        {
          "output_type": "stream",
          "text": [
            "\u001b[34m\u001b[1mwandb\u001b[0m: You can sync this run to the cloud by running:\n",
            "\u001b[34m\u001b[1mwandb\u001b[0m: \u001b[33mwandb sync /workspace/home/jesandov/Code/Tesis/dalle-pytorch/wandb/offline-run-20210907_204059-1dvi6yu0\u001b[0m\n"
          ],
          "name": "stderr"
        },
        {
          "output_type": "stream",
          "text": [
            "<function sample_image at 0x7f5a16f95d08> executed in 1 min 13.462490320205688 sec\n",
            "**************************************************\n",
            "**************************************************\n"
          ],
          "name": "stdout"
        },
        {
          "output_type": "stream",
          "text": [
            "\u001b[34m\u001b[1mwandb\u001b[0m: W&B syncing is set to `offline` in this directory.  Run `wandb online` or set WANDB_MODE=online to enable cloud syncing.\n"
          ],
          "name": "stderr"
        },
        {
          "output_type": "display_data",
          "data": {
            "text/plain": [
              "<IPython.core.display.HTML object>"
            ],
            "text/html": [
              "<br/>Waiting for W&B process to finish, PID 76140<br/>Program ended successfully."
            ]
          },
          "metadata": {}
        },
        {
          "output_type": "display_data",
          "data": {
            "text/plain": [
              "<IPython.core.display.HTML object>"
            ],
            "text/html": [
              "Find user logs for this run at: <code>/workspace/home/jesandov/Code/Tesis/dalle-pytorch/wandb/offline-run-20210907_204213-3vgrslcq/logs/debug.log</code>"
            ]
          },
          "metadata": {}
        },
        {
          "output_type": "display_data",
          "data": {
            "text/plain": [
              "<IPython.core.display.HTML object>"
            ],
            "text/html": [
              "Find internal logs for this run at: <code>/workspace/home/jesandov/Code/Tesis/dalle-pytorch/wandb/offline-run-20210907_204213-3vgrslcq/logs/debug-internal.log</code>"
            ]
          },
          "metadata": {}
        },
        {
          "output_type": "stream",
          "text": [
            "\u001b[34m\u001b[1mwandb\u001b[0m: You can sync this run to the cloud by running:\n",
            "\u001b[34m\u001b[1mwandb\u001b[0m: \u001b[33mwandb sync /workspace/home/jesandov/Code/Tesis/dalle-pytorch/wandb/offline-run-20210907_204213-3vgrslcq\u001b[0m\n"
          ],
          "name": "stderr"
        },
        {
          "output_type": "stream",
          "text": [
            "<function sample_image at 0x7f5a16f95d08> executed in 1 min 13.960220575332642 sec\n",
            "**************************************************\n",
            "**************************************************\n"
          ],
          "name": "stdout"
        },
        {
          "output_type": "stream",
          "text": [
            "\u001b[34m\u001b[1mwandb\u001b[0m: W&B syncing is set to `offline` in this directory.  Run `wandb online` or set WANDB_MODE=online to enable cloud syncing.\n"
          ],
          "name": "stderr"
        },
        {
          "output_type": "display_data",
          "data": {
            "text/plain": [
              "<IPython.core.display.HTML object>"
            ],
            "text/html": [
              "<br/>Waiting for W&B process to finish, PID 76360<br/>Program ended successfully."
            ]
          },
          "metadata": {}
        },
        {
          "output_type": "display_data",
          "data": {
            "text/plain": [
              "<IPython.core.display.HTML object>"
            ],
            "text/html": [
              "Find user logs for this run at: <code>/workspace/home/jesandov/Code/Tesis/dalle-pytorch/wandb/offline-run-20210907_204326-jahrx9tk/logs/debug.log</code>"
            ]
          },
          "metadata": {}
        },
        {
          "output_type": "display_data",
          "data": {
            "text/plain": [
              "<IPython.core.display.HTML object>"
            ],
            "text/html": [
              "Find internal logs for this run at: <code>/workspace/home/jesandov/Code/Tesis/dalle-pytorch/wandb/offline-run-20210907_204326-jahrx9tk/logs/debug-internal.log</code>"
            ]
          },
          "metadata": {}
        },
        {
          "output_type": "stream",
          "text": [
            "\u001b[34m\u001b[1mwandb\u001b[0m: You can sync this run to the cloud by running:\n",
            "\u001b[34m\u001b[1mwandb\u001b[0m: \u001b[33mwandb sync /workspace/home/jesandov/Code/Tesis/dalle-pytorch/wandb/offline-run-20210907_204326-jahrx9tk\u001b[0m\n"
          ],
          "name": "stderr"
        },
        {
          "output_type": "stream",
          "text": [
            "<function sample_image at 0x7f5a16f95d08> executed in 1 min 14.240938186645508 sec\n",
            "**************************************************\n",
            "**************************************************\n"
          ],
          "name": "stdout"
        },
        {
          "output_type": "stream",
          "text": [
            "\u001b[34m\u001b[1mwandb\u001b[0m: W&B syncing is set to `offline` in this directory.  Run `wandb online` or set WANDB_MODE=online to enable cloud syncing.\n"
          ],
          "name": "stderr"
        },
        {
          "output_type": "display_data",
          "data": {
            "text/plain": [
              "<IPython.core.display.HTML object>"
            ],
            "text/html": [
              "<br/>Waiting for W&B process to finish, PID 76588<br/>Program ended successfully."
            ]
          },
          "metadata": {}
        },
        {
          "output_type": "display_data",
          "data": {
            "text/plain": [
              "<IPython.core.display.HTML object>"
            ],
            "text/html": [
              "Find user logs for this run at: <code>/workspace/home/jesandov/Code/Tesis/dalle-pytorch/wandb/offline-run-20210907_204441-2smv0ewp/logs/debug.log</code>"
            ]
          },
          "metadata": {}
        },
        {
          "output_type": "display_data",
          "data": {
            "text/plain": [
              "<IPython.core.display.HTML object>"
            ],
            "text/html": [
              "Find internal logs for this run at: <code>/workspace/home/jesandov/Code/Tesis/dalle-pytorch/wandb/offline-run-20210907_204441-2smv0ewp/logs/debug-internal.log</code>"
            ]
          },
          "metadata": {}
        },
        {
          "output_type": "stream",
          "text": [
            "\u001b[34m\u001b[1mwandb\u001b[0m: You can sync this run to the cloud by running:\n",
            "\u001b[34m\u001b[1mwandb\u001b[0m: \u001b[33mwandb sync /workspace/home/jesandov/Code/Tesis/dalle-pytorch/wandb/offline-run-20210907_204441-2smv0ewp\u001b[0m\n"
          ],
          "name": "stderr"
        },
        {
          "output_type": "stream",
          "text": [
            "<function sample_image at 0x7f5a16f95d08> executed in 1 min 14.156308889389038 sec\n",
            "**************************************************\n",
            "**************************************************\n"
          ],
          "name": "stdout"
        },
        {
          "output_type": "stream",
          "text": [
            "\u001b[34m\u001b[1mwandb\u001b[0m: W&B syncing is set to `offline` in this directory.  Run `wandb online` or set WANDB_MODE=online to enable cloud syncing.\n"
          ],
          "name": "stderr"
        },
        {
          "output_type": "display_data",
          "data": {
            "text/plain": [
              "<IPython.core.display.HTML object>"
            ],
            "text/html": [
              "<br/>Waiting for W&B process to finish, PID 76807<br/>Program ended successfully."
            ]
          },
          "metadata": {}
        },
        {
          "output_type": "display_data",
          "data": {
            "text/plain": [
              "<IPython.core.display.HTML object>"
            ],
            "text/html": [
              "Find user logs for this run at: <code>/workspace/home/jesandov/Code/Tesis/dalle-pytorch/wandb/offline-run-20210907_204555-en2sla2a/logs/debug.log</code>"
            ]
          },
          "metadata": {}
        },
        {
          "output_type": "display_data",
          "data": {
            "text/plain": [
              "<IPython.core.display.HTML object>"
            ],
            "text/html": [
              "Find internal logs for this run at: <code>/workspace/home/jesandov/Code/Tesis/dalle-pytorch/wandb/offline-run-20210907_204555-en2sla2a/logs/debug-internal.log</code>"
            ]
          },
          "metadata": {}
        },
        {
          "output_type": "stream",
          "text": [
            "\u001b[34m\u001b[1mwandb\u001b[0m: You can sync this run to the cloud by running:\n",
            "\u001b[34m\u001b[1mwandb\u001b[0m: \u001b[33mwandb sync /workspace/home/jesandov/Code/Tesis/dalle-pytorch/wandb/offline-run-20210907_204555-en2sla2a\u001b[0m\n"
          ],
          "name": "stderr"
        },
        {
          "output_type": "stream",
          "text": [
            "<function sample_image at 0x7f5a16f95d08> executed in 1 min 13.983253002166748 sec\n",
            "**************************************************\n",
            "**************************************************\n"
          ],
          "name": "stdout"
        },
        {
          "output_type": "stream",
          "text": [
            "\u001b[34m\u001b[1mwandb\u001b[0m: W&B syncing is set to `offline` in this directory.  Run `wandb online` or set WANDB_MODE=online to enable cloud syncing.\n"
          ],
          "name": "stderr"
        },
        {
          "output_type": "display_data",
          "data": {
            "text/plain": [
              "<IPython.core.display.HTML object>"
            ],
            "text/html": [
              "<br/>Waiting for W&B process to finish, PID 77028<br/>Program ended successfully."
            ]
          },
          "metadata": {}
        },
        {
          "output_type": "display_data",
          "data": {
            "text/plain": [
              "<IPython.core.display.HTML object>"
            ],
            "text/html": [
              "Find user logs for this run at: <code>/workspace/home/jesandov/Code/Tesis/dalle-pytorch/wandb/offline-run-20210907_204709-1ch58qsc/logs/debug.log</code>"
            ]
          },
          "metadata": {}
        },
        {
          "output_type": "display_data",
          "data": {
            "text/plain": [
              "<IPython.core.display.HTML object>"
            ],
            "text/html": [
              "Find internal logs for this run at: <code>/workspace/home/jesandov/Code/Tesis/dalle-pytorch/wandb/offline-run-20210907_204709-1ch58qsc/logs/debug-internal.log</code>"
            ]
          },
          "metadata": {}
        },
        {
          "output_type": "stream",
          "text": [
            "\u001b[34m\u001b[1mwandb\u001b[0m: You can sync this run to the cloud by running:\n",
            "\u001b[34m\u001b[1mwandb\u001b[0m: \u001b[33mwandb sync /workspace/home/jesandov/Code/Tesis/dalle-pytorch/wandb/offline-run-20210907_204709-1ch58qsc\u001b[0m\n"
          ],
          "name": "stderr"
        },
        {
          "output_type": "stream",
          "text": [
            "<function sample_image at 0x7f5a16f95d08> executed in 1 min 13.94375467300415 sec\n",
            "**************************************************\n",
            "**************************************************\n"
          ],
          "name": "stdout"
        },
        {
          "output_type": "stream",
          "text": [
            "\u001b[34m\u001b[1mwandb\u001b[0m: W&B syncing is set to `offline` in this directory.  Run `wandb online` or set WANDB_MODE=online to enable cloud syncing.\n"
          ],
          "name": "stderr"
        },
        {
          "output_type": "display_data",
          "data": {
            "text/plain": [
              "<IPython.core.display.HTML object>"
            ],
            "text/html": [
              "<br/>Waiting for W&B process to finish, PID 77244<br/>Program ended successfully."
            ]
          },
          "metadata": {}
        },
        {
          "output_type": "display_data",
          "data": {
            "text/plain": [
              "<IPython.core.display.HTML object>"
            ],
            "text/html": [
              "Find user logs for this run at: <code>/workspace/home/jesandov/Code/Tesis/dalle-pytorch/wandb/offline-run-20210907_204823-1058fctt/logs/debug.log</code>"
            ]
          },
          "metadata": {}
        },
        {
          "output_type": "display_data",
          "data": {
            "text/plain": [
              "<IPython.core.display.HTML object>"
            ],
            "text/html": [
              "Find internal logs for this run at: <code>/workspace/home/jesandov/Code/Tesis/dalle-pytorch/wandb/offline-run-20210907_204823-1058fctt/logs/debug-internal.log</code>"
            ]
          },
          "metadata": {}
        },
        {
          "output_type": "stream",
          "text": [
            "\u001b[34m\u001b[1mwandb\u001b[0m: You can sync this run to the cloud by running:\n",
            "\u001b[34m\u001b[1mwandb\u001b[0m: \u001b[33mwandb sync /workspace/home/jesandov/Code/Tesis/dalle-pytorch/wandb/offline-run-20210907_204823-1058fctt\u001b[0m\n"
          ],
          "name": "stderr"
        },
        {
          "output_type": "stream",
          "text": [
            "<function sample_image at 0x7f5a16f95d08> executed in 1 min 14.044065475463867 sec\n",
            "**************************************************\n",
            "**************************************************\n"
          ],
          "name": "stdout"
        },
        {
          "output_type": "stream",
          "text": [
            "\u001b[34m\u001b[1mwandb\u001b[0m: W&B syncing is set to `offline` in this directory.  Run `wandb online` or set WANDB_MODE=online to enable cloud syncing.\n"
          ],
          "name": "stderr"
        },
        {
          "output_type": "display_data",
          "data": {
            "text/plain": [
              "<IPython.core.display.HTML object>"
            ],
            "text/html": [
              "<br/>Waiting for W&B process to finish, PID 77468<br/>Program ended successfully."
            ]
          },
          "metadata": {}
        },
        {
          "output_type": "display_data",
          "data": {
            "text/plain": [
              "<IPython.core.display.HTML object>"
            ],
            "text/html": [
              "Find user logs for this run at: <code>/workspace/home/jesandov/Code/Tesis/dalle-pytorch/wandb/offline-run-20210907_204937-3s8ib5r3/logs/debug.log</code>"
            ]
          },
          "metadata": {}
        },
        {
          "output_type": "display_data",
          "data": {
            "text/plain": [
              "<IPython.core.display.HTML object>"
            ],
            "text/html": [
              "Find internal logs for this run at: <code>/workspace/home/jesandov/Code/Tesis/dalle-pytorch/wandb/offline-run-20210907_204937-3s8ib5r3/logs/debug-internal.log</code>"
            ]
          },
          "metadata": {}
        },
        {
          "output_type": "stream",
          "text": [
            "\u001b[34m\u001b[1mwandb\u001b[0m: You can sync this run to the cloud by running:\n",
            "\u001b[34m\u001b[1mwandb\u001b[0m: \u001b[33mwandb sync /workspace/home/jesandov/Code/Tesis/dalle-pytorch/wandb/offline-run-20210907_204937-3s8ib5r3\u001b[0m\n"
          ],
          "name": "stderr"
        },
        {
          "output_type": "stream",
          "text": [
            "<function sample_image at 0x7f5a16f95d08> executed in 1 min 13.476890802383423 sec\n",
            "**************************************************\n",
            "**************************************************\n"
          ],
          "name": "stdout"
        },
        {
          "output_type": "stream",
          "text": [
            "\u001b[34m\u001b[1mwandb\u001b[0m: W&B syncing is set to `offline` in this directory.  Run `wandb online` or set WANDB_MODE=online to enable cloud syncing.\n"
          ],
          "name": "stderr"
        },
        {
          "output_type": "display_data",
          "data": {
            "text/plain": [
              "<IPython.core.display.HTML object>"
            ],
            "text/html": [
              "<br/>Waiting for W&B process to finish, PID 77687<br/>Program ended successfully."
            ]
          },
          "metadata": {}
        },
        {
          "output_type": "display_data",
          "data": {
            "text/plain": [
              "<IPython.core.display.HTML object>"
            ],
            "text/html": [
              "Find user logs for this run at: <code>/workspace/home/jesandov/Code/Tesis/dalle-pytorch/wandb/offline-run-20210907_205050-3uicq5ue/logs/debug.log</code>"
            ]
          },
          "metadata": {}
        },
        {
          "output_type": "display_data",
          "data": {
            "text/plain": [
              "<IPython.core.display.HTML object>"
            ],
            "text/html": [
              "Find internal logs for this run at: <code>/workspace/home/jesandov/Code/Tesis/dalle-pytorch/wandb/offline-run-20210907_205050-3uicq5ue/logs/debug-internal.log</code>"
            ]
          },
          "metadata": {}
        },
        {
          "output_type": "stream",
          "text": [
            "\u001b[34m\u001b[1mwandb\u001b[0m: You can sync this run to the cloud by running:\n",
            "\u001b[34m\u001b[1mwandb\u001b[0m: \u001b[33mwandb sync /workspace/home/jesandov/Code/Tesis/dalle-pytorch/wandb/offline-run-20210907_205050-3uicq5ue\u001b[0m\n"
          ],
          "name": "stderr"
        },
        {
          "output_type": "stream",
          "text": [
            "<function sample_image at 0x7f5a16f95d08> executed in 1 min 13.428171873092651 sec\n",
            "**************************************************\n",
            "<function generate_images_samples at 0x7f5a18433e18> executed in 2 hrs 3 min 0.8222846984863281 sec\n",
            "**************************************************\n"
          ],
          "name": "stdout"
        }
      ]
    }
  ]
}